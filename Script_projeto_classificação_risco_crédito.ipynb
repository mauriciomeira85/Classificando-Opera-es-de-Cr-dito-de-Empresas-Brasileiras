{
  "cells": [
    {
      "cell_type": "markdown",
      "metadata": {
        "id": "_UrpO91_l1nU"
      },
      "source": [
        "# **Classificando Operações de Crédito de empresas brasileiras com inteligência artificial**"
      ]
    },
    {
      "cell_type": "markdown",
      "metadata": {
        "id": "WD5RBmlP6YLT"
      },
      "source": [
        "# **1. Entendimento dos dados¶**"
      ]
    },
    {
      "cell_type": "markdown",
      "metadata": {
        "id": "VajmpP0b6oVC"
      },
      "source": [
        "## **1.1 Coleta dos dados**"
      ]
    },
    {
      "cell_type": "markdown",
      "metadata": {
        "id": "eJ7o96KRz3lL"
      },
      "source": [
        "🔳 **Configurando o ambiente e carregando os dados**"
      ]
    },
    {
      "cell_type": "code",
      "execution_count": null,
      "metadata": {
        "colab": {
          "base_uri": "https://localhost:8080/"
        },
        "id": "JaaY1EkgyZvc",
        "outputId": "ce4c2f0d-e2cd-4d57-bda4-e7e30008149c"
      },
      "outputs": [
        {
          "output_type": "stream",
          "name": "stdout",
          "text": [
            "Mounted at /content/drive\n",
            "Erro ao carregar o arquivo Parquet: Path does not exist: file:/content/drive/My Drive/BCB_Dados_Corrigidos_2024/dados_consolidados.parquet\n"
          ]
        }
      ],
      "source": [
        "# 1️⃣ Instalar Java 8 (necessário para o Spark)\n",
        "!apt-get install openjdk-8-jdk-headless -qq > /dev/null\n",
        "\n",
        "# 2️⃣ Baixar e configurar o Spark\n",
        "# Baixar o Spark 3.2.1 com Hadoop 2.7\n",
        "!wget -q https://archive.apache.org/dist/spark/spark-3.2.1/spark-3.2.1-bin-hadoop2.7.tgz\n",
        "\n",
        "# Extrair o arquivo baixado\n",
        "!tar xf spark-3.2.1-bin-hadoop2.7.tgz\n",
        "\n",
        "# Configurar as variáveis de ambiente\n",
        "import os\n",
        "os.environ[\"JAVA_HOME\"] = \"/usr/lib/jvm/java-8-openjdk-amd64\"\n",
        "os.environ[\"SPARK_HOME\"] = \"/content/spark-3.2.1-bin-hadoop2.7\"\n",
        "\n",
        "# 3️⃣ Instalar o findspark e inicializar o Spark\n",
        "!pip install -q findspark\n",
        "import findspark\n",
        "findspark.init()\n",
        "\n",
        "# 4️⃣ Montar o Google Drive\n",
        "from google.colab import drive\n",
        "drive.mount('/content/drive', force_remount=True)\n",
        "\n",
        "# 5️⃣ Criar uma sessão Spark\n",
        "from pyspark.sql import SparkSession\n",
        "\n",
        "# Criar a sessão Spark\n",
        "spark = SparkSession.builder \\\n",
        "    .master(\"local[*]\") \\\n",
        "    .appName(\"ParquetProcessing\") \\\n",
        "    .getOrCreate()\n",
        "\n",
        "# 6️⃣ Carregar o arquivo Parquet\n",
        "try:\n",
        "    df_spark = spark.read.parquet(\"/content/drive/My Drive/BCB_Dados_Corrigidos_2024/dados_consolidados.parquet\")\n",
        "    print(\"Arquivo Parquet carregado com sucesso!\")\n",
        "    df_spark.show(20, truncate=False)  # Mostrar as primeiras 20 linhas\n",
        "except Exception as e:\n",
        "    print(\"Erro ao carregar o arquivo Parquet:\", e)"
      ]
    },
    {
      "cell_type": "code",
      "source": [
        "# Liste os arquivos no diretório para confirmar o caminho\n",
        "!ls \"/content/drive/My Drive/\"\n",
        "!ls \"/content/drive/My Drive/BCB_Dados_Corrigidos_2024/\""
      ],
      "metadata": {
        "colab": {
          "base_uri": "https://localhost:8080/"
        },
        "id": "VrFWIgYcp0vo",
        "outputId": "ca26f60a-ea1b-412c-e86c-09ea1bb9ba89"
      },
      "execution_count": null,
      "outputs": [
        {
          "output_type": "stream",
          "name": "stdout",
          "text": [
            " Avaliação.gdoc\t\t    'Colab Notebooks'  'Projetos Ciência de dados'\n",
            " BCB_Dados_Corrigidos_2024   GitHub\t        Spacy.ipynb\n",
            "dados_teste.parquet  dados_treino.parquet  modelo_rf\n"
          ]
        }
      ]
    },
    {
      "cell_type": "markdown",
      "metadata": {
        "id": "4__vicNK808v"
      },
      "source": [
        "🔳 **Ordenando a base de dados pela data**"
      ]
    },
    {
      "cell_type": "code",
      "execution_count": null,
      "metadata": {
        "colab": {
          "base_uri": "https://localhost:8080/"
        },
        "id": "pDBEpPclCU5k",
        "outputId": "bab867e9-acbf-4883-da5c-e0d552ad3859"
      },
      "outputs": [
        {
          "output_type": "stream",
          "name": "stdout",
          "text": [
            "+----------+---+--------+----+-------+---------------------------+----------+--------------+---------------------------------------------+----------------------------------------+-------------------------+------------------+-------------------+--------------------+---------------------------+-----------------------------+------------------------------+------------------------------+---------------------------+------------------------+--------------+------------------------------+------------------+\n",
            "|data_base |uf |tcb     |sr  |cliente|ocupacao                   |cnae_secao|cnae_subclasse|porte                                        |modalidade                              |origem                   |indexador         |numero_de_operacoes|a_vencer_ate_90_dias|a_vencer_de_91_ate_360_dias|a_vencer_de_361_ate_1080_dias|a_vencer_de_1081_ate_1800_dias|a_vencer_de_1801_ate_5400_dias|a_vencer_acima_de_5400_dias|vencido_acima_de_15_dias|carteira_ativa|carteira_inadimplida_arrastada|ativo_problematico|\n",
            "+----------+---+--------+----+-------+---------------------------+----------+--------------+---------------------------------------------+----------------------------------------+-------------------------+------------------+-------------------+--------------------+---------------------------+-----------------------------+------------------------------+------------------------------+---------------------------+------------------------+--------------+------------------------------+------------------+\n",
            "|2012-01-31|AC |Bancário|null|PF     |PF - Aposentado/pensionista|-         |-             |PF - Indisponível                            |PF - Outros créditos                    |Sem destinação específica|Prefixado         |<= 15              |3349.5              |3315.09                    |353.4                        |0.0                           |0.0                           |0.0                        |4197.77                 |11215.76      |6601.91                       |0.0               |\n",
            "|2012-01-31|AC |Bancário|null|PF     |PF - Aposentado/pensionista|-         |-             |PF - Até 1 salário mínimo                    |PF - Cartão de crédito                  |Sem destinação específica|Prefixado         |684                |190305.05           |64948.14                   |0.0                          |0.0                           |0.0                           |0.0                        |41206.06                |296459.25     |29630.51                      |0.0               |\n",
            "|2012-01-31|AC |Bancário|null|PF     |PF - Aposentado/pensionista|-         |-             |PF - Indisponível                            |PF - Empréstimo com consignação em folha|Sem destinação específica|Prefixado         |<= 15              |1014.73             |0.0                        |0.0                          |0.0                           |0.0                           |0.0                        |698.44                  |1713.17       |0.0                           |0.0               |\n",
            "|2012-01-31|AC |Bancário|null|PF     |PF - Aposentado/pensionista|-         |-             |PF - Acima de 20 salários mínimos            |PF - Outros créditos                    |Sem destinação específica|Flutuantes        |<= 15              |24.04               |0.0                        |0.0                          |0.0                           |0.0                           |0.0                        |0.0                     |24.04         |0.0                           |0.0               |\n",
            "|2012-01-31|AC |Bancário|null|PF     |PF - Aposentado/pensionista|-         |-             |PF - Acima de 20 salários mínimos            |PF - Veículos                           |Sem destinação específica|Prefixado         |78                 |279574.31           |801591.88                  |1102092.21                   |251785.11                     |0.0                           |0.0                        |66276.39                |2501319.9     |187339.77                     |0.0               |\n",
            "|2012-01-31|AC |Bancário|null|PF     |PF - Aposentado/pensionista|-         |-             |PF - Até 1 salário mínimo                    |PF - Habitacional                       |Com destinação específica|Prefixado         |<= 15              |0.0                 |0.0                        |0.0                          |0.0                           |0.0                           |0.0                        |1170.46                 |1170.46       |0.0                           |0.0               |\n",
            "|2012-01-31|AC |Bancário|null|PF     |PF - Aposentado/pensionista|-         |-             |PF - Até 1 salário mínimo                    |PF - Veículos                           |Sem destinação específica|Prefixado         |41                 |90502.81            |252069.15                  |397458.18                    |107702.32                     |0.0                           |0.0                        |48587.89                |896320.35     |192636.31                     |0.0               |\n",
            "|2012-01-31|AC |Bancário|null|PF     |PF - Aposentado/pensionista|-         |-             |PF - Acima de 20 salários mínimos            |PF - Cartão de crédito                  |Sem destinação específica|Prefixado         |620                |1504231.09          |228617.71                  |8.01                         |13.17                         |0.0                           |0.0                        |11382.64                |1744252.62    |8987.07                       |0.0               |\n",
            "|2012-01-31|AC |Bancário|null|PF     |PF - Aposentado/pensionista|-         |-             |PF - Acima de 20 salários mínimos            |PF - Habitacional                       |Com destinação específica|Pós-fixado        |<= 15              |11076.89            |30456.2                    |65237.25                     |48904.65                      |70313.61                      |0.0                        |0.0                     |225988.6      |0.0                           |0.0               |\n",
            "|2012-01-31|AC |Bancário|null|PF     |PF - Aposentado/pensionista|-         |-             |PF - Acima de 20 salários mínimos            |PF - Outros créditos                    |Sem destinação específica|Pós-fixado        |<= 15              |7663.56             |34486.02                   |91962.72                     |91962.85                      |0.0                           |0.0                        |88.84                   |226163.99     |0.0                           |0.0               |\n",
            "|2012-01-31|AC |Bancário|null|PF     |PF - Aposentado/pensionista|-         |-             |PF - Acima de 20 salários mínimos            |PF - Rural e agroindustrial             |Com destinação específica|Prefixado         |<= 15              |173908.77           |495034.32                  |125761.86                    |290686.0                      |149851.13                     |0.0                        |0.0                     |1235242.08    |0.0                           |0.0               |\n",
            "|2012-01-31|AC |Bancário|null|PF     |PF - Aposentado/pensionista|-         |-             |PF - Até 1 salário mínimo                    |PF - Empréstimo com consignação em folha|Sem destinação específica|Prefixado         |406                |204694.46           |556111.14                  |977587.91                    |377287.56                     |7585.26                       |0.0                        |42598.26                |2165864.59    |213664.77                     |0.0               |\n",
            "|2012-01-31|AC |Bancário|null|PF     |PF - Aposentado/pensionista|-         |-             |PF - Até 1 salário mínimo                    |PF - Empréstimo sem consignação em folha|Sem destinação específica|Prefixado         |52                 |20597.04            |35835.36                   |31082.66                     |722.47                        |0.0                           |0.0                        |10948.73                |99186.26      |14657.26                      |0.0               |\n",
            "|2012-01-31|AC |Bancário|null|PF     |PF - Aposentado/pensionista|-         |-             |PF - Até 1 salário mínimo                    |PF - Outros créditos                    |Sem destinação específica|Prefixado         |244                |96531.11            |169413.96                  |59809.63                     |6748.79                       |0.0                           |439.49                     |35558.8                 |368501.78     |41717.93                      |0.0               |\n",
            "|2012-01-31|AC |Bancário|null|PF     |PF - Aposentado/pensionista|-         |-             |PF - Até 1 salário mínimo                    |PF - Rural e agroindustrial             |Com destinação específica|Prefixado         |<= 15              |0.0                 |0.0                        |0.0                          |0.0                           |0.0                           |8432.93                    |0.0                     |8432.93       |0.0                           |0.0               |\n",
            "|2012-01-31|AC |Bancário|null|PF     |PF - Aposentado/pensionista|-         |-             |PF - Acima de 20 salários mínimos            |PF - Cartão de crédito                  |Sem destinação específica|Outros indexadores|28                 |48205.75            |15232.9                    |0.0                          |0.0                           |0.0                           |0.0                        |24523.24                |87961.89      |24137.86                      |0.0               |\n",
            "|2012-01-31|AC |Bancário|null|PF     |PF - Aposentado/pensionista|-         |-             |PF - Mais de 1 a 2 salários mínimos          |PF - Cartão de crédito                  |Sem destinação específica|Prefixado         |2703               |769754.06           |235675.43                  |9278.3                       |1497.31                       |0.0                           |0.0                        |119840.25               |1136045.35    |101152.75                     |0.0               |\n",
            "|2012-01-31|AC |Bancário|null|PF     |PF - Aposentado/pensionista|-         |-             |PF - Acima de 20 salários mínimos            |PF - Empréstimo com consignação em folha|Sem destinação específica|Prefixado         |544                |935912.14           |2624827.78                 |5336437.16                   |2918908.3                     |349838.45                     |0.0                        |174025.51               |1.233994934E7 |556177.98                     |0.0               |\n",
            "|2012-01-31|AC |Bancário|null|PF     |PF - Aposentado/pensionista|-         |-             |PF - Acima de 20 salários mínimos            |PF - Empréstimo sem consignação em folha|Sem destinação específica|Prefixado         |247                |284293.97           |872529.31                  |1148837.24                   |722773.03                     |385198.97                     |0.0                        |49829.01                |3463461.53    |86840.04                      |0.0               |\n",
            "|2012-01-31|AC |Bancário|null|PF     |PF - Aposentado/pensionista|-         |-             |PF - Acima de 20 salários mínimos            |PF - Outros créditos                    |Sem destinação específica|Prefixado         |139                |135275.09           |236017.7                   |90930.75                     |13121.19                      |883.01                        |0.0                        |45340.77                |521568.51     |59609.49                      |0.0               |\n",
            "+----------+---+--------+----+-------+---------------------------+----------+--------------+---------------------------------------------+----------------------------------------+-------------------------+------------------+-------------------+--------------------+---------------------------+-----------------------------+------------------------------+------------------------------+---------------------------+------------------------+--------------+------------------------------+------------------+\n",
            "only showing top 20 rows\n",
            "\n"
          ]
        }
      ],
      "source": [
        "from pyspark.sql.functions import col\n",
        "\n",
        "dados_ordenados = df_spark.orderBy(col(\"data_base\").asc())\n",
        "\n",
        "# Mostrar as primeiras 10 linhas ordenadas\n",
        "dados_ordenados.show(20, truncate=False)"
      ]
    },
    {
      "cell_type": "markdown",
      "metadata": {
        "id": "Rhr3V17xA6O1"
      },
      "source": [
        "🔳 **Criando uma cópia da base de dados que contém os dados odenados pela data**"
      ]
    },
    {
      "cell_type": "code",
      "execution_count": null,
      "metadata": {
        "colab": {
          "base_uri": "https://localhost:8080/"
        },
        "id": "rsp4DJIxBFr1",
        "outputId": "a69ea6bd-245a-4b3f-c928-71673e9d66a9"
      },
      "outputs": [
        {
          "output_type": "stream",
          "name": "stdout",
          "text": [
            "+----------+---+--------+----+-------+---------------------------+----------+--------------+---------------------------------------------+----------------------------------------+-------------------------+------------------+-------------------+--------------------+---------------------------+-----------------------------+------------------------------+------------------------------+---------------------------+------------------------+--------------+------------------------------+------------------+\n",
            "|data_base |uf |tcb     |sr  |cliente|ocupacao                   |cnae_secao|cnae_subclasse|porte                                        |modalidade                              |origem                   |indexador         |numero_de_operacoes|a_vencer_ate_90_dias|a_vencer_de_91_ate_360_dias|a_vencer_de_361_ate_1080_dias|a_vencer_de_1081_ate_1800_dias|a_vencer_de_1801_ate_5400_dias|a_vencer_acima_de_5400_dias|vencido_acima_de_15_dias|carteira_ativa|carteira_inadimplida_arrastada|ativo_problematico|\n",
            "+----------+---+--------+----+-------+---------------------------+----------+--------------+---------------------------------------------+----------------------------------------+-------------------------+------------------+-------------------+--------------------+---------------------------+-----------------------------+------------------------------+------------------------------+---------------------------+------------------------+--------------+------------------------------+------------------+\n",
            "|2012-01-31|AC |Bancário|null|PF     |PF - Aposentado/pensionista|-         |-             |PF - Indisponível                            |PF - Outros créditos                    |Sem destinação específica|Prefixado         |<= 15              |3349.5              |3315.09                    |353.4                        |0.0                           |0.0                           |0.0                        |4197.77                 |11215.76      |6601.91                       |0.0               |\n",
            "|2012-01-31|AC |Bancário|null|PF     |PF - Aposentado/pensionista|-         |-             |PF - Até 1 salário mínimo                    |PF - Cartão de crédito                  |Sem destinação específica|Prefixado         |684                |190305.05           |64948.14                   |0.0                          |0.0                           |0.0                           |0.0                        |41206.06                |296459.25     |29630.51                      |0.0               |\n",
            "|2012-01-31|AC |Bancário|null|PF     |PF - Aposentado/pensionista|-         |-             |PF - Indisponível                            |PF - Empréstimo com consignação em folha|Sem destinação específica|Prefixado         |<= 15              |1014.73             |0.0                        |0.0                          |0.0                           |0.0                           |0.0                        |698.44                  |1713.17       |0.0                           |0.0               |\n",
            "|2012-01-31|AC |Bancário|null|PF     |PF - Aposentado/pensionista|-         |-             |PF - Acima de 20 salários mínimos            |PF - Outros créditos                    |Sem destinação específica|Flutuantes        |<= 15              |24.04               |0.0                        |0.0                          |0.0                           |0.0                           |0.0                        |0.0                     |24.04         |0.0                           |0.0               |\n",
            "|2012-01-31|AC |Bancário|null|PF     |PF - Aposentado/pensionista|-         |-             |PF - Acima de 20 salários mínimos            |PF - Veículos                           |Sem destinação específica|Prefixado         |78                 |279574.31           |801591.88                  |1102092.21                   |251785.11                     |0.0                           |0.0                        |66276.39                |2501319.9     |187339.77                     |0.0               |\n",
            "|2012-01-31|AC |Bancário|null|PF     |PF - Aposentado/pensionista|-         |-             |PF - Até 1 salário mínimo                    |PF - Habitacional                       |Com destinação específica|Prefixado         |<= 15              |0.0                 |0.0                        |0.0                          |0.0                           |0.0                           |0.0                        |1170.46                 |1170.46       |0.0                           |0.0               |\n",
            "|2012-01-31|AC |Bancário|null|PF     |PF - Aposentado/pensionista|-         |-             |PF - Até 1 salário mínimo                    |PF - Veículos                           |Sem destinação específica|Prefixado         |41                 |90502.81            |252069.15                  |397458.18                    |107702.32                     |0.0                           |0.0                        |48587.89                |896320.35     |192636.31                     |0.0               |\n",
            "|2012-01-31|AC |Bancário|null|PF     |PF - Aposentado/pensionista|-         |-             |PF - Acima de 20 salários mínimos            |PF - Cartão de crédito                  |Sem destinação específica|Prefixado         |620                |1504231.09          |228617.71                  |8.01                         |13.17                         |0.0                           |0.0                        |11382.64                |1744252.62    |8987.07                       |0.0               |\n",
            "|2012-01-31|AC |Bancário|null|PF     |PF - Aposentado/pensionista|-         |-             |PF - Acima de 20 salários mínimos            |PF - Habitacional                       |Com destinação específica|Pós-fixado        |<= 15              |11076.89            |30456.2                    |65237.25                     |48904.65                      |70313.61                      |0.0                        |0.0                     |225988.6      |0.0                           |0.0               |\n",
            "|2012-01-31|AC |Bancário|null|PF     |PF - Aposentado/pensionista|-         |-             |PF - Acima de 20 salários mínimos            |PF - Outros créditos                    |Sem destinação específica|Pós-fixado        |<= 15              |7663.56             |34486.02                   |91962.72                     |91962.85                      |0.0                           |0.0                        |88.84                   |226163.99     |0.0                           |0.0               |\n",
            "|2012-01-31|AC |Bancário|null|PF     |PF - Aposentado/pensionista|-         |-             |PF - Acima de 20 salários mínimos            |PF - Rural e agroindustrial             |Com destinação específica|Prefixado         |<= 15              |173908.77           |495034.32                  |125761.86                    |290686.0                      |149851.13                     |0.0                        |0.0                     |1235242.08    |0.0                           |0.0               |\n",
            "|2012-01-31|AC |Bancário|null|PF     |PF - Aposentado/pensionista|-         |-             |PF - Até 1 salário mínimo                    |PF - Empréstimo com consignação em folha|Sem destinação específica|Prefixado         |406                |204694.46           |556111.14                  |977587.91                    |377287.56                     |7585.26                       |0.0                        |42598.26                |2165864.59    |213664.77                     |0.0               |\n",
            "|2012-01-31|AC |Bancário|null|PF     |PF - Aposentado/pensionista|-         |-             |PF - Até 1 salário mínimo                    |PF - Empréstimo sem consignação em folha|Sem destinação específica|Prefixado         |52                 |20597.04            |35835.36                   |31082.66                     |722.47                        |0.0                           |0.0                        |10948.73                |99186.26      |14657.26                      |0.0               |\n",
            "|2012-01-31|AC |Bancário|null|PF     |PF - Aposentado/pensionista|-         |-             |PF - Até 1 salário mínimo                    |PF - Outros créditos                    |Sem destinação específica|Prefixado         |244                |96531.11            |169413.96                  |59809.63                     |6748.79                       |0.0                           |439.49                     |35558.8                 |368501.78     |41717.93                      |0.0               |\n",
            "|2012-01-31|AC |Bancário|null|PF     |PF - Aposentado/pensionista|-         |-             |PF - Até 1 salário mínimo                    |PF - Rural e agroindustrial             |Com destinação específica|Prefixado         |<= 15              |0.0                 |0.0                        |0.0                          |0.0                           |0.0                           |8432.93                    |0.0                     |8432.93       |0.0                           |0.0               |\n",
            "|2012-01-31|AC |Bancário|null|PF     |PF - Aposentado/pensionista|-         |-             |PF - Acima de 20 salários mínimos            |PF - Cartão de crédito                  |Sem destinação específica|Outros indexadores|28                 |48205.75            |15232.9                    |0.0                          |0.0                           |0.0                           |0.0                        |24523.24                |87961.89      |24137.86                      |0.0               |\n",
            "|2012-01-31|AC |Bancário|null|PF     |PF - Aposentado/pensionista|-         |-             |PF - Mais de 1 a 2 salários mínimos          |PF - Cartão de crédito                  |Sem destinação específica|Prefixado         |2703               |769754.06           |235675.43                  |9278.3                       |1497.31                       |0.0                           |0.0                        |119840.25               |1136045.35    |101152.75                     |0.0               |\n",
            "|2012-01-31|AC |Bancário|null|PF     |PF - Aposentado/pensionista|-         |-             |PF - Acima de 20 salários mínimos            |PF - Empréstimo com consignação em folha|Sem destinação específica|Prefixado         |544                |935912.14           |2624827.78                 |5336437.16                   |2918908.3                     |349838.45                     |0.0                        |174025.51               |1.233994934E7 |556177.98                     |0.0               |\n",
            "|2012-01-31|AC |Bancário|null|PF     |PF - Aposentado/pensionista|-         |-             |PF - Acima de 20 salários mínimos            |PF - Empréstimo sem consignação em folha|Sem destinação específica|Prefixado         |247                |284293.97           |872529.31                  |1148837.24                   |722773.03                     |385198.97                     |0.0                        |49829.01                |3463461.53    |86840.04                      |0.0               |\n",
            "|2012-01-31|AC |Bancário|null|PF     |PF - Aposentado/pensionista|-         |-             |PF - Acima de 20 salários mínimos            |PF - Outros créditos                    |Sem destinação específica|Prefixado         |139                |135275.09           |236017.7                   |90930.75                     |13121.19                      |883.01                        |0.0                        |45340.77                |521568.51     |59609.49                      |0.0               |\n",
            "+----------+---+--------+----+-------+---------------------------+----------+--------------+---------------------------------------------+----------------------------------------+-------------------------+------------------+-------------------+--------------------+---------------------------+-----------------------------+------------------------------+------------------------------+---------------------------+------------------------+--------------+------------------------------+------------------+\n",
            "only showing top 20 rows\n",
            "\n"
          ]
        }
      ],
      "source": [
        "dados_copia = dados_ordenados.select(\"*\")\n",
        "dados_copia.show(20, truncate=False)\n"
      ]
    },
    {
      "cell_type": "markdown",
      "metadata": {
        "id": "YP0tSzmK78oj"
      },
      "source": [
        "## **1.2 Verificação da qualidade dos dados**"
      ]
    },
    {
      "cell_type": "markdown",
      "metadata": {
        "id": "93pwdEzHNqB9"
      },
      "source": [
        " 🔳 **Verificando número de linhas e colunas**"
      ]
    },
    {
      "cell_type": "code",
      "execution_count": null,
      "metadata": {
        "colab": {
          "base_uri": "https://localhost:8080/"
        },
        "id": "tWA0NwBG9dw9",
        "outputId": "d5d75caa-bf75-4e7a-bed5-2354b6ac8674"
      },
      "outputs": [
        {
          "name": "stdout",
          "output_type": "stream",
          "text": [
            "Número total de linhas: 102264425\n",
            "Número total de colunas: 23\n"
          ]
        }
      ],
      "source": [
        "num_linhas = dados_copia.count()  # Contar número de linhas\n",
        "num_colunas = len(dados_copia.columns)  # Contar número de colunas\n",
        "\n",
        "print(f\"Número total de linhas: {num_linhas}\")\n",
        "print(f\"Número total de colunas: {num_colunas}\")"
      ]
    },
    {
      "cell_type": "markdown",
      "metadata": {
        "id": "6wCUk9zK8E9i"
      },
      "source": [
        "🔳  **Verificando informações da base de dados**"
      ]
    },
    {
      "cell_type": "code",
      "execution_count": null,
      "metadata": {
        "colab": {
          "base_uri": "https://localhost:8080/"
        },
        "id": "DJqsHR2uD--s",
        "outputId": "88a64471-8518-4403-d3b8-a7fec968229d"
      },
      "outputs": [
        {
          "name": "stdout",
          "output_type": "stream",
          "text": [
            "=== Schema do DataFrame ===\n",
            "root\n",
            " |-- data_base: string (nullable = true)\n",
            " |-- uf: string (nullable = true)\n",
            " |-- tcb: string (nullable = true)\n",
            " |-- sr: string (nullable = true)\n",
            " |-- cliente: string (nullable = true)\n",
            " |-- ocupacao: string (nullable = true)\n",
            " |-- cnae_secao: string (nullable = true)\n",
            " |-- cnae_subclasse: string (nullable = true)\n",
            " |-- porte: string (nullable = true)\n",
            " |-- modalidade: string (nullable = true)\n",
            " |-- origem: string (nullable = true)\n",
            " |-- indexador: string (nullable = true)\n",
            " |-- numero_de_operacoes: string (nullable = true)\n",
            " |-- a_vencer_ate_90_dias: double (nullable = true)\n",
            " |-- a_vencer_de_91_ate_360_dias: double (nullable = true)\n",
            " |-- a_vencer_de_361_ate_1080_dias: double (nullable = true)\n",
            " |-- a_vencer_de_1081_ate_1800_dias: double (nullable = true)\n",
            " |-- a_vencer_de_1801_ate_5400_dias: double (nullable = true)\n",
            " |-- a_vencer_acima_de_5400_dias: double (nullable = true)\n",
            " |-- vencido_acima_de_15_dias: double (nullable = true)\n",
            " |-- carteira_ativa: double (nullable = true)\n",
            " |-- carteira_inadimplida_arrastada: double (nullable = true)\n",
            " |-- ativo_problematico: double (nullable = true)\n",
            "\n"
          ]
        }
      ],
      "source": [
        "# Verifica o schema (tipos de dados e colunas)\n",
        "print(\"=== Schema do DataFrame ===\")\n",
        "dados_copia.printSchema()"
      ]
    },
    {
      "cell_type": "markdown",
      "metadata": {
        "id": "HvFNc48S8yvJ"
      },
      "source": [
        "🔳 **Verificando a existência de valores inconsistentes**"
      ]
    },
    {
      "cell_type": "code",
      "execution_count": null,
      "metadata": {
        "colab": {
          "base_uri": "https://localhost:8080/"
        },
        "id": "jrF8jtUnD_Bk",
        "outputId": "39297690-fb5a-48b4-caf8-9602aafd3854"
      },
      "outputs": [
        {
          "name": "stdout",
          "output_type": "stream",
          "text": [
            "Colunas com valores NaN:\n",
            "['sr']\n",
            "\n",
            "Colunas com valores em branco:\n",
            "['ocupacao', 'cnae_secao', 'cnae_subclasse']\n",
            "\n",
            "Colunas com valores com traço:\n",
            "['ocupacao', 'cnae_secao', 'cnae_subclasse']\n",
            "\n",
            "Colunas com valores NaN, em branco OU com traço:\n",
            "['cnae_subclasse', 'ocupacao', 'sr', 'cnae_secao']\n"
          ]
        }
      ],
      "source": [
        "from pyspark.sql import SparkSession\n",
        "from pyspark.sql.functions import col, when, isnull\n",
        "\n",
        "# Supondo que você já tenha uma sessão Spark ativa e o DataFrame dados_copia carregado\n",
        "\n",
        "def verifica_valores_especiais(df):\n",
        "    \"\"\"\n",
        "    Verifica colunas com valores NaN, traço ou em branco (diferentes tipos) em um DataFrame do PySpark.\n",
        "\n",
        "    Args:\n",
        "        df: O DataFrame do PySpark a ser analisado.\n",
        "\n",
        "    Returns:\n",
        "        Um dicionário contendo listas de colunas com cada tipo de valor especial.\n",
        "    \"\"\"\n",
        "\n",
        "    # Verificando colunas com valores NaN\n",
        "    colunas_com_nan = [coluna for coluna in df.columns if df.filter(col(coluna).isNull()).count() > 0]\n",
        "\n",
        "    # Tipos de valores em branco ou inconsistentes\n",
        "    tipos_de_branco = ['', ' ', '  ', '-', '...']  # Adicione outros se necessário\n",
        "\n",
        "    # Verificando colunas com valores em branco ou inconsistentes\n",
        "    colunas_com_branco = []\n",
        "    colunas_com_traco = []\n",
        "\n",
        "    for coluna in df.columns:\n",
        "        # Verifica se há valores em branco ou inconsistentes\n",
        "        for tipo in tipos_de_branco:\n",
        "            if df.filter(col(coluna) == tipo).count() > 0:\n",
        "                colunas_com_branco.append(coluna)\n",
        "                break  # Evita adicionar a coluna várias vezes\n",
        "\n",
        "        # Verifica se há traços\n",
        "        if df.filter(col(coluna) == '-').count() > 0:\n",
        "            colunas_com_traco.append(coluna)\n",
        "\n",
        "    return {\n",
        "        'nan': colunas_com_nan,\n",
        "        'branco': colunas_com_branco,\n",
        "        'traco': colunas_com_traco\n",
        "    }\n",
        "\n",
        "# Aplicando a função ao DataFrame dados_copia\n",
        "resultados = verifica_valores_especiais(dados_copia)\n",
        "\n",
        "print(\"Colunas com valores NaN:\")\n",
        "print(resultados['nan'])\n",
        "\n",
        "print(\"\\nColunas com valores em branco:\")\n",
        "print(resultados['branco'])\n",
        "\n",
        "print(\"\\nColunas com valores com traço:\")\n",
        "print(resultados['traco'])\n",
        "\n",
        "# Opcional: Análise combinada\n",
        "colunas_com_especiais = list(set(\n",
        "    resultados['nan'] + resultados['branco'] + resultados['traco']\n",
        "))\n",
        "\n",
        "print(\"\\nColunas com valores NaN, em branco OU com traço:\")\n",
        "print(colunas_com_especiais)"
      ]
    },
    {
      "cell_type": "markdown",
      "metadata": {
        "id": "OQtsZG2983ZM"
      },
      "source": [
        "*🔳* **Verificando a existência de valores nulos**"
      ]
    },
    {
      "cell_type": "code",
      "execution_count": null,
      "metadata": {
        "colab": {
          "base_uri": "https://localhost:8080/"
        },
        "id": "w5wSWKa2dYTI",
        "outputId": "b5eceb7a-6ad2-40e1-9f38-dcc265bd90d0"
      },
      "outputs": [
        {
          "name": "stdout",
          "output_type": "stream",
          "text": [
            "=== VALORES NULOS ===\n",
            "Contagem:\n",
            "+---------+---+---+--------+-------+--------+----------+--------------+-----+----------+------+---------+-------------------+--------------------+---------------------------+-----------------------------+------------------------------+------------------------------+---------------------------+------------------------+--------------+------------------------------+------------------+\n",
            "|data_base|uf |tcb|sr      |cliente|ocupacao|cnae_secao|cnae_subclasse|porte|modalidade|origem|indexador|numero_de_operacoes|a_vencer_ate_90_dias|a_vencer_de_91_ate_360_dias|a_vencer_de_361_ate_1080_dias|a_vencer_de_1081_ate_1800_dias|a_vencer_de_1801_ate_5400_dias|a_vencer_acima_de_5400_dias|vencido_acima_de_15_dias|carteira_ativa|carteira_inadimplida_arrastada|ativo_problematico|\n",
            "+---------+---+---+--------+-------+--------+----------+--------------+-----+----------+------+---------+-------------------+--------------------+---------------------------+-----------------------------+------------------------------+------------------------------+---------------------------+------------------------+--------------+------------------------------+------------------+\n",
            "|0        |0  |0  |32743362|0      |0       |0         |0             |0    |0         |0     |0        |0                  |0                   |0                          |0                            |0                             |0                             |0                          |0                       |0             |0                             |0                 |\n",
            "+---------+---+---+--------+-------+--------+----------+--------------+-----+----------+------+---------+-------------------+--------------------+---------------------------+-----------------------------+------------------------------+------------------------------+---------------------------+------------------------+--------------+------------------------------+------------------+\n",
            "\n",
            "\n",
            "Porcentagem (%):\n",
            "+---------+--------+--------+---------+--------+--------+----------+--------------+--------+----------+--------+---------+-------------------+--------------------+---------------------------+-----------------------------+------------------------------+------------------------------+---------------------------+------------------------+--------------+------------------------------+------------------+\n",
            "|data_base|uf      |tcb     |sr       |cliente |ocupacao|cnae_secao|cnae_subclasse|porte   |modalidade|origem  |indexador|numero_de_operacoes|a_vencer_ate_90_dias|a_vencer_de_91_ate_360_dias|a_vencer_de_361_ate_1080_dias|a_vencer_de_1081_ate_1800_dias|a_vencer_de_1801_ate_5400_dias|a_vencer_acima_de_5400_dias|vencido_acima_de_15_dias|carteira_ativa|carteira_inadimplida_arrastada|ativo_problematico|\n",
            "+---------+--------+--------+---------+--------+--------+----------+--------------+--------+----------+--------+---------+-------------------+--------------------+---------------------------+-----------------------------+------------------------------+------------------------------+---------------------------+------------------------+--------------+------------------------------+------------------+\n",
            "|0.000000 |0.000000|0.000000|32.018331|0.000000|0.000000|0.000000  |0.000000      |0.000000|0.000000  |0.000000|0.000000 |0.000000           |0.000000            |0.000000                   |0.000000                     |0.000000                      |0.000000                      |0.000000                   |0.000000                |0.000000      |0.000000                      |0.000000          |\n",
            "+---------+--------+--------+---------+--------+--------+----------+--------------+--------+----------+--------+---------+-------------------+--------------------+---------------------------+-----------------------------+------------------------------+------------------------------+---------------------------+------------------------+--------------+------------------------------+------------------+\n",
            "\n"
          ]
        }
      ],
      "source": [
        "from pyspark.sql.functions import col, sum, format_number\n",
        "\n",
        "# 1. Contar nulos em todas as colunas\n",
        "contagem_nulos = dados_copia.select([\n",
        "    sum(col(c).isNull().cast(\"int\")).alias(c)\n",
        "    for c in dados_copia.columns\n",
        "])\n",
        "\n",
        "# 2. Calcular porcentagens\n",
        "total_linhas = dados_copia.count()\n",
        "porcentagens_nulos = contagem_nulos.select([\n",
        "    format_number((col(c) / total_linhas * 100), 6).alias(c)\n",
        "    for c in dados_copia.columns\n",
        "])\n",
        "\n",
        "# 3. Exibir resultados\n",
        "print(\"=== VALORES NULOS ===\")\n",
        "print(\"Contagem:\")\n",
        "contagem_nulos.show(truncate=False)\n",
        "\n",
        "print(\"\\nPorcentagem (%):\")\n",
        "porcentagens_nulos.show(truncate=False)"
      ]
    },
    {
      "cell_type": "markdown",
      "metadata": {
        "id": "rbAgBwHjLb_P"
      },
      "source": [
        "🔳 **Verificando quantidade de \"-\" (traços) em cada coluna**"
      ]
    },
    {
      "cell_type": "code",
      "execution_count": null,
      "metadata": {
        "colab": {
          "base_uri": "https://localhost:8080/"
        },
        "id": "oIDSK1d7WfuD",
        "outputId": "487d5ccd-7291-426d-e9e5-bfcfb413beed"
      },
      "outputs": [
        {
          "name": "stdout",
          "output_type": "stream",
          "text": [
            "Contagem de '-' por coluna:\n",
            "+---------+---+---+---+-------+--------+----------+--------------+-----+----------+------+---------+-------------------+--------------------+---------------------------+-----------------------------+------------------------------+------------------------------+---------------------------+------------------------+--------------+------------------------------+------------------+\n",
            "|data_base|uf |tcb|sr |cliente|ocupacao|cnae_secao|cnae_subclasse|porte|modalidade|origem|indexador|numero_de_operacoes|a_vencer_ate_90_dias|a_vencer_de_91_ate_360_dias|a_vencer_de_361_ate_1080_dias|a_vencer_de_1081_ate_1800_dias|a_vencer_de_1801_ate_5400_dias|a_vencer_acima_de_5400_dias|vencido_acima_de_15_dias|carteira_ativa|carteira_inadimplida_arrastada|ativo_problematico|\n",
            "+---------+---+---+---+-------+--------+----------+--------------+-----+----------+------+---------+-------------------+--------------------+---------------------------+-----------------------------+------------------------------+------------------------------+---------------------------+------------------------+--------------+------------------------------+------------------+\n",
            "|0        |0  |0  |0  |0      |87862371|14402054  |17428163      |0    |0         |0     |0        |0                  |0                   |0                          |0                            |0                             |0                             |0                          |0                       |0             |0                             |0                 |\n",
            "+---------+---+---+---+-------+--------+----------+--------------+-----+----------+------+---------+-------------------+--------------------+---------------------------+-----------------------------+------------------------------+------------------------------+---------------------------+------------------------+--------------+------------------------------+------------------+\n",
            "\n",
            "\n",
            "Porcentagem do total (%):\n",
            "+---------+---+---+---+-------+----------------+------------------+------------------+-----+----------+------+---------+-------------------+--------------------+---------------------------+-----------------------------+------------------------------+------------------------------+---------------------------+------------------------+--------------+------------------------------+------------------+\n",
            "|data_base|uf |tcb|sr |cliente|ocupacao        |cnae_secao        |cnae_subclasse    |porte|modalidade|origem|indexador|numero_de_operacoes|a_vencer_ate_90_dias|a_vencer_de_91_ate_360_dias|a_vencer_de_361_ate_1080_dias|a_vencer_de_1081_ate_1800_dias|a_vencer_de_1801_ate_5400_dias|a_vencer_acima_de_5400_dias|vencido_acima_de_15_dias|carteira_ativa|carteira_inadimplida_arrastada|ativo_problematico|\n",
            "+---------+---+---+---+-------+----------------+------------------+------------------+-----+----------+------+---------+-------------------+--------------------+---------------------------+-----------------------------+------------------------------+------------------------------+---------------------------+------------------------+--------------+------------------------------+------------------+\n",
            "|0.0      |0.0|0.0|0.0|0.0    |85.9168484054939|14.083151594506106|17.042253941192158|0.0  |0.0       |0.0   |0.0      |0.0                |0.0                 |0.0                        |0.0                          |0.0                           |0.0                           |0.0                        |0.0                     |0.0           |0.0                           |0.0               |\n",
            "+---------+---+---+---+-------+----------------+------------------+------------------+-----+----------+------+---------+-------------------+--------------------+---------------------------+-----------------------------+------------------------------+------------------------------+---------------------------+------------------------+--------------+------------------------------+------------------+\n",
            "\n"
          ]
        }
      ],
      "source": [
        "from pyspark.sql.functions import col, sum\n",
        "\n",
        "# 1. Contar traços em todas as colunas\n",
        "contagem_tracos = dados_copia.select([\n",
        "    sum((col(c).cast(\"string\") == \"-\").cast(\"int\")).alias(c)\n",
        "    for c in dados_copia.columns\n",
        "])\n",
        "\n",
        "# 2. Calcular porcentagens\n",
        "total_linhas = dados_copia.count()\n",
        "porcentagens = contagem_tracos.select([\n",
        "    (col(c) / total_linhas * 100).alias(c)\n",
        "    for c in dados_copia.columns\n",
        "])\n",
        "\n",
        "# 3. Exibir no formato desejado\n",
        "print(\"Contagem de '-' por coluna:\")\n",
        "contagem_tracos.show(truncate=False)\n",
        "\n",
        "print(\"\\nPorcentagem do total (%):\")\n",
        "porcentagens.show(truncate=False)"
      ]
    },
    {
      "cell_type": "markdown",
      "metadata": {
        "id": "i1m2Hbb59CMd"
      },
      "source": [
        "🔳 **Verificando a existência de dados duplicados**"
      ]
    },
    {
      "cell_type": "markdown",
      "metadata": {
        "id": "4JHVWTDFHIVg"
      },
      "source": [
        "* Não há duplicados"
      ]
    },
    {
      "cell_type": "markdown",
      "metadata": {
        "id": "wwXI3FAd19hG"
      },
      "source": [
        "🔳 **Criado a coluna classe em toda base de dados**"
      ]
    },
    {
      "cell_type": "code",
      "execution_count": null,
      "metadata": {
        "colab": {
          "base_uri": "https://localhost:8080/"
        },
        "id": "QPuJOp7u2DqF",
        "outputId": "740a5c8c-c26c-4eb6-cea4-7383155b6fb5"
      },
      "outputs": [
        {
          "output_type": "stream",
          "name": "stdout",
          "text": [
            "+----------+---+--------+----+-------+---------------------------+----------+--------------+---------------------------------------------+----------------------------------------+-------------------------+------------------+-------------------+--------------------+---------------------------+-----------------------------+------------------------------+------------------------------+---------------------------+------------------------+--------------+------------------------------+------------------+-----------+\n",
            "|data_base |uf |tcb     |sr  |cliente|ocupacao                   |cnae_secao|cnae_subclasse|porte                                        |modalidade                              |origem                   |indexador         |numero_de_operacoes|a_vencer_ate_90_dias|a_vencer_de_91_ate_360_dias|a_vencer_de_361_ate_1080_dias|a_vencer_de_1081_ate_1800_dias|a_vencer_de_1801_ate_5400_dias|a_vencer_acima_de_5400_dias|vencido_acima_de_15_dias|carteira_ativa|carteira_inadimplida_arrastada|ativo_problematico|classe     |\n",
            "+----------+---+--------+----+-------+---------------------------+----------+--------------+---------------------------------------------+----------------------------------------+-------------------------+------------------+-------------------+--------------------+---------------------------+-----------------------------+------------------------------+------------------------------+---------------------------+------------------------+--------------+------------------------------+------------------+-----------+\n",
            "|2012-01-31|AC |Bancário|null|PF     |PF - Aposentado/pensionista|-         |-             |PF - Acima de 20 salários mínimos            |PF - Cartão de crédito                  |Sem destinação específica|Outros indexadores|28                 |48205.75            |15232.9                    |0.0                          |0.0                           |0.0                           |0.0                        |24523.24                |87961.89      |24137.86                      |0.0               |Alto Risco |\n",
            "|2012-01-31|AC |Bancário|null|PF     |PF - Aposentado/pensionista|-         |-             |PF - Mais de 1 a 2 salários mínimos          |PF - Cartão de crédito                  |Sem destinação específica|Prefixado         |2703               |769754.06           |235675.43                  |9278.3                       |1497.31                       |0.0                           |0.0                        |119840.25               |1136045.35    |101152.75                     |0.0               |Médio Risco|\n",
            "|2012-01-31|AC |Bancário|null|PF     |PF - Aposentado/pensionista|-         |-             |PF - Acima de 20 salários mínimos            |PF - Cartão de crédito                  |Sem destinação específica|Prefixado         |620                |1504231.09          |228617.71                  |8.01                         |13.17                         |0.0                           |0.0                        |11382.64                |1744252.62    |8987.07                       |0.0               |Baixo Risco|\n",
            "|2012-01-31|AC |Bancário|null|PF     |PF - Aposentado/pensionista|-         |-             |PF - Acima de 20 salários mínimos            |PF - Empréstimo com consignação em folha|Sem destinação específica|Prefixado         |544                |935912.14           |2624827.78                 |5336437.16                   |2918908.3                     |349838.45                     |0.0                        |174025.51               |1.233994934E7 |556177.98                     |0.0               |Baixo Risco|\n",
            "|2012-01-31|AC |Bancário|null|PF     |PF - Aposentado/pensionista|-         |-             |PF - Acima de 20 salários mínimos            |PF - Empréstimo sem consignação em folha|Sem destinação específica|Prefixado         |247                |284293.97           |872529.31                  |1148837.24                   |722773.03                     |385198.97                     |0.0                        |49829.01                |3463461.53    |86840.04                      |0.0               |Baixo Risco|\n",
            "|2012-01-31|AC |Bancário|null|PF     |PF - Aposentado/pensionista|-         |-             |PF - Acima de 20 salários mínimos            |PF - Habitacional                       |Com destinação específica|Pós-fixado        |<= 15              |11076.89            |30456.2                    |65237.25                     |48904.65                      |70313.61                      |0.0                        |0.0                     |225988.6      |0.0                           |0.0               |Baixo Risco|\n",
            "|2012-01-31|AC |Bancário|null|PF     |PF - Aposentado/pensionista|-         |-             |PF - Acima de 20 salários mínimos            |PF - Outros créditos                    |Sem destinação específica|Flutuantes        |<= 15              |24.04               |0.0                        |0.0                          |0.0                           |0.0                           |0.0                        |0.0                     |24.04         |0.0                           |0.0               |Baixo Risco|\n",
            "|2012-01-31|AC |Bancário|null|PF     |PF - Aposentado/pensionista|-         |-             |PF - Acima de 20 salários mínimos            |PF - Outros créditos                    |Sem destinação específica|Prefixado         |139                |135275.09           |236017.7                   |90930.75                     |13121.19                      |883.01                        |0.0                        |45340.77                |521568.51     |59609.49                      |0.0               |Médio Risco|\n",
            "|2012-01-31|AC |Bancário|null|PF     |PF - Aposentado/pensionista|-         |-             |PF - Acima de 20 salários mínimos            |PF - Outros créditos                    |Sem destinação específica|Pós-fixado        |<= 15              |7663.56             |34486.02                   |91962.72                     |91962.85                      |0.0                           |0.0                        |88.84                   |226163.99     |0.0                           |0.0               |Baixo Risco|\n",
            "|2012-01-31|AC |Bancário|null|PF     |PF - Aposentado/pensionista|-         |-             |PF - Acima de 20 salários mínimos            |PF - Rural e agroindustrial             |Com destinação específica|Prefixado         |<= 15              |173908.77           |495034.32                  |125761.86                    |290686.0                      |149851.13                     |0.0                        |0.0                     |1235242.08    |0.0                           |0.0               |Baixo Risco|\n",
            "|2012-01-31|AC |Bancário|null|PF     |PF - Aposentado/pensionista|-         |-             |PF - Acima de 20 salários mínimos            |PF - Veículos                           |Sem destinação específica|Prefixado         |78                 |279574.31           |801591.88                  |1102092.21                   |251785.11                     |0.0                           |0.0                        |66276.39                |2501319.9     |187339.77                     |0.0               |Baixo Risco|\n",
            "|2012-01-31|AC |Bancário|null|PF     |PF - Aposentado/pensionista|-         |-             |PF - Até 1 salário mínimo                    |PF - Cartão de crédito                  |Sem destinação específica|Prefixado         |684                |190305.05           |64948.14                   |0.0                          |0.0                           |0.0                           |0.0                        |41206.06                |296459.25     |29630.51                      |0.0               |Médio Risco|\n",
            "|2012-01-31|AC |Bancário|null|PF     |PF - Aposentado/pensionista|-         |-             |PF - Até 1 salário mínimo                    |PF - Empréstimo com consignação em folha|Sem destinação específica|Prefixado         |406                |204694.46           |556111.14                  |977587.91                    |377287.56                     |7585.26                       |0.0                        |42598.26                |2165864.59    |213664.77                     |0.0               |Baixo Risco|\n",
            "|2012-01-31|AC |Bancário|null|PF     |PF - Aposentado/pensionista|-         |-             |PF - Até 1 salário mínimo                    |PF - Empréstimo sem consignação em folha|Sem destinação específica|Prefixado         |52                 |20597.04            |35835.36                   |31082.66                     |722.47                        |0.0                           |0.0                        |10948.73                |99186.26      |14657.26                      |0.0               |Médio Risco|\n",
            "|2012-01-31|AC |Bancário|null|PF     |PF - Aposentado/pensionista|-         |-             |PF - Até 1 salário mínimo                    |PF - Habitacional                       |Com destinação específica|Prefixado         |<= 15              |0.0                 |0.0                        |0.0                          |0.0                           |0.0                           |0.0                        |1170.46                 |1170.46       |0.0                           |0.0               |Médio Risco|\n",
            "|2012-01-31|AC |Bancário|null|PF     |PF - Aposentado/pensionista|-         |-             |PF - Até 1 salário mínimo                    |PF - Outros créditos                    |Sem destinação específica|Prefixado         |244                |96531.11            |169413.96                  |59809.63                     |6748.79                       |0.0                           |439.49                     |35558.8                 |368501.78     |41717.93                      |0.0               |Médio Risco|\n",
            "|2012-01-31|AC |Bancário|null|PF     |PF - Aposentado/pensionista|-         |-             |PF - Até 1 salário mínimo                    |PF - Rural e agroindustrial             |Com destinação específica|Prefixado         |<= 15              |0.0                 |0.0                        |0.0                          |0.0                           |0.0                           |8432.93                    |0.0                     |8432.93       |0.0                           |0.0               |Baixo Risco|\n",
            "|2012-01-31|AC |Bancário|null|PF     |PF - Aposentado/pensionista|-         |-             |PF - Até 1 salário mínimo                    |PF - Veículos                           |Sem destinação específica|Prefixado         |41                 |90502.81            |252069.15                  |397458.18                    |107702.32                     |0.0                           |0.0                        |48587.89                |896320.35     |192636.31                     |0.0               |Alto Risco |\n",
            "|2012-01-31|AC |Bancário|null|PF     |PF - Aposentado/pensionista|-         |-             |PF - Indisponível                            |PF - Empréstimo com consignação em folha|Sem destinação específica|Prefixado         |<= 15              |1014.73             |0.0                        |0.0                          |0.0                           |0.0                           |0.0                        |698.44                  |1713.17       |0.0                           |0.0               |Médio Risco|\n",
            "|2012-01-31|AC |Bancário|null|PF     |PF - Aposentado/pensionista|-         |-             |PF - Indisponível                            |PF - Outros créditos                    |Sem destinação específica|Prefixado         |<= 15              |3349.5              |3315.09                    |353.4                        |0.0                           |0.0                           |0.0                        |4197.77                 |11215.76      |6601.91                       |0.0               |Alto Risco |\n",
            "+----------+---+--------+----+-------+---------------------------+----------+--------------+---------------------------------------------+----------------------------------------+-------------------------+------------------+-------------------+--------------------+---------------------------+-----------------------------+------------------------------+------------------------------+---------------------------+------------------------+--------------+------------------------------+------------------+-----------+\n",
            "only showing top 20 rows\n",
            "\n"
          ]
        }
      ],
      "source": [
        "from pyspark.sql.functions import col, when\n",
        "\n",
        "# Criar a nova base 'dados_copia_1' com a coluna 'classe'\n",
        "dados_copia_1 = dados_copia.withColumn(\n",
        "    \"classe\",\n",
        "    when(\n",
        "        (col(\"ativo_problematico\") / col(\"carteira_ativa\") > 0.1) |\n",
        "        (col(\"carteira_inadimplida_arrastada\") / col(\"carteira_ativa\") > 0.15),\n",
        "        \"Alto Risco\"\n",
        "    )\n",
        "    .when(\n",
        "        (col(\"vencido_acima_de_15_dias\") / col(\"carteira_ativa\") > 0.05) |\n",
        "        (col(\"numero_de_operacoes\") <= 15),\n",
        "        \"Médio Risco\"\n",
        "    )\n",
        "    .otherwise(\"Baixo Risco\")\n",
        ")\n",
        "\n",
        "# Visualizar as primeiras linhas da base transformada (com a nova coluna)\n",
        "dados_copia_1.show(20,truncate=False)"
      ]
    },
    {
      "cell_type": "markdown",
      "metadata": {
        "id": "USWKVxxDHe_9"
      },
      "source": [
        "🔳 **Quantidades de cada classe na base de dados**"
      ]
    },
    {
      "cell_type": "code",
      "execution_count": null,
      "metadata": {
        "colab": {
          "base_uri": "https://localhost:8080/"
        },
        "id": "gZmhsDl0HmAW",
        "outputId": "d081a7e7-a7d6-4ed0-fcec-97c39c9a20b6"
      },
      "outputs": [
        {
          "name": "stdout",
          "output_type": "stream",
          "text": [
            "+-----------+----------+-----------+\n",
            "|     classe|quantidade|porcentagem|\n",
            "+-----------+----------+-----------+\n",
            "|      TOTAL| 102264425|     100.00|\n",
            "|Baixo Risco|  70786076|      69.22|\n",
            "| Alto Risco|  27035996|      26.44|\n",
            "|Médio Risco|   4442353|       4.34|\n",
            "+-----------+----------+-----------+\n",
            "\n"
          ]
        }
      ],
      "source": [
        "# Registrar a tabela temporária\n",
        "dados_copia_1.createOrReplaceTempView(\"dados_credito\")\n",
        "\n",
        "# Executar consulta SQL completa\n",
        "query = \"\"\"\n",
        "WITH contagem_por_classe AS (\n",
        "  SELECT\n",
        "    classe,\n",
        "    COUNT(*) as quantidade,\n",
        "    ROUND(COUNT(*) * 100.0 / (SELECT COUNT(*) FROM dados_credito), 2) as porcentagem\n",
        "  FROM dados_credito\n",
        "  GROUP BY classe\n",
        ")\n",
        "SELECT * FROM contagem_por_classe\n",
        "UNION ALL\n",
        "SELECT\n",
        "  'TOTAL' as classe,\n",
        "  (SELECT COUNT(*) FROM dados_credito) as quantidade,\n",
        "  100.00 as porcentagem\n",
        "ORDER BY quantidade DESC\n",
        "\"\"\"\n",
        "\n",
        "resultado_final = spark.sql(query)\n",
        "resultado_final.show()"
      ]
    },
    {
      "cell_type": "markdown",
      "metadata": {
        "id": "pYFoqm0vdMpO"
      },
      "source": [
        "🔳 **Visualizando os tipos de ocupaçao e a quantidade de cada ocupação**"
      ]
    },
    {
      "cell_type": "code",
      "execution_count": null,
      "metadata": {
        "colab": {
          "base_uri": "https://localhost:8080/"
        },
        "id": "vtA0J3GtAs72",
        "outputId": "5ecdd38a-3cbf-45ce-e12a-38d26d9883a5"
      },
      "outputs": [
        {
          "name": "stdout",
          "output_type": "stream",
          "text": [
            "================================================================================\n",
            "Tipos de Ocupação e Quantidade de Cada\n",
            "================================================================================\n",
            "+-----------------------------------------------+----------+\n",
            "|tipo_ocupacao                                  |quantidade|\n",
            "+-----------------------------------------------+----------+\n",
            "|PF - Outros                                    |2492163   |\n",
            "|PF - Empresário                                |2161788   |\n",
            "|PF - Autônomo                                  |2047295   |\n",
            "|PF - Empregado de empresa privada              |2042407   |\n",
            "|PF - Servidor ou empregado público             |2040503   |\n",
            "|PF - Aposentado/pensionista                    |1813045   |\n",
            "|PF - MEI                                       |1057962   |\n",
            "|PF - Empregado de entidades sem fins lucrativos|746891    |\n",
            "|TOTAL                                          |14402054  |\n",
            "+-----------------------------------------------+----------+\n",
            "\n"
          ]
        }
      ],
      "source": [
        "# Consulta para ocupacao\n",
        "ocupacao_distinct = spark.sql(\"\"\"\n",
        "WITH dados_validos AS (\n",
        "  SELECT ocupacao\n",
        "  FROM dados_credito\n",
        "  WHERE ocupacao != '-' AND ocupacao IS NOT NULL\n",
        "),\n",
        "contagem AS (\n",
        "  SELECT\n",
        "    ocupacao AS tipo_ocupacao,\n",
        "    COUNT(*) AS quantidade\n",
        "  FROM dados_validos\n",
        "  GROUP BY ocupacao\n",
        ")\n",
        "SELECT tipo_ocupacao, quantidade FROM contagem\n",
        "UNION ALL\n",
        "SELECT\n",
        "  'TOTAL' AS tipo_ocupacao,\n",
        "  (SELECT COUNT(*) FROM dados_validos) AS quantidade\n",
        "ORDER BY\n",
        "  CASE WHEN tipo_ocupacao = 'TOTAL' THEN 1 ELSE 0 END,\n",
        "  quantidade DESC\n",
        "\"\"\")\n",
        "\n",
        "print(\"=\"*80)\n",
        "print(\"Tipos de Ocupação e Quantidade de Cada\")\n",
        "print(\"=\"*80)\n",
        "ocupacao_distinct.show(ocupacao_distinct.count(), truncate=False)"
      ]
    },
    {
      "cell_type": "markdown",
      "metadata": {
        "id": "oLlWGqF6EXqC"
      },
      "source": [
        "* Essa coluna que mostra os tipos de ocupação possui 102.264.425 linhas no total, sendo que dessas somente 14.402.054 são realmente valores reais e 87.862.371 são valores inválidos, com traço."
      ]
    },
    {
      "cell_type": "markdown",
      "metadata": {
        "id": "0AgD79s4XEEn"
      },
      "source": [
        "🔳 **Quantidades de cada classe na coluna ocupacao, considerando as linhas com valores reais excluindo as linhas com \"-\"(traço)**"
      ]
    },
    {
      "cell_type": "code",
      "execution_count": null,
      "metadata": {
        "colab": {
          "base_uri": "https://localhost:8080/"
        },
        "id": "yl1oEypnSlXZ",
        "outputId": "9327ee40-c10e-4336-d6ce-a93afdcfa020"
      },
      "outputs": [
        {
          "name": "stdout",
          "output_type": "stream",
          "text": [
            "+-----------+----------+-----------+\n",
            "|     classe|quantidade|porcentagem|\n",
            "+-----------+----------+-----------+\n",
            "|      TOTAL|  14402054|     100.00|\n",
            "|Baixo Risco|   8088127|      56.16|\n",
            "| Alto Risco|   5460860|      37.92|\n",
            "|Médio Risco|    853067|       5.92|\n",
            "+-----------+----------+-----------+\n",
            "\n"
          ]
        }
      ],
      "source": [
        "# Registrar a tabela temporária\n",
        "dados_copia_1.createOrReplaceTempView(\"dados_credito\")\n",
        "\n",
        "# Consulta SQL filtrada\n",
        "query_filtrada = \"\"\"\n",
        "WITH dados_filtrados AS (\n",
        "  SELECT *\n",
        "  FROM dados_credito\n",
        "  WHERE ocupacao != '-' AND ocupacao IS NOT NULL\n",
        "),\n",
        "contagem_por_classe AS (\n",
        "  SELECT\n",
        "    classe,\n",
        "    COUNT(*) as quantidade,\n",
        "    ROUND(COUNT(*) * 100.0 / (SELECT COUNT(*) FROM dados_filtrados), 2) as porcentagem\n",
        "  FROM dados_filtrados\n",
        "  GROUP BY classe\n",
        ")\n",
        "SELECT * FROM contagem_por_classe\n",
        "UNION ALL\n",
        "SELECT\n",
        "  'TOTAL' as classe,\n",
        "  (SELECT COUNT(*) FROM dados_filtrados) as quantidade,\n",
        "  100.00 as porcentagem\n",
        "ORDER BY quantidade DESC\n",
        "\"\"\"\n",
        "\n",
        "resultado_filtrado = spark.sql(query_filtrada)\n",
        "resultado_filtrado.show()"
      ]
    },
    {
      "cell_type": "markdown",
      "metadata": {
        "id": "RRLQuumBUSIY"
      },
      "source": [
        "* A coluna ocupacao considerando somente valores reais possui 8.088.127 da classe baixo risco, enquanto o total dessa classe na base de dados completa é 70.786.076."
      ]
    },
    {
      "cell_type": "markdown",
      "metadata": {
        "id": "HVvDTWvqeQt_"
      },
      "source": [
        "🔳 **Visualizando os tipos de atividade econômica e a quantidade de cada cnae_secao**"
      ]
    },
    {
      "cell_type": "code",
      "execution_count": null,
      "metadata": {
        "colab": {
          "base_uri": "https://localhost:8080/"
        },
        "id": "Dp0kWYbYBE-j",
        "outputId": "1ce567fc-c7d4-43d5-a770-733bcf800d91"
      },
      "outputs": [
        {
          "name": "stdout",
          "output_type": "stream",
          "text": [
            "\n",
            "================================================================================\n",
            "Classificação atividades econômicas por grandes setores\n",
            "================================================================================\n",
            "+----------------------------------------------------------------------+----------+\n",
            "|grandes_setores                                                       |quantidade|\n",
            "+----------------------------------------------------------------------+----------+\n",
            "|PJ - Comércio; reparação de veículos automotores e motocicletas       |29443971  |\n",
            "|PJ - Indústrias de transformação                                      |19447344  |\n",
            "|PJ - Atividades administrativas e serviços complementares             |5400597   |\n",
            "|PJ - Construção                                                       |4698141   |\n",
            "|PJ - Transporte, armazenagem e correio                                |4175655   |\n",
            "|PJ - Atividades profissionais, científicas e técnicas                 |3757296   |\n",
            "|PJ - Saúde humana e serviços sociais                                  |3464174   |\n",
            "|PJ - Informação e comunicação                                         |2862165   |\n",
            "|PJ - Alojamento e alimentação                                         |2345108   |\n",
            "|PJ - Outras atividades de serviços                                    |2335368   |\n",
            "|PJ - Educação                                                         |2283040   |\n",
            "|PJ - Agricultura, pecuária, produção florestal, pesca e aqüicultura   |2187734   |\n",
            "|PJ - Atividades financeiras, de seguros e serviços relacionados       |1291421   |\n",
            "|PJ - Artes, cultura, esporte e recreação                              |1233214   |\n",
            "|PJ - Atividades imobiliárias                                          |1079283   |\n",
            "|PJ - Água, esgoto, atividades de gestão de resíduos e descontaminação |885306    |\n",
            "|PJ - Indústrias extrativas                                            |668004    |\n",
            "|PJ - Eletricidade e gás                                               |170258    |\n",
            "|PJ - Administração pública, defesa e seguridade social                |83883     |\n",
            "|PJ - Serviços domésticos                                              |48790     |\n",
            "|PJ - Organismos internacionais e outras instituições extraterritoriais|1590      |\n",
            "|0                                                                     |29        |\n",
            "|TOTAL                                                                 |87862371  |\n",
            "+----------------------------------------------------------------------+----------+\n",
            "\n"
          ]
        }
      ],
      "source": [
        "# Consulta para cnae_secao\n",
        "cnae_secao_distinct = spark.sql(\"\"\"\n",
        "WITH dados_validos AS (\n",
        "  SELECT cnae_secao\n",
        "  FROM dados_credito\n",
        "  WHERE cnae_secao != '-' AND cnae_secao IS NOT NULL\n",
        "),\n",
        "contagem AS (\n",
        "  SELECT\n",
        "    cnae_secao AS grandes_setores,\n",
        "    COUNT(*) AS quantidade\n",
        "  FROM dados_validos\n",
        "  GROUP BY cnae_secao\n",
        ")\n",
        "SELECT grandes_setores, quantidade FROM contagem\n",
        "UNION ALL\n",
        "SELECT\n",
        "  'TOTAL' AS grandes_setores,\n",
        "  (SELECT COUNT(*) FROM dados_validos) AS quantidade\n",
        "ORDER BY\n",
        "  CASE WHEN grandes_setores = 'TOTAL' THEN 1 ELSE 0 END,\n",
        "  quantidade DESC\n",
        "\"\"\")\n",
        "\n",
        "print(\"\\n\" + \"=\"*80)\n",
        "print(\"Classificação atividades econômicas por grandes setores\")\n",
        "print(\"=\"*80)\n",
        "cnae_secao_distinct.show(cnae_secao_distinct.count(), truncate=False)"
      ]
    },
    {
      "cell_type": "markdown",
      "metadata": {
        "id": "AyLMZ7jrDsdS"
      },
      "source": [
        "* Essa coluna que mostra as atividades econômicas por grande setor possui 102.264.425 linhas no total, sendo que dessas 87.862.371 são realmente nomes de setores e 14.402.054 são valores inválidos, com traço."
      ]
    },
    {
      "cell_type": "markdown",
      "metadata": {
        "id": "XfmCp0ZKXTOY"
      },
      "source": [
        "🔳 **Quantidades de cada classe na coluna cnae_secao, considerando as linhas com valores reais excluindo as linhas com \"-\"(traço)**"
      ]
    },
    {
      "cell_type": "code",
      "execution_count": null,
      "metadata": {
        "colab": {
          "base_uri": "https://localhost:8080/"
        },
        "id": "IN4H_xW4XW3R",
        "outputId": "5486740c-5bee-470d-9eb1-1c0ad5efd386"
      },
      "outputs": [
        {
          "name": "stdout",
          "output_type": "stream",
          "text": [
            "Distribuição por classe (considerando apenas valores reais em cnae_secao):\n",
            "+-----------+----------+-----------+\n",
            "|     classe|quantidade|porcentagem|\n",
            "+-----------+----------+-----------+\n",
            "|      TOTAL|  87862371|     100.00|\n",
            "|Baixo Risco|  62697949|      71.36|\n",
            "| Alto Risco|  21575136|      24.56|\n",
            "|Médio Risco|   3589286|       4.09|\n",
            "+-----------+----------+-----------+\n",
            "\n"
          ]
        }
      ],
      "source": [
        "# Análise para cnae_secao\n",
        "query_cnae_secao = \"\"\"\n",
        "WITH dados_filtrados AS (\n",
        "  SELECT *\n",
        "  FROM dados_credito\n",
        "  WHERE cnae_secao != '-' AND cnae_secao IS NOT NULL\n",
        "),\n",
        "contagem_por_classe AS (\n",
        "  SELECT\n",
        "    classe,\n",
        "    COUNT(*) as quantidade,\n",
        "    ROUND(COUNT(*) * 100.0 / (SELECT COUNT(*) FROM dados_filtrados), 2) as porcentagem\n",
        "  FROM dados_filtrados\n",
        "  GROUP BY classe\n",
        ")\n",
        "SELECT * FROM contagem_por_classe\n",
        "UNION ALL\n",
        "SELECT\n",
        "  'TOTAL' as classe,\n",
        "  (SELECT COUNT(*) FROM dados_filtrados) as quantidade,\n",
        "  100.00 as porcentagem\n",
        "ORDER BY quantidade DESC\n",
        "\"\"\"\n",
        "\n",
        "resultado_cnae_secao = spark.sql(query_cnae_secao)\n",
        "print(\"Distribuição por classe (considerando apenas valores reais em cnae_secao):\")\n",
        "resultado_cnae_secao.show()"
      ]
    },
    {
      "cell_type": "markdown",
      "metadata": {
        "id": "1k-ADGWkfZjP"
      },
      "source": [
        "🔳 **Visualizando os tipos de atividade econômica e a quantidade de cada cnae_subclasse**"
      ]
    },
    {
      "cell_type": "code",
      "execution_count": null,
      "metadata": {
        "colab": {
          "base_uri": "https://localhost:8080/"
        },
        "id": "ro6CLayv9qOm",
        "outputId": "bcd112ae-1186-4dc8-d56c-36df1c051383"
      },
      "outputs": [
        {
          "name": "stdout",
          "output_type": "stream",
          "text": [
            "\n",
            "================================================================================\n",
            "Atividade econômica por setor específico\n",
            "================================================================================\n",
            "+---------------------------------------------------------------------------------------------------------------------------------------------------------------------------------------+----------+\n",
            "|setor_especifico                                                                                                                                                                       |quantidade|\n",
            "+---------------------------------------------------------------------------------------------------------------------------------------------------------------------------------------+----------+\n",
            "|PJ - Transporte rodoviário de carga, exceto produtos perigosos e mudanças, intermunicipal, interestadual e internacional                                                               |482702    |\n",
            "|PJ - Construção de edifícios                                                                                                                                                           |454620    |\n",
            "|PJ - Comércio varejista de mercadorias em geral, com predominância de produtos alimentícios - minimercados, mercearias e armazéns                                                      |439356    |\n",
            "|PJ - Comércio varejista de materiais de construção em geral                                                                                                                            |429310    |\n",
            "|PJ - Comércio varejista de mercadorias em geral, com predominância de produtos alimentícios - supermercados                                                                            |416625    |\n",
            "|PJ - Comércio varejista de artigos do vestuário e acessórios                                                                                                                           |415809    |\n",
            "|PJ - Comércio a varejo de peças e acessórios novos para veículos automotores                                                                                                           |387866    |\n",
            "|PJ - Restaurantes e similares                                                                                                                                                          |367548    |\n",
            "|PJ - Comércio varejista de combustíveis para veículos automotores                                                                                                                      |363392    |\n",
            "|PJ - Comércio varejista de produtos farmacêuticos, sem manipulação de fórmulas                                                                                                         |342649    |\n",
            "|PJ - Comércio varejista de outros produtos não especificados anteriormente                                                                                                             |341160    |\n",
            "|PJ - Serviços combinados de escritório e apoio administrativo                                                                                                                          |333340    |\n",
            "|PJ - Comércio varejista de móveis                                                                                                                                                      |332727    |\n",
            "|PJ - Comércio atacadista de produtos alimentícios em geral                                                                                                                             |318621    |\n",
            "|PJ - Incorporação de empreendimentos imobiliários                                                                                                                                      |316161    |\n",
            "|PJ - Comércio varejista de produtos alimentícios em geral ou especializado em produtos alimentícios não especificados anteriormente                                                    |314976    |\n",
            "|PJ - Comércio varejista especializado de equipamentos e suprimentos de informática                                                                                                     |311417    |\n",
            "|PJ - Comércio varejista de ferragens e ferramentas                                                                                                                                     |307189    |\n",
            "|PJ - Lanchonetes, casas de chá, de sucos e similares                                                                                                                                   |306795    |\n",
            "|PJ - Transporte rodoviário de carga, exceto produtos perigosos e mudanças, municipal                                                                                                   |301936    |\n",
            "|PJ - Comércio varejista de bebidas                                                                                                                                                     |298345    |\n",
            "|PJ - Comércio a varejo de automóveis, camionetas e utilitários novos                                                                                                                   |296643    |\n",
            "|PJ - Serviços de engenharia                                                                                                                                                            |291678    |\n",
            "|PJ - Comércio varejista de cosméticos, produtos de perfumaria e de higiene pessoal                                                                                                     |288963    |\n",
            "|PJ - Comércio varejista especializado de eletrodomésticos e equipamentos de áudio e vídeo                                                                                              |287423    |\n",
            "|PJ - Serviços de manutenção e reparação mecânica de veículos automotores                                                                                                               |283551    |\n",
            "|PJ - Locação de automóveis sem condutor                                                                                                                                                |281140    |\n",
            "|PJ - Comércio varejista de gás liquefeito de petróleo (GLP)                                                                                                                            |278395    |\n",
            "|PJ - Hotéis                                                                                                                                                                            |277831    |\n",
            "|PJ - Fabricação de móveis com predominância de madeira                                                                                                                                 |277392    |\n",
            "|PJ - Comércio varejista de materiais de construção não especificados anteriormente                                                                                                     |276751    |\n",
            "|PJ - Confecção de peças do vestuário, exceto roupas íntimas e as confeccionadas sob medida                                                                                             |275455    |\n",
            "|PJ - Atividades de contabilidade                                                                                                                                                       |272017    |\n",
            "|PJ - Comércio varejista de calçados                                                                                                                                                    |267323    |\n",
            "|PJ - Comércio varejista de carnes - açougues                                                                                                                                           |267019    |\n",
            "|PJ - Comércio a varejo de automóveis, camionetas e utilitários usados                                                                                                                  |265584    |\n",
            "|PJ - Instalação e manutenção elétrica                                                                                                                                                  |262190    |\n",
            "|PJ - Comércio varejista especializado de equipamentos de telefonia e comunicação                                                                                                       |260728    |\n",
            "|PJ - Comércio varejista de animais vivos e de artigos e alimentos para animais de estimação                                                                                            |260411    |\n",
            "|PJ - Comércio varejista de artigos de papelaria                                                                                                                                        |253460    |\n",
            "|PJ - Fabricação de produtos de padaria e confeitaria com predominância de produção própria                                                                                             |252527    |\n",
            "|PJ - Atividades de consultoria em gestão empresarial, exceto consultoria técnica específica                                                                                            |251844    |\n",
            "|PJ - Comércio varejista de material elétrico                                                                                                                                           |251487    |\n",
            "|PJ - Comércio atacadista de defensivos agrícolas, adubos, fertilizantes e corretivos do solo                                                                                           |249806    |\n",
            "|PJ - Agências de viagens                                                                                                                                                               |244875    |\n",
            "|PJ - Obras de terraplenagem                                                                                                                                                            |244162    |\n",
            "|PJ - Atividade médica ambulatorial restrita a consultas                                                                                                                                |242814    |\n",
            "|PJ - Comércio varejista de hortifrutigranjeiros                                                                                                                                        |240207    |\n",
            "|PJ - Padaria e confeitaria com predominância de revenda                                                                                                                                |240148    |\n",
            "|PJ - Atividade odontológica                                                                                                                                                            |239484    |\n",
            "|PJ - Comércio atacadista de mercadorias em geral, com predominância de produtos alimentícios                                                                                           |235261    |\n",
            "|PJ - Transporte rodoviário de produtos perigosos                                                                                                                                       |234666    |\n",
            "|PJ - Comércio varejista de madeira e artefatos                                                                                                                                         |233976    |\n",
            "|PJ - Comércio a varejo de pneumáticos e câmaras-de-ar                                                                                                                                  |233379    |\n",
            "|PJ - Comércio varejista de medicamentos veterinários                                                                                                                                   |233295    |\n",
            "|PJ - Comércio por atacado de peças e acessórios novos para veículos automotores                                                                                                        |231947    |\n",
            "|PJ - Atividades de atendimento hospitalar, exceto pronto-socorro e unidades para atendimento a urgências                                                                               |228477    |\n",
            "|PJ - Comércio varejista de artigos de óptica                                                                                                                                           |228456    |\n",
            "|PJ - Cabeleireiros, manicure e pedicure                                                                                                                                                |227841    |\n",
            "|PJ - Comércio atacadista de frutas, verduras, raízes, tubérculos, hortaliças e legumes frescos                                                                                         |227106    |\n",
            "|PJ - Representantes comerciais e agentes do comércio de mercadorias em geral não especializado                                                                                         |225476    |\n",
            "|PJ - Comércio varejista de outros artigos de uso pessoal e doméstico não especificados anteriormente                                                                                   |224437    |\n",
            "|PJ - Outras atividades de serviços prestados principalmente às empresas não especificadas anteriormente                                                                                |223362    |\n",
            "|PJ - Serviços de organização de feiras, congressos, exposições e festas                                                                                                                |222211    |\n",
            "|PJ - Serviços advocatícios                                                                                                                                                             |221516    |\n",
            "|PJ - Atividades de condicionamento físico                                                                                                                                              |220488    |\n",
            "|PJ - Serviços de comunicação multimídia - SCM                                                                                                                                          |220095    |\n",
            "|PJ - Aluguel de máquinas e equipamentos para construção sem operador, exceto andaimes                                                                                                  |218635    |\n",
            "|PJ - Comercio varejista de artigos de armarinho                                                                                                                                        |217815    |\n",
            "|PJ - Transporte rodoviário coletivo de passageiros, sob regime de fretamento, intermunicipal, interestadual e internacional                                                            |217578    |\n",
            "|PJ - Preparação de documentos e serviços especializados de apoio administrativo não especificados anteriormente                                                                        |215395    |\n",
            "|PJ - Fabricação de laticínios                                                                                                                                                          |215139    |\n",
            "|PJ - Aluguel de imóveis próprios                                                                                                                                                       |213653    |\n",
            "|PJ - Compra e venda de imóveis próprios                                                                                                                                                |211669    |\n",
            "|PJ - Atividades de cobrança e informações cadastrais                                                                                                                                   |210389    |\n",
            "|PJ - Laboratórios clínicos                                                                                                                                                             |208373    |\n",
            "|PJ - Comércio varejista de tintas e materiais para pintura                                                                                                                             |206625    |\n",
            "|PJ - Treinamento em desenvolvimento profissional e gerencial                                                                                                                           |206277    |\n",
            "|PJ - Comércio atacadista de medicamentos e drogas de uso humano                                                                                                                        |203965    |\n",
            "|PJ - Fabricação de produtos de panificação industrial                                                                                                                                  |203894    |\n",
            "|PJ - Corretagem na compra e venda e avaliação de imóveis                                                                                                                               |200877    |\n",
            "|PJ - Fabricação de embalagens de material plástico                                                                                                                                     |200728    |\n",
            "|PJ - Transporte rodoviário coletivo de passageiros, com itinerário fixo, municipal                                                                                                     |200544    |\n",
            "|PJ - Promoção de vendas                                                                                                                                                                |200513    |\n",
            "|PJ - Atividades de Estética e outros serviços de cuidados com a beleza                                                                                                                 |200369    |\n",
            "|PJ - Comércio atacadista de materiais de construção em geral                                                                                                                           |200352    |\n",
            "|PJ - Comércio varejista de suvenires, bijuterias e artesanatos                                                                                                                         |199252    |\n",
            "|PJ - Corretores e agentes de seguros, de planos de previdência complementar e de saúde                                                                                                 |197657    |\n",
            "|PJ - Holdings de instituições não-financeiras                                                                                                                                          |197654    |\n",
            "|PJ - Fornecimento de alimentos preparados preponderantemente para empresas                                                                                                             |197466    |\n",
            "|PJ - Comércio varejista especializado de peças e acessórios para aparelhos eletroeletrônicos para uso doméstico, exceto informática e comunicação                                      |197213    |\n",
            "|PJ - Comércio atacadista de máquinas, aparelhos e equipamentos para uso agropecuário; partes e peças                                                                                   |196021    |\n",
            "|PJ - Comércio atacadista de instrumentos e materiais para uso médico, cirúrgico, hospitalar e de laboratórios                                                                          |195504    |\n",
            "|PJ - Fabricação de alimentos para animais                                                                                                                                              |195156    |\n",
            "|PJ - Comércio varejista de vidros                                                                                                                                                      |194082    |\n",
            "|PJ - Comércio atacadista de cereais e leguminosas beneficiados                                                                                                                         |193809    |\n",
            "|PJ - Aluguel de outras máquinas e equipamentos comerciais e industriais não especificados anteriormente, sem operador                                                                  |192874    |\n",
            "|PJ - Gestão e administração da propriedade imobiliária                                                                                                                                 |192852    |\n",
            "|PJ - Fabricação de esquadrias de metal                                                                                                                                                 |191880    |\n",
            "|PJ - Obras de alvenaria                                                                                                                                                                |191755    |\n",
            "|PJ - Limpeza em prédios e em domicílios                                                                                                                                                |191670    |\n",
            "|PJ - Atividades de intermediação e agenciamento de serviços e negócios em geral, exceto imobiliários                                                                                   |191386    |\n",
            "|PJ - Suporte técnico, manutenção e outros serviços em tecnologia da informação                                                                                                         |191276    |\n",
            "|PJ - Impressão de material para uso publicitário                                                                                                                                       |187113    |\n",
            "|PJ - Comercio varejista de artigos de cama, mesa e banho                                                                                                                               |186358    |\n",
            "|PJ - Ensino fundamental                                                                                                                                                                |184275    |\n",
            "|PJ - Reparação e manutenção de computadores e de equipamentos periféricos                                                                                                              |183776    |\n",
            "|PJ - Instalação e manutenção de sistemas centrais de ar condicionado, de ventilação e refrigeração                                                                                     |183730    |\n",
            "|PJ - Comércio varejista de artigos de joalheria                                                                                                                                        |181676    |\n",
            "|PJ - Atividade médica ambulatorial com recursos para realização de exames complementares                                                                                               |181570    |\n",
            "|PJ - Lojas de variedades, exceto lojas de departamentos ou magazines                                                                                                                   |181301    |\n",
            "|PJ - Comércio varejista de produtos saneantes domissanitários                                                                                                                          |180856    |\n",
            "|PJ - Comércio varejista de doces, balas, bombons e semelhantes                                                                                                                         |179264    |\n",
            "|PJ - Fabricação de estruturas metálicas                                                                                                                                                |178475    |\n",
            "|PJ - Comércio atacadista de cosméticos e produtos de perfumaria                                                                                                                        |178453    |\n",
            "|PJ - Comércio varejista de artigos de colchoaria                                                                                                                                       |176679    |\n",
            "|PJ - Comércio varejista de plantas e flores naturais                                                                                                                                   |176526    |\n",
            "|PJ - Provedores de acesso às redes de comunicações                                                                                                                                     |176398    |\n",
            "|PJ - Comércio varejista de tecidos                                                                                                                                                     |176020    |\n",
            "|PJ - Educação infantil - pré-escola                                                                                                                                                    |175998    |\n",
            "|PJ - Serviços de usinagem, tornearia e solda                                                                                                                                           |175720    |\n",
            "|PJ - Fornecimento de alimentos preparados preponderantemente para consumo domiciliar                                                                                                   |175663    |\n",
            "|PJ - Fabricação de artefatos de cerâmica e barro cozido para uso na construção, exceto azulejos e pisos                                                                                |175250    |\n",
            "|PJ - Coleta de resíduos não-perigosos                                                                                                                                                  |174120    |\n",
            "|PJ - Comércio a varejo de peças e acessórios novos para motocicletas e motonetas                                                                                                       |173881    |\n",
            "|PJ - Comércio atacadista de alimentos para animais                                                                                                                                     |173581    |\n",
            "|PJ - Serviços de diagnóstico por imagem com uso de radiação ionizante, exceto tomografia                                                                                               |173049    |\n",
            "|PJ - Agências de publicidade                                                                                                                                                           |173007    |\n",
            "|PJ - Comércio varejista de brinquedos e artigos recreativos                                                                                                                            |171379    |\n",
            "|PJ - Construção de rodovias e ferrovias                                                                                                                                                |171087    |\n",
            "|PJ - Impressão de material para outros usos                                                                                                                                            |170535    |\n",
            "|PJ - Representantes comerciais e agentes do comércio de produtos alimentícios, bebidas e fumo                                                                                          |170460    |\n",
            "|PJ - Comércio a varejo de motocicletas e motonetas novas                                                                                                                               |170404    |\n",
            "|PJ - Comércio varejista de artigos médicos e ortopédicos                                                                                                                               |169791    |\n",
            "|PJ - Fabricação de outros produtos alimentícios não especificados anteriormente                                                                                                        |169787    |\n",
            "|PJ - Comércio varejista de artigos esportivos                                                                                                                                          |169610    |\n",
            "|PJ - Atividades de vigilância e segurança privada                                                                                                                                      |169390    |\n",
            "|PJ - Transporte rodoviário coletivo de passageiros, sob regime de fretamento, municipal                                                                                                |167595    |\n",
            "|PJ - Comércio atacadista especializado em outros produtos alimentícios não especificados anteriormente                                                                                 |166936    |\n",
            "|PJ - Formação de condutores                                                                                                                                                            |166716    |\n",
            "|PJ - Transporte escolar                                                                                                                                                                |166516    |\n",
            "|PJ - Fabricação de estruturas pré-moldadas de concreto armado, em série e sob encomenda                                                                                                |166457    |\n",
            "|PJ - Comércio varejista de bicicletas e triciclos; peças e acessórios                                                                                                                  |164929    |\n",
            "|PJ - Aparelhamento de placas e execução de trabalhos em mármore, granito, ardósia e outras pedras                                                                                      |164660    |\n",
            "|PJ - Atividades de fisioterapia                                                                                                                                                        |164640    |\n",
            "|PJ - Comércio atacadista de mercadorias em geral, sem predominância de alimentos ou de insumos agropecuários                                                                           |163541    |\n",
            "|PJ - Serviços de lavagem, lubrificação e polimento de veículos automotores                                                                                                             |163058    |\n",
            "|PJ - Fabricação de artefatos de cimento para uso na construção                                                                                                                         |162863    |\n",
            "|PJ - Criação de bovinos para corte                                                                                                                                                     |161475    |\n",
            "|PJ - Comércio atacadista de outros equipamentos e artigos de uso pessoal e doméstico não especificados anteriormente                                                                   |161059    |\n",
            "|PJ - Fabricação de sorvetes e outros gelados comestíveis                                                                                                                               |161027    |\n",
            "|PJ - Serviços de lanternagem ou funilaria e pintura de veículos automotores                                                                                                            |160976    |\n",
            "|PJ - Comércio atacadista de ferragens e ferramentas                                                                                                                                    |158954    |\n",
            "|PJ - Comércio atacadista de carnes bovinas e suínas e derivados                                                                                                                        |158181    |\n",
            "|PJ - Comércio varejista de laticínios e frios                                                                                                                                          |157614    |\n",
            "|PJ - Fabricação de artigos de serralheria, exceto esquadrias                                                                                                                           |157165    |\n",
            "|PJ - Fabricação de outros produtos de metal não especificados anteriormente                                                                                                            |156399    |\n",
            "|PJ - Serviços de alimentação para eventos e recepções - bufê                                                                                                                           |156355    |\n",
            "|PJ - Fabricação de produtos de carne                                                                                                                                                   |156182    |\n",
            "|PJ - Atividade médica ambulatorial com recursos para realização de procedimentos cirúrgicos                                                                                            |156108    |\n",
            "|PJ - Comércio atacadista de cerveja, chope e refrigerante                                                                                                                              |155708    |\n",
            "|PJ - Serviços de instalação, manutenção e reparação de acessórios para veículos automotores                                                                                            |155360    |\n",
            "|PJ - Reparação e manutenção de equipamentos eletroeletrônicos de uso pessoal e doméstico                                                                                               |154870    |\n",
            "|PJ - Outras atividades de ensino não especificadas anteriormente                                                                                                                       |153484    |\n",
            "|PJ - Comércio varejista de livros                                                                                                                                                      |152919    |\n",
            "|PJ - Comércio atacadista de artigos do vestuário e acessórios, exceto profissionais e de segurança                                                                                     |152557    |\n",
            "|PJ - Comércio atacadista de embalagens                                                                                                                                                 |152232    |\n",
            "|PJ - Comércio atacadista de resíduos e sucatas metálicos                                                                                                                               |150920    |\n",
            "|PJ - Serviços de reboque de veículos                                                                                                                                                   |150529    |\n",
            "|PJ - Serviço de transporte de passageiros - locação de automóveis com motorista                                                                                                        |150509    |\n",
            "|PJ - Lavanderias                                                                                                                                                                       |149671    |\n",
            "|PJ - Comércio varejista de produtos farmacêuticos, com manipulação de fórmulas                                                                                                         |148917    |\n",
            "|PJ - Atividades de monitoramento de sistemas de segurança eletrônico                                                                                                                   |148903    |\n",
            "|PJ - Atividades de atendimento em pronto-socorro e unidades hospitalares para atendimento a urgências                                                                                  |148878    |\n",
            "|PJ - Comércio atacadista especializado em outros produtos intermediários não especificados anteriormente                                                                               |148485    |\n",
            "|PJ - Bares e outros estabelecimentos especializados em servir bebidas, sem entretenimento                                                                                              |148425    |\n",
            "|PJ - Desenvolvimento de programas de computador sob encomenda                                                                                                                          |144944    |\n",
            "|PJ - Outros representantes comerciais e agentes do comércio especializado em produtos não especificados anteriormente                                                                  |144580    |\n",
            "|PJ - Outras obras de engenharia civil não especificadas anteriormente                                                                                                                  |144465    |\n",
            "|PJ - Comércio atacadista de produtos de higiene, limpeza e conservação domiciliar                                                                                                      |144157    |\n",
            "|PJ - Serviços de funerárias                                                                                                                                                            |143244    |\n",
            "|PJ - Comércio atacadista de outras máquinas e equipamentos não especificados anteriormente; partes e peças                                                                             |142949    |\n",
            "|PJ - Desenvolvimento e licenciamento de programas de computador customizáveis                                                                                                          |142047    |\n",
            "|PJ - Comércio atacadista de madeira e produtos derivados                                                                                                                               |141727    |\n",
            "|PJ - Comércio atacadista de máquinas e equipamentos para uso industrial; partes e peças                                                                                                |141573    |\n",
            "|PJ - Obras de urbanização - ruas, praças e calçadas                                                                                                                                    |141001    |\n",
            "|PJ - Fabricação de conservas de frutas                                                                                                                                                 |141001    |\n",
            "|PJ - Confecção de roupas íntimas                                                                                                                                                       |140292    |\n",
            "|PJ - Ensino de idiomas                                                                                                                                                                 |140161    |\n",
            "|PJ - Comércio atacadista de mercadorias em geral, com predominância de insumos agropecuários                                                                                           |139996    |\n",
            "|PJ - Atividades veterinárias                                                                                                                                                           |139407    |\n",
            "|PJ - Comércio varejista de mercadorias em lojas de conveniência                                                                                                                        |138587    |\n",
            "|PJ - Representantes comerciais e agentes do comércio de madeira, material de construção e ferragens                                                                                    |137927    |\n",
            "|PJ - Confecção, sob medida, de peças do vestuário, exceto roupas íntimas                                                                                                               |137378    |\n",
            "|PJ - Serviços combinados para apoio a edifícios, exceto condomínios prediais                                                                                                           |136691    |\n",
            "|PJ - Extração de areia, cascalho ou pedregulho e beneficiamento associado                                                                                                              |135665    |\n",
            "|PJ - Corretagem no aluguel de imóveis                                                                                                                                                  |135532    |\n",
            "|PJ - Serviços de agronomia e de consultoria às atividades agrícolas e pecuárias                                                                                                        |134731    |\n",
            "|PJ - Fabricação de artefatos de material plástico para outros usos não especificados anteriormente                                                                                     |134384    |\n",
            "|PJ - Comércio a varejo de peças e acessórios usados para veículos automotores                                                                                                          |134354    |\n",
            "|PJ - Comércio varejista de artigos de tapeçaria, cortinas e persianas                                                                                                                  |133955    |\n",
            "|PJ - Peixaria                                                                                                                                                                          |133038    |\n",
            "|PJ - Frigorífico - abate de bovinos                                                                                                                                                    |132873    |\n",
            "|PJ - Fabricação de massas alimentícias                                                                                                                                                 |132690    |\n",
            "|PJ - Serviços de entrega rápida                                                                                                                                                        |132567    |\n",
            "|PJ - Representantes comerciais e agentes do comércio de têxteis, vestuário, calçados e artigos de viagem                                                                               |132523    |\n",
            "|PJ - Comércio varejista de cal, areia, pedra britada, tijolos e telhas                                                                                                                 |132433    |\n",
            "|PJ - Serviços especializados para construção não especificados anteriormente                                                                                                           |132042    |\n",
            "|PJ - Serviços de pintura de edifícios em geral                                                                                                                                         |132015    |\n",
            "|PJ - Outras atividades profissionais, científicas e técnicas não especificadas anteriormente                                                                                           |131908    |\n",
            "|PJ - Outras obras de acabamento da construção                                                                                                                                          |131484    |\n",
            "|PJ - Atividades de apoio à agricultura não especificadas anteriormente                                                                                                                 |130773    |\n",
            "|PJ - Fabricação de artefatos diversos de madeira, exceto móveis                                                                                                                        |130720    |\n",
            "|PJ - Consultoria em tecnologia da informação                                                                                                                                           |130312    |\n",
            "|PJ - Reparação e manutenção de equipamentos de comunicação                                                                                                                             |129777    |\n",
            "|PJ - Comércio varejista de lubrificantes                                                                                                                                               |129746    |\n",
            "|PJ - Comércio atacadista de matérias-primas agrícolas não especificadas anteriormente                                                                                                  |129511    |\n",
            "|PJ - Fabricação de artefatos têxteis para uso doméstico                                                                                                                                |129508    |\n",
            "|PJ - Instalação de máquinas e equipamentos industriais                                                                                                                                 |128379    |\n",
            "|PJ - Serviço de preparação de terreno, cultivo e colheita                                                                                                                              |127173    |\n",
            "|PJ - Educação superior - graduação e pós-graduação                                                                                                                                     |126963    |\n",
            "|PJ - Comércio atacadista de bebidas não especificadas anteriormente                                                                                                                    |126760    |\n",
            "|PJ - Reforma de pneumáticos usados                                                                                                                                                     |126533    |\n",
            "|PJ - Comércio varejista de materiais hidráulicos                                                                                                                                       |126346    |\n",
            "|PJ - Marketing direto                                                                                                                                                                  |126329    |\n",
            "|PJ - Carga e descarga                                                                                                                                                                  |126093    |\n",
            "|PJ - Fabricação de outros artefatos e produtos de concreto, cimento, fibrocimento, gesso e materiais semelhantes                                                                       |125710    |\n",
            "|PJ - Imunização e controle de pragas urbanas                                                                                                                                           |125416    |\n",
            "|PJ - Construção de estações e redes de distribuição de energia elétrica                                                                                                                |124853    |\n",
            "|PJ - Serviços de borracharia para veículos automotores                                                                                                                                 |124792    |\n",
            "|PJ - Serviços de manutenção e reparação elétrica de veículos automotores                                                                                                               |124546    |\n",
            "|PJ - Comércio atacadista de material elétrico                                                                                                                                          |123943    |\n",
            "|PJ - Educação infantil - creche                                                                                                                                                        |123561    |\n",
            "|PJ - Comércio atacadista de sementes, flores, plantas e gramas                                                                                                                         |123300    |\n",
            "|PJ - Serviços de arquitetura                                                                                                                                                           |123083    |\n",
            "|PJ - Locação de outros meios de transporte não especificados anteriormente, sem condutor                                                                                               |122997    |\n",
            "|PJ - Atividades de limpeza não especificadas anteriormente                                                                                                                             |122924    |\n",
            "|PJ - Portais, provedores de conteúdo e outros serviços de informação na internet                                                                                                       |122447    |\n",
            "|PJ - Comércio atacadista de equipamentos de informática                                                                                                                                |120784    |\n",
            "|PJ - Representantes comerciais e agentes do comércio de matérias-primas agrícolas e animais vivos                                                                                      |120729    |\n",
            "|PJ - Atividades paisagísticas                                                                                                                                                          |119948    |\n",
            "|PJ - Serviços ambulantes de alimentação                                                                                                                                                |118757    |\n",
            "|PJ - Tratamento de dados, provedores de serviços de aplicação e serviços de hospedagem na internet                                                                                     |118312    |\n",
            "|PJ - Casas de festas e eventos                                                                                                                                                         |118044    |\n",
            "|PJ - Fabricação de letras, letreiros e placas de qualquer material, exceto luminosos                                                                                                   |116615    |\n",
            "|PJ - Ensino médio                                                                                                                                                                      |116585    |\n",
            "|PJ - Fabricação de produtos de limpeza e polimento                                                                                                                                     |116350    |\n",
            "|PJ - Fotocópias                                                                                                                                                                        |115825    |\n",
            "|PJ - Fabricação de máquinas e equipamentos para a agricultura e pecuária, peças e acessórios, exceto para irrigação                                                                    |115470    |\n",
            "|PJ - Fabricação de biscoitos e bolachas                                                                                                                                                |115321    |\n",
            "|PJ - Comércio varejista de artigos de caça, pesca e camping                                                                                                                            |115304    |\n",
            "|PJ - Aluguel de palcos, coberturas e outras estruturas de uso temporário, exceto andaimes                                                                                              |115276    |\n",
            "|PJ - Estacionamento de veículos                                                                                                                                                        |115260    |\n",
            "|PJ - Comércio atacadista de outros produtos químicos e petroquímicos não especificados anteriormente                                                                                   |114900    |\n",
            "|PJ - Desenvolvimento e licenciamento de programas de computador não-customizáveis                                                                                                      |114547    |\n",
            "|PJ - Manutenção e reparação de máquinas e aparelhos de refrigeração e ventilação para uso industrial e comercial                                                                       |114448    |\n",
            "|PJ - Preparação de massa de concreto e argamassa para construção                                                                                                                       |114407    |\n",
            "|PJ - Serrarias com desdobramento de madeira em bruto                                                                                                                                   |114100    |\n",
            "|PJ - Produção musical                                                                                                                                                                  |114096    |\n",
            "|PJ - Fabricação de cabines, carrocerias e reboques para caminhões                                                                                                                      |114057    |\n",
            "|PJ - Comércio varejista de mercadorias em geral, com predominância de produtos alimentícios - hipermercados                                                                            |113937    |\n",
            "|PJ - Locação de mão-de-obra temporária                                                                                                                                                 |113890    |\n",
            "|PJ - Comércio atacadista de cereais e leguminosas beneficiados, farinhas, amidos e féculas, com atividade de fracionamento e acondicionamento associada                                |113767    |\n",
            "|PJ - Fabricação de alimentos e pratos prontos                                                                                                                                          |113130    |\n",
            "|PJ - Comércio atacadista de leite e laticínios                                                                                                                                         |113005    |\n",
            "|PJ - Montagem de estruturas metálicas                                                                                                                                                  |112837    |\n",
            "|PJ - Manutenção e reparação de geradores, transformadores e motores elétricos                                                                                                          |112501    |\n",
            "|PJ - Aluguel de máquinas e equipamentos para escritório                                                                                                                                |112319    |\n",
            "|PJ - Atividades de produção de fotografias, exceto aérea e submarina                                                                                                                   |111491    |\n",
            "|PJ - Extração e britamento de pedras e outros materiais para construção e beneficiamento associado                                                                                     |111410    |\n",
            "|PJ - Fabricação de produtos diversos não especificados anteriormente                                                                                                                   |110615    |\n",
            "|PJ - Confecção de roupas profissionais, exceto sob medida                                                                                                                              |110525    |\n",
            "|PJ - Comércio atacadista de pescados e frutos do mar                                                                                                                                   |110513    |\n",
            "|PJ - Armazéns gerais - emissão de warrant                                                                                                                                              |110418    |\n",
            "|PJ - Educação superior - graduação                                                                                                                                                     |110122    |\n",
            "|PJ - Fabricação de móveis com predominância de metal                                                                                                                                   |109430    |\n",
            "|PJ - Atividades de rádio                                                                                                                                                               |109344    |\n",
            "|PJ - Fabricação de calçados de couro                                                                                                                                                   |109329    |\n",
            "|PJ - Produção de artefatos estampados de metal                                                                                                                                         |109281    |\n",
            "|PJ - Educação profissional de nível técnico                                                                                                                                            |109010    |\n",
            "|PJ - Comércio varejista de equipamentos para escritório                                                                                                                                |109003    |\n",
            "|PJ - Comércio atacadista de artigos de escritório e de papelaria                                                                                                                       |108967    |\n",
            "|PJ - Fabricação de outras máquinas e equipamentos de uso geral não especificados anteriormente, peças e acessórios                                                                     |108797    |\n",
            "|PJ - Comércio varejista de artigos de viagem                                                                                                                                           |108685    |\n",
            "|PJ - Manutenção e reparação de motocicletas e motonetas                                                                                                                                |107775    |\n",
            "|PJ - Comércio sob consignação de veículos automotores                                                                                                                                  |107743    |\n",
            "|PJ - Comércio atacadista de componentes eletrônicos e equipamentos de telefonia e comunicação                                                                                          |107479    |\n",
            "|PJ - Serviços de cartografia, topografia e geodésia                                                                                                                                    |106571    |\n",
            "|PJ - Fabricação de outros produtos têxteis não especificados anteriormente                                                                                                             |106435    |\n",
            "|PJ - Fabricação de cosméticos, produtos de perfumaria e de higiene pessoal                                                                                                             |105964    |\n",
            "|PJ - Facção de peças do vestuário, exceto roupas íntimas                                                                                                                               |105801    |\n",
            "|PJ - Fabricação de especiarias, molhos, temperos e condimentos                                                                                                                         |104236    |\n",
            "|PJ - Manutenção e reparação de máquinas e equipamentos para uso geral não especificados anteriormente                                                                                  |104176    |\n",
            "|PJ - Atividades de psicologia e psicanálise                                                                                                                                            |104011    |\n",
            "|PJ - Atividades de profissionais da área de saúde não especificadas anteriormente                                                                                                      |103923    |\n",
            "|PJ - Outras sociedades de participação, exceto holdings                                                                                                                                |103917    |\n",
            "|PJ - Serviços de montagem de móveis de qualquer material                                                                                                                               |103613    |\n",
            "|PJ - Instalação de portas, janelas, tetos, divisórias e armários embutidos de qualquer material                                                                                        |103357    |\n",
            "|PJ - Aluguel de máquinas e equipamentos agrícolas sem operador                                                                                                                         |102583    |\n",
            "|PJ - Comércio varejista especializado de instrumentos musicais e acessórios                                                                                                            |102362    |\n",
            "|PJ - Obras de acabamento em gesso e estuque                                                                                                                                            |102224    |\n",
            "|PJ - Cultivo de soja                                                                                                                                                                   |102193    |\n",
            "|PJ - Instalações hidráulicas, sanitárias e de gás                                                                                                                                      |101963    |\n",
            "|PJ - Agenciamento de espaços para publicidade, exceto em veículos de comunicação                                                                                                       |101724    |\n",
            "|PJ - Edição integrada à impressão de cadastros, listas e outros produtos gráficos                                                                                                      |101633    |\n",
            "|PJ - Comércio atacadista de máquinas e equipamentos para uso comercial; partes e peças                                                                                                 |101587    |\n",
            "|PJ - Outras atividades de recreação e lazer não especificadas anteriormente                                                                                                            |101458    |\n",
            "|PJ - Fabricação de esquadrias de madeira e de peças de madeira para instalações industriais e comerciais                                                                               |101280    |\n",
            "|PJ - Atividades de sonorização e de iluminação                                                                                                                                         |101266    |\n",
            "|PJ - Fabricação de tintas, vernizes, esmaltes e lacas                                                                                                                                  |100810    |\n",
            "|PJ - Representantes comerciais e agentes do comércio de combustíveis, minerais, produtos siderúrgicos e químicos                                                                       |100382    |\n",
            "|PJ - Recondicionamento e recuperação de motores para veículos automotores                                                                                                              |99655     |\n",
            "|PJ - Representantes comerciais e agentes do comércio de máquinas, equipamentos, embarcações e aeronaves                                                                                |99470     |\n",
            "|PJ - Casas lotéricas                                                                                                                                                                   |99098     |\n",
            "|PJ - Testes e análises técnicas                                                                                                                                                        |98546     |\n",
            "|PJ - Outras atividades de telecomunicações não especificadas anteriormente                                                                                                             |98392     |\n",
            "|PJ - Serviços de prótese dentária                                                                                                                                                      |98378     |\n",
            "|PJ - Serviços de diagnóstico por imagem sem uso de radiação ionizante, exceto ressonância magnética                                                                                    |98348     |\n",
            "|PJ - Comércio por atacado de pneumáticos e câmaras-de-ar                                                                                                                               |98015     |\n",
            "|PJ - Cursos preparatórios para concursos                                                                                                                                               |97824     |\n",
            "|PJ - Outras atividades de publicidade não especificadas anteriormente                                                                                                                  |97607     |\n",
            "|PJ - Representantes comerciais e agentes do comércio de medicamentos, cosméticos e produtos de perfumaria                                                                              |97547     |\n",
            "|PJ - Recuperação de materiais plásticos                                                                                                                                                |97524     |\n",
            "|PJ - Transporte rodoviário coletivo de passageiros, com itinerário fixo, intermunicipal em região metropolitana                                                                        |97463     |\n",
            "|PJ - Fabricação de máquinas e equipamentos para uso industrial específico não especificados anteriormente, peças e acessórios                                                          |97323     |\n",
            "|PJ - Administração de obras                                                                                                                                                            |97055     |\n",
            "|PJ - Beneficiamento de arroz                                                                                                                                                           |96928     |\n",
            "|PJ - Outras atividades de serviços pessoais não especificadas anteriormente                                                                                                            |96343     |\n",
            "|PJ - Serviços de pré-impressão                                                                                                                                                         |95846     |\n",
            "|PJ - Atividades de apoio à produção florestal                                                                                                                                          |95503     |\n",
            "|PJ - Transporte rodoviário coletivo de passageiros, com itinerário fixo, intermunicipal, exceto em região metropolitana                                                                |94859     |\n",
            "|PJ - Correspondentes de instituições financeiras                                                                                                                                       |94833     |\n",
            "|PJ - Treinamento em informática                                                                                                                                                        |94772     |\n",
            "|PJ - Lojas de departamentos ou magazines, exceto lojas francas (Duty free)                                                                                                             |94651     |\n",
            "|PJ - Perfuração e construção de poços de água                                                                                                                                          |94645     |\n",
            "|PJ - Fabricação de artefatos de material plástico para usos industriais                                                                                                                |94431     |\n",
            "|PJ - Atividades de fornecimento de infraestrutura de apoio e assistência a paciente no domicílio                                                                                       |94211     |\n",
            "|PJ - Comércio atacadista especializado de materiais de construção não especificados anteriormente                                                                                      |94178     |\n",
            "|PJ - Higiene e embelezamento de animais domésticos                                                                                                                                     |93816     |\n",
            "|PJ - Atividades de atenção ambulatorial não especificadas anteriormente                                                                                                                |93398     |\n",
            "|PJ - Loteamento de imóveis próprios                                                                                                                                                    |93270     |\n",
            "|PJ - Comércio atacadista de produtos alimentícios em geral, com atividade de fracionamento e acondicionamento associada                                                                |92985     |\n",
            "|PJ - Atividades de teleatendimento                                                                                                                                                     |92909     |\n",
            "|PJ - Fabricação de gelo comum                                                                                                                                                          |92678     |\n",
            "|PJ - Comércio varejista de outros artigos usados                                                                                                                                       |92668     |\n",
            "|PJ - Bares e outros estabelecimentos especializados em servir bebidas, com entretenimento                                                                                              |92147     |\n",
            "|PJ - Atividades de serviços de complementação diagnóstica e terapêutica não especificadas anteriormente                                                                                |91952     |\n",
            "|PJ - Fabricação de outras peças e acessórios para veículos automotores não especificadas anteriormente                                                                                 |91926     |\n",
            "|PJ - Clubes sociais, esportivos e similares                                                                                                                                            |91823     |\n",
            "|PJ - Serviços de operação e fornecimento de equipamentos para transporte e elevação de cargas e pessoas para uso em obras                                                              |91686     |\n",
            "|PJ - Comércio atacadista de lubrificantes                                                                                                                                              |91645     |\n",
            "|PJ - Planos de saúde                                                                                                                                                                   |91258     |\n",
            "|PJ - Representantes comerciais e agentes do comércio de eletrodomésticos, móveis e artigos de uso doméstico                                                                            |91252     |\n",
            "|PJ - Transporte rodoviário de mudanças                                                                                                                                                 |91151     |\n",
            "|PJ - Fabricação de outros produtos químicos não especificados anteriormente                                                                                                            |91091     |\n",
            "|PJ - Aluguel de móveis, utensílios e aparelhos de uso doméstico e pessoal; instrumentos musicais                                                                                       |91042     |\n",
            "|PJ - Construção de redes de abastecimento de água, coleta de esgoto e construções correlatas, exceto obras de irrigação                                                                |90225     |\n",
            "|PJ - Comércio varejista de artigos de iluminação                                                                                                                                       |89697     |\n",
            "|PJ - Reparação de artigos do mobiliário                                                                                                                                                |89595     |\n",
            "|PJ - Obras de fundações                                                                                                                                                                |89363     |\n",
            "|PJ - Comércio atacadista de roupas e acessórios para uso profissional e de segurança do trabalho                                                                                       |89124     |\n",
            "|PJ - Fabricação de embalagens de papel                                                                                                                                                 |88879     |\n",
            "|PJ - Comércio varejista de pedras para revestimento                                                                                                                                    |87776     |\n",
            "|PJ - Fabricação de artefatos de borracha não especificados anteriormente                                                                                                               |87521     |\n",
            "|PJ - Serviços de alinhamento e balanceamento de veículos automotores                                                                                                                   |87370     |\n",
            "|PJ - Serviços de malote não realizados pelo Correio Nacional                                                                                                                           |87301     |\n",
            "|PJ - Fabricação de produtos de papel, cartolina, papel-cartão e papelão ondulado para uso comercial e de escritório                                                                    |86759     |\n",
            "|PJ - Abate de aves                                                                                                                                                                     |86748     |\n",
            "|PJ - Outros alojamentos não especificados anteriormente                                                                                                                                |86714     |\n",
            "|PJ - Atividades de produção cinematográfica, de vídeos e de programas de televisão não especificadas anteriormente                                                                     |86608     |\n",
            "|PJ - Impressão de livros, revistas e outras publicações periódicas                                                                                                                     |86293     |\n",
            "|PJ - Torrefação e moagem de café                                                                                                                                                       |85884     |\n",
            "|PJ - Fabricação de artefatos de material plástico para uso pessoal e doméstico                                                                                                         |85636     |\n",
            "|PJ - Fabricação de artigos de metal para uso doméstico e pessoal                                                                                                                       |85530     |\n",
            "|PJ - Manutenção e reparação de máquinas e equipamentos para agricultura e pecuária                                                                                                     |85438     |\n",
            "|PJ - Comércio varejista de artigos fotográficos e para filmagem                                                                                                                        |85307     |\n",
            "|PJ - Seleção e agenciamento de mão-de-obra                                                                                                                                             |85110     |\n",
            "|PJ - Serviços de acabamentos gráficos, exceto encadernação e plastificação                                                                                                             |84826     |\n",
            "|PJ - Comércio atacadista de equipamentos elétricos de uso pessoal e doméstico                                                                                                          |84709     |\n",
            "|PJ - Moagem e fabricação de produtos de origem vegetal não especificados anteriormente                                                                                                 |84663     |\n",
            "|PJ - Fabricação de artefatos de material plástico para uso na construção, exceto tubos e acessórios                                                                                    |84373     |\n",
            "|PJ - Motéis                                                                                                                                                                            |83875     |\n",
            "|PJ - Comércio por atacado de peças e acessórios para motocicletas e motonetas                                                                                                          |83581     |\n",
            "|PJ - Obras de montagem industrial                                                                                                                                                      |83463     |\n",
            "|PJ - Comércio varejista de artigos de relojoaria                                                                                                                                       |83084     |\n",
            "|PJ - Ensino de esportes                                                                                                                                                                |83054     |\n",
            "|PJ - Recuperação de materiais não especificados anteriormente                                                                                                                          |82636     |\n",
            "|PJ - Manutenção e reparação de outras máquinas e equipamentos para usos industriais não especificados anteriormente                                                                    |82535     |\n",
            "|PJ - Outras atividades auxiliares dos serviços financeiros não especificadas anteriormente                                                                                             |82293     |\n",
            "|PJ - Comércio atacadista de resíduos de papel e papelão                                                                                                                                |82287     |\n",
            "|PJ - Depósitos de mercadorias para terceiros, exceto armazéns gerais e guarda-móveis                                                                                                   |82057     |\n",
            "|PJ - Comércio atacadista de tecidos                                                                                                                                                    |81974     |\n",
            "|PJ - Outras atividades de prestação de serviços de informação não especificadas anteriormente                                                                                          |81954     |\n",
            "|PJ - Comércio atacadista de máquinas, aparelhos e equipamentos para uso odonto-médico-hospitalar; partes e peças                                                                       |81716     |\n",
            "|PJ - Fabricação de painéis e letreiros luminosos                                                                                                                                       |81650     |\n",
            "|PJ - Gestão de ativos intangíveis não-financeiros                                                                                                                                      |81614     |\n",
            "|PJ - Aluguel de objetos do vestuário, joias e acessórios                                                                                                                               |81426     |\n",
            "|PJ - Fabricação de águas envasadas                                                                                                                                                     |80708     |\n",
            "|PJ - Edição de livros                                                                                                                                                                  |80694     |\n",
            "|PJ - Comércio atacadista de aparelhos eletrônicos de uso pessoal e doméstico                                                                                                           |80647     |\n",
            "|PJ - Fabricação de aparelhos e equipamentos para distribuição e controle de energia elétrica                                                                                           |80310     |\n",
            "|PJ - Outras atividades auxiliares dos transportes terrestres não especificadas anteriormente                                                                                           |80151     |\n",
            "|PJ - Fabricação de sabões e detergentes sintéticos                                                                                                                                     |80097     |\n",
            "|PJ - Reparação e manutenção de outros objetos e equipamentos pessoais e domésticos não especificados anteriormente                                                                     |79823     |\n",
            "|PJ - Tabacaria                                                                                                                                                                         |79778     |\n",
            "|PJ - Fabricação de ferramentas                                                                                                                                                         |79751     |\n",
            "|PJ - Fabricação de cervejas e chopes                                                                                                                                                   |79665     |\n",
            "|PJ - Fabricação de artigos de vidro                                                                                                                                                    |79104     |\n",
            "|PJ - Aplicação de revestimentos e de resinas em interiores e exteriores                                                                                                                |79010     |\n",
            "|PJ - Instalação de painéis publicitários                                                                                                                                               |78744     |\n",
            "|PJ - Comércio atacadista de móveis e artigos de colchoaria                                                                                                                             |78680     |\n",
            "|PJ - Manutenção e reparação de equipamentos e produtos não especificados anteriormente                                                                                                 |78669     |\n",
            "|PJ - Comércio atacadista de artigos de armarinho                                                                                                                                       |78468     |\n",
            "|PJ - Transporte rodoviário coletivo de passageiros, com itinerário fixo, interestadual                                                                                                 |78329     |\n",
            "|PJ - Atividades de consultoria e auditoria contábil e tributária                                                                                                                       |77606     |\n",
            "|PJ - Atividades de apoio à educação, exceto caixas escolares                                                                                                                           |77537     |\n",
            "|PJ - Fabricação de artefatos de tanoaria e de embalagens de madeira                                                                                                                    |77480     |\n",
            "|PJ - Comércio atacadista de chocolates, confeitos, balas, bombons e semelhantes                                                                                                        |77403     |\n",
            "|PJ - Comércio por atacado de caminhões novos e usados                                                                                                                                  |77390     |\n",
            "|PJ - Comércio atacadista de produtos siderúrgicos e metalúrgicos, exceto para construção                                                                                               |77354     |\n",
            "|PJ - Comércio atacadista de resíduos e sucatas não-metálicos, exceto de papel e papelão                                                                                                |77058     |\n",
            "|PJ - Fabricação de máquinas e aparelhos de refrigeração e ventilação para uso industrial e comercial, peças e acessórios                                                               |76613     |\n",
            "|PJ - Comércio atacadista de medicamentos e drogas de uso veterinário                                                                                                                   |76303     |\n",
            "|PJ - Preparação do leite                                                                                                                                                               |76126     |\n",
            "|PJ - Comércio atacadista de soja                                                                                                                                                       |75830     |\n",
            "|PJ - Atividades relacionadas a esgoto, exceto a gestão de redes                                                                                                                        |75622     |\n",
            "|PJ - Fabricação de artigos do vestuário, produzidos em malharias e tricotagens, exceto meias                                                                                           |75427     |\n",
            "|PJ - Comércio atacadista de mármores e granitos                                                                                                                                        |75119     |\n",
            "|PJ - Comércio atacadista de combustíveis realizado por transportador retalhista (TRR)                                                                                                  |74970     |\n",
            "|PJ - Geração de energia elétrica                                                                                                                                                       |74898     |\n",
            "|PJ - Fabricação de artigos para viagem, bolsas e semelhantes de qualquer material                                                                                                      |74726     |\n",
            "|PJ - Representantes comerciais e agentes do comércio de veículos automotores                                                                                                           |74494     |\n",
            "|PJ - Artes cênicas, espetáculos e atividades complementares não especificados anteriormente                                                                                            |74430     |\n",
            "|PJ - Fabricação de adubos e fertilizantes, exceto organo-minerais                                                                                                                      |74163     |\n",
            "|PJ - Chaveiros                                                                                                                                                                         |73922     |\n",
            "|PJ - Comércio atacadista de máquinas, equipamentos para terraplenagem, mineração e construção; partes e peças                                                                          |73709     |\n",
            "|PJ - Fabricação de colchões                                                                                                                                                            |73658     |\n",
            "|PJ - Comércio atacadista de café em grão                                                                                                                                               |73583     |\n",
            "|PJ - Organização logística do transporte de carga                                                                                                                                      |73320     |\n",
            "|PJ - Fabricação de móveis de outros materiais, exceto madeira e metal                                                                                                                  |72934     |\n",
            "|PJ - Estamparia e texturização em fios, tecidos, artefatos têxteis e peças do vestuário                                                                                                |72872     |\n",
            "|PJ - Representantes comerciais e agentes do comércio de peças e acessórios novos e usados para veículos automotores                                                                    |72491     |\n",
            "|PJ - Comércio atacadista de produtos odontológicos                                                                                                                                     |72461     |\n",
            "|PJ - Manutenção e reparação de equipamentos hidráulicos e pneumáticos, exceto válvulas                                                                                                 |72451     |\n",
            "|PJ - Fabricação de produtos derivados do cacau e de chocolates                                                                                                                         |72391     |\n",
            "|PJ - Comércio a varejo de motocicletas e motonetas usadas                                                                                                                              |72208     |\n",
            "|PJ - Atividades de apoio à gestão de saúde                                                                                                                                             |72154     |\n",
            "|PJ - Outras atividades de atenção à saúde humana não especificadas anteriormente                                                                                                       |71936     |\n",
            "|PJ - Fabricação de artefatos de couro não especificados anteriormente                                                                                                                  |71730     |\n",
            "|PJ - Comércio atacadista de calçados                                                                                                                                                   |71697     |\n",
            "|PJ - Atividades de pós-colheita                                                                                                                                                        |71198     |\n",
            "|PJ - Atividades de fonoaudiologia                                                                                                                                                      |71051     |\n",
            "|PJ - Serviço de pulverização e controle de pragas agrícolas                                                                                                                            |70720     |\n",
            "|PJ - Aluguel de equipamentos recreativos e esportivos                                                                                                                                  |70610     |\n",
            "|PJ - Fabricação de outros produtos de minerais não-metálicos não especificados anteriormente                                                                                           |70127     |\n",
            "|PJ - Laboratórios de anatomia patológica e citológica                                                                                                                                  |69863     |\n",
            "|PJ - Operadores turísticos                                                                                                                                                             |69631     |\n",
            "|PJ - Fabricação de chapas e de embalagens de papelão ondulado                                                                                                                          |69564     |\n",
            "|PJ - Produção de filmes para publicidade                                                                                                                                               |68897     |\n",
            "|PJ - Serviço de táxi                                                                                                                                                                   |68754     |\n",
            "|PJ - Serviços de desenho técnico relacionados à arquitetura e engenharia                                                                                                               |68608     |\n",
            "|PJ - Manutenção e reparação de máquinas, aparelhos e materiais elétricos não especificados anteriormente                                                                               |68526     |\n",
            "|PJ - Comércio atacadista de produtos de higiene pessoal                                                                                                                                |68521     |\n",
            "|PJ - Serviços de perícia técnica relacionados à segurança do trabalho                                                                                                                  |68505     |\n",
            "|PJ - Fabricação de acessórios do vestuário, exceto para segurança e proteção                                                                                                           |68490     |\n",
            "|PJ - Extração de madeira em florestas plantadas                                                                                                                                        |68347     |\n",
            "|PJ - Comércio atacadista de joias, relógios e bijuterias, inclusive pedras preciosas e semipreciosas lapidadas                                                                         |67979     |\n",
            "|PJ - Instalação, manutenção e reparação de elevadores, escadas e esteiras rolantes                                                                                                     |67966     |\n",
            "|PJ - Outros serviços de acabamento em fios, tecidos, artefatos têxteis e peças do vestuário                                                                                            |67411     |\n",
            "|PJ - Serviços de tratamento e revestimento em metais                                                                                                                                   |67213     |\n",
            "|PJ - Comércio atacadista de animais vivos                                                                                                                                              |67000     |\n",
            "|PJ - Atividades de apoio à pecuária não especificadas anteriormente                                                                                                                    |65974     |\n",
            "|PJ - Fabricação de máquinas e equipamentos para as indústrias de alimentos, bebidas e fumo, peças e acessórios                                                                         |65866     |\n",
            "|PJ - Edição de cadastros, listas e outros produtos gráficos                                                                                                                            |65622     |\n",
            "|PJ - Comércio atacadista de produtos da extração mineral, exceto combustíveis                                                                                                          |65384     |\n",
            "|PJ - Recuperação de materiais metálicos, exceto alumínio                                                                                                                               |65243     |\n",
            "|PJ - Cantinas - serviços de alimentação privativos                                                                                                                                     |65180     |\n",
            "|PJ - Fabricação de conservas de legumes e outros vegetais, exceto palmito                                                                                                              |65090     |\n",
            "|PJ - Manutenção e reparação de aparelhos e instrumentos de medida, teste e controle                                                                                                    |65022     |\n",
            "|PJ - Fabricação de madeira laminada e de chapas de madeira compensada, prensada e aglomerada                                                                                           |65020     |\n",
            "|PJ - Serviços de reservas e outros serviços de turismo não especificados anteriormente                                                                                                 |64439     |\n",
            "|PJ - Agenciamento de cargas, exceto para o transporte marítimo                                                                                                                         |64194     |\n",
            "|PJ - Fabricação de calçados de materiais não especificados anteriormente                                                                                                               |64175     |\n",
            "|PJ - Sociedades de fomento mercantil - factoring                                                                                                                                       |64060     |\n",
            "|PJ - Fabricação de máquinas-ferramenta, peças e acessórios                                                                                                                             |63826     |\n",
            "|PJ - Instalações de sistema de prevenção contra incêndio                                                                                                                               |63748     |\n",
            "|PJ - Fabricação de sucos concentrados de frutas, hortaliças e legumes                                                                                                                  |62991     |\n",
            "|PJ - Produção e promoção de eventos esportivos                                                                                                                                         |62936     |\n",
            "|PJ - Fornecimento e gestão de recursos humanos para terceiros                                                                                                                          |62887     |\n",
            "|PJ - Manutenção de redes de distribuição de energia elétrica                                                                                                                           |62216     |\n",
            "|PJ - Comércio atacadista de água mineral                                                                                                                                               |61971     |\n",
            "|PJ - Fabricação de outros equipamentos e aparelhos elétricos não especificados anteriormente                                                                                           |61636     |\n",
            "|PJ - Comércio atacadista de sorvetes                                                                                                                                                   |61520     |\n",
            "|PJ - Confecção, sob medida, de roupas profissionais                                                                                                                                    |61267     |\n",
            "|PJ - Manutenção e reparação de aparelhos eletromédicos e eletroterapêuticos e equipamentos de irradiação                                                                               |61262     |\n",
            "|PJ - Coleta de resíduos perigosos                                                                                                                                                      |61251     |\n",
            "|PJ - Comércio atacadista de gás liquefeito de petróleo (GLP)                                                                                                                           |61196     |\n",
            "|PJ - Cultivo de cana-de-açúcar                                                                                                                                                         |60919     |\n",
            "|PJ - Fabricação de bijuterias e artefatos semelhantes                                                                                                                                  |60345     |\n",
            "|PJ - Comércio atacadista de cimento                                                                                                                                                    |59967     |\n",
            "|PJ - Fabricação de produtos de trefilados de metal, exceto padronizados                                                                                                                |59887     |\n",
            "|PJ - Fabricação de aparelhos e equipamentos de medida, teste e controle                                                                                                                |59864     |\n",
            "|PJ - Fabricação de tecidos especiais, inclusive artefatos                                                                                                                              |59764     |\n",
            "|PJ - Fabricação de vidro plano e de segurança                                                                                                                                          |59615     |\n",
            "|PJ - Edição de jornais diários                                                                                                                                                         |59583     |\n",
            "|PJ - Comércio varejista de embarcações e outros veículos recreativos; peças e acessórios                                                                                               |59502     |\n",
            "|PJ - Filmagem de festas e eventos                                                                                                                                                      |59406     |\n",
            "|PJ - Curtimento e outras preparações de couro                                                                                                                                          |59013     |\n",
            "|PJ - Atividades de televisão aberta                                                                                                                                                    |58920     |\n",
            "|PJ - Fabricação de componentes eletrônicos                                                                                                                                             |58751     |\n",
            "|PJ - Construção de estações e redes de telecomunicações                                                                                                                                |58516     |\n",
            "|PJ - Fabricação de outros artigos de carpintaria para construção                                                                                                                       |58398     |\n",
            "|PJ - Fabricação de artefatos de tapeçaria                                                                                                                                              |58211     |\n",
            "|PJ - Fabricação de equipamentos e acessórios para segurança pessoal e profissional                                                                                                     |58194     |\n",
            "|PJ - Produção de ovos                                                                                                                                                                  |58014     |\n",
            "|PJ - Comércio atacadista de matérias-primas agrícolas com atividade de fracionamento e acondicionamento associada                                                                      |57862     |\n",
            "|PJ - Horticultura, exceto morango                                                                                                                                                      |57801     |\n",
            "|PJ - Comércio atacadista de tintas, vernizes e similares                                                                                                                               |57661     |\n",
            "|PJ - Fabricação de artefatos de joalheria e ourivesaria                                                                                                                                |57325     |\n",
            "|PJ - Fabricação de produtos de pastas celulósicas, papel, cartolina, papel-cartão e papelão ondulado não especificados anteriormente                                                   |57300     |\n",
            "|PJ - Fabricação de tecidos de malha                                                                                                                                                    |57101     |\n",
            "|PJ - Atividades técnicas relacionadas à engenharia e arquitetura não especificadas anteriormente                                                                                       |57050     |\n",
            "|PJ - Comércio atacadista de bebidas com atividade de fracionamento e acondicionamento associada                                                                                        |56891     |\n",
            "|PJ - Atividades de pós-produção cinematográfica, de vídeos e de programas de televisão não especificadas anteriormente                                                                 |56549     |\n",
            "|PJ - Fabricação de açúcar em bruto                                                                                                                                                     |56534     |\n",
            "|PJ - Pensões (alojamento)                                                                                                                                                              |56481     |\n",
            "|PJ - Fabricação de máquinas, equipamentos e aparelhos para transporte e elevação de cargas, peças e acessórios                                                                         |56022     |\n",
            "|PJ - Comércio varejista de jornais e revistas                                                                                                                                          |55980     |\n",
            "|PJ - Fundição de ferro e aço                                                                                                                                                           |55756     |\n",
            "|PJ - Fabricação de álcool                                                                                                                                                              |55599     |\n",
            "|PJ - Manutenção e reparação de tratores agrícolas                                                                                                                                      |55508     |\n",
            "|PJ - Comércio atacadista de pães, bolos, biscoitos e similares                                                                                                                         |55316     |\n",
            "|PJ - Frigorífico - abate de suínos                                                                                                                                                     |55294     |\n",
            "|PJ - Comércio atacadista de livros, jornais e outras publicações                                                                                                                       |55204     |\n",
            "|PJ - Fabricação de farinha de milho e derivados, exceto óleos de milho                                                                                                                 |55116     |\n",
            "|PJ - Serrarias sem desdobramento de madeira em bruto - Resseragem                                                                                                                      |55108     |\n",
            "|PJ - Serviço de corte e dobra de metais                                                                                                                                                |54781     |\n",
            "|PJ - Serviços de confecção de armações metálicas para a construção                                                                                                                     |54632     |\n",
            "|PJ - Fabricação de sucos de frutas, hortaliças e legumes, exceto concentrados                                                                                                          |54540     |\n",
            "|PJ - Outras obras de instalações em construções não especificadas anteriormente                                                                                                        |54188     |\n",
            "|PJ - Manutenção e reparação de tanques, reservatórios metálicos e caldeiras, exceto para veículos                                                                                      |53972     |\n",
            "|PJ - Aluguel de andaimes                                                                                                                                                               |53937     |\n",
            "|PJ - Comércio atacadista de farinhas, amidos e féculas                                                                                                                                 |53744     |\n",
            "|PJ - Consultoria em publicidade                                                                                                                                                        |53545     |\n",
            "|PJ - Fabricação de produtos de trefilados de metal padronizados                                                                                                                        |53527     |\n",
            "|PJ - Fabricação de luminárias e outros equipamentos de iluminação                                                                                                                      |53405     |\n",
            "|PJ - Comércio atacadista de artigos de cama, mesa e banho                                                                                                                              |53374     |\n",
            "|PJ - Impermeabilização em obras de engenharia civil                                                                                                                                    |53131     |\n",
            "|PJ - Manutenção e reparação de máquinas-ferramenta                                                                                                                                     |52462     |\n",
            "|PJ - Manutenção e reparação de máquinas, equipamentos e aparelhos para transporte e elevação de cargas                                                                                 |52320     |\n",
            "|PJ - Comércio atacadista de vidros, espelhos e vitrais                                                                                                                                 |52216     |\n",
            "|PJ - Comércio atacadista de aves vivas e ovos                                                                                                                                          |52107     |\n",
            "|PJ - Ensino de arte e cultura não especificado anteriormente                                                                                                                           |52101     |\n",
            "|PJ - Fabricação de conservas de peixes, crustáceos e moluscos                                                                                                                          |51812     |\n",
            "|PJ - Edição de revistas                                                                                                                                                                |51807     |\n",
            "|PJ - Fabricação de laminados planos e tubulares de material plástico                                                                                                                   |51434     |\n",
            "|PJ - Envasamento e empacotamento sob contrato                                                                                                                                          |51306     |\n",
            "|PJ - Design de interiores                                                                                                                                                              |51303     |\n",
            "|PJ - Fabricação de aditivos de uso industrial                                                                                                                                          |51228     |\n",
            "|PJ - Fabricação de partes para calçados, de qualquer material                                                                                                                          |51217     |\n",
            "|PJ - Parques de diversão e parques temáticos                                                                                                                                           |50885     |\n",
            "|PJ - Comércio atacadista de combustíveis de origem vegetal, exceto álcool carburante                                                                                                   |50810     |\n",
            "|PJ - Fabricação de máquinas para a indústria metalúrgica, peças e acessórios, exceto máquinas-ferramenta                                                                               |50732     |\n",
            "|PJ - Fabricação de produtos de papel para uso doméstico e higiênico-sanitário não especificados anteriormente                                                                          |50695     |\n",
            "|PJ - Discotecas, danceterias, salões de dança e similares                                                                                                                              |50691     |\n",
            "|PJ - Atividades auxiliares dos transportes aéreos, exceto operação dos aeroportos e campos de aterrissagem                                                                             |50441     |\n",
            "|PJ - Preparação e fiação de fibras de algodão                                                                                                                                          |50362     |\n",
            "|PJ - Fabricação de obras de caldeiraria pesada                                                                                                                                         |50331     |\n",
            "|PJ - Fabricação de cabines, carrocerias e reboques para outros veículos automotores, exceto caminhões e ônibus                                                                         |49748     |\n",
            "|PJ - Atividades de práticas integrativas e complementares em saúde humana                                                                                                              |49688     |\n",
            "|PJ - Atividades de associações de defesa de direitos sociais                                                                                                                           |49465     |\n",
            "|PJ - Fabricação de farinha de mandioca e derivados                                                                                                                                     |49425     |\n",
            "|PJ - Fabricação de óleos vegetais em bruto, exceto óleo de milho                                                                                                                       |49355     |\n",
            "|PJ - Comércio atacadista de álcool carburante, biodiesel, gasolina e demais derivados de petróleo, exceto lubrificantes, não realizado por transportador retalhista (TRR)              |49313     |\n",
            "|PJ - Educação superior - pós-graduação e extensão                                                                                                                                      |49270     |\n",
            "|PJ - Montagem e instalação de sistemas e equipamentos de iluminação e sinalização em vias públicas, portos e aeroportos                                                                |49262     |\n",
            "|PJ - Edição integrada à impressão de jornais diários                                                                                                                                   |48801     |\n",
            "|PJ - Comércio atacadista de couros, lãs, peles e outros subprodutos não-comestíveis de origem animal                                                                                   |48642     |\n",
            "|PJ - Comércio varejista de objetos de arte                                                                                                                                             |48607     |\n",
            "|PJ - Fabricação de outros brinquedos e jogos recreativos não especificados anteriormente                                                                                               |48488     |\n",
            "|PJ - Aparelhamento de pedras para construção, exceto associado à extração                                                                                                              |48454     |\n",
            "|PJ - Fabricação de vinho                                                                                                                                                               |48408     |\n",
            "|PJ - Instituições de longa permanência para idosos                                                                                                                                     |48406     |\n",
            "|PJ - Atividades de gravação de som e de edição de música                                                                                                                               |48377     |\n",
            "|PJ - Construção de obras-de-arte especiais                                                                                                                                             |48354     |\n",
            "|PJ - Moagem de trigo e fabricação de derivados                                                                                                                                         |48320     |\n",
            "|PJ - Serviços de tomografia                                                                                                                                                            |48186     |\n",
            "|PJ - Preservação de peixes, crustáceos e moluscos                                                                                                                                      |48059     |\n",
            "|PJ - Fabricação de calçados de material sintético                                                                                                                                      |47857     |\n",
            "|PJ - Serviços de tatuagem e colocação de piercing                                                                                                                                      |47722     |\n",
            "|PJ - Fabricação de tanques, reservatórios metálicos e caldeiras para aquecimento central                                                                                               |47663     |\n",
            "|PJ - Atividades de despachantes aduaneiros                                                                                                                                             |47582     |\n",
            "|PJ - Representantes comerciais e agentes do comércio de instrumentos e materiais odonto-médico-hospitalares                                                                            |47506     |\n",
            "|PJ - Pesquisa e desenvolvimento experimental em ciências físicas e naturais                                                                                                            |47375     |\n",
            "|PJ - Gestão de instalações de esportes                                                                                                                                                 |47172     |\n",
            "|PJ - Fabricação de escovas, pincéis e vassouras                                                                                                                                        |47171     |\n",
            "|PJ - Fabricação de equipamentos hidráulicos e pneumáticos, peças e acessórios, exceto válvulas                                                                                         |47104     |\n",
            "|PJ - Recuperação de sucatas de alumínio                                                                                                                                                |46961     |\n",
            "|PJ - Fundição de metais não-ferrosos e suas ligas                                                                                                                                      |46670     |\n",
            "|PJ - Fabricação de adubos e fertilizantes organo-minerais                                                                                                                              |46552     |\n",
            "|PJ - Atividades de franqueadas e permissionárias do Correio Nacional                                                                                                                   |46550     |\n",
            "|PJ - Atividades de profissionais da nutrição                                                                                                                                           |46451     |\n",
            "|PJ - Fabricação de produtos cerâmicos não-refratários não especificados anteriormente                                                                                                  |46443     |\n",
            "|PJ - Fabricação de refrigerantes                                                                                                                                                       |46218     |\n",
            "|PJ - Comércio varejista de discos, CDs, DVDs e fitas                                                                                                                                   |46171     |\n",
            "|PJ - Preparação de subprodutos do abate                                                                                                                                                |46164     |\n",
            "|PJ - Fabricação de fios, cabos e condutores elétricos isolados                                                                                                                         |46152     |\n",
            "|PJ - Fabricação de materiais para medicina e odontologia                                                                                                                               |45801     |\n",
            "|PJ - Atividades de enfermagem                                                                                                                                                          |45483     |\n",
            "|PJ - Perfurações e sondagens                                                                                                                                                           |45460     |\n",
            "|PJ - Ensino de música                                                                                                                                                                  |45447     |\n",
            "|PJ - Produção de carvão vegetal - florestas plantadas                                                                                                                                  |45155     |\n",
            "|PJ - Aluguel de equipamentos científicos, médicos e hospitalares, sem operador                                                                                                         |45116     |\n",
            "|PJ - Fabricação de artefatos para pesca e esporte                                                                                                                                      |44967     |\n",
            "|PJ - Serviços de diálise e nefrologia                                                                                                                                                  |44862     |\n",
            "|PJ - Outras atividades esportivas não especificadas anteriormente                                                                                                                      |44821     |\n",
            "|PJ - Condomínios prediais                                                                                                                                                              |44772     |\n",
            "|PJ - Comércio varejista de armas e munições                                                                                                                                            |44759     |\n",
            "|PJ - Laboratórios fotográficos                                                                                                                                                         |44022     |\n",
            "|PJ - Fabricação de papel                                                                                                                                                               |43904     |\n",
            "|PJ - Fabricação de aguardente de cana-de-açúcar                                                                                                                                        |43656     |\n",
            "|PJ - Fabricação de produtos para infusão (chá, mate, etc.)                                                                                                                             |43254     |\n",
            "|PJ - Atividades de estudos geológicos                                                                                                                                                  |43195     |\n",
            "|PJ - Reparação de bicicletas, triciclos e outros veículos não-motorizados                                                                                                              |42927     |\n",
            "|PJ - Serviços de diagnóstico por métodos ópticos - endoscopia e outros exames análogos                                                                                                 |42817     |\n",
            "|PJ - Comércio por atacado de automóveis, camionetas e utilitários novos e usados                                                                                                       |42637     |\n",
            "|PJ - Comércio atacadista de bombas e compressores; partes e peças                                                                                                                      |42610     |\n",
            "|PJ - Salas de acesso à internet                                                                                                                                                        |42596     |\n",
            "|PJ - Comércio atacadista de aves abatidas e derivados                                                                                                                                  |42501     |\n",
            "|PJ - Fabricação de geradores de corrente contínua e alternada, peças e acessórios                                                                                                      |41995     |\n",
            "|PJ - Fabricação de tubos e acessórios de material plástico para uso na construção                                                                                                      |41719     |\n",
            "|PJ - Criação de peixes em água doce                                                                                                                                                    |41541     |\n",
            "|PJ - Manutenção de estações e redes de telecomunicações                                                                                                                                |41419     |\n",
            "|PJ - Serviços de telefonia fixa comutada - STFC                                                                                                                                        |41388     |\n",
            "|PJ - Extração de outros minerais não-metálicos não especificados anteriormente                                                                                                         |41071     |\n",
            "|PJ - Tratamento e disposição de resíduos não-perigosos                                                                                                                                 |41057     |\n",
            "|PJ - Fabricação de peças e acessórios para o sistema motor de veículos automotores                                                                                                     |40564     |\n",
            "|PJ - Captação, tratamento e distribuição de água                                                                                                                                       |40406     |\n",
            "|PJ - Atividades auxiliares dos seguros, da previdência complementar e dos planos de saúde não especificadas anteriormente                                                              |40014     |\n",
            "|PJ - Instalação de outros equipamentos não especificados anteriormente                                                                                                                 |39964     |\n",
            "|PJ - Extração de calcário e dolomita e beneficiamento associado                                                                                                                        |39916     |\n",
            "|PJ - Agências de notícias                                                                                                                                                              |39906     |\n",
            "|PJ - Fabricação de bicicletas e triciclos não-motorizados, peças e acessórios                                                                                                          |39889     |\n",
            "|PJ - Pesquisas de mercado e de opinião pública                                                                                                                                         |39858     |\n",
            "|PJ - Criação de bovinos para leite                                                                                                                                                     |39826     |\n",
            "|PJ - Recarga de cartuchos para equipamentos de informática                                                                                                                             |39352     |\n",
            "|PJ - Administração pública em geral                                                                                                                                                    |39182     |\n",
            "|PJ - Tecelagem de fios de algodão                                                                                                                                                      |39051     |\n",
            "|PJ - Manutenção e reparação de máquinas e equipamentos para as indústrias de alimentos, bebidas e fumo                                                                                 |38983     |\n",
            "|PJ - Organização de excursões em veículos rodoviários próprios, intermunicipal, interestadual e internacional                                                                          |38928     |\n",
            "|PJ - Distribuição de água por caminhões                                                                                                                                                |38922     |\n",
            "|PJ - Agenciamento de profissionais para atividades esportivas, culturais e artísticas                                                                                                  |37893     |\n",
            "|PJ - Atividades funerárias e serviços relacionados não especificados anteriormente                                                                                                     |37777     |\n",
            "|PJ - Atividades de assistência psicossocial e à saúde a portadores de distúrbios psíquicos, deficiência mental e dependência química e grupos similares não especificadas anteriormente|37699     |\n",
            "|PJ - Cultivo de eucalipto                                                                                                                                                              |37656     |\n",
            "|PJ - Atividades do Operador Portuário                                                                                                                                                  |37593     |\n",
            "|PJ - Criação de frangos para corte                                                                                                                                                     |37590     |\n",
            "|PJ - Comissaria de despachos                                                                                                                                                           |37566     |\n",
            "|PJ - Fabricação de transformadores, indutores, conversores, sincronizadores e semelhantes, peças e acessórios                                                                          |37456     |\n",
            "|PJ - Serviços de vacinação e imunização humana                                                                                                                                         |37359     |\n",
            "|PJ - Comércio atacadista de papel e papelão em bruto                                                                                                                                   |36989     |\n",
            "|PJ - Pintura para sinalização em pistas rodoviárias e aeroportos                                                                                                                       |36865     |\n",
            "|PJ - Extração de granito e beneficiamento associado                                                                                                                                    |36750     |\n",
            "|PJ - Produção de sementes certificadas, exceto de forrageiras para pasto                                                                                                               |36193     |\n",
            "|PJ - Exploração de jogos eletrônicos recreativos                                                                                                                                       |36079     |\n",
            "|PJ - Montagem e desmontagem de andaimes e outras estruturas temporárias                                                                                                                |35971     |\n",
            "|PJ - Comércio atacadista de próteses e artigos de ortopedia                                                                                                                            |35896     |\n",
            "|PJ - Comércio atacadista de suprimentos para informática                                                                                                                               |35862     |\n",
            "|PJ - Reparação de joias                                                                                                                                                                |35808     |\n",
            "|PJ - Fabricação de válvulas, registros e dispositivos semelhantes, peças e acessórios                                                                                                  |35797     |\n",
            "|PJ - Decoração, lapidação, gravação, vitrificação e outros trabalhos em cerâmica, louça, vidro e cristal                                                                               |35570     |\n",
            "|PJ - Fabricação de amidos e féculas de vegetais                                                                                                                                        |35564     |\n",
            "|PJ - Fabricação de frutas cristalizadas, balas e semelhantes                                                                                                                           |35464     |\n",
            "|PJ - Fabricação de instrumentos não-eletrônicos e utensílios para uso médico, cirúrgico, odontológico e de laboratório                                                                 |35340     |\n",
            "|PJ - Fabricação de equipamentos de informática                                                                                                                                         |35232     |\n",
            "|PJ - Comércio varejista de produtos farmacêuticos homeopáticos                                                                                                                         |35190     |\n",
            "|PJ - Serviços de diagnóstico por registro gráfico - ECG, EEG e outros exames análogos                                                                                                  |35027     |\n",
            "|PJ - Fabricação de outros aparelhos eletrodomésticos não especificados anteriormente, peças e acessórios                                                                               |34795     |\n",
            "|PJ - Fabricação de medicamentos alopáticos para uso humano                                                                                                                             |34788     |\n",
            "|PJ - Ensino de dança                                                                                                                                                                   |34570     |\n",
            "|PJ - Cultivo de flores e plantas ornamentais                                                                                                                                           |34561     |\n",
            "|PJ - Atividades de agenciamento marítimo                                                                                                                                               |34247     |\n",
            "|PJ - Metalurgia de outros metais não-ferrosos e suas ligas não especificados anteriormente                                                                                             |34044     |\n",
            "|PJ - Fabricação de produtos químicos orgânicos não especificados anteriormente                                                                                                         |33830     |\n",
            "|PJ - Fabricação de embalagens de cartolina e papel-cartão                                                                                                                              |33712     |\n",
            "|PJ - Produção de relaminados, trefilados e perfilados de aço, exceto arames                                                                                                            |33702     |\n",
            "|PJ - Serviços de capotaria                                                                                                                                                             |33352     |\n",
            "|PJ - Comércio atacadista de fios e fibras beneficiados                                                                                                                                 |33235     |\n",
            "|PJ - Facção de roupas profissionais                                                                                                                                                    |33140     |\n",
            "|PJ - UTI móvel                                                                                                                                                                         |33110     |\n",
            "|PJ - Comércio atacadista de resinas e elastômeros                                                                                                                                      |33087     |\n",
            "|PJ - Atividades de terapia ocupacional                                                                                                                                                 |32621     |\n",
            "|PJ - Atividades de administração de fundos por contrato ou comissão                                                                                                                    |32418     |\n",
            "|PJ - Apart-hotéis                                                                                                                                                                      |32226     |\n",
            "|PJ - Distribuição de energia elétrica                                                                                                                                                  |32184     |\n",
            "|PJ - Reparação de calçados, bolsas e artigos de viagem                                                                                                                                 |31934     |\n",
            "|PJ - Serviços domésticos                                                                                                                                                               |31781     |\n",
            "|PJ - Fabricação de aparelhos de recepção, reprodução, gravação e amplificação de áudio e vídeo                                                                                         |31720     |\n",
            "|PJ - Fabricação de periféricos para equipamentos de informática                                                                                                                        |31349     |\n",
            "|PJ - Edição integrada à impressão de livros                                                                                                                                            |31341     |\n",
            "|PJ - Acabamento de calçados de couro sob contrato                                                                                                                                      |31049     |\n",
            "|PJ - Comércio atacadista de cigarros, cigarrilhas e charutos                                                                                                                           |30977     |\n",
            "|PJ - Tratamentos térmicos, acústicos ou de vibração                                                                                                                                    |30676     |\n",
            "|PJ - Produção teatral                                                                                                                                                                  |30194     |\n",
            "|PJ - Fabricação de máquinas e equipamentos para saneamento básico e ambiental, peças e acessórios                                                                                      |30170     |\n",
            "|PJ - Atividades de exibição cinematográfica                                                                                                                                            |30055     |\n",
            "|PJ - Cultivo de café                                                                                                                                                                   |30042     |\n",
            "|PJ - Fabricação de artigos ópticos                                                                                                                                                     |29860     |\n",
            "|PJ - Fabricação de adesivos e selantes                                                                                                                                                 |29818     |\n",
            "|PJ - Criação de suínos                                                                                                                                                                 |29553     |\n",
            "|PJ - Comércio atacadista de café torrado, moído e solúvel                                                                                                                              |29531     |\n",
            "|PJ - Comércio atacadista de bicicletas, triciclos e outros veículos recreativos                                                                                                        |29486     |\n",
            "|PJ - Comércio atacadista de lustres, luminárias e abajures                                                                                                                             |29429     |\n",
            "|PJ - Preparação de canteiro e limpeza de terreno                                                                                                                                       |29400     |\n",
            "|PJ - Manutenção e reparação de máquinas e equipamentos de terraplenagem, pavimentação e construção, exceto tratores                                                                    |29391     |\n",
            "|PJ - Manutenção e reparação de máquinas motrizes não-elétricas                                                                                                                         |29262     |\n",
            "|PJ - Manutenção e reparação de máquinas e equipamentos para a indústria têxtil, do vestuário, do couro e calçados                                                                      |29061     |\n",
            "|PJ - Atividades de organizações religiosas ou filosóficas                                                                                                                              |28920     |\n",
            "|PJ - Manutenção e reparação de máquinas para a indústria metalúrgica, exceto máquinas-ferramenta                                                                                       |28916     |\n",
            "|PJ - Alvejamento, tingimento e torção em fios, tecidos, artefatos têxteis e peças do vestuário                                                                                         |28536     |\n",
            "|PJ - Tecelagem de fios de fibras artificiais e sintéticas                                                                                                                              |28487     |\n",
            "|PJ - Fabricação de material elétrico para instalações em circuito de consumo                                                                                                           |28195     |\n",
            "|PJ - Toalheiros                                                                                                                                                                        |28064     |\n",
            "|PJ - Manutenção e reparação de embarcações e estruturas flutuantes                                                                                                                     |27937     |\n",
            "|PJ - Serviços de encadernação e plastificação                                                                                                                                          |27877     |\n",
            "|PJ - Fabricação de outros produtos químicos inorgânicos não especificados anteriormente                                                                                                |27781     |\n",
            "|PJ - Extração de argila e beneficiamento associado                                                                                                                                     |27672     |\n",
            "|PJ - Fabricação de artigos de cutelaria                                                                                                                                                |27437     |\n",
            "|PJ - Fabricação de cal e gesso                                                                                                                                                         |27408     |\n",
            "|PJ - Aluguel de fitas de vídeo, DVDs e similares                                                                                                                                       |27379     |\n",
            "|PJ - Serviços de assistência social sem alojamento                                                                                                                                     |27361     |\n",
            "|PJ - Serviços de ressonância magnética                                                                                                                                                 |26978     |\n",
            "|PJ - Fabricação de peças e acessórios para o sistema de direção e suspensão de veículos automotores                                                                                    |26917     |\n",
            "|PJ - Fabricação de resinas termoplásticas                                                                                                                                              |26859     |\n",
            "|PJ - Fabricação de embalagens metálicas                                                                                                                                                |26841     |\n",
            "|PJ - Serviços de preparação do terreno não especificados anteriormente                                                                                                                 |26807     |\n",
            "|PJ - Operador de transporte multimodal - OTM                                                                                                                                           |26716     |\n",
            "|PJ - Facção de roupas íntimas                                                                                                                                                          |26639     |\n",
            "|PJ - Atividades de design não especificadas anteriormente                                                                                                                              |26556     |\n",
            "|PJ - Fabricação de fogões, refrigeradores e máquinas de lavar e secar para uso doméstico, peças e acessórios                                                                           |26177     |\n",
            "|PJ - Comércio atacadista de bolsas, malas e artigos de viagem                                                                                                                          |25975     |\n",
            "|PJ - Agentes de investimentos em aplicações financeiras                                                                                                                                |25874     |\n",
            "|PJ - Fabricação de aparelhos eletromédicos e eletroterapêuticos e equipamentos de irradiação                                                                                           |25871     |\n",
            "|PJ - Cultivo de milho                                                                                                                                                                  |25709     |\n",
            "|PJ - Fabricação de velas, inclusive decorativas                                                                                                                                        |25244     |\n",
            "|PJ - Fabricação de material elétrico e eletrônico para veículos automotores, exceto baterias                                                                                           |25127     |\n",
            "|PJ - Fabricação de equipamentos transmissores de comunicação, peças e acessórios                                                                                                       |25120     |\n",
            "|PJ - Comércio atacadista de artigos de tapeçaria; persianas e cortinas                                                                                                                 |24911     |\n",
            "|PJ - Serviços de tradução, interpretação e similares                                                                                                                                   |24723     |\n",
            "|PJ - Web design                                                                                                                                                                        |24721     |\n",
            "|PJ - Peritos e avaliadores de seguros                                                                                                                                                  |24714     |\n",
            "|PJ - Outras atividades de serviços financeiros não especificadas anteriormente                                                                                                         |24681     |\n",
            "|PJ - Fabricação de artefatos de cordoaria                                                                                                                                              |24621     |\n",
            "|PJ - Comércio atacadista de massas alimentícias                                                                                                                                        |24611     |\n",
            "|PJ - Fabricação de máquinas e equipamentos para terraplenagem, pavimentação e construção, peças e acessórios, exceto tratores                                                          |24575     |\n",
            "|PJ - Administração de cartões de crédito                                                                                                                                               |24549     |\n",
            "|PJ - Medição de consumo de energia elétrica, gás e água                                                                                                                                |24518     |\n",
            "|PJ - Produção de mudas e outras formas de propagação vegetal, certificadas                                                                                                             |24460     |\n",
            "|PJ - Cultivo de mudas em viveiros florestais                                                                                                                                           |24389     |\n",
            "|PJ - Representantes comerciais e agentes do comércio de motocicletas e motonetas, peças e acessórios                                                                                   |24386     |\n",
            "|PJ - Comércio atacadista de óleos e gorduras                                                                                                                                           |24235     |\n",
            "|PJ - Fabricação de outras aguardentes e bebidas destiladas                                                                                                                             |23640     |\n",
            "|PJ - Tratamento e disposição de resíduos perigosos                                                                                                                                     |23404     |\n",
            "|PJ - Outras atividades de serviços de segurança                                                                                                                                        |23145     |\n",
            "|PJ - Impressão de material de segurança                                                                                                                                                |23126     |\n",
            "|PJ - Edição de jornais não diários                                                                                                                                                     |23070     |\n",
            "|PJ - Matadouro - abate de reses sob contrato, exceto abate de suínos                                                                                                                   |22985     |\n",
            "|PJ - Atividades associativas não especificadas anteriormente                                                                                                                           |22924     |\n",
            "|PJ - Manutenção e reparação de máquinas, aparelhos e equipamentos para instalações térmicas                                                                                            |22900     |\n",
            "|PJ - Fabricação de aviamentos para costura                                                                                                                                             |22614     |\n",
            "|PJ - Britamento de pedras, exceto associado à extração                                                                                                                                 |22532     |\n",
            "|PJ - Cultivo de pinus                                                                                                                                                                  |22531     |\n",
            "|PJ - Serviço de táxi aéreo e locação de aeronaves com tripulação                                                                                                                       |22523     |\n",
            "|PJ - Fabricação de produtos cerâmicos refratários                                                                                                                                      |22377     |\n",
            "|PJ - Agente de propriedade industrial                                                                                                                                                  |22344     |\n",
            "|PJ - Gestão e manutenção de cemitérios                                                                                                                                                 |22342     |\n",
            "|PJ - Guarda-móveis                                                                                                                                                                     |22322     |\n",
            "|PJ - Reparação de relógios                                                                                                                                                             |22311     |\n",
            "|PJ - Comércio atacadista de produtos de higiene, limpeza e conservação domiciliar, com atividade de fracionamento e acondicionamento associada                                         |22090     |\n",
            "|PJ - Alojamento de animais domésticos                                                                                                                                                  |22061     |\n",
            "|PJ - Aluguel de aparelhos de jogos eletrônicos                                                                                                                                         |21907     |\n",
            "|PJ - Fabricação de fornos industriais, aparelhos e equipamentos não-elétricos para instalações térmicas, peças e acessórios                                                            |21905     |\n",
            "|PJ - Fabricação de artefatos diversos de cortiça, bambu, palha, vime e outros materiais trançados, exceto móveis                                                                       |21831     |\n",
            "|PJ - Manutenção e reparação de aeronaves, exceto a manutenção na pista                                                                                                                 |21789     |\n",
            "|PJ - Manutenção e reparação de compressores                                                                                                                                            |21746     |\n",
            "|PJ - Serviços de remoção de pacientes, exceto os serviços móveis de atendimento a urgências                                                                                            |21691     |\n",
            "|PJ - Atividades de produção de fotografias aéreas e submarinas                                                                                                                         |21644     |\n",
            "|PJ - Fabricação de máquinas e equipamentos para as indústrias do vestuário, do couro e de calçados, peças e acessórios                                                                 |21523     |\n",
            "|PJ - Manutenção e reparação de embarcações para esporte e lazer                                                                                                                        |21496     |\n",
            "|PJ - Produção de laminados de alumínio                                                                                                                                                 |21466     |\n",
            "|PJ - Produção de alumínio e suas ligas em formas primárias                                                                                                                             |21417     |\n",
            "|PJ - Construção de embarcações para esporte e lazer                                                                                                                                    |21306     |\n",
            "|PJ - Fabricação de equipamentos de transmissão para fins industriais, exceto rolamentos                                                                                                |20620     |\n",
            "|PJ - Cultivo de maçã                                                                                                                                                                   |20508     |\n",
            "|PJ - Serviço de manejo de animais                                                                                                                                                      |20401     |\n",
            "|PJ - Extração de minério de metais preciosos                                                                                                                                           |20271     |\n",
            "|PJ - Demolição de edifícios e outras estruturas                                                                                                                                        |20120     |\n",
            "|PJ - Fabricação de medicamentos para uso veterinário                                                                                                                                   |20074     |\n",
            "|PJ - Transporte por navegação interior de carga, intermunicipal, interestadual e internacional, exceto travessia                                                                       |20063     |\n",
            "|PJ - Fabricação de baterias e acumuladores para veículos automotores                                                                                                                   |20033     |\n",
            "|PJ - Apicultura                                                                                                                                                                        |20028     |\n",
            "|PJ - Estúdios cinematográficos                                                                                                                                                         |19912     |\n",
            "|PJ - Administração de consórcios para aquisição de bens e direitos                                                                                                                     |19893     |\n",
            "|PJ - Fabricação de azulejos e pisos                                                                                                                                                    |19631     |\n",
            "|PJ - Albergues, exceto assistenciais                                                                                                                                                   |19608     |\n",
            "|PJ - Serviço de poda de árvores para lavouras                                                                                                                                          |19608     |\n",
            "|PJ - Gestão de espaços para artes cênicas, espetáculos e outras atividades artísticas                                                                                                  |19486     |\n",
            "|PJ - Cooperativas de crédito mútuo                                                                                                                                                     |19480     |\n",
            "|PJ - Pesquisa e desenvolvimento experimental em ciências sociais e humanas                                                                                                             |19462     |\n",
            "|PJ - Atividades de apoio à extração de minerais não-metálicos                                                                                                                          |19364     |\n",
            "|PJ - Serviços de quimioterapia                                                                                                                                                         |19056     |\n",
            "|PJ - Fabricação de máquinas, equipamentos e aparelhos para transporte e elevação de pessoas, peças e acessórios                                                                        |18982     |\n",
            "|PJ - Fabricação de canetas, lápis e outros artigos para escritório                                                                                                                     |18965     |\n",
            "|PJ - Cultivo de frutas de lavoura permanente não especificadas anteriormente                                                                                                           |18882     |\n",
            "|PJ - Comércio atacadista de fumo em folha não beneficiado                                                                                                                              |18861     |\n",
            "|PJ - Preparação e fiação de fibras têxteis naturais, exceto algodão                                                                                                                    |18840     |\n",
            "|PJ - Aluguel de outros objetos pessoais e domésticos não especificados anteriormente                                                                                                   |18756     |\n",
            "|PJ - Construção de embarcações para uso comercial e para usos especiais, exceto de grande porte                                                                                        |18608     |\n",
            "|PJ - Atividades de organizações sindicais                                                                                                                                              |18600     |\n",
            "|PJ - Comércio varejista de antiguidades                                                                                                                                                |18568     |\n",
            "|PJ - Fabricação de equipamentos para sinalização e alarme                                                                                                                              |18529     |\n",
            "|PJ - Cursos de pilotagem                                                                                                                                                               |18519     |\n",
            "|PJ - Criação de equinos                                                                                                                                                                |18364     |\n",
            "|PJ - Cultivo de outros cereais não especificados anteriormente                                                                                                                         |18356     |\n",
            "|PJ - Transporte aquaviário para passeios turísticos                                                                                                                                    |18346     |\n",
            "|PJ - Fabricação de defensivos agrícolas                                                                                                                                                |18334     |\n",
            "|PJ - Securitização de créditos                                                                                                                                                         |18332     |\n",
            "|PJ - Criação de animais de estimação                                                                                                                                                   |18279     |\n",
            "|PJ - Planos de auxílio-funeral                                                                                                                                                         |18159     |\n",
            "|PJ - Corretoras de contratos de mercadorias                                                                                                                                            |17963     |\n",
            "|PJ - Comércio varejista de fogos de artifício e artigos pirotécnicos                                                                                                                   |17912     |\n",
            "|PJ - Fabricação de equipamentos para irrigação agrícola, peças e acessórios                                                                                                            |17910     |\n",
            "|PJ - Lapidação de gemas                                                                                                                                                                |17801     |\n",
            "|PJ - Cultivo de banana                                                                                                                                                                 |17680     |\n",
            "|PJ - Organização de excursões em veículos rodoviários próprios, municipal                                                                                                              |17504     |\n",
            "|PJ - Fabricação de instrumentos musicais, peças e acessórios                                                                                                                           |17367     |\n",
            "|PJ - Atividades de organizações associativas patronais e empresariais                                                                                                                  |17285     |\n",
            "|PJ - Serviço de inseminação artificial em animais                                                                                                                                      |17237     |\n",
            "|PJ - Fabricação de tênis de qualquer material                                                                                                                                          |17187     |\n",
            "|PJ - Impressão de jornais                                                                                                                                                              |17101     |\n",
            "|PJ - Produção de tubos de aço com costura                                                                                                                                              |16988     |\n",
            "|PJ - Criação de camarões em água salgada e salobra                                                                                                                                     |16980     |\n",
            "|PJ - Cultivo de uva                                                                                                                                                                    |16974     |\n",
            "|PJ - Comércio atacadista de açúcar                                                                                                                                                     |16960     |\n",
            "|PJ - Fabricação de conservas de palmito                                                                                                                                                |16913     |\n",
            "|PJ - Fabricação de outras máquinas e equipamentos para uso na extração mineral, peças e acessórios, exceto na extração de petróleo                                                     |16772     |\n",
            "|PJ - Produção de pintos de um dia                                                                                                                                                      |16681     |\n",
            "|PJ - Design de produto                                                                                                                                                                 |16672     |\n",
            "|PJ - Fabricação de máquinas e equipamentos para a indústria do plástico, peças e acessórios                                                                                            |16644     |\n",
            "|PJ - Produção de sementes certificadas de forrageiras para formação de pasto                                                                                                           |16643     |\n",
            "|PJ - Fabricação de outros produtos do fumo, exceto cigarros, cigarrilhas e charutos                                                                                                    |16579     |\n",
            "|PJ - Fabricação de equipamentos de transporte não especificados anteriormente                                                                                                          |16271     |\n",
            "|PJ - Comércio atacadista de energia elétrica                                                                                                                                           |16201     |\n",
            "|PJ - Cultivo de outras plantas de lavoura temporária não especificadas anteriormente                                                                                                   |16057     |\n",
            "|PJ - Comércio por atacado de reboques e semirreboques novos e usados                                                                                                                   |15965     |\n",
            "|PJ - Beneficiamento de café                                                                                                                                                            |15783     |\n",
            "|PJ - Manutenção e reparação de equipamentos de transmissão para fins industriais                                                                                                       |15775     |\n",
            "|PJ - Fabricação de óleos vegetais refinados, exceto óleo de milho                                                                                                                      |15654     |\n",
            "|PJ - Usinas de compostagem                                                                                                                                                             |15506     |\n",
            "|PJ - Atividades de podologia                                                                                                                                                           |15480     |\n",
            "|PJ - Cartórios                                                                                                                                                                         |15446     |\n",
            "|PJ - Campings                                                                                                                                                                          |15406     |\n",
            "|PJ - Fabricação de tratores agrícolas, peças e acessórios                                                                                                                              |15276     |\n",
            "|PJ - Atividades de artistas plásticos, jornalistas independentes e escritores                                                                                                          |15240     |\n",
            "|PJ - Cultivo de arroz                                                                                                                                                                  |15188     |\n",
            "|PJ - Fabricação de peças e acessórios para o sistema de freios de veículos automotores                                                                                                 |15180     |\n",
            "|PJ - Fabricação de refrescos, xaropes e pós para refrescos, exceto refrescos de frutas                                                                                                 |15120     |\n",
            "|PJ - Clínicas e residências geriátricas                                                                                                                                                |15048     |\n",
            "|PJ - Extração de basalto e beneficiamento associado                                                                                                                                    |15034     |\n",
            "|PJ - Fabricação de meias                                                                                                                                                               |14913     |\n",
            "|PJ - Edição integrada à impressão de revistas                                                                                                                                          |14896     |\n",
            "|PJ - Operadoras de televisão por assinatura por cabo                                                                                                                                   |14774     |\n",
            "|PJ - Telefonia móvel celular                                                                                                                                                           |14646     |\n",
            "|PJ - Cultivo de laranja                                                                                                                                                                |14520     |\n",
            "|PJ - Comércio atacadista de carnes e derivados de outros animais                                                                                                                       |14350     |\n",
            "|PJ - Fabricação de aparelhos e utensílios para correção de defeitos físicos e aparelhos ortopédicos em geral sob encomenda                                                             |14275     |\n",
            "|PJ - Gestão de redes de esgoto                                                                                                                                                         |14045     |\n",
            "|PJ - Atividades auxiliares da justiça                                                                                                                                                  |14035     |\n",
            "|PJ - Fabricação de peças e acessórios para motocicletas                                                                                                                                |13848     |\n",
            "|PJ - Serviços de hemoterapia                                                                                                                                                           |13816     |\n",
            "|PJ - Fabricação de impermeabilizantes, solventes e produtos afins                                                                                                                      |13767     |\n",
            "|PJ - Ensino de artes cênicas, exceto dança                                                                                                                                             |13760     |\n",
            "|PJ - Fabricação de máquinas e equipamentos para as indústrias de celulose, papel e papelão e artefatos, peças e acessórios                                                             |13538     |\n",
            "|PJ - Navegação de apoio portuário                                                                                                                                                      |13534     |\n",
            "|PJ - Fabricação de outros produtos derivados do petróleo, exceto produtos do refino                                                                                                    |13423     |\n",
            "|PJ - Reprodução de software em qualquer suporte                                                                                                                                        |13312     |\n",
            "|PJ - Comércio por atacado de motocicletas e motonetas                                                                                                                                  |13309     |\n",
            "|PJ - Concessionárias de rodovias, pontes, túneis e serviços relacionados                                                                                                               |13271     |\n",
            "|PJ - Fabricação de alimentos dietéticos e complementos alimentares                                                                                                                     |13268     |\n",
            "|PJ - Emissão de vales-alimentação, vales-transporte e similares                                                                                                                        |13233     |\n",
            "|PJ - Fiação de fibras artificiais e sintéticas                                                                                                                                         |13186     |\n",
            "|PJ - Construção de embarcações de grande porte                                                                                                                                         |13125     |\n",
            "|PJ - Produção de espetáculos de rodeios, vaquejadas e similares                                                                                                                        |13114     |\n",
            "|PJ - Navegação de apoio marítimo                                                                                                                                                       |13059     |\n",
            "|PJ - Outros transportes rodoviários de passageiros não especificados anteriormente                                                                                                     |12986     |\n",
            "|PJ - Fabricação de peças e acessórios para os sistemas de marcha e transmissão de veículos automotores                                                                                 |12935     |\n",
            "|PJ - Extração de saibro e beneficiamento associado                                                                                                                                     |12826     |\n",
            "|PJ - Atividades de apoio à extração de petróleo e gás natural                                                                                                                          |12803     |\n",
            "|PJ - Fabricação de desinfestantes domissanitários                                                                                                                                      |12798     |\n",
            "|PJ - Fabricação de fraldas descartáveis                                                                                                                                                |12743     |\n",
            "|PJ - Manutenção e reparação de máquinas de escrever, calcular e de outros equipamentos não-eletrônicos para escritório                                                                 |12639     |\n",
            "|PJ - Comércio a varejo de peças e acessórios usados para motocicletas e motonetas                                                                                                      |12579     |\n",
            "|PJ - Criação de bovinos, exceto para corte e leite                                                                                                                                     |12465     |\n",
            "|PJ - Tecelagem de fios de fibras têxteis naturais, exceto algodão                                                                                                                      |12446     |\n",
            "|PJ - Fabricação de máquinas e equipamentos para a indústria têxtil, peças e acessórios                                                                                                 |12445     |\n",
            "|PJ - Extração de madeira em florestas nativas                                                                                                                                          |12335     |\n",
            "|PJ - Serviços de adestramento de cães de guarda                                                                                                                                        |12288     |\n",
            "|PJ - Produção de forjados de aço                                                                                                                                                       |12098     |\n",
            "|PJ - Transporte por navegação de travessia, municipal                                                                                                                                  |12087     |\n",
            "|PJ - Atividades auxiliares dos transportes aquaviários não especificadas anteriormente                                                                                                 |11990     |\n",
            "|PJ - Transporte marítimo de cabotagem - Carga                                                                                                                                          |11984     |\n",
            "|PJ - Pesca de peixes em água salgada                                                                                                                                                   |11761     |\n",
            "|PJ - Construção de instalações esportivas e recreativas                                                                                                                                |11664     |\n",
            "|PJ - Terminais rodoviários e ferroviários                                                                                                                                              |11637     |\n",
            "|PJ - Escafandria e mergulho                                                                                                                                                            |11609     |\n",
            "|PJ - Manutenção e reparação de tratores, exceto agrícolas                                                                                                                              |11605     |\n",
            "|PJ - Fabricação de motores elétricos, peças e acessórios                                                                                                                               |11571     |\n",
            "|PJ - Atividades de transporte de valores                                                                                                                                               |11538     |\n",
            "|PJ - Extração de minério de ferro                                                                                                                                                      |11482     |\n",
            "|PJ - Transporte por navegação de travessia intermunicipal, interestadual e internacional                                                                                               |11367     |\n",
            "|PJ - Representantes comerciais e agentes do comércio de jornais, revistas e outras publicações                                                                                         |11289     |\n",
            "|PJ - Produção de ferro-gusa                                                                                                                                                            |11212     |\n",
            "|PJ - Cultivo de manga                                                                                                                                                                  |11152     |\n",
            "|PJ - Restauração de obras de arte                                                                                                                                                      |11109     |\n",
            "|PJ - Produção de carvão vegetal - florestas nativas                                                                                                                                    |10998     |\n",
            "|PJ - Manutenção e reparação de máquinas e aparelhos para a indústria de celulose, papel e papelão e artefatos                                                                          |10903     |\n",
            "|PJ - Fabricação de cimento                                                                                                                                                             |10892     |\n",
            "|PJ - Outras atividades associativas profissionais                                                                                                                                      |10877     |\n",
            "|PJ - Produção de laminados planos de aço ao carbono, revestidos ou não                                                                                                                 |10735     |\n",
            "|PJ - Manutenção e reparação de válvulas industriais                                                                                                                                    |10698     |\n",
            "|PJ - Transporte por navegação interior de passageiros em linhas regulares, intermunicipal, interestadual e internacional, exceto travessia                                             |10636     |\n",
            "|PJ - Obras portuárias, marítimas e fluviais                                                                                                                                            |10576     |\n",
            "|PJ - Auditoria e consultoria atuarial                                                                                                                                                  |10536     |\n",
            "|PJ - Fabricação de pós alimentícios                                                                                                                                                    |10470     |\n",
            "|PJ - Extração de minerais para fabricação de adubos, fertilizantes e outros produtos químicos                                                                                          |10430     |\n",
            "|PJ - Comércio atacadista de algodão                                                                                                                                                    |10211     |\n",
            "|PJ - Transporte por navegação interior de carga, municipal, exceto travessia                                                                                                           |10189     |\n",
            "|PJ - Fabricação de celulose e outras pastas para a fabricação de papel                                                                                                                 |9925      |\n",
            "|PJ - Fabricação de gases industriais                                                                                                                                                   |9870      |\n",
            "|PJ - Serviços de gravação de carimbos, exceto confecção                                                                                                                                |9740      |\n",
            "|PJ - Transmissão de energia elétrica                                                                                                                                                   |9687      |\n",
            "|PJ - Serviços de mixagem sonora em produção audiovisual                                                                                                                                |9618      |\n",
            "|PJ - Comércio atacadista de fumo beneficiado                                                                                                                                           |9492      |\n",
            "|PJ - Atividades de organizações associativas ligadas à cultura e à arte                                                                                                                |9482      |\n",
            "|PJ - Construção de barragens e represas para geração de energia elétrica                                                                                                               |9425      |\n",
            "|PJ - Atividades de centros de assistência psicossocial                                                                                                                                 |9425      |\n",
            "|PJ - Cultivo de mamão                                                                                                                                                                  |9410      |\n",
            "|PJ - Comércio atacadista de cacau                                                                                                                                                      |9406      |\n",
            "|PJ - Fabricação de compressores para uso industrial, peças e acessórios                                                                                                                |9391      |\n",
            "|PJ - Produção de ferroligas                                                                                                                                                            |9388      |\n",
            "|PJ - Serviços de telecomunicações sem fio não especificados anteriormente                                                                                                              |9283      |\n",
            "|PJ - Produção de espetáculos de dança                                                                                                                                                  |9194      |\n",
            "|PJ - Serviços móveis de atendimento a urgências, exceto por UTI móvel                                                                                                                  |9091      |\n",
            "|PJ - Distribuição cinematográfica, de vídeo e de programas de televisão                                                                                                                |8963      |\n",
            "|PJ - Fabricação de automóveis, camionetas e utilitários                                                                                                                                |8899      |\n",
            "|PJ - Fabricação de produtos farmoquímicos                                                                                                                                              |8875      |\n",
            "|PJ - Produção de produtos não-madeireiros não especificados anteriormente em florestas plantadas                                                                                       |8856      |\n",
            "|PJ - Serviços de apoio ao transporte por táxi, inclusive centrais de chamada                                                                                                           |8820      |\n",
            "|PJ - Atividades de assistência social prestadas em residências coletivas e particulares não especificadas anteriormente                                                                |8780      |\n",
            "|PJ - Fabricação de artefatos de fibrocimento para uso na construção                                                                                                                    |8618      |\n",
            "|PJ - Locação de embarcações sem tripulação, exceto para fins recreativos                                                                                                               |8617      |\n",
            "|PJ - Fabricação de bancos e estofados para veículos automotores                                                                                                                        |8492      |\n",
            "|PJ - Fabricação de linhas para costurar e bordar                                                                                                                                       |8488      |\n",
            "|PJ - Exploração de jogos de sinuca, bilhar e similares                                                                                                                                 |8441      |\n",
            "|PJ - Fabricação de pneumáticos e de câmaras-de-ar                                                                                                                                      |8421      |\n",
            "|PJ - Fabricação de caldeiras geradoras de vapor, exceto para aquecimento central e para veículos                                                                                       |8414      |\n",
            "|PJ - Extração de mármore e beneficiamento associado                                                                                                                                    |8379      |\n",
            "|PJ - Fabricação de casas de madeira pré-fabricadas                                                                                                                                     |8375      |\n",
            "|PJ - Fabricação de outras bebidas não-alcoólicas não especificadas anteriormente                                                                                                       |8335      |\n",
            "|PJ - Restauração e conservação de lugares e prédios históricos                                                                                                                         |8310      |\n",
            "|PJ - Aluguel de material médico                                                                                                                                                        |8275      |\n",
            "|PJ - Agências matrimoniais                                                                                                                                                             |8257      |\n",
            "|PJ - Condomínios residenciais para idosos                                                                                                                                              |8246      |\n",
            "|PJ - Serviço de laboratório óptico                                                                                                                                                     |8197      |\n",
            "|PJ - Fabricação de mobiliário para uso médico, cirúrgico, odontológico e de laboratório                                                                                                |8195      |\n",
            "|PJ - Fabricação de aparelhos telefônicos e de outros equipamentos de comunicação, peças e acessórios                                                                                   |8144      |\n",
            "|PJ - Criação de peixes ornamentais em água doce                                                                                                                                        |8114      |\n",
            "|PJ - Comércio atacadista de filmes, CDs, DVDs, fitas e discos                                                                                                                          |8075      |\n",
            "|PJ - Fabricação de aparelhos e equipamentos de ar condicionado para uso não-industrial                                                                                                 |8043      |\n",
            "|PJ - Fabricação de biocombustíveis, exceto álcool                                                                                                                                      |8003      |\n",
            "|PJ - Fabricação de resinas termofixas                                                                                                                                                  |7902      |\n",
            "|PJ - Fabricação de cartolina e papel-cartão                                                                                                                                            |7880      |\n",
            "|PJ - Telecomunicações por satélite                                                                                                                                                     |7834      |\n",
            "|PJ - Manutenção e reparação de máquinas e equipamentos para uso na extração mineral, exceto na extração de petróleo                                                                    |7703      |\n",
            "|PJ - Atividades de acupuntura                                                                                                                                                          |7661      |\n",
            "|PJ - Cultivo de outras plantas de lavoura permanente não especificadas anteriormente                                                                                                   |7656      |\n",
            "|PJ - Fabricação de produtos do arroz                                                                                                                                                   |7527      |\n",
            "|PJ - Produção de laminados longos de aço, exceto tubos                                                                                                                                 |7517      |\n",
            "|PJ - Cultivo de melão                                                                                                                                                                  |7497      |\n",
            "|PJ - Fabricação de caminhões e ônibus                                                                                                                                                  |7424      |\n",
            "|PJ - Serviço de secagem, preservação e imunização de madeira                                                                                                                           |7402      |\n",
            "|PJ - Leiloeiros independentes                                                                                                                                                          |7385      |\n",
            "|PJ - Transporte ferroviário de carga                                                                                                                                                   |7308      |\n",
            "|PJ - Fabricação de produtos do refino de petróleo                                                                                                                                      |7302      |\n",
            "|PJ - Atividades de reprodução humana assistida                                                                                                                                         |7182      |\n",
            "|PJ - Serviços de telecomunicações por fio não especificados anteriormente                                                                                                              |7176      |\n",
            "|PJ - Extração de quartzo                                                                                                                                                               |7145      |\n",
            "|PJ - Manutenção e reparação de baterias e acumuladores elétricos, exceto para veículos                                                                                                 |7121      |\n",
            "|PJ - Produção de espetáculos circenses, de marionetes e similares                                                                                                                      |7121      |\n",
            "|PJ - Criação de outros animais não especificados anteriormente                                                                                                                         |7115      |\n",
            "|PJ - Processamento industrial do fumo                                                                                                                                                  |7094      |\n",
            "|PJ - Serviços de sepultamento                                                                                                                                                          |7001      |\n",
            "|PJ - Descontaminação e outros serviços de gestão de resíduos                                                                                                                           |7000      |\n",
            "|PJ - Sociedades de crédito, financiamento e investimento - financeiras                                                                                                                 |6928      |\n",
            "|PJ - Criação de estandes para feiras e exposições                                                                                                                                      |6915      |\n",
            "|PJ - Bancos múltiplos, com carteira comercial                                                                                                                                          |6879      |\n",
            "|PJ - Fabricação de mesas de bilhar, de sinuca e acessórios associada à locação                                                                                                         |6873      |\n",
            "|PJ - Exploração de boliches                                                                                                                                                            |6845      |\n",
            "|PJ - Fabricação de motores e turbinas, peças e acessórios, exceto para aviões e veículos rodoviários                                                                                   |6843      |\n",
            "|PJ - Fabricação de fibras artificiais e sintéticas                                                                                                                                     |6842      |\n",
            "|PJ - Atividades de investigação particular                                                                                                                                             |6642      |\n",
            "|PJ - Cultivo de cítricos, exceto laranja                                                                                                                                               |6508      |\n",
            "|PJ - Outros transportes aquaviários não especificados anteriormente                                                                                                                    |6475      |\n",
            "|PJ - Holdings de instituições financeiras                                                                                                                                              |6416      |\n",
            "|PJ - Extração de ardósia e beneficiamento associado                                                                                                                                    |6393      |\n",
            "|PJ - Transporte aéreo de passageiros regular                                                                                                                                           |6360      |\n",
            "|PJ - Obras de irrigação                                                                                                                                                                |6290      |\n",
            "|PJ - Manutenção e reparação de veículos ferroviários                                                                                                                                   |6223      |\n",
            "|PJ - Fabricação de aeronaves                                                                                                                                                           |6201      |\n",
            "|PJ - Fabricação de abrasivos                                                                                                                                                           |6199      |\n",
            "|PJ - Comércio sob consignação de motocicletas e motonetas                                                                                                                              |6192      |\n",
            "|PJ - Manutenção e reparação de máquinas e aparelhos para a indústria do plástico                                                                                                       |6191      |\n",
            "|PJ - Fabricação de aparelhos e utensílios para correção de defeitos físicos e aparelhos ortopédicos em geral, exceto sob encomenda                                                     |6190      |\n",
            "|PJ - Transporte aéreo de carga                                                                                                                                                         |6085      |\n",
            "|PJ - Coleta de produtos não-madeireiros não especificados anteriormente em florestas nativas                                                                                           |6054      |\n",
            "|PJ - Atividades de assistência a deficientes físicos, imunodeprimidos e convalescentes                                                                                                 |5943      |\n",
            "|PJ - Fabricação de intermediários para fertilizantes                                                                                                                                   |5902      |\n",
            "|PJ - Produção de outros tubos de ferro e aço                                                                                                                                           |5897      |\n",
            "|PJ - Educação profissional de nível tecnológico                                                                                                                                        |5890      |\n",
            "|PJ - Serviços de dublagem                                                                                                                                                              |5846      |\n",
            "|PJ - Extração de gemas (pedras preciosas e semipreciosas)                                                                                                                              |5832      |\n",
            "|PJ - Cultivo de seringueira                                                                                                                                                            |5826      |\n",
            "|PJ - Serviços de somatoconservação                                                                                                                                                     |5823      |\n",
            "|PJ - Serviços de radioterapia                                                                                                                                                          |5813      |\n",
            "|PJ - Fabricação de tintas de impressão                                                                                                                                                 |5720      |\n",
            "|PJ - Fabricação de estufas e fornos elétricos para fins industriais, peças e acessórios                                                                                                |5714      |\n",
            "|PJ - Atividades de apoio à extração de minerais metálicos não-ferrosos                                                                                                                 |5671      |\n",
            "|PJ - Produção de forjados de metais não-ferrosos e suas ligas                                                                                                                          |5605      |\n",
            "|PJ - Fabricação de eletrodos, contatos e outros artigos de carvão e grafita para uso elétrico, eletroímãs e isoladores                                                                 |5589      |\n",
            "|PJ - Programadoras                                                                                                                                                                     |5576      |\n",
            "|PJ - Fabricação de vinagres                                                                                                                                                            |5518      |\n",
            "|PJ - Construção de redes de transportes por dutos, exceto para água e esgoto                                                                                                           |5507      |\n",
            "|PJ - Refino e outros tratamentos do sal                                                                                                                                                |5427      |\n",
            "|PJ - Atividades de jardins botânicos, zoológicos, parques nacionais, reservas ecológicas e áreas de proteção ambiental                                                                 |5421      |\n",
            "|PJ - Transporte por navegação interior de passageiros em linhas regulares, municipal, exceto travessia                                                                                 |5202      |\n",
            "|PJ - Extração de sal marinho                                                                                                                                                           |5195      |\n",
            "|PJ - Manutenção e reparação de máquinas e equipamentos para a prospecção e extração de petróleo                                                                                        |5126      |\n",
            "|PJ - Serviços de microfilmagem                                                                                                                                                         |5074      |\n",
            "|PJ - Extração de minério de manganês                                                                                                                                                   |5074      |\n",
            "|PJ - Fabricação de produtos à base de café                                                                                                                                             |4989      |\n",
            "|PJ - Metalurgia do cobre                                                                                                                                                               |4986      |\n",
            "|PJ - Operação dos aeroportos e campos de aterrissagem                                                                                                                                  |4960      |\n",
            "|PJ - Sociedade seguradora de seguros vida                                                                                                                                              |4850      |\n",
            "|PJ - Conservação de florestas nativas                                                                                                                                                  |4837      |\n",
            "|PJ - Metalurgia dos metais preciosos                                                                                                                                                   |4810      |\n",
            "|PJ - Cultivo de outras oleaginosas de lavoura temporária não especificadas anteriormente                                                                                               |4802      |\n",
            "|PJ - Produção de arames de aço                                                                                                                                                         |4634      |\n",
            "|PJ - Fabricação de máquinas e equipamentos para a prospecção e extração de petróleo, peças e acessórios                                                                                |4575      |\n",
            "|PJ - Atividades de museus e de exploração de lugares e prédios históricos e atrações similares                                                                                         |4496      |\n",
            "|PJ - Fabricação de turbinas, motores e outros componentes e peças para aeronaves                                                                                                       |4460      |\n",
            "|PJ - Instalação de equipamentos para orientação à navegação marítima, fluvial e lacustre                                                                                               |4379      |\n",
            "|PJ - Extração de carvão mineral                                                                                                                                                        |4365      |\n",
            "|PJ - Extração de minérios de cobre, chumbo, zinco e outros minerais metálicos não-ferrosos não especificados anteriormente                                                             |4336      |\n",
            "|PJ - Fabricação de preparações farmacêuticas                                                                                                                                           |4309      |\n",
            "|PJ - Sociedade seguradora de seguros não vida                                                                                                                                          |4267      |\n",
            "|PJ - Extração de petróleo e gás natural                                                                                                                                                |4239      |\n",
            "|PJ - Edição integrada à impressão de jornais não diários                                                                                                                               |4165      |\n",
            "|PJ - Fabricação de carrocerias para ônibus                                                                                                                                             |4151      |\n",
            "|PJ - Aluguel de máquinas e equipamentos para extração de minérios e petróleo, sem operador                                                                                             |4147      |\n",
            "|PJ - Provedores de voz sobre protocolo internet - VOIP                                                                                                                                 |4137      |\n",
            "|PJ - Serviços de redes de transporte de telecomunicações - SRTT                                                                                                                        |4035      |\n",
            "|PJ - Cultivo de coco-da-baía                                                                                                                                                           |3958      |\n",
            "|PJ - Serviços de cremação                                                                                                                                                              |3934      |\n",
            "|PJ - Criação de aves, exceto galináceos                                                                                                                                                |3882      |\n",
            "|PJ - Fabricação de armas de fogo, outras armas e munições                                                                                                                              |3871      |\n",
            "|PJ - Tinturarias                                                                                                                                                                       |3856      |\n",
            "|PJ - Criação de camarões em água doce                                                                                                                                                  |3853      |\n",
            "|PJ - Fabricação de produtos petroquímicos básicos                                                                                                                                      |3828      |\n",
            "|PJ - Fabricação de equipamentos e instrumentos ópticos, peças e acessórios                                                                                                             |3767      |\n",
            "|PJ - Atividades de bibliotecas e arquivos                                                                                                                                              |3725      |\n",
            "|PJ - Reprodução de som em qualquer suporte                                                                                                                                             |3717      |\n",
            "|PJ - Comércio por atacado de ônibus e micro-ônibus novos e usados                                                                                                                      |3703      |\n",
            "|PJ - Manutenção e reparação de equipamentos e instrumentos ópticos                                                                                                                     |3681      |\n",
            "|PJ - Justiça                                                                                                                                                                           |3678      |\n",
            "|PJ - Atividades de sauna e banhos                                                                                                                                                      |3645      |\n",
            "|PJ - Cooperativas de crédito rural                                                                                                                                                     |3603      |\n",
            "|PJ - Manutenção de aeronaves na pista                                                                                                                                                  |3592      |\n",
            "|PJ - Cultivo de cacau                                                                                                                                                                  |3561      |\n",
            "|PJ - Extração de gesso e caulim                                                                                                                                                        |3521      |\n",
            "|PJ - Metalurgia do pó                                                                                                                                                                  |3504      |\n",
            "|PJ - Previdência complementar fechada                                                                                                                                                  |3406      |\n",
            "|PJ - Cultivo de morango                                                                                                                                                                |3359      |\n",
            "|PJ - Fabricação de peças e acessórios para veículos ferroviários                                                                                                                       |3324      |\n",
            "|PJ - Corretoras de títulos e valores mobiliários                                                                                                                                       |3320      |\n",
            "|PJ - Cultivo de mandioca                                                                                                                                                               |3277      |\n",
            "|PJ - Fabricação de casas pré-moldadas de concreto                                                                                                                                      |3192      |\n",
            "|PJ - Pelotização, sinterização e outros beneficiamentos de minério de ferro                                                                                                            |3175      |\n",
            "|PJ - Fabricação de pólvoras, explosivos e detonantes                                                                                                                                   |3175      |\n",
            "|PJ - Cultivo de dendê                                                                                                                                                                  |3143      |\n",
            "|PJ - Distribuição de combustíveis gasosos por redes urbanas                                                                                                                            |3138      |\n",
            "|PJ - Cultivo de algodão herbáceo                                                                                                                                                       |3118      |\n",
            "|PJ - Fabricação de cronômetros e relógios                                                                                                                                              |3111      |\n",
            "|PJ - Fabricação de rolamentos para fins industriais                                                                                                                                    |3052      |\n",
            "|PJ - Fabricação de lâmpadas                                                                                                                                                            |3041      |\n",
            "|PJ - Fabricação de artigos pirotécnicos                                                                                                                                                |3038      |\n",
            "|PJ - Fabricação de embalagens de vidro                                                                                                                                                 |3004      |\n",
            "|PJ - Outros serviços de transporte aéreo de passageiros não-regular                                                                                                                    |2934      |\n",
            "|PJ - Pesca de peixes em água doce                                                                                                                                                      |2871      |\n",
            "|PJ - Fabricação de formulários contínuos                                                                                                                                               |2826      |\n",
            "|PJ - Cultivo de açaí                                                                                                                                                                   |2824      |\n",
            "|PJ - Reprodução de vídeo em qualquer suporte                                                                                                                                           |2747      |\n",
            "|PJ - Atividades de apoio à extração de minério de ferro                                                                                                                                |2742      |\n",
            "|PJ - Exploração de jogos de azar e apostas não especificados anteriormente                                                                                                             |2726      |\n",
            "|PJ - Fabricação de motocicletas                                                                                                                                                        |2702      |\n",
            "|PJ - Cultivo de amendoim                                                                                                                                                               |2694      |\n",
            "|PJ - Extração de minério de alumínio                                                                                                                                                   |2632      |\n",
            "|PJ - Fabricação de aparelhos elétricos de uso pessoal, peças e acessórios                                                                                                              |2630      |\n",
            "|PJ - Cultivo de batata-inglesa                                                                                                                                                         |2586      |\n",
            "|PJ - Criação de ovinos, inclusive para produção de lã                                                                                                                                  |2566      |\n",
            "|PJ - Arrendamento mercantil                                                                                                                                                            |2523      |\n",
            "|PJ - Exploração de máquinas de serviços pessoais acionadas por moeda                                                                                                                   |2499      |\n",
            "|PJ - Produção e distribuição de vapor, água quente e ar condicionado                                                                                                                   |2494      |\n",
            "|PJ - Regulação das atividades de saúde, educação, serviços culturais e outros serviços sociais                                                                                         |2494      |\n",
            "|PJ - Cultivo de alho                                                                                                                                                                   |2459      |\n",
            "|PJ - Rerrefino de óleos lubrificantes                                                                                                                                                  |2416      |\n",
            "|PJ - Fabricação de açúcar de cana refinado                                                                                                                                             |2396      |\n",
            "|PJ - Fabricação de cigarrilhas e charutos                                                                                                                                              |2354      |\n",
            "|PJ - Serviço de tosquiamento de ovinos                                                                                                                                                 |2314      |\n",
            "|PJ - Fabricação de intermediários para plastificantes, resinas e fibras                                                                                                                |2300      |\n",
            "|PJ - Fabricação de material sanitário de cerâmica                                                                                                                                      |2279      |\n",
            "|PJ - Concessão de crédito pelas OSCIP                                                                                                                                                  |2274      |\n",
            "|PJ - Fabricação de tratores, peças e acessórios, exceto agrícolas                                                                                                                      |2257      |\n",
            "|PJ - Serviços de levantamento de fundos sob contrato                                                                                                                                   |2226      |\n",
            "|PJ - Atividades de coordenação e controle da operação da geração e transmissão de energia elétrica                                                                                     |2200      |\n",
            "|PJ - Administração da infraestrutura portuária                                                                                                                                         |2164      |\n",
            "|PJ - Produção de gás; processamento de gás natural                                                                                                                                     |2076      |\n",
            "|PJ - Bancos múltiplos, sem carteira comercial                                                                                                                                          |2037      |\n",
            "|PJ - Pesca de crustáceos e moluscos em água salgada                                                                                                                                    |2035      |\n",
            "|PJ - Fabricação de chá mate e outros chás prontos para consumo                                                                                                                         |2015      |\n",
            "|PJ - Fabricação de equipamento bélico pesado, exceto veículos militares de combate                                                                                                     |2001      |\n",
            "|PJ - Fabricação de elastômeros                                                                                                                                                         |1956      |\n",
            "|PJ - Fabricação de locomotivas, vagões e outros materiais rodantes                                                                                                                     |1950      |\n",
            "|PJ - Cooperativas centrais de crédito                                                                                                                                                  |1947      |\n",
            "|PJ - Fabricação de aparelhos e equipamentos de ar condicionado para uso industrial                                                                                                     |1937      |\n",
            "|PJ - Fabricação de margarina e outras gorduras vegetais e de óleos não-comestíveis de animais                                                                                          |1905      |\n",
            "|PJ - Atividades de apoio à pesca em água salgada                                                                                                                                       |1904      |\n",
            "|PJ - Transporte ferroviário de passageiros municipal e em região metropolitana                                                                                                         |1893      |\n",
            "|PJ - Fabricação de cigarros                                                                                                                                                            |1864      |\n",
            "|PJ - Albergues assistenciais                                                                                                                                                           |1842      |\n",
            "|PJ - Lojas Francas (Duty Free) de aeroportos, portos e em fronteiras terrestres                                                                                                        |1808      |\n",
            "|PJ - Serviços de praticagem                                                                                                                                                            |1772      |\n",
            "|PJ - Cultivo de teca                                                                                                                                                                   |1716      |\n",
            "|PJ - Fabricação de medicamentos fitoterápicos para uso humano                                                                                                                          |1696      |\n",
            "|PJ - Abate de pequenos animais                                                                                                                                                         |1682      |\n",
            "|PJ - Criação de peixes ornamentais em água salgada e salobra                                                                                                                           |1678      |\n",
            "|PJ - Cultivo de tomate rasteiro                                                                                                                                                        |1677      |\n",
            "|PJ - Produção de tubos de aço sem costura                                                                                                                                              |1653      |\n",
            "|PJ - Serviço móvel especializado - SME                                                                                                                                                 |1614      |\n",
            "|PJ - Distribuidoras de títulos e valores mobiliários                                                                                                                                   |1605      |\n",
            "|PJ - Frigorífico - abate de ovinos e caprinos                                                                                                                                          |1603      |\n",
            "|PJ - Corretoras de câmbio                                                                                                                                                              |1595      |\n",
            "|PJ - Fabricação de pilhas, baterias e acumuladores elétricos, exceto para veículos automotores                                                                                         |1583      |\n",
            "|PJ - Locação de aeronaves sem tripulação                                                                                                                                               |1550      |\n",
            "|PJ - Fabricação de aparelhos fotográficos e cinematográficos, peças e acessórios                                                                                                       |1514      |\n",
            "|PJ - Atividades de apoio à aquicultura em água doce                                                                                                                                    |1502      |\n",
            "|PJ - Cultivo de erva-mate                                                                                                                                                              |1496      |\n",
            "|PJ - Beneficiamento de minérios de cobre, chumbo, zinco e outros minerais metálicos não-ferrosos não especificados anteriormente                                                       |1472      |\n",
            "|PJ - Fabricação de guarda-chuvas e similares                                                                                                                                           |1420      |\n",
            "|PJ - Fabricação de roupas de proteção e segurança e resistentes a fogo                                                                                                                 |1419      |\n",
            "|PJ - Fabricação de fermentos e leveduras                                                                                                                                               |1392      |\n",
            "|PJ - Beneficiamento de gesso e caulim associado à extração                                                                                                                             |1337      |\n",
            "|PJ - Transporte dutoviário                                                                                                                                                             |1275      |\n",
            "|PJ - Previdência complementar aberta                                                                                                                                                   |1267      |\n",
            "|PJ - Fabricação de chapas, filmes, papéis e outros materiais e produtos químicos para fotografia                                                                                       |1257      |\n",
            "|PJ - Serviços de bancos de células e tecidos humanos                                                                                                                                   |1242      |\n",
            "|PJ - Extração de minério de estanho                                                                                                                                                    |1220      |\n",
            "|PJ - Fabricação de máquinas de escrever, calcular e outros equipamentos não-eletrônicos para escritório, peças e acessórios                                                            |1218      |\n",
            "|PJ - Atividades relacionadas à televisão por assinatura, exceto programadoras                                                                                                          |1214      |\n",
            "|PJ - Sociedade seguradora de seguros saúde                                                                                                                                             |1193      |\n",
            "|PJ - Cultivo de feijão                                                                                                                                                                 |1170      |\n",
            "|PJ - Bancos comerciais                                                                                                                                                                 |1168      |\n",
            "|PJ - Operadoras de televisão por assinatura por satélite                                                                                                                               |1141      |\n",
            "|PJ - Cultivo de espécies madeireiras, exceto eucalipto, acácia-negra, pinus e teca                                                                                                     |1114      |\n",
            "|PJ - Sociedades de capitalização                                                                                                                                                       |1076      |\n",
            "|PJ - Cultivo de abacaxi                                                                                                                                                                |1028      |\n",
            "|PJ - Transporte marítimo de longo curso - Carga                                                                                                                                        |1023      |\n",
            "|PJ - Criação de asininos e muares                                                                                                                                                      |1020      |\n",
            "|PJ - Criação de peixes em água salgada e salobra                                                                                                                                       |1008      |\n",
            "|PJ - Criação de bufalinos                                                                                                                                                              |992       |\n",
            "|PJ - Fabricação de jogos eletrônicos                                                                                                                                                   |956       |\n",
            "|PJ - Trens turísticos, teleféricos e similares                                                                                                                                         |933       |\n",
            "|PJ - Fabricação de mesas de bilhar, de sinuca e acessórios não associada à locação                                                                                                     |896       |\n",
            "|PJ - Atividades de apoio à aquicultura em água salgada e salobra                                                                                                                       |796       |\n",
            "|PJ - Centros de apoio a pacientes com câncer e com AIDS                                                                                                                                |762       |\n",
            "|PJ - Casas de bingo                                                                                                                                                                    |756       |\n",
            "|PJ - Produção de laminados planos de aços especiais                                                                                                                                    |754       |\n",
            "|PJ - Operadoras de cartões de débito                                                                                                                                                   |751       |\n",
            "|PJ - Comércio atacadista de solventes                                                                                                                                                  |726       |\n",
            "|PJ - Beneficiamento de carvão mineral                                                                                                                                                  |711       |\n",
            "|PJ - Fundos de investimento, exceto previdenciários e imobiliários                                                                                                                     |681       |\n",
            "|PJ - Beneficiamento de minério de metais preciosos                                                                                                                                     |656       |\n",
            "|PJ - Exploração de apostas em corridas de cavalos                                                                                                                                      |640       |\n",
            "|PJ - Bolsa de mercadorias e futuros                                                                                                                                                    |637       |\n",
            "|PJ - Outras instituições de intermediação não-monetária não especificadas anteriormente                                                                                                |633       |\n",
            "|PJ - Cultivo de cebola                                                                                                                                                                 |606       |\n",
            "|PJ - Criação de outros galináceos, exceto para corte                                                                                                                                   |605       |\n",
            "|PJ - Transporte rodoviário coletivo de passageiros, com itinerário fixo, internacional                                                                                                 |603       |\n",
            "|PJ - Resseguros                                                                                                                                                                        |597       |\n",
            "|PJ - Cultivo de maracujá                                                                                                                                                               |576       |\n",
            "|PJ - Ranicultura                                                                                                                                                                       |566       |\n",
            "|PJ - Cultivo de caju                                                                                                                                                                   |538       |\n",
            "|PJ - Sociedades de crédito ao microempreendedor                                                                                                                                        |531       |\n",
            "|PJ - Atividades do Correio Nacional                                                                                                                                                    |524       |\n",
            "|PJ - Produção de laminados de zinco                                                                                                                                                    |520       |\n",
            "|PJ - Fabricação de medicamentos homeopáticos para uso humano                                                                                                                           |493       |\n",
            "|PJ - Comércio atacadista de combustíveis de origem mineral em bruto                                                                                                                    |468       |\n",
            "|PJ - Transporte marítimo de cabotagem - passageiros                                                                                                                                    |467       |\n",
            "|PJ - Sociedades de investimento                                                                                                                                                        |440       |\n",
            "|PJ - Caixas econômicas                                                                                                                                                                 |422       |\n",
            "|PJ - Criação de ostras e mexilhões em água salgada e salobra                                                                                                                           |398       |\n",
            "|PJ - Transporte metroviário                                                                                                                                                            |378       |\n",
            "|PJ - Defesa                                                                                                                                                                            |361       |\n",
            "|PJ - Extração de grafita                                                                                                                                                               |356       |\n",
            "|PJ - Criação de caprinos                                                                                                                                                               |354       |\n",
            "|PJ - Coleta de látex em florestas nativas                                                                                                                                              |343       |\n",
            "|PJ - Extração e beneficiamento de areias betuminosas                                                                                                                                   |339       |\n",
            "|PJ - Transporte marítimo de longo curso - Passageiros                                                                                                                                  |338       |\n",
            "|PJ - Administração de caixas escolares                                                                                                                                                 |334       |\n",
            "|PJ - Bancos de investimento                                                                                                                                                            |326       |\n",
            "|PJ - Cultivo de trigo                                                                                                                                                                  |323       |\n",
            "|PJ - Atividades de fiscalização profissional                                                                                                                                           |313       |\n",
            "|PJ - Orfanatos                                                                                                                                                                         |304       |\n",
            "|PJ - Organismos internacionais e outras instituições extraterritoriais                                                                                                                 |302       |\n",
            "|PJ - Agências de fomento                                                                                                                                                               |274       |\n",
            "|PJ - Serviços de litotripsia                                                                                                                                                           |271       |\n",
            "|PJ - Cultivo de fumo                                                                                                                                                                   |249       |\n",
            "|PJ - Cultivo de plantas para condimento, exceto pimenta-do-reino                                                                                                                       |241       |\n",
            "|PJ - Representações de bancos estrangeiros                                                                                                                                             |240       |\n",
            "|PJ - Cultivo de melancia                                                                                                                                                               |230       |\n",
            "|PJ - Regulação das atividades econômicas                                                                                                                                               |226       |\n",
            "|PJ - Atividades de terapia de nutrição enteral e parenteral                                                                                                                            |210       |\n",
            "|PJ - Cultivos e semicultivos da aquicultura em água doce não especificados anteriormente                                                                                               |204       |\n",
            "|PJ - Comércio atacadista de sisal                                                                                                                                                      |202       |\n",
            "|PJ - Seguridade social obrigatória                                                                                                                                                     |192       |\n",
            "|PJ - Fundos de investimento imobiliários                                                                                                                                               |190       |\n",
            "|PJ - Atividades de organizações políticas                                                                                                                                              |184       |\n",
            "|PJ - Atividades de apoio à pesca em água doce                                                                                                                                          |178       |\n",
            "|PJ - Cultivo de pimenta-do-reino                                                                                                                                                       |101       |\n",
            "|PJ - Cunhagem de moedas e medalhas                                                                                                                                                     |94        |\n",
            "|PJ - Segurança e ordem pública                                                                                                                                                         |71        |\n",
            "|PJ - Extração de minérios de nióbio e titânio                                                                                                                                          |68        |\n",
            "|PJ - Coquerias                                                                                                                                                                         |67        |\n",
            "|PJ - Extração de minério de níquel                                                                                                                                                     |67        |\n",
            "|PJ - Cultivo de outras fibras de lavoura temporária não especificadas anteriormente                                                                                                    |61        |\n",
            "|PJ - Produção de zinco em formas primárias                                                                                                                                             |55        |\n",
            "|PJ - Relações exteriores                                                                                                                                                               |47        |\n",
            "|PJ - Defesa Civil                                                                                                                                                                      |40        |\n",
            "|PJ - Clubes de investimento                                                                                                                                                            |29        |\n",
            "|PJ - Fundos de investimento previdenciários                                                                                                                                            |24        |\n",
            "|PJ - Cultivo de acácia-negra                                                                                                                                                           |16        |\n",
            "|PJ - Coleta de palmito em florestas nativas                                                                                                                                            |5         |\n",
            "|PJ - Caixas de financiamento de corporações                                                                                                                                            |2         |\n",
            "|PJ - Coleta de castanha-do-pará em florestas nativas                                                                                                                                   |2         |\n",
            "|TOTAL                                                                                                                                                                                  |84836262  |\n",
            "+---------------------------------------------------------------------------------------------------------------------------------------------------------------------------------------+----------+\n",
            "\n"
          ]
        }
      ],
      "source": [
        "# Consulta para cnae_subclasse\n",
        "cnae_subclasse_distinct = spark.sql(\"\"\"\n",
        "WITH dados_validos AS (\n",
        "  SELECT cnae_subclasse\n",
        "  FROM dados_credito\n",
        "  WHERE cnae_subclasse != '-' AND cnae_subclasse IS NOT NULL\n",
        "),\n",
        "contagem AS (\n",
        "  SELECT\n",
        "    cnae_subclasse AS setor_especifico,\n",
        "    COUNT(*) AS quantidade\n",
        "  FROM dados_validos\n",
        "  GROUP BY cnae_subclasse\n",
        ")\n",
        "SELECT setor_especifico, quantidade FROM contagem\n",
        "UNION ALL\n",
        "SELECT\n",
        "  'TOTAL' AS setor_especifico,\n",
        "  (SELECT COUNT(*) FROM dados_validos) AS quantidade\n",
        "ORDER BY\n",
        "  CASE WHEN setor_especifico = 'TOTAL' THEN 1 ELSE 0 END,\n",
        "  quantidade DESC\n",
        "\"\"\")\n",
        "\n",
        "print(\"\\n\" + \"=\"*80)\n",
        "print(\"Atividade econômica por setor específico\")\n",
        "print(\"=\"*80)\n",
        "cnae_subclasse_distinct.show(cnae_subclasse_distinct.count(), truncate=False)"
      ]
    },
    {
      "cell_type": "markdown",
      "metadata": {
        "id": "rLMaKKU8CxJq"
      },
      "source": [
        "* Essa coluna que mostra as atividades econômicas por setor específico possui 102.264.425 linhas no total, sendo que dessas 84.886.262 são realmente nomes de setores e 17.428.163 são valores inválidos, com traço."
      ]
    },
    {
      "cell_type": "markdown",
      "metadata": {
        "id": "7_TOWrXiY5Xu"
      },
      "source": [
        "🔳 **Quantidades de cada classe na coluna cnae_subclasse, considerando as linhas com valores reais excluindo as linhas com \"-\"(traço)**"
      ]
    },
    {
      "cell_type": "code",
      "execution_count": null,
      "metadata": {
        "colab": {
          "base_uri": "https://localhost:8080/"
        },
        "id": "4GbxYwBfY-jW",
        "outputId": "11d234af-a5dc-4fcb-b094-6b2f1feafca4"
      },
      "outputs": [
        {
          "name": "stdout",
          "output_type": "stream",
          "text": [
            "\n",
            "Distribuição por classe (considerando apenas valores reais em cnae_subclasse):\n",
            "+-----------+----------+-----------+\n",
            "|     classe|quantidade|porcentagem|\n",
            "+-----------+----------+-----------+\n",
            "|      TOTAL|  84836262|     100.00|\n",
            "|Baixo Risco|  60575742|      71.40|\n",
            "| Alto Risco|  20807422|      24.53|\n",
            "|Médio Risco|   3453098|       4.07|\n",
            "+-----------+----------+-----------+\n",
            "\n"
          ]
        }
      ],
      "source": [
        "# Análise para cnae_subclasse\n",
        "query_cnae_subclasse = \"\"\"\n",
        "WITH dados_filtrados AS (\n",
        "  SELECT *\n",
        "  FROM dados_credito\n",
        "  WHERE cnae_subclasse != '-' AND cnae_subclasse IS NOT NULL\n",
        "),\n",
        "contagem_por_classe AS (\n",
        "  SELECT\n",
        "    classe,\n",
        "    COUNT(*) as quantidade,\n",
        "    ROUND(COUNT(*) * 100.0 / (SELECT COUNT(*) FROM dados_filtrados), 2) as porcentagem\n",
        "  FROM dados_filtrados\n",
        "  GROUP BY classe\n",
        ")\n",
        "SELECT * FROM contagem_por_classe\n",
        "UNION ALL\n",
        "SELECT\n",
        "  'TOTAL' as classe,\n",
        "  (SELECT COUNT(*) FROM dados_filtrados) as quantidade,\n",
        "  100.00 as porcentagem\n",
        "ORDER BY quantidade DESC\n",
        "\"\"\"\n",
        "\n",
        "resultado_cnae_subclasse = spark.sql(query_cnae_subclasse)\n",
        "print(\"\\nDistribuição por classe (considerando apenas valores reais em cnae_subclasse):\")\n",
        "resultado_cnae_subclasse.show()"
      ]
    },
    {
      "cell_type": "markdown",
      "metadata": {
        "id": "hNLuqFCYFV5M"
      },
      "source": [
        "🔳 **Visualizando as distribuições por segmento regulatório**"
      ]
    },
    {
      "cell_type": "code",
      "execution_count": null,
      "metadata": {
        "colab": {
          "base_uri": "https://localhost:8080/"
        },
        "id": "onXuNB-nFa1C",
        "outputId": "0819e11d-d299-465a-fb6c-f266f7ad3ca0"
      },
      "outputs": [
        {
          "name": "stdout",
          "output_type": "stream",
          "text": [
            "====================================================================================================\n",
            "Distribuição por Segmento Regulatório (Resolução nº 4.553/2017)\n",
            "====================================================================================================\n",
            "Legenda completa:\n",
            "S1 - Bancos múltiplos/comerciais de grande porte (>10% PIB ou ativos >US$ 10 bi)\n",
            "S2 - Bancos médios (1%-10% PIB) e demais instituições relevantes\n",
            "S3 - Instituições pequenas (0,1%-1% PIB)\n",
            "S4 - Instituições muito pequenas (<0,1% PIB)\n",
            "S5 - Instituições com metodologia simplificada\n",
            "====================================================================================================\n",
            "+------------------------------------------------------------------------+----------+\n",
            "|segmento_regulatorio                                                    |quantidade|\n",
            "+------------------------------------------------------------------------+----------+\n",
            "|S1 - Bancos grandes (porte >10% PIB ou ativos internacionais >US$ 10 bi)|27577152  |\n",
            "|S4 - Instituições muito pequenas (porte <0,1% PIB)                      |13731447  |\n",
            "|S3 - Instituições pequenas (porte 0,1%-1% PIB)                          |11238792  |\n",
            "|S5 - Instituições com metodologia simplificada                          |10982957  |\n",
            "|S2 - Bancos médios (porte 1%-10% PIB)                                   |5990715   |\n",
            "|TOTAL GERAL                                                             |69521063  |\n",
            "+------------------------------------------------------------------------+----------+\n",
            "\n"
          ]
        }
      ],
      "source": [
        "# Consulta para a coluna sr (Segmento Regulatório)\n",
        "sr_distinct = spark.sql(\"\"\"\n",
        "WITH dados_validos AS (\n",
        "  SELECT sr\n",
        "  FROM dados_credito\n",
        "  WHERE sr IS NOT NULL\n",
        "),\n",
        "contagem AS (\n",
        "  SELECT\n",
        "    sr AS segmento_regulatorio,\n",
        "    COUNT(*) AS quantidade\n",
        "  FROM dados_validos\n",
        "  GROUP BY sr\n",
        ")\n",
        "SELECT\n",
        "  CASE\n",
        "    WHEN segmento_regulatorio = 'S1' THEN 'S1 - Bancos grandes (porte >10% PIB ou ativos internacionais >US$ 10 bi)'\n",
        "    WHEN segmento_regulatorio = 'S2' THEN 'S2 - Bancos médios (porte 1%-10% PIB)'\n",
        "    WHEN segmento_regulatorio = 'S3' THEN 'S3 - Instituições pequenas (porte 0,1%-1% PIB)'\n",
        "    WHEN segmento_regulatorio = 'S4' THEN 'S4 - Instituições muito pequenas (porte <0,1% PIB)'\n",
        "    WHEN segmento_regulatorio = 'S5' THEN 'S5 - Instituições com metodologia simplificada'\n",
        "    ELSE segmento_regulatorio\n",
        "  END AS segmento_regulatorio,\n",
        "  quantidade\n",
        "FROM contagem\n",
        "UNION ALL\n",
        "SELECT\n",
        "  'TOTAL GERAL' AS segmento_regulatorio,\n",
        "  (SELECT COUNT(*) FROM dados_validos) AS quantidade\n",
        "ORDER BY\n",
        "  CASE WHEN segmento_regulatorio LIKE 'TOTAL%' THEN 1 ELSE 0 END,\n",
        "  quantidade DESC\n",
        "\"\"\")\n",
        "\n",
        "print(\"=\"*100)\n",
        "print(\"Distribuição por Segmento Regulatório (Resolução nº 4.553/2017)\")\n",
        "print(\"=\"*100)\n",
        "print(\"Legenda completa:\")\n",
        "print(\"S1 - Bancos múltiplos/comerciais de grande porte (>10% PIB ou ativos >US$ 10 bi)\")\n",
        "print(\"S2 - Bancos médios (1%-10% PIB) e demais instituições relevantes\")\n",
        "print(\"S3 - Instituições pequenas (0,1%-1% PIB)\")\n",
        "print(\"S4 - Instituições muito pequenas (<0,1% PIB)\")\n",
        "print(\"S5 - Instituições com metodologia simplificada\")\n",
        "print(\"=\"*100)\n",
        "sr_distinct.show(sr_distinct.count(), truncate=False)"
      ]
    },
    {
      "cell_type": "markdown",
      "metadata": {
        "id": "iivrEwUkJG2A"
      },
      "source": [
        "* Essa coluna que mostra a distribuição das instituições regulatórias possui 102.264.425 linhas no total, sendo que dessas 69.521.063 são realmente valores reais e 32.743.362 são valores inválidos, com traço."
      ]
    },
    {
      "cell_type": "markdown",
      "metadata": {
        "id": "CFkHRMH_P_Bf"
      },
      "source": [
        "🔳 **Tipos de Cliente**"
      ]
    },
    {
      "cell_type": "code",
      "execution_count": null,
      "metadata": {
        "colab": {
          "base_uri": "https://localhost:8080/"
        },
        "id": "QlcE6oXiP51u",
        "outputId": "8a669a51-df29-46ee-89ac-0d10a2e4253f"
      },
      "outputs": [
        {
          "name": "stdout",
          "output_type": "stream",
          "text": [
            "================================================================================\n",
            "Tipos de Cliente\n",
            "================================================================================\n",
            "+------------+----------+\n",
            "|tipo_cliente|quantidade|\n",
            "+------------+----------+\n",
            "|PJ          |87862371  |\n",
            "|PF          |14402054  |\n",
            "|TOTAL       |102264425 |\n",
            "+------------+----------+\n",
            "\n"
          ]
        }
      ],
      "source": [
        "# Criar uma view temporária com o nome correto\n",
        "dados_copia_1.createOrReplaceTempView(\"dados_credito\")\n",
        "\n",
        "# Agora podemos rodar a consulta SQL sem erro\n",
        "cliente_distinct = spark.sql(\"\"\"\n",
        "WITH dados_validos AS (\n",
        "  SELECT cliente\n",
        "  FROM dados_credito\n",
        "  WHERE cliente != '-' AND cliente IS NOT NULL\n",
        "),\n",
        "contagem AS (\n",
        "  SELECT\n",
        "    cliente AS tipo_cliente,\n",
        "    COUNT(*) AS quantidade\n",
        "  FROM dados_validos\n",
        "  GROUP BY cliente\n",
        ")\n",
        "SELECT tipo_cliente, quantidade FROM contagem\n",
        "UNION ALL\n",
        "SELECT\n",
        "  'TOTAL' AS tipo_cliente,\n",
        "  (SELECT COUNT(*) FROM dados_validos) AS quantidade\n",
        "ORDER BY\n",
        "  CASE WHEN tipo_cliente = 'TOTAL' THEN 1 ELSE 0 END,\n",
        "  quantidade DESC\n",
        "\"\"\")\n",
        "\n",
        "print(\"=\"*80)\n",
        "print(\"Tipos de Cliente\")\n",
        "print(\"=\"*80)\n",
        "cliente_distinct.show(cliente_distinct.count(), truncate=False)"
      ]
    },
    {
      "cell_type": "markdown",
      "metadata": {
        "id": "VHigUC0AhGGJ"
      },
      "source": [
        "🔳 **Tipos de Crédito Bancário**"
      ]
    },
    {
      "cell_type": "code",
      "execution_count": null,
      "metadata": {
        "colab": {
          "base_uri": "https://localhost:8080/"
        },
        "id": "sSziMiGPhJnR",
        "outputId": "cd52c541-0201-4ab1-c24a-0544ef392d00"
      },
      "outputs": [
        {
          "name": "stdout",
          "output_type": "stream",
          "text": [
            "================================================================================\n",
            "Tipos de Credito Bancario\n",
            "================================================================================\n",
            "+---------------------+----------+\n",
            "|tipo_credito_bancario|quantidade|\n",
            "+---------------------+----------+\n",
            "|Bancário             |71175209  |\n",
            "|Cooperativas         |25040278  |\n",
            "|Não bancário         |6048938   |\n",
            "|TOTAL                |102264425 |\n",
            "+---------------------+----------+\n",
            "\n"
          ]
        }
      ],
      "source": [
        "# Criar uma view temporária com o nome correto\n",
        "dados_copia_1.createOrReplaceTempView(\"dados_credito\")\n",
        "\n",
        "# Agora podemos rodar a consulta SQL sem erro\n",
        "cliente_distinct = spark.sql(\"\"\"\n",
        "WITH dados_validos AS (\n",
        "  SELECT tcb\n",
        "  FROM dados_credito\n",
        "  WHERE tcb != '-' AND tcb IS NOT NULL\n",
        "),\n",
        "contagem AS (\n",
        "  SELECT\n",
        "    tcb AS tipo_credito_bancario,\n",
        "    COUNT(*) AS quantidade\n",
        "  FROM dados_validos\n",
        "  GROUP BY tcb\n",
        ")\n",
        "SELECT tipo_credito_bancario, quantidade FROM contagem\n",
        "UNION ALL\n",
        "SELECT\n",
        "  'TOTAL' AS tipo_credito_bancario,\n",
        "  (SELECT COUNT(*) FROM dados_validos) AS quantidade\n",
        "ORDER BY\n",
        "  CASE WHEN tipo_credito_bancario = 'TOTAL' THEN 1 ELSE 0 END,\n",
        "  quantidade DESC\n",
        "\"\"\")\n",
        "\n",
        "print(\"=\"*80)\n",
        "print(\"Tipos de Credito Bancario\")\n",
        "print(\"=\"*80)\n",
        "cliente_distinct.show(cliente_distinct.count(), truncate=False)"
      ]
    },
    {
      "cell_type": "markdown",
      "metadata": {
        "id": "ice9vZBw9Hhy"
      },
      "source": [
        "# **2. Preparação dos dados**"
      ]
    },
    {
      "cell_type": "markdown",
      "metadata": {
        "id": "miCLedHq9lvx"
      },
      "source": [
        "## **2.1 Limpeza e tratamento dos dados**"
      ]
    },
    {
      "cell_type": "markdown",
      "metadata": {
        "id": "hVaD4dse9qVZ"
      },
      "source": [
        "🔳 **Removendo os valores inconsistentes (nulos e com traço \"-\")**"
      ]
    },
    {
      "cell_type": "code",
      "execution_count": null,
      "metadata": {
        "colab": {
          "base_uri": "https://localhost:8080/"
        },
        "id": "Vy1RfQTio197",
        "outputId": "284df526-b1d1-4b72-844c-b0238d3390b4"
      },
      "outputs": [
        {
          "output_type": "stream",
          "name": "stdout",
          "text": [
            "Quantidade de linhas na base original: 102264425\n",
            "Quantidade de linhas na nova base: 84836262\n",
            "\n",
            "Esquema da nova base:\n",
            "root\n",
            " |-- data_base: string (nullable = true)\n",
            " |-- uf: string (nullable = true)\n",
            " |-- tcb: string (nullable = true)\n",
            " |-- cliente: string (nullable = true)\n",
            " |-- cnae_secao: string (nullable = true)\n",
            " |-- cnae_subclasse: string (nullable = true)\n",
            " |-- porte: string (nullable = true)\n",
            " |-- modalidade: string (nullable = true)\n",
            " |-- origem: string (nullable = true)\n",
            " |-- indexador: string (nullable = true)\n",
            " |-- numero_de_operacoes: string (nullable = true)\n",
            " |-- a_vencer_ate_90_dias: double (nullable = true)\n",
            " |-- a_vencer_de_91_ate_360_dias: double (nullable = true)\n",
            " |-- a_vencer_de_361_ate_1080_dias: double (nullable = true)\n",
            " |-- a_vencer_de_1081_ate_1800_dias: double (nullable = true)\n",
            " |-- a_vencer_de_1801_ate_5400_dias: double (nullable = true)\n",
            " |-- a_vencer_acima_de_5400_dias: double (nullable = true)\n",
            " |-- vencido_acima_de_15_dias: double (nullable = true)\n",
            " |-- carteira_ativa: double (nullable = true)\n",
            " |-- carteira_inadimplida_arrastada: double (nullable = true)\n",
            " |-- ativo_problematico: double (nullable = true)\n",
            " |-- classe: string (nullable = false)\n",
            "\n",
            "\n",
            "Primeiras linhas da nova base:\n",
            "+----------+---+--------+-------+-------------------------------------------------------------------+------------------------------------------------------------------------------------+---------------------------------------------+------------------------------------------------------------------------------+-------------------------+----------+-------------------+--------------------+---------------------------+-----------------------------+------------------------------+------------------------------+---------------------------+------------------------+---------------+------------------------------+------------------+-----------+\n",
            "|data_base |uf |tcb     |cliente|cnae_secao                                                         |cnae_subclasse                                                                      |porte                                        |modalidade                                                                    |origem                   |indexador |numero_de_operacoes|a_vencer_ate_90_dias|a_vencer_de_91_ate_360_dias|a_vencer_de_361_ate_1080_dias|a_vencer_de_1081_ate_1800_dias|a_vencer_de_1801_ate_5400_dias|a_vencer_acima_de_5400_dias|vencido_acima_de_15_dias|carteira_ativa |carteira_inadimplida_arrastada|ativo_problematico|classe     |\n",
            "+----------+---+--------+-------+-------------------------------------------------------------------+------------------------------------------------------------------------------------+---------------------------------------------+------------------------------------------------------------------------------+-------------------------+----------+-------------------+--------------------+---------------------------+-----------------------------+------------------------------+------------------------------+---------------------------+------------------------+---------------+------------------------------+------------------+-----------+\n",
            "|2012-01-31|AC |Bancário|PJ     |PJ - Administração pública, defesa e seguridade social             |PJ - Administração pública em geral                                                 |PJ - Grande                                  |PJ - Financiamento de infraestrutura/desenvolvimento/projeto e outros créditos|Com destinação específica|Pós-fixado|42                 |2.997587766E7       |8.591296346E7              |2.3402350111E8               |2.0093773351E8                |4.5758183897E8                |885017.05                  |0.0                     |1.00931693176E9|0.0                           |0.0               |Baixo Risco|\n",
            "|2012-01-31|AC |Bancário|PJ     |PJ - Alojamento e alimentação                                      |PJ - Fornecimento de alimentos preparados preponderantemente para consumo domiciliar|PJ - Micro                                   |PJ - Capital de giro                                                          |Sem destinação específica|Prefixado |<= 15              |0.0                 |0.0                        |0.0                          |0.0                           |0.0                           |0.0                        |2145.12                 |2145.12        |0.0                           |0.0               |Médio Risco|\n",
            "|2012-01-31|AC |Bancário|PJ     |PJ - Administração pública, defesa e seguridade social             |PJ - Administração pública em geral                                                 |PJ - Médio                                   |PJ - Financiamento de infraestrutura/desenvolvimento/projeto e outros créditos|Com destinação específica|Pós-fixado|<= 15              |49904.62            |449141.67                  |1197711.12                   |698664.79                     |0.0                           |0.0                        |0.0                     |2395422.2      |0.0                           |0.0               |Baixo Risco|\n",
            "|2012-01-31|AC |Bancário|PJ     |PJ - Agricultura, pecuária, produção florestal, pesca e aqüicultura|PJ - Atividades de apoio à produção florestal                                       |PJ - Médio                                   |PJ - Capital de giro                                                          |Sem destinação específica|Prefixado |<= 15              |5149.53             |13333.28                   |38352.06                     |0.0                           |0.0                           |0.0                        |0.0                     |56834.87       |0.0                           |0.0               |Baixo Risco|\n",
            "|2012-01-31|AC |Bancário|PJ     |PJ - Agricultura, pecuária, produção florestal, pesca e aqüicultura|PJ - Atividades de apoio à produção florestal                                       |PJ - Médio                                   |PJ - Outros créditos                                                          |Sem destinação específica|Prefixado |<= 15              |1572.01             |0.0                        |0.0                          |0.0                           |0.0                           |0.0                        |0.0                     |1572.01        |0.0                           |0.0               |Baixo Risco|\n",
            "|2012-01-31|AC |Bancário|PJ     |PJ - Agricultura, pecuária, produção florestal, pesca e aqüicultura|PJ - Criação de bovinos para corte                                                  |PJ - Grande                                  |PJ - Financiamento de infraestrutura/desenvolvimento/projeto e outros créditos|Com destinação específica|Prefixado |<= 15              |8684.38             |41531.27                   |165750.0                     |101468.73                     |0.0                           |0.0                        |0.0                     |317434.38      |0.0                           |0.0               |Baixo Risco|\n",
            "|2012-01-31|AC |Bancário|PJ     |PJ - Agricultura, pecuária, produção florestal, pesca e aqüicultura|PJ - Criação de bovinos para corte                                                  |PJ - Grande                                  |PJ - Financiamento de infraestrutura/desenvolvimento/projeto e outros créditos|Com destinação específica|Pós-fixado|<= 15              |211810.44           |0.0                        |2445034.26                   |2445034.27                    |0.0                           |0.0                        |0.0                     |5101878.97     |0.0                           |0.0               |Baixo Risco|\n",
            "|2012-01-31|AC |Bancário|PJ     |PJ - Agricultura, pecuária, produção florestal, pesca e aqüicultura|PJ - Criação de bovinos para corte                                                  |PJ - Grande                                  |PJ - Rural e agroindustrial                                                   |Com destinação específica|Prefixado |<= 15              |518293.39           |5450506.93                 |928631.82                    |0.0                           |0.0                           |0.0                        |0.0                     |6897432.14     |0.0                           |0.0               |Baixo Risco|\n",
            "|2012-01-31|AC |Bancário|PJ     |PJ - Agricultura, pecuária, produção florestal, pesca e aqüicultura|PJ - Criação de bovinos para corte                                                  |PJ - Médio                                   |PJ - Capital de giro                                                          |Sem destinação específica|Prefixado |24                 |25146.32            |52101.56                   |21153.6                      |0.0                           |0.0                           |0.0                        |0.0                     |98401.48       |0.0                           |0.0               |Baixo Risco|\n",
            "|2012-01-31|AC |Bancário|PJ     |PJ - Agricultura, pecuária, produção florestal, pesca e aqüicultura|PJ - Criação de bovinos para corte                                                  |PJ - Médio                                   |PJ - Investimento                                                             |Sem destinação específica|Prefixado |<= 15              |10636.96            |19778.16                   |0.0                          |0.0                           |0.0                           |0.0                        |0.0                     |30415.12       |0.0                           |0.0               |Baixo Risco|\n",
            "|2012-01-31|AC |Bancário|PJ     |PJ - Agricultura, pecuária, produção florestal, pesca e aqüicultura|PJ - Criação de bovinos para corte                                                  |PJ - Pequeno                                 |PJ - Capital de giro                                                          |Sem destinação específica|Prefixado |<= 15              |37950.57            |66096.58                   |37598.63                     |6972.41                       |0.0                           |0.0                        |0.0                     |148618.19      |0.0                           |0.0               |Baixo Risco|\n",
            "|2012-01-31|AC |Bancário|PJ     |PJ - Agricultura, pecuária, produção florestal, pesca e aqüicultura|PJ - Criação de bovinos para corte                                                  |PJ - Pequeno                                 |PJ - Cheque especial e conta garantida                                        |Sem destinação específica|Prefixado |<= 15              |17736.55            |0.0                        |0.0                          |0.0                           |0.0                           |0.0                        |0.0                     |17736.55       |0.0                           |0.0               |Baixo Risco|\n",
            "|2012-01-31|AC |Bancário|PJ     |PJ - Agricultura, pecuária, produção florestal, pesca e aqüicultura|PJ - Criação de bovinos para corte                                                  |PJ - Pequeno                                 |PJ - Cheque especial e conta garantida                                        |Sem destinação específica|Pós-fixado|<= 15              |0.0                 |0.0                        |0.0                          |0.0                           |0.0                           |0.0                        |25222.33                |25222.33       |0.0                           |0.0               |Médio Risco|\n",
            "|2012-01-31|AC |Bancário|PJ     |PJ - Agricultura, pecuária, produção florestal, pesca e aqüicultura|PJ - Criação de bovinos para corte                                                  |PJ - Pequeno                                 |PJ - Investimento                                                             |Sem destinação específica|Prefixado |<= 15              |11432.43            |30380.97                   |58381.03                     |27096.32                      |0.0                           |0.0                        |0.0                     |127290.75      |0.0                           |0.0               |Baixo Risco|\n",
            "|2012-01-31|AC |Bancário|PJ     |PJ - Agricultura, pecuária, produção florestal, pesca e aqüicultura|PJ - Criação de bovinos para corte                                                  |PJ - Pequeno                                 |PJ - Rural e agroindustrial                                                   |Com destinação específica|Prefixado |<= 15              |0.0                 |3893283.54                 |9492.57                      |0.0                           |0.0                           |0.0                        |0.0                     |3902776.11     |0.0                           |0.0               |Baixo Risco|\n",
            "+----------+---+--------+-------+-------------------------------------------------------------------+------------------------------------------------------------------------------------+---------------------------------------------+------------------------------------------------------------------------------+-------------------------+----------+-------------------+--------------------+---------------------------+-----------------------------+------------------------------+------------------------------+---------------------------+------------------------+---------------+------------------------------+------------------+-----------+\n",
            "only showing top 15 rows\n",
            "\n"
          ]
        }
      ],
      "source": [
        "from pyspark.sql.functions import col\n",
        "\n",
        "# Criar a nova base dados_copia_2 com as transformações\n",
        "dados_copia_2 = dados_copia_1.drop(\"sr\") \\\n",
        "    .drop(\"ocupacao\") \\\n",
        "    .filter((col(\"cnae_secao\") != \"-\") & col(\"cnae_secao\").isNotNull()) \\\n",
        "    .filter((col(\"cnae_subclasse\") != \"-\") & col(\"cnae_subclasse\").isNotNull())\n",
        "\n",
        "# Verificar o resultado\n",
        "print(\"Quantidade de linhas na base original:\", dados_copia_1.count())\n",
        "print(\"Quantidade de linhas na nova base:\", dados_copia_2.count())\n",
        "print(\"\\nEsquema da nova base:\")\n",
        "dados_copia_2.printSchema()\n",
        "\n",
        "# Mostrar as primeiras linhas para verificação\n",
        "print(\"\\nPrimeiras linhas da nova base:\")\n",
        "dados_copia_2.show(15, truncate=False)"
      ]
    },
    {
      "cell_type": "markdown",
      "metadata": {
        "id": "Lqr2faGH-FC5"
      },
      "source": [
        "🔳  **Quantidade de cada classe na base de dados transformada, considerando a exclusão de valores nulos e com \"-\" (traço)**"
      ]
    },
    {
      "cell_type": "code",
      "execution_count": null,
      "metadata": {
        "colab": {
          "base_uri": "https://localhost:8080/"
        },
        "id": "9Lo6n0DAUdCZ",
        "outputId": "0f3a28cf-9903-425f-c01d-855644be1065"
      },
      "outputs": [
        {
          "name": "stdout",
          "output_type": "stream",
          "text": [
            "+-----------+----------+-----------+\n",
            "|     classe|quantidade|porcentagem|\n",
            "+-----------+----------+-----------+\n",
            "|      TOTAL|  84836262|     100.00|\n",
            "|Baixo Risco|  60575742|      71.40|\n",
            "| Alto Risco|  20807422|      24.53|\n",
            "|Médio Risco|   3453098|       4.07|\n",
            "+-----------+----------+-----------+\n",
            "\n"
          ]
        }
      ],
      "source": [
        "# Registrar a tabela temporária\n",
        "dados_copia_2.createOrReplaceTempView(\"dados_credito\")\n",
        "\n",
        "# Executar consulta SQL completa\n",
        "query = \"\"\"\n",
        "WITH contagem_por_classe AS (\n",
        "  SELECT\n",
        "    classe,\n",
        "    COUNT(*) as quantidade,\n",
        "    ROUND(COUNT(*) * 100.0 / (SELECT COUNT(*) FROM dados_credito), 2) as porcentagem\n",
        "  FROM dados_credito\n",
        "  GROUP BY classe\n",
        ")\n",
        "SELECT * FROM contagem_por_classe\n",
        "UNION ALL\n",
        "SELECT\n",
        "  'TOTAL' as classe,\n",
        "  (SELECT COUNT(*) FROM dados_credito) as quantidade,\n",
        "  100.00 as porcentagem\n",
        "ORDER BY quantidade DESC\n",
        "\"\"\"\n",
        "\n",
        "resultado_final = spark.sql(query)\n",
        "resultado_final.show()"
      ]
    },
    {
      "cell_type": "markdown",
      "metadata": {
        "id": "khafuixefQGj"
      },
      "source": [
        "🔳 **Tipos de Cliente considerando a base de dados trasformada**"
      ]
    },
    {
      "cell_type": "code",
      "execution_count": null,
      "metadata": {
        "colab": {
          "base_uri": "https://localhost:8080/"
        },
        "id": "WRncjybVjMgX",
        "outputId": "028f38dd-fadc-4e6b-bca2-bbd9f91ad818"
      },
      "outputs": [
        {
          "name": "stdout",
          "output_type": "stream",
          "text": [
            "================================================================================\n",
            "Tipos de Cliente\n",
            "================================================================================\n",
            "+------------+----------+\n",
            "|tipo_cliente|quantidade|\n",
            "+------------+----------+\n",
            "|PJ          |84836262  |\n",
            "|TOTAL       |84836262  |\n",
            "+------------+----------+\n",
            "\n"
          ]
        }
      ],
      "source": [
        "# Criar uma view temporária com o nome correto\n",
        "dados_copia_2.createOrReplaceTempView(\"dados_credito\")\n",
        "\n",
        "# Agora podemos rodar a consulta SQL sem erro\n",
        "cliente_distinct = spark.sql(\"\"\"\n",
        "WITH dados_validos AS (\n",
        "  SELECT cliente\n",
        "  FROM dados_credito\n",
        "  WHERE cliente != '-' AND cliente IS NOT NULL\n",
        "),\n",
        "contagem AS (\n",
        "  SELECT\n",
        "    cliente AS tipo_cliente,\n",
        "    COUNT(*) AS quantidade\n",
        "  FROM dados_validos\n",
        "  GROUP BY cliente\n",
        ")\n",
        "SELECT tipo_cliente, quantidade FROM contagem\n",
        "UNION ALL\n",
        "SELECT\n",
        "  'TOTAL' AS tipo_cliente,\n",
        "  (SELECT COUNT(*) FROM dados_validos) AS quantidade\n",
        "ORDER BY\n",
        "  CASE WHEN tipo_cliente = 'TOTAL' THEN 1 ELSE 0 END,\n",
        "  quantidade DESC\n",
        "\"\"\")\n",
        "\n",
        "print(\"=\"*80)\n",
        "print(\"Tipos de Cliente\")\n",
        "print(\"=\"*80)\n",
        "cliente_distinct.show(cliente_distinct.count(), truncate=False)"
      ]
    },
    {
      "cell_type": "markdown",
      "metadata": {
        "id": "p06TyuFm-S0Z"
      },
      "source": [
        "🔳 **Ajustando a coluna data_base para que o modelo capture a questão do tempo**"
      ]
    },
    {
      "cell_type": "code",
      "execution_count": null,
      "metadata": {
        "colab": {
          "base_uri": "https://localhost:8080/"
        },
        "id": "_corirRB4SNy",
        "outputId": "a91b3ab7-b954-4696-e9c1-9f55c1497b88"
      },
      "outputs": [
        {
          "output_type": "stream",
          "name": "stdout",
          "text": [
            "+----------+----------+---+----+---------+-------------+-------------------+------------------+---+--------+-------+-------------------------------------------------------------------+---------------------------------------------+---------------------------------------------+------------------------------------------------------------------------------+-------------------------+----------+-------------------+--------------------+---------------------------+-----------------------------+------------------------------+------------------------------+---------------------------+------------------------+---------------+------------------------------+------------------+-----------+\n",
            "|data_base |dia_do_ano|mes|ano |trimestre|eh_fim_de_ano|mes_sin            |mes_cos           |uf |tcb     |cliente|cnae_secao                                                         |cnae_subclasse                               |porte                                        |modalidade                                                                    |origem                   |indexador |numero_de_operacoes|a_vencer_ate_90_dias|a_vencer_de_91_ate_360_dias|a_vencer_de_361_ate_1080_dias|a_vencer_de_1081_ate_1800_dias|a_vencer_de_1801_ate_5400_dias|a_vencer_acima_de_5400_dias|vencido_acima_de_15_dias|carteira_ativa |carteira_inadimplida_arrastada|ativo_problematico|classe     |\n",
            "+----------+----------+---+----+---------+-------------+-------------------+------------------+---+--------+-------+-------------------------------------------------------------------+---------------------------------------------+---------------------------------------------+------------------------------------------------------------------------------+-------------------------+----------+-------------------+--------------------+---------------------------+-----------------------------+------------------------------+------------------------------+---------------------------+------------------------+---------------+------------------------------+------------------+-----------+\n",
            "|2012-01-31|31        |1  |2012|1        |0            |0.49999999999999994|0.8660254037844387|AC |Bancário|PJ     |PJ - Administração pública, defesa e seguridade social             |PJ - Administração pública em geral          |PJ - Grande                                  |PJ - Financiamento de infraestrutura/desenvolvimento/projeto e outros créditos|Com destinação específica|Pós-fixado|42                 |2.997587766E7       |8.591296346E7              |2.3402350111E8               |2.0093773351E8                |4.5758183897E8                |885017.05                  |0.0                     |1.00931693176E9|0.0                           |0.0               |Baixo Risco|\n",
            "|2012-01-31|31        |1  |2012|1        |0            |0.49999999999999994|0.8660254037844387|AC |Bancário|PJ     |PJ - Agricultura, pecuária, produção florestal, pesca e aqüicultura|PJ - Criação de bovinos para corte           |PJ - Pequeno                                 |PJ - Investimento                                                             |Sem destinação específica|Prefixado |<= 15              |11432.43            |30380.97                   |58381.03                     |27096.32                      |0.0                           |0.0                        |0.0                     |127290.75      |0.0                           |0.0               |Baixo Risco|\n",
            "|2012-01-31|31        |1  |2012|1        |0            |0.49999999999999994|0.8660254037844387|AC |Bancário|PJ     |PJ - Administração pública, defesa e seguridade social             |PJ - Administração pública em geral          |PJ - Médio                                   |PJ - Financiamento de infraestrutura/desenvolvimento/projeto e outros créditos|Com destinação específica|Pós-fixado|<= 15              |49904.62            |449141.67                  |1197711.12                   |698664.79                     |0.0                           |0.0                        |0.0                     |2395422.2      |0.0                           |0.0               |Baixo Risco|\n",
            "|2012-01-31|31        |1  |2012|1        |0            |0.49999999999999994|0.8660254037844387|AC |Bancário|PJ     |PJ - Agricultura, pecuária, produção florestal, pesca e aqüicultura|PJ - Atividades de apoio à produção florestal|PJ - Médio                                   |PJ - Capital de giro                                                          |Sem destinação específica|Prefixado |<= 15              |5149.53             |13333.28                   |38352.06                     |0.0                           |0.0                           |0.0                        |0.0                     |56834.87       |0.0                           |0.0               |Baixo Risco|\n",
            "|2012-01-31|31        |1  |2012|1        |0            |0.49999999999999994|0.8660254037844387|AC |Bancário|PJ     |PJ - Agricultura, pecuária, produção florestal, pesca e aqüicultura|PJ - Atividades de apoio à produção florestal|PJ - Médio                                   |PJ - Outros créditos                                                          |Sem destinação específica|Prefixado |<= 15              |1572.01             |0.0                        |0.0                          |0.0                           |0.0                           |0.0                        |0.0                     |1572.01        |0.0                           |0.0               |Baixo Risco|\n",
            "|2012-01-31|31        |1  |2012|1        |0            |0.49999999999999994|0.8660254037844387|AC |Bancário|PJ     |PJ - Agricultura, pecuária, produção florestal, pesca e aqüicultura|PJ - Criação de bovinos para corte           |PJ - Grande                                  |PJ - Financiamento de infraestrutura/desenvolvimento/projeto e outros créditos|Com destinação específica|Prefixado |<= 15              |8684.38             |41531.27                   |165750.0                     |101468.73                     |0.0                           |0.0                        |0.0                     |317434.38      |0.0                           |0.0               |Baixo Risco|\n",
            "|2012-01-31|31        |1  |2012|1        |0            |0.49999999999999994|0.8660254037844387|AC |Bancário|PJ     |PJ - Agricultura, pecuária, produção florestal, pesca e aqüicultura|PJ - Criação de bovinos para corte           |PJ - Grande                                  |PJ - Financiamento de infraestrutura/desenvolvimento/projeto e outros créditos|Com destinação específica|Pós-fixado|<= 15              |211810.44           |0.0                        |2445034.26                   |2445034.27                    |0.0                           |0.0                        |0.0                     |5101878.97     |0.0                           |0.0               |Baixo Risco|\n",
            "|2012-01-31|31        |1  |2012|1        |0            |0.49999999999999994|0.8660254037844387|AC |Bancário|PJ     |PJ - Agricultura, pecuária, produção florestal, pesca e aqüicultura|PJ - Criação de bovinos para corte           |PJ - Grande                                  |PJ - Rural e agroindustrial                                                   |Com destinação específica|Prefixado |<= 15              |518293.39           |5450506.93                 |928631.82                    |0.0                           |0.0                           |0.0                        |0.0                     |6897432.14     |0.0                           |0.0               |Baixo Risco|\n",
            "|2012-01-31|31        |1  |2012|1        |0            |0.49999999999999994|0.8660254037844387|AC |Bancário|PJ     |PJ - Agricultura, pecuária, produção florestal, pesca e aqüicultura|PJ - Criação de bovinos para corte           |PJ - Médio                                   |PJ - Capital de giro                                                          |Sem destinação específica|Prefixado |24                 |25146.32            |52101.56                   |21153.6                      |0.0                           |0.0                           |0.0                        |0.0                     |98401.48       |0.0                           |0.0               |Baixo Risco|\n",
            "|2012-01-31|31        |1  |2012|1        |0            |0.49999999999999994|0.8660254037844387|AC |Bancário|PJ     |PJ - Agricultura, pecuária, produção florestal, pesca e aqüicultura|PJ - Criação de bovinos para corte           |PJ - Médio                                   |PJ - Investimento                                                             |Sem destinação específica|Prefixado |<= 15              |10636.96            |19778.16                   |0.0                          |0.0                           |0.0                           |0.0                        |0.0                     |30415.12       |0.0                           |0.0               |Baixo Risco|\n",
            "|2012-01-31|31        |1  |2012|1        |0            |0.49999999999999994|0.8660254037844387|AC |Bancário|PJ     |PJ - Agricultura, pecuária, produção florestal, pesca e aqüicultura|PJ - Criação de bovinos para corte           |PJ - Pequeno                                 |PJ - Capital de giro                                                          |Sem destinação específica|Prefixado |<= 15              |37950.57            |66096.58                   |37598.63                     |6972.41                       |0.0                           |0.0                        |0.0                     |148618.19      |0.0                           |0.0               |Baixo Risco|\n",
            "|2012-01-31|31        |1  |2012|1        |0            |0.49999999999999994|0.8660254037844387|AC |Bancário|PJ     |PJ - Agricultura, pecuária, produção florestal, pesca e aqüicultura|PJ - Criação de bovinos para corte           |PJ - Pequeno                                 |PJ - Cheque especial e conta garantida                                        |Sem destinação específica|Prefixado |<= 15              |17736.55            |0.0                        |0.0                          |0.0                           |0.0                           |0.0                        |0.0                     |17736.55       |0.0                           |0.0               |Baixo Risco|\n",
            "+----------+----------+---+----+---------+-------------+-------------------+------------------+---+--------+-------+-------------------------------------------------------------------+---------------------------------------------+---------------------------------------------+------------------------------------------------------------------------------+-------------------------+----------+-------------------+--------------------+---------------------------+-----------------------------+------------------------------+------------------------------+---------------------------+------------------------+---------------+------------------------------+------------------+-----------+\n",
            "only showing top 12 rows\n",
            "\n"
          ]
        }
      ],
      "source": [
        "from pyspark.sql.functions import month, quarter, year, dayofyear, col, sin, cos\n",
        "from math import pi\n",
        "from pyspark.sql.functions import to_date\n",
        "\n",
        "# 1. Criar features temporais básicas (mantendo data_base)\n",
        "dados_copia_3 = dados_copia_2.withColumn(\"mes\", month(col(\"data_base\"))) \\\n",
        "    .withColumn(\"trimestre\", quarter(col(\"data_base\"))) \\\n",
        "    .withColumn(\"ano\", year(col(\"data_base\"))) \\\n",
        "    .withColumn(\"dia_do_ano\", dayofyear(col(\"data_base\"))) \\\n",
        "    .withColumn(\"eh_fim_de_ano\", (month(col(\"data_base\")).isin([11, 12]).cast(\"integer\")))\n",
        "\n",
        "# 2. Adicionar features cíclicas (seno e cosseno do mês)\n",
        "dados_copia_3 = dados_copia_3.withColumn(\"mes_sin\", sin(2 * pi * month(col(\"data_base\")) / 12)) \\\n",
        "    .withColumn(\"mes_cos\", cos(2 * pi * month(col(\"data_base\")) / 12))\n",
        "\n",
        "# 3. Transformar a coluna data_base de string para date\n",
        "dados_copia_3 = dados_copia_3.withColumn(\n",
        "    \"data_base\",\n",
        "    to_date(\"data_base\", \"yyyy-MM-dd\")  # Ajuste o formato conforme necessário\n",
        ")\n",
        "\n",
        "# 4. Definir a ordem exata das colunas que você quer\n",
        "colunas_ordenadas = [\n",
        "    \"data_base\",\n",
        "    \"dia_do_ano\",\n",
        "    \"mes\",\n",
        "    \"ano\",\n",
        "    \"trimestre\",\n",
        "    \"eh_fim_de_ano\",\n",
        "    \"mes_sin\",\n",
        "    \"mes_cos\"\n",
        "]\n",
        "\n",
        "# 5. Adicionar as demais colunas (exceto classe e as já listadas)\n",
        "demais_colunas = [c for c in dados_copia_3.columns\n",
        "                 if c not in colunas_ordenadas + [\"classe\"]]\n",
        "\n",
        "# 6. Reordenar todas as colunas (data_base primeiro, depois as temporais, depois as demais, e classe por último)\n",
        "dados_copia_3 = dados_copia_3.select(colunas_ordenadas + demais_colunas + [\"classe\"])\n",
        "\n",
        "# Visualizar base de dados transformada\n",
        "dados_copia_3.show(12, truncate=False)"
      ]
    },
    {
      "cell_type": "markdown",
      "metadata": {
        "id": "doz74Rp09KRE"
      },
      "source": [
        "🔳 **Transformando os valores da coluna numero_de_operacoes em inteiro para ao invés de aparecem como string, aparecerem como numéricos**"
      ]
    },
    {
      "cell_type": "code",
      "execution_count": null,
      "metadata": {
        "colab": {
          "base_uri": "https://localhost:8080/"
        },
        "id": "FqMgo4G13iIK",
        "outputId": "99ebc01c-ebce-48b8-8ab3-b5f74e95163e"
      },
      "outputs": [
        {
          "output_type": "stream",
          "name": "stdout",
          "text": [
            "+----------+----------+---+----+---------+-------------+-------------------+------------------+---+--------+-------+-------------------------------------------------------------------+---------------------------------------------+---------------------------------------------+------------------------------------------------------------------------------+-------------------------+----------+-------------------+--------------------+--------------------+---------------------------+-----------------------------+------------------------------+------------------------------+---------------------------+------------------------+---------------+------------------------------+------------------+-----------+\n",
            "|data_base |dia_do_ano|mes|ano |trimestre|eh_fim_de_ano|mes_sin            |mes_cos           |uf |tcb     |cliente|cnae_secao                                                         |cnae_subclasse                               |porte                                        |modalidade                                                                    |origem                   |indexador |numero_de_operacoes|numero_operacoes_int|a_vencer_ate_90_dias|a_vencer_de_91_ate_360_dias|a_vencer_de_361_ate_1080_dias|a_vencer_de_1081_ate_1800_dias|a_vencer_de_1801_ate_5400_dias|a_vencer_acima_de_5400_dias|vencido_acima_de_15_dias|carteira_ativa |carteira_inadimplida_arrastada|ativo_problematico|classe     |\n",
            "+----------+----------+---+----+---------+-------------+-------------------+------------------+---+--------+-------+-------------------------------------------------------------------+---------------------------------------------+---------------------------------------------+------------------------------------------------------------------------------+-------------------------+----------+-------------------+--------------------+--------------------+---------------------------+-----------------------------+------------------------------+------------------------------+---------------------------+------------------------+---------------+------------------------------+------------------+-----------+\n",
            "|2012-01-31|31        |1  |2012|1        |0            |0.49999999999999994|0.8660254037844387|AC |Bancário|PJ     |PJ - Agricultura, pecuária, produção florestal, pesca e aqüicultura|PJ - Criação de bovinos para corte           |PJ - Pequeno                                 |PJ - Cheque especial e conta garantida                                        |Sem destinação específica|Prefixado |<= 15              |15                  |17736.55            |0.0                        |0.0                          |0.0                           |0.0                           |0.0                        |0.0                     |17736.55       |0.0                           |0.0               |Baixo Risco|\n",
            "|2012-01-31|31        |1  |2012|1        |0            |0.49999999999999994|0.8660254037844387|AC |Bancário|PJ     |PJ - Agricultura, pecuária, produção florestal, pesca e aqüicultura|PJ - Criação de bovinos para corte           |PJ - Grande                                  |PJ - Financiamento de infraestrutura/desenvolvimento/projeto e outros créditos|Com destinação específica|Pós-fixado|<= 15              |15                  |211810.44           |0.0                        |2445034.26                   |2445034.27                    |0.0                           |0.0                        |0.0                     |5101878.97     |0.0                           |0.0               |Baixo Risco|\n",
            "|2012-01-31|31        |1  |2012|1        |0            |0.49999999999999994|0.8660254037844387|AC |Bancário|PJ     |PJ - Agricultura, pecuária, produção florestal, pesca e aqüicultura|PJ - Criação de bovinos para corte           |PJ - Pequeno                                 |PJ - Capital de giro                                                          |Sem destinação específica|Prefixado |<= 15              |15                  |37950.57            |66096.58                   |37598.63                     |6972.41                       |0.0                           |0.0                        |0.0                     |148618.19      |0.0                           |0.0               |Baixo Risco|\n",
            "|2012-01-31|31        |1  |2012|1        |0            |0.49999999999999994|0.8660254037844387|AC |Bancário|PJ     |PJ - Administração pública, defesa e seguridade social             |PJ - Administração pública em geral          |PJ - Médio                                   |PJ - Financiamento de infraestrutura/desenvolvimento/projeto e outros créditos|Com destinação específica|Pós-fixado|<= 15              |15                  |49904.62            |449141.67                  |1197711.12                   |698664.79                     |0.0                           |0.0                        |0.0                     |2395422.2      |0.0                           |0.0               |Baixo Risco|\n",
            "|2012-01-31|31        |1  |2012|1        |0            |0.49999999999999994|0.8660254037844387|AC |Bancário|PJ     |PJ - Agricultura, pecuária, produção florestal, pesca e aqüicultura|PJ - Criação de bovinos para corte           |PJ - Grande                                  |PJ - Financiamento de infraestrutura/desenvolvimento/projeto e outros créditos|Com destinação específica|Prefixado |<= 15              |15                  |8684.38             |41531.27                   |165750.0                     |101468.73                     |0.0                           |0.0                        |0.0                     |317434.38      |0.0                           |0.0               |Baixo Risco|\n",
            "|2012-01-31|31        |1  |2012|1        |0            |0.49999999999999994|0.8660254037844387|AC |Bancário|PJ     |PJ - Agricultura, pecuária, produção florestal, pesca e aqüicultura|PJ - Criação de bovinos para corte           |PJ - Médio                                   |PJ - Capital de giro                                                          |Sem destinação específica|Prefixado |24                 |24                  |25146.32            |52101.56                   |21153.6                      |0.0                           |0.0                           |0.0                        |0.0                     |98401.48       |0.0                           |0.0               |Baixo Risco|\n",
            "|2012-01-31|31        |1  |2012|1        |0            |0.49999999999999994|0.8660254037844387|AC |Bancário|PJ     |PJ - Agricultura, pecuária, produção florestal, pesca e aqüicultura|PJ - Criação de bovinos para corte           |PJ - Médio                                   |PJ - Investimento                                                             |Sem destinação específica|Prefixado |<= 15              |15                  |10636.96            |19778.16                   |0.0                          |0.0                           |0.0                           |0.0                        |0.0                     |30415.12       |0.0                           |0.0               |Baixo Risco|\n",
            "|2012-01-31|31        |1  |2012|1        |0            |0.49999999999999994|0.8660254037844387|AC |Bancário|PJ     |PJ - Administração pública, defesa e seguridade social             |PJ - Administração pública em geral          |PJ - Grande                                  |PJ - Financiamento de infraestrutura/desenvolvimento/projeto e outros créditos|Com destinação específica|Pós-fixado|42                 |42                  |2.997587766E7       |8.591296346E7              |2.3402350111E8               |2.0093773351E8                |4.5758183897E8                |885017.05                  |0.0                     |1.00931693176E9|0.0                           |0.0               |Baixo Risco|\n",
            "|2012-01-31|31        |1  |2012|1        |0            |0.49999999999999994|0.8660254037844387|AC |Bancário|PJ     |PJ - Agricultura, pecuária, produção florestal, pesca e aqüicultura|PJ - Criação de bovinos para corte           |PJ - Pequeno                                 |PJ - Investimento                                                             |Sem destinação específica|Prefixado |<= 15              |15                  |11432.43            |30380.97                   |58381.03                     |27096.32                      |0.0                           |0.0                        |0.0                     |127290.75      |0.0                           |0.0               |Baixo Risco|\n",
            "|2012-01-31|31        |1  |2012|1        |0            |0.49999999999999994|0.8660254037844387|AC |Bancário|PJ     |PJ - Agricultura, pecuária, produção florestal, pesca e aqüicultura|PJ - Atividades de apoio à produção florestal|PJ - Médio                                   |PJ - Capital de giro                                                          |Sem destinação específica|Prefixado |<= 15              |15                  |5149.53             |13333.28                   |38352.06                     |0.0                           |0.0                           |0.0                        |0.0                     |56834.87       |0.0                           |0.0               |Baixo Risco|\n",
            "|2012-01-31|31        |1  |2012|1        |0            |0.49999999999999994|0.8660254037844387|AC |Bancário|PJ     |PJ - Agricultura, pecuária, produção florestal, pesca e aqüicultura|PJ - Atividades de apoio à produção florestal|PJ - Médio                                   |PJ - Outros créditos                                                          |Sem destinação específica|Prefixado |<= 15              |15                  |1572.01             |0.0                        |0.0                          |0.0                           |0.0                           |0.0                        |0.0                     |1572.01        |0.0                           |0.0               |Baixo Risco|\n",
            "|2012-01-31|31        |1  |2012|1        |0            |0.49999999999999994|0.8660254037844387|AC |Bancário|PJ     |PJ - Agricultura, pecuária, produção florestal, pesca e aqüicultura|PJ - Criação de bovinos para corte           |PJ - Grande                                  |PJ - Rural e agroindustrial                                                   |Com destinação específica|Prefixado |<= 15              |15                  |518293.39           |5450506.93                 |928631.82                    |0.0                           |0.0                           |0.0                        |0.0                     |6897432.14     |0.0                           |0.0               |Baixo Risco|\n",
            "+----------+----------+---+----+---------+-------------+-------------------+------------------+---+--------+-------+-------------------------------------------------------------------+---------------------------------------------+---------------------------------------------+------------------------------------------------------------------------------+-------------------------+----------+-------------------+--------------------+--------------------+---------------------------+-----------------------------+------------------------------+------------------------------+---------------------------+------------------------+---------------+------------------------------+------------------+-----------+\n",
            "only showing top 12 rows\n",
            "\n"
          ]
        }
      ],
      "source": [
        "from pyspark.sql.functions import regexp_extract, col\n",
        "\n",
        "# Extrair os números e criar nova coluna\n",
        "dados_copia_4 = dados_copia_3.withColumn(\n",
        "    \"numero_operacoes_int\",\n",
        "    regexp_extract(col(\"numero_de_operacoes\"), r\"\\d+\", 0).cast(\"int\")\n",
        ")\n",
        "\n",
        "# Obter a lista de colunas original\n",
        "colunas = dados_copia_3.columns\n",
        "\n",
        "# Encontrar a posição da coluna original\n",
        "posicao = colunas.index(\"numero_de_operacoes\")\n",
        "\n",
        "# Inserir a nova coluna ao lado da original\n",
        "colunas_reordenadas = colunas[:posicao+1] + [\"numero_operacoes_int\"] + colunas[posicao+1:]\n",
        "\n",
        "# Reordenar o DataFrame\n",
        "dados_copia_4 = dados_copia_4.select(*colunas_reordenadas)\n",
        "\n",
        "# Mostrar o resultado\n",
        "dados_copia_4.show(12, truncate=False)"
      ]
    },
    {
      "cell_type": "markdown",
      "metadata": {
        "id": "FL-YyXVX-Qch"
      },
      "source": [
        "## **2.2 Análise Explorátória da base de dados limpa**"
      ]
    },
    {
      "cell_type": "markdown",
      "metadata": {
        "id": "MYUG8HL5-xwS"
      },
      "source": [
        "## **2.2.1  Análise Univariada e Multivariada**"
      ]
    },
    {
      "cell_type": "markdown",
      "metadata": {
        "id": "jduovuuc1aOo"
      },
      "source": [
        "🔳 **Visualizando variáveis categóricas**"
      ]
    },
    {
      "cell_type": "code",
      "execution_count": null,
      "metadata": {
        "colab": {
          "base_uri": "https://localhost:8080/",
          "height": 394
        },
        "id": "vj384Qi70cTi",
        "outputId": "6f2f9190-0e3a-4498-e22a-e15a7ca93210"
      },
      "outputs": [
        {
          "output_type": "display_data",
          "data": {
            "text/plain": [
              "<pandas.io.formats.style.Styler at 0x7953a7f82590>"
            ],
            "text/html": [
              "<style type=\"text/css\">\n",
              "</style>\n",
              "<table id=\"T_207e5\" class=\"dataframe\">\n",
              "  <thead>\n",
              "    <tr>\n",
              "      <th id=\"T_207e5_level0_col0\" class=\"col_heading level0 col0\" >Colunas Categóricas</th>\n",
              "      <th id=\"T_207e5_level0_col1\" class=\"col_heading level0 col1\" >Tipo</th>\n",
              "    </tr>\n",
              "  </thead>\n",
              "  <tbody>\n",
              "    <tr>\n",
              "      <td id=\"T_207e5_row0_col0\" class=\"data row0 col0\" >uf</td>\n",
              "      <td id=\"T_207e5_row0_col1\" class=\"data row0 col1\" >string</td>\n",
              "    </tr>\n",
              "    <tr>\n",
              "      <td id=\"T_207e5_row1_col0\" class=\"data row1 col0\" >tcb</td>\n",
              "      <td id=\"T_207e5_row1_col1\" class=\"data row1 col1\" >string</td>\n",
              "    </tr>\n",
              "    <tr>\n",
              "      <td id=\"T_207e5_row2_col0\" class=\"data row2 col0\" >cliente</td>\n",
              "      <td id=\"T_207e5_row2_col1\" class=\"data row2 col1\" >string</td>\n",
              "    </tr>\n",
              "    <tr>\n",
              "      <td id=\"T_207e5_row3_col0\" class=\"data row3 col0\" >cnae_secao</td>\n",
              "      <td id=\"T_207e5_row3_col1\" class=\"data row3 col1\" >string</td>\n",
              "    </tr>\n",
              "    <tr>\n",
              "      <td id=\"T_207e5_row4_col0\" class=\"data row4 col0\" >cnae_subclasse</td>\n",
              "      <td id=\"T_207e5_row4_col1\" class=\"data row4 col1\" >string</td>\n",
              "    </tr>\n",
              "    <tr>\n",
              "      <td id=\"T_207e5_row5_col0\" class=\"data row5 col0\" >porte</td>\n",
              "      <td id=\"T_207e5_row5_col1\" class=\"data row5 col1\" >string</td>\n",
              "    </tr>\n",
              "    <tr>\n",
              "      <td id=\"T_207e5_row6_col0\" class=\"data row6 col0\" >modalidade</td>\n",
              "      <td id=\"T_207e5_row6_col1\" class=\"data row6 col1\" >string</td>\n",
              "    </tr>\n",
              "    <tr>\n",
              "      <td id=\"T_207e5_row7_col0\" class=\"data row7 col0\" >origem</td>\n",
              "      <td id=\"T_207e5_row7_col1\" class=\"data row7 col1\" >string</td>\n",
              "    </tr>\n",
              "    <tr>\n",
              "      <td id=\"T_207e5_row8_col0\" class=\"data row8 col0\" >indexador</td>\n",
              "      <td id=\"T_207e5_row8_col1\" class=\"data row8 col1\" >string</td>\n",
              "    </tr>\n",
              "    <tr>\n",
              "      <td id=\"T_207e5_row9_col0\" class=\"data row9 col0\" >numero_de_operacoes</td>\n",
              "      <td id=\"T_207e5_row9_col1\" class=\"data row9 col1\" >string</td>\n",
              "    </tr>\n",
              "    <tr>\n",
              "      <td id=\"T_207e5_row10_col0\" class=\"data row10 col0\" >classe</td>\n",
              "      <td id=\"T_207e5_row10_col1\" class=\"data row10 col1\" >string</td>\n",
              "    </tr>\n",
              "  </tbody>\n",
              "</table>\n"
            ]
          },
          "metadata": {}
        }
      ],
      "source": [
        "import pandas as pd\n",
        "\n",
        "# Criar DataFrame com tipos\n",
        "colunas_pd = pd.DataFrame({\n",
        "    \"Colunas Categóricas\": dados_copia_4.columns,\n",
        "    \"Tipo\": [dtype for col, dtype in dados_copia_4.dtypes]\n",
        "})\n",
        "\n",
        "# Filtrar colunas categóricas (string, boolean, etc.)\n",
        "colunas_categoricas = colunas_pd[\n",
        "    colunas_pd['Tipo'].isin(['string', 'boolean', 'varchar', 'char', 'binary'])\n",
        "]\n",
        "\n",
        "# Mostrar sem índice\n",
        "display(colunas_categoricas.style.hide(axis=\"index\"))"
      ]
    },
    {
      "cell_type": "markdown",
      "metadata": {
        "id": "K_7yzTV3_d71"
      },
      "source": [
        "🔳 **Visualizando as variáveis númericas**"
      ]
    },
    {
      "cell_type": "code",
      "execution_count": null,
      "metadata": {
        "colab": {
          "base_uri": "https://localhost:8080/",
          "height": 613
        },
        "id": "1zk5seDfCzjb",
        "outputId": "8d88f134-7cc4-49a6-ef05-cf14045a606e"
      },
      "outputs": [
        {
          "output_type": "display_data",
          "data": {
            "text/plain": [
              "<pandas.io.formats.style.Styler at 0x7953cce8a950>"
            ],
            "text/html": [
              "<style type=\"text/css\">\n",
              "</style>\n",
              "<table id=\"T_c14fb\" class=\"dataframe\">\n",
              "  <thead>\n",
              "    <tr>\n",
              "      <th id=\"T_c14fb_level0_col0\" class=\"col_heading level0 col0\" >Colunas Numéricas</th>\n",
              "      <th id=\"T_c14fb_level0_col1\" class=\"col_heading level0 col1\" >Tipo</th>\n",
              "    </tr>\n",
              "  </thead>\n",
              "  <tbody>\n",
              "    <tr>\n",
              "      <td id=\"T_c14fb_row0_col0\" class=\"data row0 col0\" >dia_do_ano</td>\n",
              "      <td id=\"T_c14fb_row0_col1\" class=\"data row0 col1\" >int</td>\n",
              "    </tr>\n",
              "    <tr>\n",
              "      <td id=\"T_c14fb_row1_col0\" class=\"data row1 col0\" >mes</td>\n",
              "      <td id=\"T_c14fb_row1_col1\" class=\"data row1 col1\" >int</td>\n",
              "    </tr>\n",
              "    <tr>\n",
              "      <td id=\"T_c14fb_row2_col0\" class=\"data row2 col0\" >ano</td>\n",
              "      <td id=\"T_c14fb_row2_col1\" class=\"data row2 col1\" >int</td>\n",
              "    </tr>\n",
              "    <tr>\n",
              "      <td id=\"T_c14fb_row3_col0\" class=\"data row3 col0\" >trimestre</td>\n",
              "      <td id=\"T_c14fb_row3_col1\" class=\"data row3 col1\" >int</td>\n",
              "    </tr>\n",
              "    <tr>\n",
              "      <td id=\"T_c14fb_row4_col0\" class=\"data row4 col0\" >eh_fim_de_ano</td>\n",
              "      <td id=\"T_c14fb_row4_col1\" class=\"data row4 col1\" >int</td>\n",
              "    </tr>\n",
              "    <tr>\n",
              "      <td id=\"T_c14fb_row5_col0\" class=\"data row5 col0\" >mes_sin</td>\n",
              "      <td id=\"T_c14fb_row5_col1\" class=\"data row5 col1\" >double</td>\n",
              "    </tr>\n",
              "    <tr>\n",
              "      <td id=\"T_c14fb_row6_col0\" class=\"data row6 col0\" >mes_cos</td>\n",
              "      <td id=\"T_c14fb_row6_col1\" class=\"data row6 col1\" >double</td>\n",
              "    </tr>\n",
              "    <tr>\n",
              "      <td id=\"T_c14fb_row7_col0\" class=\"data row7 col0\" >numero_operacoes_int</td>\n",
              "      <td id=\"T_c14fb_row7_col1\" class=\"data row7 col1\" >int</td>\n",
              "    </tr>\n",
              "    <tr>\n",
              "      <td id=\"T_c14fb_row8_col0\" class=\"data row8 col0\" >a_vencer_ate_90_dias</td>\n",
              "      <td id=\"T_c14fb_row8_col1\" class=\"data row8 col1\" >double</td>\n",
              "    </tr>\n",
              "    <tr>\n",
              "      <td id=\"T_c14fb_row9_col0\" class=\"data row9 col0\" >a_vencer_de_91_ate_360_dias</td>\n",
              "      <td id=\"T_c14fb_row9_col1\" class=\"data row9 col1\" >double</td>\n",
              "    </tr>\n",
              "    <tr>\n",
              "      <td id=\"T_c14fb_row10_col0\" class=\"data row10 col0\" >a_vencer_de_361_ate_1080_dias</td>\n",
              "      <td id=\"T_c14fb_row10_col1\" class=\"data row10 col1\" >double</td>\n",
              "    </tr>\n",
              "    <tr>\n",
              "      <td id=\"T_c14fb_row11_col0\" class=\"data row11 col0\" >a_vencer_de_1081_ate_1800_dias</td>\n",
              "      <td id=\"T_c14fb_row11_col1\" class=\"data row11 col1\" >double</td>\n",
              "    </tr>\n",
              "    <tr>\n",
              "      <td id=\"T_c14fb_row12_col0\" class=\"data row12 col0\" >a_vencer_de_1801_ate_5400_dias</td>\n",
              "      <td id=\"T_c14fb_row12_col1\" class=\"data row12 col1\" >double</td>\n",
              "    </tr>\n",
              "    <tr>\n",
              "      <td id=\"T_c14fb_row13_col0\" class=\"data row13 col0\" >a_vencer_acima_de_5400_dias</td>\n",
              "      <td id=\"T_c14fb_row13_col1\" class=\"data row13 col1\" >double</td>\n",
              "    </tr>\n",
              "    <tr>\n",
              "      <td id=\"T_c14fb_row14_col0\" class=\"data row14 col0\" >vencido_acima_de_15_dias</td>\n",
              "      <td id=\"T_c14fb_row14_col1\" class=\"data row14 col1\" >double</td>\n",
              "    </tr>\n",
              "    <tr>\n",
              "      <td id=\"T_c14fb_row15_col0\" class=\"data row15 col0\" >carteira_ativa</td>\n",
              "      <td id=\"T_c14fb_row15_col1\" class=\"data row15 col1\" >double</td>\n",
              "    </tr>\n",
              "    <tr>\n",
              "      <td id=\"T_c14fb_row16_col0\" class=\"data row16 col0\" >carteira_inadimplida_arrastada</td>\n",
              "      <td id=\"T_c14fb_row16_col1\" class=\"data row16 col1\" >double</td>\n",
              "    </tr>\n",
              "    <tr>\n",
              "      <td id=\"T_c14fb_row17_col0\" class=\"data row17 col0\" >ativo_problematico</td>\n",
              "      <td id=\"T_c14fb_row17_col1\" class=\"data row17 col1\" >double</td>\n",
              "    </tr>\n",
              "  </tbody>\n",
              "</table>\n"
            ]
          },
          "metadata": {}
        }
      ],
      "source": [
        "import pandas as pd\n",
        "\n",
        "# Criar DataFrame com tipos\n",
        "colunas_pd = pd.DataFrame({\n",
        "    \"Colunas Numéricas\": dados_copia_4.columns,\n",
        "    \"Tipo\": [dtype for col, dtype in dados_copia_4.dtypes]\n",
        "})\n",
        "\n",
        "# Filtrar colunas numéricas (double, int, etc.)\n",
        "colunas_numericas = colunas_pd[\n",
        "    colunas_pd['Tipo'].isin(['double', 'int', 'bigint', 'float', 'decimal', 'numeric'])\n",
        "]\n",
        "\n",
        "# Mostrar sem índice\n",
        "display(colunas_numericas.style.hide(axis=\"index\"))"
      ]
    },
    {
      "cell_type": "markdown",
      "metadata": {
        "id": "Hwp86d0uVvj-"
      },
      "source": [
        "🔳 **Verificando a correlação entre as variáveis númericas**"
      ]
    },
    {
      "cell_type": "code",
      "execution_count": null,
      "metadata": {
        "colab": {
          "base_uri": "https://localhost:8080/",
          "height": 1000
        },
        "id": "mhKNSJvLx5E1",
        "outputId": "052fe2fa-f9a7-4f0f-bbf4-84ffc6bf9009"
      },
      "outputs": [
        {
          "name": "stderr",
          "output_type": "stream",
          "text": [
            "/content/spark-3.2.1-bin-hadoop2.7/python/pyspark/sql/context.py:125: FutureWarning: Deprecated in 3.0.0. Use SparkSession.builder.getOrCreate() instead.\n",
            "  warnings.warn(\n"
          ]
        },
        {
          "data": {
            "image/png": "[encoded data removed]",
            "text/plain": [
              "<Figure size 1200x1000 with 2 Axes>"
            ]
          },
          "metadata": {},
          "output_type": "display_data"
        }
      ],
      "source": [
        "from pyspark.sql.functions import col\n",
        "from pyspark.ml.stat import Correlation\n",
        "from pyspark.ml.feature import VectorAssembler\n",
        "import numpy as np\n",
        "import matplotlib.pyplot as plt\n",
        "import seaborn as sn\n",
        "\n",
        "# Lista colunas numéricas\n",
        "numeric_cols = [field.name for field in dados_copia_4.schema.fields\n",
        "                if str(field.dataType) in ['IntegerType', 'LongType', 'FloatType', 'DoubleType', 'DecimalType']]\n",
        "\n",
        "# Cria DataFrame apenas com colunas numéricas\n",
        "df_numeric = dados_copia_4.select([col(c).cast(\"double\") for c in numeric_cols])\n",
        "\n",
        "# Converte as colunas numéricas em um vetor de características\n",
        "assembler = VectorAssembler(inputCols=df_numeric.columns, outputCol=\"features\")\n",
        "df_vector = assembler.transform(df_numeric).select(\"features\")\n",
        "\n",
        "# Calcula a matriz de correlação\n",
        "corr_matrix = Correlation.corr(df_vector, \"features\").collect()[0][0]\n",
        "\n",
        "# Converte para array numpy\n",
        "corr_array = corr_matrix.toArray()\n",
        "\n",
        "# Cria heatmap\n",
        "plt.figure(figsize=(12, 10))\n",
        "sns.heatmap(corr_array,\n",
        "            annot=True,\n",
        "            fmt=\".2f\",\n",
        "            xticklabels=numeric_cols,\n",
        "            yticklabels=numeric_cols,\n",
        "            cmap='coolwarm',\n",
        "            vmin=-1,\n",
        "            vmax=1)\n",
        "plt.title(\"Matriz de Correlação entre as Variaveis Numericas\")\n",
        "plt.xticks(rotation=45)\n",
        "plt.yticks(rotation=0)\n",
        "plt.tight_layout()\n",
        "plt.show()"
      ]
    },
    {
      "cell_type": "markdown",
      "source": [
        "🔳 **Removendo colunas desnecessárias e as colunas fortemente correlacionadas entre si evitando multicolinearidade**"
      ],
      "metadata": {
        "id": "jeVO3WyI3Oa9"
      }
    },
    {
      "cell_type": "code",
      "source": [
        "# Lista de colunas a serem removidas (baseado na análise)\n",
        "colunas_remover = [\n",
        "    \"a_vencer_de_1801_ate_5400_dias\",\n",
        "    \"a_vencer_de_361_ate_1080_dias\",\n",
        "    \"a_vencer_de_1081_ate_1800_dias\",\n",
        "    \"carteira_inadimplida_arrastada\",\n",
        "    \"numero_de_operacoes\"\n",
        "]\n",
        "\n",
        "# Filtrar o DataFrame\n",
        "dados_copia_5 = dados_copia_4.drop(*colunas_remover)\n",
        "# Mostrar o resultado\n",
        "dados_copia_5.show(12, truncate=False)"
      ],
      "metadata": {
        "colab": {
          "base_uri": "https://localhost:8080/"
        },
        "id": "H0qTdbk03nJP",
        "outputId": "84728893-0356-4981-c4b6-2dde8fa11417"
      },
      "execution_count": null,
      "outputs": [
        {
          "output_type": "stream",
          "name": "stdout",
          "text": [
            "+----------+----------+---+----+---------+-------------+-------------------+------------------+---+--------+-------+-------------------------------------------------------------------+---------------------------------------------+---------------------------------------------+------------------------------------------------------------------------------+-------------------------+----------+--------------------+--------------------+---------------------------+---------------------------+------------------------+---------------+------------------+-----------+\n",
            "|data_base |dia_do_ano|mes|ano |trimestre|eh_fim_de_ano|mes_sin            |mes_cos           |uf |tcb     |cliente|cnae_secao                                                         |cnae_subclasse                               |porte                                        |modalidade                                                                    |origem                   |indexador |numero_operacoes_int|a_vencer_ate_90_dias|a_vencer_de_91_ate_360_dias|a_vencer_acima_de_5400_dias|vencido_acima_de_15_dias|carteira_ativa |ativo_problematico|classe     |\n",
            "+----------+----------+---+----+---------+-------------+-------------------+------------------+---+--------+-------+-------------------------------------------------------------------+---------------------------------------------+---------------------------------------------+------------------------------------------------------------------------------+-------------------------+----------+--------------------+--------------------+---------------------------+---------------------------+------------------------+---------------+------------------+-----------+\n",
            "|2012-01-31|31        |1  |2012|1        |0            |0.49999999999999994|0.8660254037844387|AC |Bancário|PJ     |PJ - Administração pública, defesa e seguridade social             |PJ - Administração pública em geral          |PJ - Grande                                  |PJ - Financiamento de infraestrutura/desenvolvimento/projeto e outros créditos|Com destinação específica|Pós-fixado|42                  |2.997587766E7       |8.591296346E7              |885017.05                  |0.0                     |1.00931693176E9|0.0               |Baixo Risco|\n",
            "|2012-01-31|31        |1  |2012|1        |0            |0.49999999999999994|0.8660254037844387|AC |Bancário|PJ     |PJ - Agricultura, pecuária, produção florestal, pesca e aqüicultura|PJ - Criação de bovinos para corte           |PJ - Pequeno                                 |PJ - Investimento                                                             |Sem destinação específica|Prefixado |15                  |11432.43            |30380.97                   |0.0                        |0.0                     |127290.75      |0.0               |Baixo Risco|\n",
            "|2012-01-31|31        |1  |2012|1        |0            |0.49999999999999994|0.8660254037844387|AC |Bancário|PJ     |PJ - Administração pública, defesa e seguridade social             |PJ - Administração pública em geral          |PJ - Médio                                   |PJ - Financiamento de infraestrutura/desenvolvimento/projeto e outros créditos|Com destinação específica|Pós-fixado|15                  |49904.62            |449141.67                  |0.0                        |0.0                     |2395422.2      |0.0               |Baixo Risco|\n",
            "|2012-01-31|31        |1  |2012|1        |0            |0.49999999999999994|0.8660254037844387|AC |Bancário|PJ     |PJ - Agricultura, pecuária, produção florestal, pesca e aqüicultura|PJ - Atividades de apoio à produção florestal|PJ - Médio                                   |PJ - Capital de giro                                                          |Sem destinação específica|Prefixado |15                  |5149.53             |13333.28                   |0.0                        |0.0                     |56834.87       |0.0               |Baixo Risco|\n",
            "|2012-01-31|31        |1  |2012|1        |0            |0.49999999999999994|0.8660254037844387|AC |Bancário|PJ     |PJ - Agricultura, pecuária, produção florestal, pesca e aqüicultura|PJ - Atividades de apoio à produção florestal|PJ - Médio                                   |PJ - Outros créditos                                                          |Sem destinação específica|Prefixado |15                  |1572.01             |0.0                        |0.0                        |0.0                     |1572.01        |0.0               |Baixo Risco|\n",
            "|2012-01-31|31        |1  |2012|1        |0            |0.49999999999999994|0.8660254037844387|AC |Bancário|PJ     |PJ - Agricultura, pecuária, produção florestal, pesca e aqüicultura|PJ - Criação de bovinos para corte           |PJ - Grande                                  |PJ - Financiamento de infraestrutura/desenvolvimento/projeto e outros créditos|Com destinação específica|Prefixado |15                  |8684.38             |41531.27                   |0.0                        |0.0                     |317434.38      |0.0               |Baixo Risco|\n",
            "|2012-01-31|31        |1  |2012|1        |0            |0.49999999999999994|0.8660254037844387|AC |Bancário|PJ     |PJ - Agricultura, pecuária, produção florestal, pesca e aqüicultura|PJ - Criação de bovinos para corte           |PJ - Grande                                  |PJ - Financiamento de infraestrutura/desenvolvimento/projeto e outros créditos|Com destinação específica|Pós-fixado|15                  |211810.44           |0.0                        |0.0                        |0.0                     |5101878.97     |0.0               |Baixo Risco|\n",
            "|2012-01-31|31        |1  |2012|1        |0            |0.49999999999999994|0.8660254037844387|AC |Bancário|PJ     |PJ - Agricultura, pecuária, produção florestal, pesca e aqüicultura|PJ - Criação de bovinos para corte           |PJ - Grande                                  |PJ - Rural e agroindustrial                                                   |Com destinação específica|Prefixado |15                  |518293.39           |5450506.93                 |0.0                        |0.0                     |6897432.14     |0.0               |Baixo Risco|\n",
            "|2012-01-31|31        |1  |2012|1        |0            |0.49999999999999994|0.8660254037844387|AC |Bancário|PJ     |PJ - Agricultura, pecuária, produção florestal, pesca e aqüicultura|PJ - Criação de bovinos para corte           |PJ - Médio                                   |PJ - Capital de giro                                                          |Sem destinação específica|Prefixado |24                  |25146.32            |52101.56                   |0.0                        |0.0                     |98401.48       |0.0               |Baixo Risco|\n",
            "|2012-01-31|31        |1  |2012|1        |0            |0.49999999999999994|0.8660254037844387|AC |Bancário|PJ     |PJ - Agricultura, pecuária, produção florestal, pesca e aqüicultura|PJ - Criação de bovinos para corte           |PJ - Médio                                   |PJ - Investimento                                                             |Sem destinação específica|Prefixado |15                  |10636.96            |19778.16                   |0.0                        |0.0                     |30415.12       |0.0               |Baixo Risco|\n",
            "|2012-01-31|31        |1  |2012|1        |0            |0.49999999999999994|0.8660254037844387|AC |Bancário|PJ     |PJ - Agricultura, pecuária, produção florestal, pesca e aqüicultura|PJ - Criação de bovinos para corte           |PJ - Pequeno                                 |PJ - Capital de giro                                                          |Sem destinação específica|Prefixado |15                  |37950.57            |66096.58                   |0.0                        |0.0                     |148618.19      |0.0               |Baixo Risco|\n",
            "|2012-01-31|31        |1  |2012|1        |0            |0.49999999999999994|0.8660254037844387|AC |Bancário|PJ     |PJ - Agricultura, pecuária, produção florestal, pesca e aqüicultura|PJ - Criação de bovinos para corte           |PJ - Pequeno                                 |PJ - Cheque especial e conta garantida                                        |Sem destinação específica|Prefixado |15                  |17736.55            |0.0                        |0.0                        |0.0                     |17736.55       |0.0               |Baixo Risco|\n",
            "+----------+----------+---+----+---------+-------------+-------------------+------------------+---+--------+-------+-------------------------------------------------------------------+---------------------------------------------+---------------------------------------------+------------------------------------------------------------------------------+-------------------------+----------+--------------------+--------------------+---------------------------+---------------------------+------------------------+---------------+------------------+-----------+\n",
            "only showing top 12 rows\n",
            "\n"
          ]
        }
      ]
    },
    {
      "cell_type": "markdown",
      "metadata": {
        "id": "D035BrT--jVS"
      },
      "source": [
        "## **2.3 Divisão entre atributos/previsores e classe**"
      ]
    },
    {
      "cell_type": "markdown",
      "metadata": {
        "id": "ASql2jIv-z6p"
      },
      "source": [
        "🔳 **Visualizando nome das colunas e a quatidade colunas e linhas**"
      ]
    },
    {
      "cell_type": "code",
      "execution_count": null,
      "metadata": {
        "colab": {
          "base_uri": "https://localhost:8080/"
        },
        "id": "9R51tw3R41gq",
        "outputId": "b75276db-b333-40fc-e7bc-26d2635148b4"
      },
      "outputs": [
        {
          "output_type": "stream",
          "name": "stdout",
          "text": [
            "root\n",
            " |-- data_base: date (nullable = true)\n",
            " |-- dia_do_ano: integer (nullable = true)\n",
            " |-- mes: integer (nullable = true)\n",
            " |-- ano: integer (nullable = true)\n",
            " |-- trimestre: integer (nullable = true)\n",
            " |-- eh_fim_de_ano: integer (nullable = true)\n",
            " |-- mes_sin: double (nullable = true)\n",
            " |-- mes_cos: double (nullable = true)\n",
            " |-- uf: string (nullable = true)\n",
            " |-- tcb: string (nullable = true)\n",
            " |-- cliente: string (nullable = true)\n",
            " |-- cnae_secao: string (nullable = true)\n",
            " |-- cnae_subclasse: string (nullable = true)\n",
            " |-- porte: string (nullable = true)\n",
            " |-- modalidade: string (nullable = true)\n",
            " |-- origem: string (nullable = true)\n",
            " |-- indexador: string (nullable = true)\n",
            " |-- numero_operacoes_int: integer (nullable = true)\n",
            " |-- a_vencer_ate_90_dias: double (nullable = true)\n",
            " |-- a_vencer_de_91_ate_360_dias: double (nullable = true)\n",
            " |-- a_vencer_acima_de_5400_dias: double (nullable = true)\n",
            " |-- vencido_acima_de_15_dias: double (nullable = true)\n",
            " |-- carteira_ativa: double (nullable = true)\n",
            " |-- ativo_problematico: double (nullable = true)\n",
            " |-- classe: string (nullable = false)\n",
            "\n",
            "Número de linhas: 84836262\n",
            "Número de colunas: 25\n"
          ]
        }
      ],
      "source": [
        "# Ver colunas e tipos\n",
        "dados_copia_5.printSchema()\n",
        "\n",
        "# Contar linhas\n",
        "print(\"Número de linhas:\", dados_copia_5.count())\n",
        "print(\"Número de colunas:\", len(dados_copia_5.columns))"
      ]
    },
    {
      "cell_type": "markdown",
      "metadata": {
        "id": "SKIOicEv-38J"
      },
      "source": [
        "🔳  **Separando as variaveis independentes e dependente**"
      ]
    },
    {
      "cell_type": "code",
      "source": [
        "from pyspark.sql.functions import col\n",
        "\n",
        "# Definir features e target\n",
        "features = [\n",
        "    'dia_do_ano', 'mes', 'ano', 'trimestre', 'eh_fim_de_ano', 'mes_sin', 'mes_cos',\n",
        "    'uf', 'tcb', 'cnae_secao', 'cnae_subclasse', 'porte', 'modalidade', 'origem',\n",
        "    'indexador', 'numero_operacoes_int', 'a_vencer_ate_90_dias',\n",
        "    'a_vencer_de_91_ate_360_dias', 'a_vencer_acima_de_5400_dias',\n",
        "    'vencido_acima_de_15_dias', 'carteira_ativa', 'ativo_problematico'\n",
        "]\n",
        "target = \"classe\"\n",
        "\n",
        "# Criar DataFrame apenas com colunas selecionadas\n",
        "dados_modelo = dados_copia_5.select(features + [target])\n",
        "\n",
        "# Verificar\n",
        "print(\"Variáveis independentes:\", features)\n",
        "print(\"Variável dependente:\", target)\n",
        "dados_modelo.show(2)"
      ],
      "metadata": {
        "colab": {
          "base_uri": "https://localhost:8080/"
        },
        "id": "FEhtRwAvWZrJ",
        "outputId": "f03453be-91b0-4add-9d25-5849469c9ee9"
      },
      "execution_count": null,
      "outputs": [
        {
          "output_type": "stream",
          "name": "stdout",
          "text": [
            "Variáveis independentes: ['dia_do_ano', 'mes', 'ano', 'trimestre', 'eh_fim_de_ano', 'mes_sin', 'mes_cos', 'uf', 'tcb', 'cnae_secao', 'cnae_subclasse', 'porte', 'modalidade', 'origem', 'indexador', 'numero_operacoes_int', 'a_vencer_ate_90_dias', 'a_vencer_de_91_ate_360_dias', 'a_vencer_acima_de_5400_dias', 'vencido_acima_de_15_dias', 'carteira_ativa', 'ativo_problematico']\n",
            "Variável dependente: classe\n",
            "+----------+---+----+---------+-------------+-------------------+------------------+---+--------+--------------------+--------------------+--------------------+--------------------+--------------------+----------+--------------------+--------------------+---------------------------+---------------------------+------------------------+---------------+------------------+-----------+\n",
            "|dia_do_ano|mes| ano|trimestre|eh_fim_de_ano|            mes_sin|           mes_cos| uf|     tcb|          cnae_secao|      cnae_subclasse|               porte|          modalidade|              origem| indexador|numero_operacoes_int|a_vencer_ate_90_dias|a_vencer_de_91_ate_360_dias|a_vencer_acima_de_5400_dias|vencido_acima_de_15_dias| carteira_ativa|ativo_problematico|     classe|\n",
            "+----------+---+----+---------+-------------+-------------------+------------------+---+--------+--------------------+--------------------+--------------------+--------------------+--------------------+----------+--------------------+--------------------+---------------------------+---------------------------+------------------------+---------------+------------------+-----------+\n",
            "|        31|  1|2012|        1|            0|0.49999999999999994|0.8660254037844387| AC|Bancário|PJ - Administraçã...|PJ - Administraçã...|PJ - Grande      ...|PJ - Financiament...|Com destinação es...|Pós-fixado|                  42|       2.997587766E7|              8.591296346E7|                  885017.05|                     0.0|1.00931693176E9|               0.0|Baixo Risco|\n",
            "|        31|  1|2012|        1|            0|0.49999999999999994|0.8660254037844387| AC|Bancário|PJ - Agricultura,...|PJ - Atividades d...|PJ - Médio       ...|PJ - Capital de giro|Sem destinação es...| Prefixado|                  15|             5149.53|                   13333.28|                        0.0|                     0.0|       56834.87|               0.0|Baixo Risco|\n",
            "+----------+---+----+---------+-------------+-------------------+------------------+---+--------+--------------------+--------------------+--------------------+--------------------+--------------------+----------+--------------------+--------------------+---------------------------+---------------------------+------------------------+---------------+------------------+-----------+\n",
            "only showing top 2 rows\n",
            "\n"
          ]
        }
      ]
    },
    {
      "cell_type": "markdown",
      "metadata": {
        "id": "ON22cRRR_osB"
      },
      "source": [
        "## **2.3 Tratamento dos atributos categóricos (LabelEncoder, OneHotEncoder)**"
      ]
    },
    {
      "cell_type": "code",
      "source": [
        "from pyspark.ml.feature import StringIndexer, OneHotEncoder\n",
        "from pyspark.ml import Pipeline\n",
        "\n",
        "# Lista de colunas categóricas\n",
        "categorical_cols = ['uf', 'tcb', 'cnae_secao', 'cnae_subclasse', 'porte', 'modalidade', 'origem', 'indexador']\n",
        "\n",
        "# StringIndexer para cada coluna categórica\n",
        "indexers = [StringIndexer(inputCol=col, outputCol=f\"{col}_index\", handleInvalid=\"keep\")\n",
        "            for col in categorical_cols]\n",
        "\n",
        "# OneHotEncoder\n",
        "encoder = OneHotEncoder(\n",
        "    inputCols=[f\"{col}_index\" for col in categorical_cols],\n",
        "    outputCols=[f\"{col}_encoded\" for col in categorical_cols]\n",
        ")\n",
        "\n",
        "# Pipeline e execução\n",
        "pipeline_categoricas = Pipeline(stages=indexers + [encoder])\n",
        "dados_codificados = pipeline_categoricas.fit(dados_modelo).transform(dados_modelo)\n",
        "\n",
        "# Verificar\n",
        "dados_codificados.select([f\"{col}_encoded\" for col in categorical_cols]).show(2)"
      ],
      "metadata": {
        "colab": {
          "base_uri": "https://localhost:8080/"
        },
        "id": "w7kp-PUsIc5_",
        "outputId": "be907efa-7c0b-4efa-9980-676e162dbfe3"
      },
      "execution_count": null,
      "outputs": [
        {
          "output_type": "stream",
          "name": "stdout",
          "text": [
            "+---------------+-------------+------------------+----------------------+-------------+------------------+--------------+-----------------+\n",
            "|     uf_encoded|  tcb_encoded|cnae_secao_encoded|cnae_subclasse_encoded|porte_encoded|modalidade_encoded|origem_encoded|indexador_encoded|\n",
            "+---------------+-------------+------------------+----------------------+-------------+------------------+--------------+-----------------+\n",
            "|(27,[24],[1.0])|(3,[0],[1.0])|   (21,[18],[1.0])|    (1263,[646],[1.0])|(4,[3],[1.0])|     (9,[4],[1.0])| (2,[1],[1.0])|    (6,[1],[1.0])|\n",
            "|(27,[14],[1.0])|(3,[0],[1.0])|    (21,[0],[1.0])|     (1263,[43],[1.0])|(4,[0],[1.0])|     (9,[1],[1.0])| (2,[0],[1.0])|    (6,[0],[1.0])|\n",
            "+---------------+-------------+------------------+----------------------+-------------+------------------+--------------+-----------------+\n",
            "only showing top 2 rows\n",
            "\n"
          ]
        }
      ]
    },
    {
      "cell_type": "markdown",
      "metadata": {
        "id": "xCsSKqBDAyLS"
      },
      "source": [
        "## **2.4 Escalonamento dos Valores Numéricos**"
      ]
    },
    {
      "cell_type": "code",
      "source": [
        "from pyspark.ml.feature import StandardScaler, VectorAssembler\n",
        "\n",
        "# Colunas numéricas para escalonar\n",
        "numeric_cols = [\n",
        "    'dia_do_ano', 'mes', 'ano', 'trimestre', 'eh_fim_de_ano', 'mes_sin', 'mes_cos',\n",
        "    'numero_operacoes_int', 'a_vencer_ate_90_dias', 'a_vencer_de_91_ate_360_dias',\n",
        "    'a_vencer_acima_de_5400_dias', 'vencido_acima_de_15_dias', 'carteira_ativa', 'ativo_problematico'\n",
        "]\n",
        "\n",
        "# Vetorização + Escalonamento\n",
        "numeric_assembler = VectorAssembler(inputCols=numeric_cols, outputCol=\"numeric_features\")\n",
        "scaler = StandardScaler(inputCol=\"numeric_features\", outputCol=\"scaled_numeric_features\")\n",
        "\n",
        "# Aplicar transformações\n",
        "dados_numeric = numeric_assembler.transform(dados_codificados)\n",
        "dados_scaled = scaler.fit(dados_numeric).transform(dados_numeric)\n",
        "\n",
        "# Verificar\n",
        "dados_scaled.select(\"numeric_features\", \"scaled_numeric_features\").show(2, truncate=False)"
      ],
      "metadata": {
        "colab": {
          "base_uri": "https://localhost:8080/"
        },
        "id": "Xjb5z6voVbAg",
        "outputId": "a3606d94-a15a-4091-f4fa-f4039bd5f5a7"
      },
      "execution_count": null,
      "outputs": [
        {
          "output_type": "stream",
          "name": "stdout",
          "text": [
            "+-----------------------------------------------------------------------------------------------------------------------------------+-----------------------------------------------------------------------------------------------------------------------------------------------------------------------------------------------------------------------------+\n",
            "|numeric_features                                                                                                                   |scaled_numeric_features                                                                                                                                                                                                      |\n",
            "+-----------------------------------------------------------------------------------------------------------------------------------+-----------------------------------------------------------------------------------------------------------------------------------------------------------------------------------------------------------------------------+\n",
            "|[31.0,1.0,2012.0,1.0,0.0,0.49999999999999994,0.8660254037844387,42.0,2.997587766E7,8.591296346E7,885017.05,0.0,1.00931693176E9,0.0]|[0.29463524707573613,0.28987897728248424,536.252462089331,0.8947838634477688,0.0,0.7079572260701248,1.2233745044578064,0.04605120111287256,2.445933325895968,6.348372460039786,0.06774822104147826,0.0,14.14981591421144,0.0]|\n",
            "|[31.0,1.0,2012.0,1.0,0.0,0.49999999999999994,0.8660254037844387,15.0,49904.62,449141.67,0.0,0.0,2395422.2,0.0]                     |[0.29463524707573613,0.28987897728248424,536.252462089331,0.8947838634477688,0.0,0.7079572260701248,1.2233745044578064,0.016446857540311628,0.004072053354322852,0.03318845601003877,0.0,0.0,0.03358190286941014,0.0]        |\n",
            "+-----------------------------------------------------------------------------------------------------------------------------------+-----------------------------------------------------------------------------------------------------------------------------------------------------------------------------------------------------------------------------+\n",
            "only showing top 2 rows\n",
            "\n"
          ]
        }
      ]
    },
    {
      "cell_type": "markdown",
      "source": [
        "## **2.5 Preparação Final dos Dados**"
      ],
      "metadata": {
        "id": "MX7962ZsiBsq"
      }
    },
    {
      "cell_type": "code",
      "source": [
        "from pyspark.ml.feature import VectorAssembler\n",
        "\n",
        "# Combinar features categóricas (já codificadas) e numéricas (já escalonadas)\n",
        "final_assembler = VectorAssembler(\n",
        "    inputCols=[f\"{col}_encoded\" for col in categorical_cols] + [\"scaled_numeric_features\"],\n",
        "    outputCol=\"features\"\n",
        ")\n",
        "\n",
        "# Aplicar\n",
        "dados_finais = final_assembler.transform(dados_scaled)\n",
        "\n",
        "# Verificar esquema\n",
        "dados_finais.printSchema()\n",
        "dados_finais.select(\"features\", \"classe\").show(2, truncate=False)"
      ],
      "metadata": {
        "colab": {
          "base_uri": "https://localhost:8080/"
        },
        "id": "4qFjSMaBiP0S",
        "outputId": "13c26f1b-f38f-47dc-dfc9-191301e6e49c"
      },
      "execution_count": null,
      "outputs": [
        {
          "output_type": "stream",
          "name": "stdout",
          "text": [
            "root\n",
            " |-- dia_do_ano: integer (nullable = true)\n",
            " |-- mes: integer (nullable = true)\n",
            " |-- ano: integer (nullable = true)\n",
            " |-- trimestre: integer (nullable = true)\n",
            " |-- eh_fim_de_ano: integer (nullable = true)\n",
            " |-- mes_sin: double (nullable = true)\n",
            " |-- mes_cos: double (nullable = true)\n",
            " |-- uf: string (nullable = true)\n",
            " |-- tcb: string (nullable = true)\n",
            " |-- cnae_secao: string (nullable = true)\n",
            " |-- cnae_subclasse: string (nullable = true)\n",
            " |-- porte: string (nullable = true)\n",
            " |-- modalidade: string (nullable = true)\n",
            " |-- origem: string (nullable = true)\n",
            " |-- indexador: string (nullable = true)\n",
            " |-- numero_operacoes_int: integer (nullable = true)\n",
            " |-- a_vencer_ate_90_dias: double (nullable = true)\n",
            " |-- a_vencer_de_91_ate_360_dias: double (nullable = true)\n",
            " |-- a_vencer_acima_de_5400_dias: double (nullable = true)\n",
            " |-- vencido_acima_de_15_dias: double (nullable = true)\n",
            " |-- carteira_ativa: double (nullable = true)\n",
            " |-- ativo_problematico: double (nullable = true)\n",
            " |-- classe: string (nullable = false)\n",
            " |-- uf_index: double (nullable = false)\n",
            " |-- tcb_index: double (nullable = false)\n",
            " |-- cnae_secao_index: double (nullable = false)\n",
            " |-- cnae_subclasse_index: double (nullable = false)\n",
            " |-- porte_index: double (nullable = false)\n",
            " |-- modalidade_index: double (nullable = false)\n",
            " |-- origem_index: double (nullable = false)\n",
            " |-- indexador_index: double (nullable = false)\n",
            " |-- uf_encoded: vector (nullable = true)\n",
            " |-- tcb_encoded: vector (nullable = true)\n",
            " |-- cnae_secao_encoded: vector (nullable = true)\n",
            " |-- cnae_subclasse_encoded: vector (nullable = true)\n",
            " |-- porte_encoded: vector (nullable = true)\n",
            " |-- modalidade_encoded: vector (nullable = true)\n",
            " |-- origem_encoded: vector (nullable = true)\n",
            " |-- indexador_encoded: vector (nullable = true)\n",
            " |-- numeric_features: vector (nullable = true)\n",
            " |-- scaled_numeric_features: vector (nullable = true)\n",
            " |-- features: vector (nullable = true)\n",
            "\n",
            "+--------------------------------------------------------------------------------------------------------------------------------------------------------------------------------------------------------------------------------------------------------------------------------------------------------------------------------------------------+-----------+\n",
            "|features                                                                                                                                                                                                                                                                                                                                          |classe     |\n",
            "+--------------------------------------------------------------------------------------------------------------------------------------------------------------------------------------------------------------------------------------------------------------------------------------------------------------------------------------------------+-----------+\n",
            "|(1349,[24,27,48,697,1317,1322,1328,1330,1335,1336,1337,1338,1340,1341,1342,1343,1344,1345,1347],[1.0,1.0,1.0,1.0,1.0,1.0,1.0,1.0,0.29463524707573613,0.28987897728248424,536.252462089331,0.8947838634477688,0.7079572260701248,1.2233745044578064,0.04605120111287256,2.445933325895968,6.348372460039786,0.06774822104147826,14.14981591421144])|Baixo Risco|\n",
            "|(1349,[24,27,48,697,1316,1322,1328,1330,1335,1336,1337,1338,1340,1341,1342,1343,1344,1347],[1.0,1.0,1.0,1.0,1.0,1.0,1.0,1.0,0.29463524707573613,0.28987897728248424,536.252462089331,0.8947838634477688,0.7079572260701248,1.2233745044578064,0.016446857540311628,0.004072053354322852,0.03318845601003877,0.03358190286941014])                 |Baixo Risco|\n",
            "+--------------------------------------------------------------------------------------------------------------------------------------------------------------------------------------------------------------------------------------------------------------------------------------------------------------------------------------------------+-----------+\n",
            "only showing top 2 rows\n",
            "\n"
          ]
        }
      ]
    },
    {
      "cell_type": "markdown",
      "metadata": {
        "id": "T1_TLrh9BXNg"
      },
      "source": [
        "## **2.6 Divisão da base em treinamento e teste**"
      ]
    },
    {
      "cell_type": "code",
      "execution_count": null,
      "metadata": {
        "id": "nJLI2qJwBcN5",
        "colab": {
          "base_uri": "https://localhost:8080/"
        },
        "outputId": "539b28a4-2089-47cc-a3d1-6f19c390929a"
      },
      "outputs": [
        {
          "output_type": "stream",
          "name": "stdout",
          "text": [
            "Treino: 67864112 linhas\n",
            "Teste: 16972150 linhas\n",
            "\n",
            "Distribuição no treino:\n",
            "+-----------+--------+\n",
            "|     classe|   count|\n",
            "+-----------+--------+\n",
            "| Alto Risco|16644406|\n",
            "|Médio Risco| 2760919|\n",
            "|Baixo Risco|48458787|\n",
            "+-----------+--------+\n",
            "\n",
            "\n",
            "Distribuição no teste:\n",
            "+-----------+--------+\n",
            "|     classe|   count|\n",
            "+-----------+--------+\n",
            "| Alto Risco| 4163016|\n",
            "|Médio Risco|  692179|\n",
            "|Baixo Risco|12116955|\n",
            "+-----------+--------+\n",
            "\n"
          ]
        }
      ],
      "source": [
        "# Divisão 80% treino, 20% teste\n",
        "train, test = dados_finais.randomSplit([0.8, 0.2], seed=42)\n",
        "\n",
        "# Contagem de linhas\n",
        "print(f\"Treino: {train.count()} linhas\")\n",
        "print(f\"Teste: {test.count()} linhas\")\n",
        "\n",
        "# Ver proporção das classes\n",
        "print(\"\\nDistribuição no treino:\")\n",
        "train.groupBy(\"classe\").count().show()\n",
        "\n",
        "print(\"\\nDistribuição no teste:\")\n",
        "test.groupBy(\"classe\").count().show()"
      ]
    },
    {
      "cell_type": "markdown",
      "metadata": {
        "id": "SkU1D3PgBa-R"
      },
      "source": [
        "## **2.7 Salvando os dados processados**"
      ]
    },
    {
      "cell_type": "code",
      "source": [
        "# Definir o caminho base\n",
        "base_path = \"/content/drive/My Drive/BCB_Dados_Corrigidos_2024/\"\n",
        "\n",
        "# Salvar os dados de treino e teste\n",
        "train.write.mode(\"overwrite\").parquet(base_path + \"dados_treino.parquet\")\n",
        "test.write.mode(\"overwrite\").parquet(base_path + \"dados_teste.parquet\")"
      ],
      "metadata": {
        "id": "xRYmEsJFGidY"
      },
      "execution_count": null,
      "outputs": []
    },
    {
      "cell_type": "markdown",
      "metadata": {
        "id": "ZByfg2uxBk0h"
      },
      "source": [
        "# **3. Modelagem**"
      ]
    },
    {
      "cell_type": "markdown",
      "source": [
        "## **3.1 Carregando e visualizando os dados processados**"
      ],
      "metadata": {
        "id": "3i-aUZkhGzFH"
      }
    },
    {
      "cell_type": "markdown",
      "source": [
        "🔳 **Iniciando o spark**"
      ],
      "metadata": {
        "id": "dy_oAynqJeVA"
      }
    },
    {
      "cell_type": "code",
      "source": [
        "# 1️⃣ Instalar Java 8 (necessário para o Spark)\n",
        "!apt-get install openjdk-8-jdk-headless -qq > /dev/null\n",
        "\n",
        "# 2️⃣ Baixar e configurar o Spark\n",
        "# Baixar o Spark 3.2.1 com Hadoop 2.7\n",
        "!wget -q https://archive.apache.org/dist/spark/spark-3.2.1/spark-3.2.1-bin-hadoop2.7.tgz\n",
        "\n",
        "# Extrair o arquivo baixado\n",
        "!tar xf spark-3.2.1-bin-hadoop2.7.tgz\n",
        "\n",
        "# Configurar as variáveis de ambiente\n",
        "import os\n",
        "os.environ[\"JAVA_HOME\"] = \"/usr/lib/jvm/java-8-openjdk-amd64\"\n",
        "os.environ[\"SPARK_HOME\"] = \"/content/spark-3.2.1-bin-hadoop2.7\"\n",
        "\n",
        "# 3️⃣ Instalar o findspark e inicializar o Spark\n",
        "!pip install -q findspark\n",
        "import findspark\n",
        "findspark.init()\n",
        "\n",
        "# 4️⃣ Montar o Google Drive\n",
        "from google.colab import drive\n",
        "drive.mount('/content/drive', force_remount=True)\n",
        "\n",
        "# 5️⃣ Criar uma sessão Spark\n",
        "from pyspark.sql import SparkSession\n",
        "\n",
        "# Criar a sessão Spark\n",
        "spark = SparkSession.builder \\\n",
        "    .master(\"local[*]\") \\\n",
        "    .appName(\"ParquetProcessing\") \\\n",
        "    .getOrCreate()"
      ],
      "metadata": {
        "colab": {
          "base_uri": "https://localhost:8080/"
        },
        "id": "cfKfuwfdJouY",
        "outputId": "ba5b1e0a-8a32-4268-8ded-38529c61c143"
      },
      "execution_count": null,
      "outputs": [
        {
          "output_type": "stream",
          "name": "stdout",
          "text": [
            "Mounted at /content/drive\n"
          ]
        }
      ]
    },
    {
      "cell_type": "markdown",
      "source": [
        "🔳 **Carregando os dados processados**"
      ],
      "metadata": {
        "id": "aAlq-8jnHCWe"
      }
    },
    {
      "cell_type": "code",
      "source": [
        "from pyspark.sql.types import *\n",
        "from pyspark.ml.linalg import VectorUDT  # Importação necessária para VectorUDT\n",
        "\n",
        "# Definir caminhos\n",
        "base_path = \"/content/drive/My Drive/BCB_Dados_Corrigidos_2024/\"\n",
        "train_path = base_path + \"dados_treino.parquet\"\n",
        "test_path = base_path + \"dados_teste.parquet\"\n",
        "\n",
        "# Verificar se arquivos existem\n",
        "if not os.path.exists(train_path):\n",
        "    raise FileNotFoundError(f\"Arquivo {train_path} não encontrado!\")\n",
        "if not os.path.exists(test_path):\n",
        "    raise FileNotFoundError(f\"Arquivo {test_path} não encontrado!\")\n",
        "\n",
        "# Definir schema manual\n",
        "custom_schema = StructType([\n",
        "    StructField(\"dia_do_ano\", IntegerType(), True),\n",
        "    StructField(\"mes\", IntegerType(), True),\n",
        "    StructField(\"ano\", IntegerType(), True),\n",
        "    StructField(\"trimestre\", IntegerType(), True),\n",
        "    StructField(\"eh_fim_de_ano\", IntegerType(), True),\n",
        "    StructField(\"mes_sin\", DoubleType(), True),\n",
        "    StructField(\"mes_cos\", DoubleType(), True),\n",
        "    StructField(\"uf\", StringType(), True),\n",
        "    StructField(\"tcb\", StringType(), True),\n",
        "    StructField(\"cnae_secao\", StringType(), True),\n",
        "    StructField(\"cnae_subclasse\", StringType(), True),\n",
        "    StructField(\"porte\", StringType(), True),\n",
        "    StructField(\"modalidade\", StringType(), True),\n",
        "    StructField(\"origem\", StringType(), True),\n",
        "    StructField(\"indexador\", StringType(), True),\n",
        "    StructField(\"numero_operacoes_int\", IntegerType(), True),\n",
        "    StructField(\"a_vencer_ate_90_dias\", DoubleType(), True),\n",
        "    StructField(\"a_vencer_de_91_ate_360_dias\", DoubleType(), True),\n",
        "    StructField(\"a_vencer_acima_de_5400_dias\", DoubleType(), True),\n",
        "    StructField(\"vencido_acima_de_15_dias\", DoubleType(), True),\n",
        "    StructField(\"carteira_ativa\", DoubleType(), True),\n",
        "    StructField(\"ativo_problematico\", DoubleType(), True),\n",
        "    StructField(\"classe\", StringType(), False),\n",
        "    StructField(\"features\", VectorUDT(), True)  # Agora VectorUDT está definido\n",
        "])\n",
        "\n",
        "# Carregar dados com schema manual\n",
        "try:\n",
        "    train = spark.read.schema(custom_schema).parquet(train_path)\n",
        "    test = spark.read.schema(custom_schema).parquet(test_path)\n",
        "\n",
        "    print(\"Dados carregados com sucesso!\")\n",
        "    print(\"\\nEsquema do treino:\")\n",
        "    train.printSchema()\n",
        "\n",
        "except Exception as e:\n",
        "    print(f\"Erro ao carregar dados: {str(e)}\")"
      ],
      "metadata": {
        "colab": {
          "base_uri": "https://localhost:8080/"
        },
        "id": "aCbOlGJHKc1_",
        "outputId": "1bb41e7a-41d2-416d-a3e1-40479baf2030"
      },
      "execution_count": null,
      "outputs": [
        {
          "output_type": "stream",
          "name": "stdout",
          "text": [
            "Dados carregados com sucesso!\n",
            "\n",
            "Esquema do treino:\n",
            "root\n",
            " |-- dia_do_ano: integer (nullable = true)\n",
            " |-- mes: integer (nullable = true)\n",
            " |-- ano: integer (nullable = true)\n",
            " |-- trimestre: integer (nullable = true)\n",
            " |-- eh_fim_de_ano: integer (nullable = true)\n",
            " |-- mes_sin: double (nullable = true)\n",
            " |-- mes_cos: double (nullable = true)\n",
            " |-- uf: string (nullable = true)\n",
            " |-- tcb: string (nullable = true)\n",
            " |-- cnae_secao: string (nullable = true)\n",
            " |-- cnae_subclasse: string (nullable = true)\n",
            " |-- porte: string (nullable = true)\n",
            " |-- modalidade: string (nullable = true)\n",
            " |-- origem: string (nullable = true)\n",
            " |-- indexador: string (nullable = true)\n",
            " |-- numero_operacoes_int: integer (nullable = true)\n",
            " |-- a_vencer_ate_90_dias: double (nullable = true)\n",
            " |-- a_vencer_de_91_ate_360_dias: double (nullable = true)\n",
            " |-- a_vencer_acima_de_5400_dias: double (nullable = true)\n",
            " |-- vencido_acima_de_15_dias: double (nullable = true)\n",
            " |-- carteira_ativa: double (nullable = true)\n",
            " |-- ativo_problematico: double (nullable = true)\n",
            " |-- classe: string (nullable = true)\n",
            " |-- features: vector (nullable = true)\n",
            "\n"
          ]
        }
      ]
    },
    {
      "cell_type": "markdown",
      "source": [
        "🔳 **Visualizando os dados treino**"
      ],
      "metadata": {
        "id": "tuAbkeuqHGov"
      }
    },
    {
      "cell_type": "code",
      "source": [
        "train.show(10, truncate=False)\n",
        "print(\"Número de linhas:\", train.count())"
      ],
      "metadata": {
        "colab": {
          "base_uri": "https://localhost:8080/"
        },
        "id": "mBGNIBoaHKSO",
        "outputId": "91d53b32-ebd7-4f9c-cbb7-4a6f3894442b"
      },
      "execution_count": null,
      "outputs": [
        {
          "output_type": "stream",
          "name": "stdout",
          "text": [
            "+----------+---+----+---------+-------------+-------------------+-------------------+---+--------+-------------------------------------------------------------------+---------------------------------------------+---------------------------------------------+------------------------------------------------------------------------------+-------------------------+-----------------+--------------------+--------------------+---------------------------+---------------------------+------------------------+--------------+------------------+-----------+------------------------------------------------------------------------------------------------------------------------------------------------------------------------------------------------------------------------------------------------------------------------------------------------------------------------------------------------------------------------+\n",
            "|dia_do_ano|mes|ano |trimestre|eh_fim_de_ano|mes_sin            |mes_cos            |uf |tcb     |cnae_secao                                                         |cnae_subclasse                               |porte                                        |modalidade                                                                    |origem                   |indexador        |numero_operacoes_int|a_vencer_ate_90_dias|a_vencer_de_91_ate_360_dias|a_vencer_acima_de_5400_dias|vencido_acima_de_15_dias|carteira_ativa|ativo_problematico|classe     |features                                                                                                                                                                                                                                                                                                                                                                |\n",
            "+----------+---+----+---------+-------------+-------------------+-------------------+---+--------+-------------------------------------------------------------------+---------------------------------------------+---------------------------------------------+------------------------------------------------------------------------------+-------------------------+-----------------+--------------------+--------------------+---------------------------+---------------------------+------------------------+--------------+------------------+-----------+------------------------------------------------------------------------------------------------------------------------------------------------------------------------------------------------------------------------------------------------------------------------------------------------------------------------------------------------------------------------+\n",
            "|151       |5  |2017|2        |0            |0.49999999999999994|-0.8660254037844387|AC |Bancário|PJ - Administração pública, defesa e seguridade social             |PJ - Administração pública em geral          |PJ - Grande                                  |PJ - Financiamento de infraestrutura/desenvolvimento/projeto e outros créditos|Com destinação específica|Pós-fixado       |65                  |6.866475997E7       |1.9031936443E8             |5.325798286E7              |0.0                     |1.7575264692E9|7.4564378638E8    |Alto Risco |(1349,[24,27,48,697,1317,1322,1328,1330,1335,1336,1337,1338,1340,1341,1342,1343,1344,1345,1347,1348],[1.0,1.0,1.0,1.0,1.0,1.0,1.0,1.0,1.4351587841431017,1.449394886412421,537.5850974324953,1.7895677268955377,0.7079572260701248,-1.2233745044578064,0.07126971600801706,5.6028192612149335,14.063281757498903,4.076908569188063,24.63911504998649,74.20500435757099])|\n",
            "|151       |5  |2017|2        |0            |0.49999999999999994|-0.8660254037844387|AC |Bancário|PJ - Administração pública, defesa e seguridade social             |PJ - Administração pública em geral          |PJ - Grande                                  |PJ - Financiamento de infraestrutura/desenvolvimento/projeto e outros créditos|Com destinação específica|Índices de preços|15                  |829198.31           |0.0                        |0.0                        |0.0                     |3369089.63    |0.0               |Baixo Risco|(1349,[24,27,48,697,1317,1322,1328,1333,1335,1336,1337,1338,1340,1341,1342,1343,1347],[1.0,1.0,1.0,1.0,1.0,1.0,1.0,1.0,1.4351587841431017,1.449394886412421,537.5850974324953,1.7895677268955377,0.7079572260701248,-1.2233745044578064,0.016446857540311628,0.06765986314762722,0.0472319412890959])                                                                   |\n",
            "|151       |5  |2017|2        |0            |0.49999999999999994|-0.8660254037844387|AC |Bancário|PJ - Agricultura, pecuária, produção florestal, pesca e aqüicultura|PJ - Atividades de apoio à produção florestal|PJ - Micro                                   |PJ - Investimento                                                             |Sem destinação específica|Prefixado        |15                  |6028.45             |16551.06                   |0.0                        |0.0                     |37060.07      |0.0               |Baixo Risco|(1349,[24,27,41,380,1315,1321,1327,1329,1335,1336,1337,1338,1340,1341,1342,1343,1344,1347],[1.0,1.0,1.0,1.0,1.0,1.0,1.0,1.0,1.4351587841431017,1.449394886412421,537.5850974324953,1.7895677268955377,0.7079572260701248,-1.2233745044578064,0.016446857540311628,4.919017526607276E-4,0.0012230086037875584,5.195525327741976E-4])                                     |\n",
            "|151       |5  |2017|2        |0            |0.49999999999999994|-0.8660254037844387|AC |Bancário|PJ - Agricultura, pecuária, produção florestal, pesca e aqüicultura|PJ - Criação de bovinos para corte           |PJ - Micro                                   |PJ - Cheque especial e conta garantida                                        |Sem destinação específica|Prefixado        |15                  |0.0                 |586.96                     |0.0                        |0.0                     |586.96        |0.0               |Baixo Risco|(1349,[24,27,41,199,1315,1320,1327,1329,1335,1336,1337,1338,1340,1341,1342,1344,1347],[1.0,1.0,1.0,1.0,1.0,1.0,1.0,1.0,1.4351587841431017,1.449394886412421,537.5850974324953,1.7895677268955377,0.7079572260701248,-1.2233745044578064,0.016446857540311628,4.337227525482629E-5,8.22870962297543E-6])                                                                 |\n",
            "|151       |5  |2017|2        |0            |0.49999999999999994|-0.8660254037844387|AC |Bancário|PJ - Agricultura, pecuária, produção florestal, pesca e aqüicultura|PJ - Criação de bovinos para corte           |PJ - Micro                                   |PJ - Rural e agroindustrial                                                   |Com destinação específica|Prefixado        |15                  |376253.7            |0.0                        |0.0                        |0.0                     |752505.14     |0.0               |Baixo Risco|(1349,[24,27,41,199,1315,1325,1328,1329,1335,1336,1337,1338,1340,1341,1342,1343,1347],[1.0,1.0,1.0,1.0,1.0,1.0,1.0,1.0,1.4351587841431017,1.449394886412421,537.5850974324953,1.7895677268955377,0.7079572260701248,-1.2233745044578064,0.016446857540311628,0.030701068180889548,0.010549520047118156])                                                                |\n",
            "|151       |5  |2017|2        |0            |0.49999999999999994|-0.8660254037844387|AC |Bancário|PJ - Agricultura, pecuária, produção florestal, pesca e aqüicultura|PJ - Criação de bovinos para corte           |PJ - Médio                                   |PJ - Capital de giro                                                          |Sem destinação específica|Flutuantes       |15                  |39577.53            |75000.0                    |0.0                        |0.0                     |114577.53     |0.0               |Baixo Risco|(1349,[24,27,41,199,1316,1318,1327,1331,1335,1336,1337,1338,1340,1341,1342,1343,1344,1347],[1.0,1.0,1.0,1.0,1.0,1.0,1.0,1.0,1.4351587841431017,1.449394886412421,537.5850974324953,1.7895677268955377,0.7079572260701248,-1.2233745044578064,0.016446857540311628,0.003229396672939566,0.005541980107864201,0.0016062853068143587])                                     |\n",
            "|151       |5  |2017|2        |0            |0.49999999999999994|-0.8660254037844387|AC |Bancário|PJ - Agricultura, pecuária, produção florestal, pesca e aqüicultura|PJ - Criação de bovinos para corte           |PJ - Médio                                   |PJ - Capital de giro                                                          |Sem destinação específica|Prefixado        |15                  |19790.09            |41198.82                   |0.0                        |0.0                     |60988.91      |0.0               |Baixo Risco|(1349,[24,27,41,199,1316,1318,1327,1329,1335,1336,1337,1338,1340,1341,1342,1343,1344,1347],[1.0,1.0,1.0,1.0,1.0,1.0,1.0,1.0,1.4351587841431017,1.449394886412421,537.5850974324953,1.7895677268955377,0.7079572260701248,-1.2233745044578064,0.016446857540311628,0.0016148064521250966,0.003044307212099704,8.550157261342893E-4])                                     |\n",
            "|151       |5  |2017|2        |0            |0.49999999999999994|-0.8660254037844387|AC |Bancário|PJ - Agricultura, pecuária, produção florestal, pesca e aqüicultura|PJ - Criação de bovinos para corte           |PJ - Médio                                   |PJ - Cheque especial e conta garantida                                        |Sem destinação específica|Prefixado        |15                  |5299.16             |4055.18                    |0.0                        |0.0                     |9354.34       |0.0               |Baixo Risco|(1349,[24,27,41,199,1316,1320,1327,1329,1335,1336,1337,1338,1340,1341,1342,1343,1344,1347],[1.0,1.0,1.0,1.0,1.0,1.0,1.0,1.0,1.4351587841431017,1.449394886412421,537.5850974324953,1.7895677268955377,0.7079572260701248,-1.2233745044578064,0.016446857540311628,4.3239408000889465E-4,2.9964969191745E-4,1.3114036318417606E-4])                                      |\n",
            "|151       |5  |2017|2        |0            |0.49999999999999994|-0.8660254037844387|AC |Bancário|PJ - Agricultura, pecuária, produção florestal, pesca e aqüicultura|PJ - Criação de bovinos para corte           |PJ - Médio                                   |PJ - Investimento                                                             |Sem destinação específica|Prefixado        |15                  |31248.1             |0.0                        |0.0                        |0.0                     |31248.1       |0.0               |Baixo Risco|(1349,[24,27,41,199,1316,1321,1327,1329,1335,1336,1337,1338,1340,1341,1342,1343,1347],[1.0,1.0,1.0,1.0,1.0,1.0,1.0,1.0,1.4351587841431017,1.449394886412421,537.5850974324953,1.7895677268955377,0.7079572260701248,-1.2233745044578064,0.016446857540311628,0.0025497424972119997,4.380733630395572E-4])                                                               |\n",
            "|151       |5  |2017|2        |0            |0.49999999999999994|-0.8660254037844387|AC |Bancário|PJ - Agricultura, pecuária, produção florestal, pesca e aqüicultura|PJ - Criação de bovinos para corte           |PJ - Pequeno                                 |PJ - Capital de giro                                                          |Sem destinação específica|Prefixado        |15                  |49405.22            |57016.96                   |0.0                        |0.0                     |106422.18     |0.0               |Baixo Risco|(1349,[24,27,41,199,1314,1318,1327,1329,1335,1336,1337,1338,1340,1341,1342,1343,1344,1347],[1.0,1.0,1.0,1.0,1.0,1.0,1.0,1.0,1.4351587841431017,1.449394886412421,537.5850974324953,1.7895677268955377,0.7079572260701248,-1.2233745044578064,0.016446857540311628,0.004031303951859737,0.004213158108411851,0.0014919538242197479])                                     |\n",
            "+----------+---+----+---------+-------------+-------------------+-------------------+---+--------+-------------------------------------------------------------------+---------------------------------------------+---------------------------------------------+------------------------------------------------------------------------------+-------------------------+-----------------+--------------------+--------------------+---------------------------+---------------------------+------------------------+--------------+------------------+-----------+------------------------------------------------------------------------------------------------------------------------------------------------------------------------------------------------------------------------------------------------------------------------------------------------------------------------------------------------------------------------+\n",
            "only showing top 10 rows\n",
            "\n",
            "Número de linhas: 67864112\n"
          ]
        }
      ]
    },
    {
      "cell_type": "markdown",
      "source": [
        "🔳 **Ajustando a classe nos dados de treino**"
      ],
      "metadata": {
        "id": "CDEYRup1hLxT"
      }
    },
    {
      "cell_type": "code",
      "source": [
        "from pyspark.ml.feature import StringIndexer\n",
        "\n",
        "# Criar um indexador para a coluna \"classe\"\n",
        "indexer = StringIndexer(inputCol=\"classe\", outputCol=\"label\")\n",
        "train_1 = indexer.fit(train).transform(train)\n",
        "\n",
        "# Verificar o resultado\n",
        "train_1.select(\"classe\", \"label\").show(5)"
      ],
      "metadata": {
        "colab": {
          "base_uri": "https://localhost:8080/"
        },
        "id": "OQ4z2yPbhFyU",
        "outputId": "7010ea13-1299-40ff-a346-f94360beb460"
      },
      "execution_count": null,
      "outputs": [
        {
          "output_type": "stream",
          "name": "stdout",
          "text": [
            "+-----------+-----+\n",
            "|     classe|label|\n",
            "+-----------+-----+\n",
            "| Alto Risco|  1.0|\n",
            "|Baixo Risco|  0.0|\n",
            "|Baixo Risco|  0.0|\n",
            "|Baixo Risco|  0.0|\n",
            "|Baixo Risco|  0.0|\n",
            "+-----------+-----+\n",
            "only showing top 5 rows\n",
            "\n"
          ]
        }
      ]
    },
    {
      "cell_type": "code",
      "source": [
        "# Visualizando a base completa\n",
        "train_1.show(10)"
      ],
      "metadata": {
        "colab": {
          "base_uri": "https://localhost:8080/"
        },
        "id": "afR0N5gheGN5",
        "outputId": "121762f6-03f4-4a46-f466-4015a797a04b"
      },
      "execution_count": null,
      "outputs": [
        {
          "output_type": "stream",
          "name": "stdout",
          "text": [
            "+----------+---+----+---------+-------------+-------------------+-------------------+---+--------+--------------------+--------------------+--------------------+--------------------+--------------------+-----------------+--------------------+--------------------+---------------------------+---------------------------+------------------------+--------------+------------------+-----------+--------------------+-----+\n",
            "|dia_do_ano|mes| ano|trimestre|eh_fim_de_ano|            mes_sin|            mes_cos| uf|     tcb|          cnae_secao|      cnae_subclasse|               porte|          modalidade|              origem|        indexador|numero_operacoes_int|a_vencer_ate_90_dias|a_vencer_de_91_ate_360_dias|a_vencer_acima_de_5400_dias|vencido_acima_de_15_dias|carteira_ativa|ativo_problematico|     classe|            features|label|\n",
            "+----------+---+----+---------+-------------+-------------------+-------------------+---+--------+--------------------+--------------------+--------------------+--------------------+--------------------+-----------------+--------------------+--------------------+---------------------------+---------------------------+------------------------+--------------+------------------+-----------+--------------------+-----+\n",
            "|       151|  5|2017|        2|            0|0.49999999999999994|-0.8660254037844387| AC|Bancário|PJ - Administraçã...|PJ - Administraçã...|PJ - Grande      ...|PJ - Financiament...|Com destinação es...|       Pós-fixado|                  65|       6.866475997E7|             1.9031936443E8|              5.325798286E7|                     0.0|1.7575264692E9|    7.4564378638E8| Alto Risco|(1349,[24,27,48,6...|  1.0|\n",
            "|       151|  5|2017|        2|            0|0.49999999999999994|-0.8660254037844387| AC|Bancário|PJ - Administraçã...|PJ - Administraçã...|PJ - Grande      ...|PJ - Financiament...|Com destinação es...|Índices de preços|                  15|           829198.31|                        0.0|                        0.0|                     0.0|    3369089.63|               0.0|Baixo Risco|(1349,[24,27,48,6...|  0.0|\n",
            "|       151|  5|2017|        2|            0|0.49999999999999994|-0.8660254037844387| AC|Bancário|PJ - Agricultura,...|PJ - Atividades d...|PJ - Micro       ...|   PJ - Investimento|Sem destinação es...|        Prefixado|                  15|             6028.45|                   16551.06|                        0.0|                     0.0|      37060.07|               0.0|Baixo Risco|(1349,[24,27,41,3...|  0.0|\n",
            "|       151|  5|2017|        2|            0|0.49999999999999994|-0.8660254037844387| AC|Bancário|PJ - Agricultura,...|PJ - Criação de b...|PJ - Micro       ...|PJ - Cheque espec...|Sem destinação es...|        Prefixado|                  15|                 0.0|                     586.96|                        0.0|                     0.0|        586.96|               0.0|Baixo Risco|(1349,[24,27,41,1...|  0.0|\n",
            "|       151|  5|2017|        2|            0|0.49999999999999994|-0.8660254037844387| AC|Bancário|PJ - Agricultura,...|PJ - Criação de b...|PJ - Micro       ...|PJ - Rural e agro...|Com destinação es...|        Prefixado|                  15|            376253.7|                        0.0|                        0.0|                     0.0|     752505.14|               0.0|Baixo Risco|(1349,[24,27,41,1...|  0.0|\n",
            "|       151|  5|2017|        2|            0|0.49999999999999994|-0.8660254037844387| AC|Bancário|PJ - Agricultura,...|PJ - Criação de b...|PJ - Médio       ...|PJ - Capital de giro|Sem destinação es...|       Flutuantes|                  15|            39577.53|                    75000.0|                        0.0|                     0.0|     114577.53|               0.0|Baixo Risco|(1349,[24,27,41,1...|  0.0|\n",
            "|       151|  5|2017|        2|            0|0.49999999999999994|-0.8660254037844387| AC|Bancário|PJ - Agricultura,...|PJ - Criação de b...|PJ - Médio       ...|PJ - Capital de giro|Sem destinação es...|        Prefixado|                  15|            19790.09|                   41198.82|                        0.0|                     0.0|      60988.91|               0.0|Baixo Risco|(1349,[24,27,41,1...|  0.0|\n",
            "|       151|  5|2017|        2|            0|0.49999999999999994|-0.8660254037844387| AC|Bancário|PJ - Agricultura,...|PJ - Criação de b...|PJ - Médio       ...|PJ - Cheque espec...|Sem destinação es...|        Prefixado|                  15|             5299.16|                    4055.18|                        0.0|                     0.0|       9354.34|               0.0|Baixo Risco|(1349,[24,27,41,1...|  0.0|\n",
            "|       151|  5|2017|        2|            0|0.49999999999999994|-0.8660254037844387| AC|Bancário|PJ - Agricultura,...|PJ - Criação de b...|PJ - Médio       ...|   PJ - Investimento|Sem destinação es...|        Prefixado|                  15|             31248.1|                        0.0|                        0.0|                     0.0|       31248.1|               0.0|Baixo Risco|(1349,[24,27,41,1...|  0.0|\n",
            "|       151|  5|2017|        2|            0|0.49999999999999994|-0.8660254037844387| AC|Bancário|PJ - Agricultura,...|PJ - Criação de b...|PJ - Pequeno     ...|PJ - Capital de giro|Sem destinação es...|        Prefixado|                  15|            49405.22|                   57016.96|                        0.0|                     0.0|     106422.18|               0.0|Baixo Risco|(1349,[24,27,41,1...|  0.0|\n",
            "+----------+---+----+---------+-------------+-------------------+-------------------+---+--------+--------------------+--------------------+--------------------+--------------------+--------------------+-----------------+--------------------+--------------------+---------------------------+---------------------------+------------------------+--------------+------------------+-----------+--------------------+-----+\n",
            "only showing top 10 rows\n",
            "\n"
          ]
        }
      ]
    },
    {
      "cell_type": "code",
      "source": [
        "# Mostrar o esquema para ver as colunas disponíveis\n",
        "train_1.printSchema()\n",
        "\n",
        "# Verificar as colunas que compõem o vetor 'features'\n",
        "train_1.select(\"features\").show(1, truncate=False)"
      ],
      "metadata": {
        "colab": {
          "base_uri": "https://localhost:8080/"
        },
        "id": "vTv3DwyoniCY",
        "outputId": "78dd1131-d22f-4222-92fa-1d1c2e1799d9"
      },
      "execution_count": null,
      "outputs": [
        {
          "output_type": "stream",
          "name": "stdout",
          "text": [
            "root\n",
            " |-- dia_do_ano: integer (nullable = true)\n",
            " |-- mes: integer (nullable = true)\n",
            " |-- ano: integer (nullable = true)\n",
            " |-- trimestre: integer (nullable = true)\n",
            " |-- eh_fim_de_ano: integer (nullable = true)\n",
            " |-- mes_sin: double (nullable = true)\n",
            " |-- mes_cos: double (nullable = true)\n",
            " |-- uf: string (nullable = true)\n",
            " |-- tcb: string (nullable = true)\n",
            " |-- cnae_secao: string (nullable = true)\n",
            " |-- cnae_subclasse: string (nullable = true)\n",
            " |-- porte: string (nullable = true)\n",
            " |-- modalidade: string (nullable = true)\n",
            " |-- origem: string (nullable = true)\n",
            " |-- indexador: string (nullable = true)\n",
            " |-- numero_operacoes_int: integer (nullable = true)\n",
            " |-- a_vencer_ate_90_dias: double (nullable = true)\n",
            " |-- a_vencer_de_91_ate_360_dias: double (nullable = true)\n",
            " |-- a_vencer_acima_de_5400_dias: double (nullable = true)\n",
            " |-- vencido_acima_de_15_dias: double (nullable = true)\n",
            " |-- carteira_ativa: double (nullable = true)\n",
            " |-- ativo_problematico: double (nullable = true)\n",
            " |-- classe: string (nullable = true)\n",
            " |-- features: vector (nullable = true)\n",
            " |-- label: double (nullable = false)\n",
            "\n",
            "+------------------------------------------------------------------------------------------------------------------------------------------------------------------------------------------------------------------------------------------------------------------------------------------------------------------------------------------------------------------------+\n",
            "|features                                                                                                                                                                                                                                                                                                                                                                |\n",
            "+------------------------------------------------------------------------------------------------------------------------------------------------------------------------------------------------------------------------------------------------------------------------------------------------------------------------------------------------------------------------+\n",
            "|(1349,[24,27,48,697,1317,1322,1328,1330,1335,1336,1337,1338,1340,1341,1342,1343,1344,1345,1347,1348],[1.0,1.0,1.0,1.0,1.0,1.0,1.0,1.0,1.4351587841431017,1.449394886412421,537.5850974324953,1.7895677268955377,0.7079572260701248,-1.2233745044578064,0.07126971600801706,5.6028192612149335,14.063281757498903,4.076908569188063,24.63911504998649,74.20500435757099])|\n",
            "+------------------------------------------------------------------------------------------------------------------------------------------------------------------------------------------------------------------------------------------------------------------------------------------------------------------------------------------------------------------------+\n",
            "only showing top 1 row\n",
            "\n"
          ]
        }
      ]
    },
    {
      "cell_type": "markdown",
      "source": [
        "🔳 **Visualizando os dados teste (Amostra de teste)**"
      ],
      "metadata": {
        "id": "xkz20Al3HKj9"
      }
    },
    {
      "cell_type": "code",
      "source": [
        "from pyspark.sql.functions import col\n",
        "\n",
        "# Filtrar 7 registros de cada classe (já indexados)\n",
        "amostra_baixo = train_1.filter(col(\"classe\") == \"Baixo Risco\").limit(2760919)\n",
        "amostra_medio = train_1.filter(col(\"classe\") == \"Médio Risco\").limit(2760919)\n",
        "amostra_alto = train_1.filter(col(\"classe\") == \"Alto Risco\").limit(2760919)\n",
        "\n",
        "# Unir as amostras\n",
        "test_sample = amostra_baixo.union(amostra_medio).union(amostra_alto)\n",
        "\n",
        "# Verificar (opcional)\n",
        "test_sample.show(7)"
      ],
      "metadata": {
        "colab": {
          "base_uri": "https://localhost:8080/"
        },
        "id": "kieabhich1Py",
        "outputId": "a5339805-a510-495e-a217-d34eb60de9bd"
      },
      "execution_count": null,
      "outputs": [
        {
          "output_type": "stream",
          "name": "stdout",
          "text": [
            "+----------+---+----+---------+-------------+-------------------+-------------------+---+--------+--------------------+--------------------+--------------------+--------------------+--------------------+-----------------+--------------------+--------------------+---------------------------+---------------------------+------------------------+--------------+------------------+-----------+--------------------+-----+\n",
            "|dia_do_ano|mes| ano|trimestre|eh_fim_de_ano|            mes_sin|            mes_cos| uf|     tcb|          cnae_secao|      cnae_subclasse|               porte|          modalidade|              origem|        indexador|numero_operacoes_int|a_vencer_ate_90_dias|a_vencer_de_91_ate_360_dias|a_vencer_acima_de_5400_dias|vencido_acima_de_15_dias|carteira_ativa|ativo_problematico|     classe|            features|label|\n",
            "+----------+---+----+---------+-------------+-------------------+-------------------+---+--------+--------------------+--------------------+--------------------+--------------------+--------------------+-----------------+--------------------+--------------------+---------------------------+---------------------------+------------------------+--------------+------------------+-----------+--------------------+-----+\n",
            "|       151|  5|2017|        2|            0|0.49999999999999994|-0.8660254037844387| AC|Bancário|PJ - Administraçã...|PJ - Administraçã...|PJ - Grande      ...|PJ - Financiament...|Com destinação es...|Índices de preços|                  15|           829198.31|                        0.0|                        0.0|                     0.0|    3369089.63|               0.0|Baixo Risco|(1349,[24,27,48,6...|  0.0|\n",
            "|       151|  5|2017|        2|            0|0.49999999999999994|-0.8660254037844387| AC|Bancário|PJ - Agricultura,...|PJ - Atividades d...|PJ - Micro       ...|   PJ - Investimento|Sem destinação es...|        Prefixado|                  15|             6028.45|                   16551.06|                        0.0|                     0.0|      37060.07|               0.0|Baixo Risco|(1349,[24,27,41,3...|  0.0|\n",
            "|       151|  5|2017|        2|            0|0.49999999999999994|-0.8660254037844387| AC|Bancário|PJ - Agricultura,...|PJ - Criação de b...|PJ - Micro       ...|PJ - Cheque espec...|Sem destinação es...|        Prefixado|                  15|                 0.0|                     586.96|                        0.0|                     0.0|        586.96|               0.0|Baixo Risco|(1349,[24,27,41,1...|  0.0|\n",
            "|       151|  5|2017|        2|            0|0.49999999999999994|-0.8660254037844387| AC|Bancário|PJ - Agricultura,...|PJ - Criação de b...|PJ - Micro       ...|PJ - Rural e agro...|Com destinação es...|        Prefixado|                  15|            376253.7|                        0.0|                        0.0|                     0.0|     752505.14|               0.0|Baixo Risco|(1349,[24,27,41,1...|  0.0|\n",
            "|       151|  5|2017|        2|            0|0.49999999999999994|-0.8660254037844387| AC|Bancário|PJ - Agricultura,...|PJ - Criação de b...|PJ - Médio       ...|PJ - Capital de giro|Sem destinação es...|       Flutuantes|                  15|            39577.53|                    75000.0|                        0.0|                     0.0|     114577.53|               0.0|Baixo Risco|(1349,[24,27,41,1...|  0.0|\n",
            "|       151|  5|2017|        2|            0|0.49999999999999994|-0.8660254037844387| AC|Bancário|PJ - Agricultura,...|PJ - Criação de b...|PJ - Médio       ...|PJ - Capital de giro|Sem destinação es...|        Prefixado|                  15|            19790.09|                   41198.82|                        0.0|                     0.0|      60988.91|               0.0|Baixo Risco|(1349,[24,27,41,1...|  0.0|\n",
            "|       151|  5|2017|        2|            0|0.49999999999999994|-0.8660254037844387| AC|Bancário|PJ - Agricultura,...|PJ - Criação de b...|PJ - Médio       ...|PJ - Cheque espec...|Sem destinação es...|        Prefixado|                  15|             5299.16|                    4055.18|                        0.0|                     0.0|       9354.34|               0.0|Baixo Risco|(1349,[24,27,41,1...|  0.0|\n",
            "+----------+---+----+---------+-------------+-------------------+-------------------+---+--------+--------------------+--------------------+--------------------+--------------------+--------------------+-----------------+--------------------+--------------------+---------------------------+---------------------------+------------------------+--------------+------------------+-----------+--------------------+-----+\n",
            "only showing top 7 rows\n",
            "\n"
          ]
        }
      ]
    },
    {
      "cell_type": "markdown",
      "source": [
        "🔳 **Quantidade de linhas total e por classe e label dos dados teste (Amostra de teste)**"
      ],
      "metadata": {
        "id": "N73cQ08ShzOL"
      }
    },
    {
      "cell_type": "code",
      "source": [
        "# Contagem de linhas\n",
        "print(f\"Teste: {test_sample.count()} linhas\")\n",
        "\n",
        "# Ver proporção das classes\n",
        "print(\"\\nDistribuição no teste:\")\n",
        "test_sample.groupBy(\"classe\", \"label\").count().show()"
      ],
      "metadata": {
        "colab": {
          "base_uri": "https://localhost:8080/"
        },
        "id": "KB6WrTwkr_IX",
        "outputId": "5d192d2f-943f-46df-a08f-2a1a4e639855"
      },
      "execution_count": null,
      "outputs": [
        {
          "output_type": "stream",
          "name": "stdout",
          "text": [
            "Teste: 13760919 linhas\n",
            "\n",
            "Distribuição no teste:\n",
            "+-----------+-----+-------+\n",
            "|     classe|label|  count|\n",
            "+-----------+-----+-------+\n",
            "|Baixo Risco|  0.0|5500000|\n",
            "|Médio Risco|  2.0|2760919|\n",
            "| Alto Risco|  1.0|5500000|\n",
            "+-----------+-----+-------+\n",
            "\n"
          ]
        }
      ]
    },
    {
      "cell_type": "markdown",
      "source": [
        "## **3.2 Treinando os modelos**"
      ],
      "metadata": {
        "id": "ikg_0bAIG1j-"
      }
    },
    {
      "cell_type": "markdown",
      "source": [
        "**--------------------------------------------------------------------------**"
      ],
      "metadata": {
        "id": "wGMMbdA-mYzn"
      }
    },
    {
      "cell_type": "code",
      "source": [
        "from pyspark.ml.classification import RandomForestClassifier\n",
        "from pyspark.sql.functions import when\n",
        "\n",
        "# 1. Definir a base de treino\n",
        "train_1 = train_1  # Já está carregada\n",
        "\n",
        "# 2. Usar contagens definidas manualmente para cada classe\n",
        "class_counts = {\n",
        "    0.0: 48458787,  # Baixo Risco\n",
        "    1.0: 16644406,  # Alto Risco\n",
        "    2.0: 2760919    # Médio Risco\n",
        "}\n",
        "\n",
        "total = sum(class_counts.values())\n",
        "\n",
        "# 3. Calcular os pesos ajustados conforme proporção especificada\n",
        "weights = {\n",
        "    0.0: total / (class_counts[0.0] * 0.3),  # Reduz peso da maioria\n",
        "    1.0: total / (class_counts[1.0] * 3),    # Peso extra para Alto Risco\n",
        "    2.0: total / class_counts[2.0]           # Peso padrão para Médio Risco\n",
        "}\n",
        "\n",
        "# 4. Adicionar coluna de pesos ao DataFrame\n",
        "train_1_weight = train_1.withColumn(\n",
        "    \"weight\",\n",
        "    when(train_1.label == 0.0, weights[0.0])\n",
        "    .when(train_1.label == 1.0, weights[1.0])\n",
        "    .otherwise(weights[2.0])\n",
        ")\n",
        "\n",
        "# 5. Verificar a distribuição dos pesos\n",
        "train_1_weight.groupBy(\"label\", \"weight\").count().show()\n",
        "\n",
        "# 6. Criar e treinar o modelo RandomForest com pesos ajustados\n",
        "rf = RandomForestClassifier(\n",
        "    featuresCol=\"features\",\n",
        "    labelCol=\"label\",\n",
        "    numTrees=100,\n",
        "    maxDepth=10,\n",
        "    minInstancesPerNode=5,\n",
        "    weightCol=\"weight\",\n",
        "    seed=42\n",
        ")\n",
        "\n",
        "modelo_rf_ajustado = rf.fit(train_1_weight)\n",
        "\n",
        "# 7. Salvar o modelo treinado\n",
        "model_path = \"/content/drive/My Drive/BCB_Dados_Corrigidos_2024/modelo_rf_ajustado\"\n",
        "modelo_rf_ajustado.write().overwrite().save(model_path)\n",
        "print(f\"Modelo salvo em: {model_path}\")"
      ],
      "metadata": {
        "id": "JyLbKo9Iz938"
      },
      "execution_count": null,
      "outputs": []
    },
    {
      "cell_type": "markdown",
      "source": [
        "**----------------------------------------------------------------------------**"
      ],
      "metadata": {
        "id": "TmFYMhdOmSix"
      }
    },
    {
      "cell_type": "markdown",
      "metadata": {
        "id": "4KF4_0IzdSd4"
      },
      "source": [
        "🔳 **Criando o algoritmo do modelo RandomForest, passando os dados de treino e salvando para posteriormente somente carregar**"
      ]
    },
    {
      "cell_type": "code",
      "source": [
        "from pyspark.ml.classification import RandomForestClassifier\n",
        "from pyspark.sql.functions import when\n",
        "\n",
        "# 1. Calcular os pesos para cada classe (inverso da proporção)\n",
        "count_by_class = train_indexed.groupBy(\"label\").count().collect()\n",
        "\n",
        "# Extrair contagens corretamente (usando ['count'] em vez de .count)\n",
        "class_counts = {row['label']: row['count'] for row in count_by_class}\n",
        "total = sum(class_counts.values())\n",
        "\n",
        "weight_0 = total / class_counts[0.0]  # Baixo Risco\n",
        "weight_1 = total / class_counts[1.0]  # Médio Risco\n",
        "weight_2 = total / class_counts[2.0]  # Alto Risco\n",
        "\n",
        "# 2. Adicionar coluna de pesos ao DataFrame\n",
        "train_with_weights = train_indexed.withColumn(\n",
        "    \"weight\",\n",
        "    when(train_indexed.label == 0.0, weight_0)\n",
        "    .when(train_indexed.label == 1.0, weight_1)\n",
        "    .otherwise(weight_2)\n",
        ")\n",
        "\n",
        "# 3. Verificar a distribuição dos pesos\n",
        "train_with_weights.groupBy(\"label\", \"weight\").count().show()\n",
        "\n",
        "# 4. Criar e treinar o modelo RandomForest\n",
        "rf = RandomForestClassifier(\n",
        "    featuresCol=\"features\",\n",
        "    labelCol=\"label\",\n",
        "    numTrees=15,\n",
        "    maxDepth=5,\n",
        "    minInstancesPerNode=10,\n",
        "    weightCol=\"weight\",\n",
        "    seed=42\n",
        ")\n",
        "\n",
        "modelo_rf = rf.fit(train_with_weights)"
      ],
      "metadata": {
        "id": "KeD-zXVCC7w8"
      },
      "execution_count": null,
      "outputs": []
    },
    {
      "cell_type": "code",
      "source": [
        "\n",
        "# 5. Salvar o modelo\n",
        "model_path = \"/content/drive/My Drive/BCB_Dados_Corrigidos_2024/modelo_rf\"\n",
        "modelo_rf.write().overwrite().save(model_path)\n",
        "print(f\"Modelo salvo em: {model_path}\")"
      ],
      "metadata": {
        "id": "T2srnuVNDGk0"
      },
      "execution_count": null,
      "outputs": []
    },
    {
      "cell_type": "code",
      "execution_count": null,
      "metadata": {
        "id": "tQs5Xez5dQpn",
        "colab": {
          "base_uri": "https://localhost:8080/"
        },
        "outputId": "e74bc9bd-c48e-4907-fa8b-83d19cb910ea"
      },
      "outputs": [
        {
          "output_type": "stream",
          "name": "stdout",
          "text": [
            "Conteúdo do diretório do modelo:\n",
            "['metadata', 'treesMetadata', 'data']\n",
            "\n",
            "✅ Modelo carregado com sucesso!\n",
            "Árvores no modelo: 100\n"
          ]
        }
      ],
      "source": [
        "### Verificando se os dados foram salvos corretamente\n",
        "\n",
        "# Carregando bibliotecas\n",
        "from pyspark.ml.classification import RandomForestClassificationModel\n",
        "import os\n",
        "\n",
        "# Caminho onde o modelo foi salvo\n",
        "model_path = \"/content/drive/My Drive/BCB_Dados_Corrigidos_2024/modelo_rf\"\n",
        "\n",
        "# Verificar se os arquivos do modelo existem\n",
        "print(\"Conteúdo do diretório do modelo:\")\n",
        "print(os.listdir(model_path))\n",
        "\n",
        "# Tentar carregar o modelo\n",
        "try:\n",
        "    modelo_test = RandomForestClassificationModel.load(model_path)\n",
        "    print(\"\\n✅ Modelo carregado com sucesso!\")\n",
        "    print(\"Árvores no modelo:\", modelo_test.getNumTrees)\n",
        "except Exception as e:\n",
        "    print(\"\\n❌ Erro ao carregar:\", str(e))"
      ]
    },
    {
      "cell_type": "markdown",
      "metadata": {
        "id": "KGj85AwddTwY"
      },
      "source": [
        "🔳 **Fazendo as previsões com os dados de amostra para teste**"
      ]
    },
    {
      "cell_type": "code",
      "source": [
        "# Carregar o modelo\n",
        "modelo_rf = RandomForestClassificationModel.load(model_path)\n",
        "\n",
        "# Fazer previsões na amostra\n",
        "predicoes = modelo_rf.transform(test_sample)\n",
        "\n",
        "# Mostrar resultados\n",
        "print(\"\\n🔎 Resultados:\")\n",
        "predicoes.select(\"classe\", \"label\", \"prediction\", \"probability\").show(21, truncate=False)"
      ],
      "metadata": {
        "colab": {
          "base_uri": "https://localhost:8080/"
        },
        "id": "cdfGsVJ7Bewt",
        "outputId": "08021eb7-f98b-47bf-a49b-7fea52718835"
      },
      "execution_count": null,
      "outputs": [
        {
          "output_type": "stream",
          "name": "stdout",
          "text": [
            "\n",
            "🔎 Resultados:\n",
            "+-----------+-----+----------+-------------------------------------------------------------+\n",
            "|classe     |label|prediction|probability                                                  |\n",
            "+-----------+-----+----------+-------------------------------------------------------------+\n",
            "|Baixo Risco|0.0  |0.0       |[0.49869825646609506,0.2228024759520535,0.2784992675818515]  |\n",
            "|Baixo Risco|0.0  |0.0       |[0.4274401988965675,0.2514359713397095,0.321123829763723]    |\n",
            "|Baixo Risco|0.0  |0.0       |[0.3768706328194188,0.27119124615949974,0.3519381210210814]  |\n",
            "|Baixo Risco|0.0  |0.0       |[0.46078692955689954,0.23801161191219639,0.30120145853090413]|\n",
            "|Baixo Risco|0.0  |0.0       |[0.46428429732097803,0.24852015443698627,0.28719554824203575]|\n",
            "|Baixo Risco|0.0  |0.0       |[0.44163191355260945,0.24625717487314894,0.3121109115742416] |\n",
            "|Baixo Risco|0.0  |0.0       |[0.42705896574347885,0.2430381789556544,0.32990285530086677] |\n",
            "|Baixo Risco|0.0  |0.0       |[0.4510037544860897,0.2354789249902647,0.3135173205236456]   |\n",
            "|Baixo Risco|0.0  |0.0       |[0.42702498769833347,0.2579016625376147,0.31507334976405177] |\n",
            "|Baixo Risco|0.0  |0.0       |[0.41996299227103223,0.25459823885242744,0.32543876887654044]|\n",
            "|Baixo Risco|0.0  |0.0       |[0.46672112842663416,0.25286657228712184,0.2804122992862439] |\n",
            "|Baixo Risco|0.0  |0.0       |[0.35853974474560596,0.29038760713045486,0.3510726481239393] |\n",
            "|Baixo Risco|0.0  |0.0       |[0.45565673134114093,0.2577271336581512,0.286616135000708]   |\n",
            "|Baixo Risco|0.0  |0.0       |[0.39421345060986074,0.2758920439476112,0.32989450544252813] |\n",
            "|Baixo Risco|0.0  |0.0       |[0.41857240490848435,0.260918247451486,0.3205093476400297]   |\n",
            "|Baixo Risco|0.0  |1.0       |[0.2546109978292531,0.37832781407895943,0.3670611880917874]  |\n",
            "|Baixo Risco|0.0  |0.0       |[0.3949162986593231,0.2678755842431809,0.33720811709749604]  |\n",
            "|Baixo Risco|0.0  |0.0       |[0.4657943749356503,0.2378658510718818,0.29633977399246786]  |\n",
            "|Baixo Risco|0.0  |0.0       |[0.4742462642719349,0.2411809119297347,0.2845728237983303]   |\n",
            "|Baixo Risco|0.0  |0.0       |[0.4749410034669427,0.2503242617682181,0.27473473476483923]  |\n",
            "|Baixo Risco|0.0  |0.0       |[0.4514217978694805,0.2524467133863938,0.2961314887441258]   |\n",
            "+-----------+-----+----------+-------------------------------------------------------------+\n",
            "only showing top 21 rows\n",
            "\n"
          ]
        }
      ]
    },
    {
      "cell_type": "markdown",
      "metadata": {
        "id": "tJzjwpPpdd9X"
      },
      "source": [
        "🔳 **Avaliação do modelo com a matrix de confusão**"
      ]
    },
    {
      "cell_type": "code",
      "source": [
        "from pyspark.sql.functions import col\n",
        "\n",
        "# Gerar matriz de confusão\n",
        "confusion_matrix = predicoes.groupBy(\"label\", \"prediction\").count().orderBy(\"label\", \"prediction\")\n",
        "\n",
        "# Mostrar de forma mais legível (pivot)\n",
        "confusion_matrix_pivot = confusion_matrix.groupBy(\"label\")\\\n",
        "    .pivot(\"prediction\", [0.0, 1.0, 2.0])\\\n",
        "    .sum(\"count\")\\\n",
        "    .orderBy(\"label\")\n",
        "\n",
        "print(\"=== MATRIZ DE CONFUSÃO ===\")\n",
        "print(\"Linhas: Real | Colunas: Previsto\")\n",
        "confusion_matrix_pivot.show()\n",
        "\n",
        "# Opcional: Versão visual com Pandas\n",
        "confusion_matrix_pd = confusion_matrix_pivot.toPandas()\n",
        "confusion_matrix_pd.set_index(\"label\", inplace=True)\n",
        "print(\"\\nMatriz de Confusão (Formato Numérico):\")\n",
        "print(confusion_matrix_pd)"
      ],
      "metadata": {
        "colab": {
          "base_uri": "https://localhost:8080/"
        },
        "id": "QqlVTq1VHfgH",
        "outputId": "7ca8e832-6ce0-4a41-adc6-a8ac1e5356f6"
      },
      "execution_count": null,
      "outputs": [
        {
          "output_type": "stream",
          "name": "stdout",
          "text": [
            "=== MATRIZ DE CONFUSÃO ===\n",
            "Linhas: Real | Colunas: Previsto\n",
            "+-----+-------+-------+-------+\n",
            "|label|    0.0|    1.0|    2.0|\n",
            "+-----+-------+-------+-------+\n",
            "|  0.0|2332816| 345927|  82176|\n",
            "|  1.0|  80556|2667589|  12774|\n",
            "|  2.0| 423223|1026306|1311390|\n",
            "+-----+-------+-------+-------+\n",
            "\n",
            "\n",
            "Matriz de Confusão (Formato Numérico):\n",
            "           0.0      1.0      2.0\n",
            "label                           \n",
            "0.0    2332816   345927    82176\n",
            "1.0      80556  2667589    12774\n",
            "2.0     423223  1026306  1311390\n"
          ]
        }
      ]
    },
    {
      "cell_type": "markdown",
      "metadata": {
        "id": "CN8CPQyedi1w"
      },
      "source": [
        "🔳 **Relatório de classificação (mostra métricas adicionais como precision, recall, f1-score, suporte)**"
      ]
    },
    {
      "cell_type": "code",
      "source": [
        "from sklearn.metrics import classification_report\n",
        "import pandas as pd\n",
        "\n",
        "try:\n",
        "    # 1. Verificar colunas disponíveis\n",
        "    print(\"Colunas disponíveis no DataFrame:\")\n",
        "    print(predicoes.columns)\n",
        "\n",
        "    # 2. Definir nomes das colunas (ajuste conforme seu DataFrame)\n",
        "    label_col = \"label\"          # Coluna com as classes reais\n",
        "    prediction_col = \"prediction\" # Coluna com as predições\n",
        "\n",
        "    # 3. Converter para Pandas\n",
        "    pdf = predicoes.select(label_col, prediction_col).toPandas()\n",
        "\n",
        "    # 4. Verificar conversão\n",
        "    print(\"\\nPrimeiras linhas dos dados:\")\n",
        "    print(pdf.head())\n",
        "\n",
        "    # 5. Gerar métricas\n",
        "    report = classification_report(\n",
        "        pdf[label_col],\n",
        "        pdf[prediction_col],\n",
        "        target_names=['Baixo Risco', 'Médio Risco', 'Alto Risco'],  # Ajuste os nomes\n",
        "        output_dict=True\n",
        "    )\n",
        "\n",
        "    # 6. Exibir resultados\n",
        "    metrics_df = pd.DataFrame(report).transpose()\n",
        "    print(\"\\n📊 Métricas Detalhadas:\")\n",
        "    display(metrics_df)\n",
        "\n",
        "except Exception as e:\n",
        "    print(f\"\\n❌ Erro: {str(e)}\")\n",
        "    print(\"Possíveis causas:\")\n",
        "    print(\"- Nomes das colunas incorretos\")\n",
        "    print(\"- Dados não convertidos corretamente\")\n",
        "    print(\"- Valores nulos nas colunas\")"
      ],
      "metadata": {
        "colab": {
          "base_uri": "https://localhost:8080/",
          "height": 466
        },
        "id": "EZr_SnGKXdsO",
        "outputId": "9186a00a-926b-40d0-9fa4-597500bedc0d"
      },
      "execution_count": null,
      "outputs": [
        {
          "output_type": "stream",
          "name": "stdout",
          "text": [
            "Colunas disponíveis no DataFrame:\n",
            "['dia_do_ano', 'mes', 'ano', 'trimestre', 'eh_fim_de_ano', 'mes_sin', 'mes_cos', 'uf', 'tcb', 'cnae_secao', 'cnae_subclasse', 'porte', 'modalidade', 'origem', 'indexador', 'numero_operacoes_int', 'a_vencer_ate_90_dias', 'a_vencer_de_91_ate_360_dias', 'a_vencer_acima_de_5400_dias', 'vencido_acima_de_15_dias', 'carteira_ativa', 'ativo_problematico', 'classe', 'features', 'label', 'rawPrediction', 'probability', 'prediction']\n",
            "\n",
            "Primeiras linhas dos dados:\n",
            "   label  prediction\n",
            "0    0.0         0.0\n",
            "1    0.0         0.0\n",
            "2    0.0         0.0\n",
            "3    0.0         0.0\n",
            "4    0.0         0.0\n",
            "\n",
            "📊 Métricas Detalhadas:\n"
          ]
        },
        {
          "output_type": "display_data",
          "data": {
            "text/plain": [
              "              precision    recall  f1-score       support\n",
              "Baixo Risco    0.822400  0.844942  0.833519  2.760919e+06\n",
              "Médio Risco    0.660323  0.966196  0.784500  2.760919e+06\n",
              "Alto Risco     0.932484  0.474983  0.629378  2.760919e+06\n",
              "accuracy       0.762040  0.762040  0.762040  7.620403e-01\n",
              "macro avg      0.805069  0.762040  0.749132  8.282757e+06\n",
              "weighted avg   0.805069  0.762040  0.749132  8.282757e+06"
            ],
            "text/html": [
              "\n",
              "  <div id=\"df-88f5205b-90e6-4f04-97b6-8f8bae8c7465\" class=\"colab-df-container\">\n",
              "    <div>\n",
              "<style scoped>\n",
              "    .dataframe tbody tr th:only-of-type {\n",
              "        vertical-align: middle;\n",
              "    }\n",
              "\n",
              "    .dataframe tbody tr th {\n",
              "        vertical-align: top;\n",
              "    }\n",
              "\n",
              "    .dataframe thead th {\n",
              "        text-align: right;\n",
              "    }\n",
              "</style>\n",
              "<table border=\"1\" class=\"dataframe\">\n",
              "  <thead>\n",
              "    <tr style=\"text-align: right;\">\n",
              "      <th></th>\n",
              "      <th>precision</th>\n",
              "      <th>recall</th>\n",
              "      <th>f1-score</th>\n",
              "      <th>support</th>\n",
              "    </tr>\n",
              "  </thead>\n",
              "  <tbody>\n",
              "    <tr>\n",
              "      <th>Baixo Risco</th>\n",
              "      <td>0.822400</td>\n",
              "      <td>0.844942</td>\n",
              "      <td>0.833519</td>\n",
              "      <td>2.760919e+06</td>\n",
              "    </tr>\n",
              "    <tr>\n",
              "      <th>Médio Risco</th>\n",
              "      <td>0.660323</td>\n",
              "      <td>0.966196</td>\n",
              "      <td>0.784500</td>\n",
              "      <td>2.760919e+06</td>\n",
              "    </tr>\n",
              "    <tr>\n",
              "      <th>Alto Risco</th>\n",
              "      <td>0.932484</td>\n",
              "      <td>0.474983</td>\n",
              "      <td>0.629378</td>\n",
              "      <td>2.760919e+06</td>\n",
              "    </tr>\n",
              "    <tr>\n",
              "      <th>accuracy</th>\n",
              "      <td>0.762040</td>\n",
              "      <td>0.762040</td>\n",
              "      <td>0.762040</td>\n",
              "      <td>7.620403e-01</td>\n",
              "    </tr>\n",
              "    <tr>\n",
              "      <th>macro avg</th>\n",
              "      <td>0.805069</td>\n",
              "      <td>0.762040</td>\n",
              "      <td>0.749132</td>\n",
              "      <td>8.282757e+06</td>\n",
              "    </tr>\n",
              "    <tr>\n",
              "      <th>weighted avg</th>\n",
              "      <td>0.805069</td>\n",
              "      <td>0.762040</td>\n",
              "      <td>0.749132</td>\n",
              "      <td>8.282757e+06</td>\n",
              "    </tr>\n",
              "  </tbody>\n",
              "</table>\n",
              "</div>\n",
              "    <div class=\"colab-df-buttons\">\n",
              "\n",
              "  <div class=\"colab-df-container\">\n",
              "    <button class=\"colab-df-convert\" onclick=\"convertToInteractive('df-88f5205b-90e6-4f04-97b6-8f8bae8c7465')\"\n",
              "            title=\"Convert this dataframe to an interactive table.\"\n",
              "            style=\"display:none;\">\n",
              "\n",
              "  <svg xmlns=\"http://www.w3.org/2000/svg\" height=\"24px\" viewBox=\"0 -960 960 960\">\n",
              "    <path d=\"M120-120v-720h720v720H120Zm60-500h600v-160H180v160Zm220 220h160v-160H400v160Zm0 220h160v-160H400v160ZM180-400h160v-160H180v160Zm440 0h160v-160H620v160ZM180-180h160v-160H180v160Zm440 0h160v-160H620v160Z\"/>\n",
              "  </svg>\n",
              "    </button>\n",
              "\n",
              "  <style>\n",
              "    .colab-df-container {\n",
              "      display:flex;\n",
              "      gap: 12px;\n",
              "    }\n",
              "\n",
              "    .colab-df-convert {\n",
              "      background-color: #E8F0FE;\n",
              "      border: none;\n",
              "      border-radius: 50%;\n",
              "      cursor: pointer;\n",
              "      display: none;\n",
              "      fill: #1967D2;\n",
              "      height: 32px;\n",
              "      padding: 0 0 0 0;\n",
              "      width: 32px;\n",
              "    }\n",
              "\n",
              "    .colab-df-convert:hover {\n",
              "      background-color: #E2EBFA;\n",
              "      box-shadow: 0px 1px 2px rgba(60, 64, 67, 0.3), 0px 1px 3px 1px rgba(60, 64, 67, 0.15);\n",
              "      fill: #174EA6;\n",
              "    }\n",
              "\n",
              "    .colab-df-buttons div {\n",
              "      margin-bottom: 4px;\n",
              "    }\n",
              "\n",
              "    [theme=dark] .colab-df-convert {\n",
              "      background-color: #3B4455;\n",
              "      fill: #D2E3FC;\n",
              "    }\n",
              "\n",
              "    [theme=dark] .colab-df-convert:hover {\n",
              "      background-color: #434B5C;\n",
              "      box-shadow: 0px 1px 3px 1px rgba(0, 0, 0, 0.15);\n",
              "      filter: drop-shadow(0px 1px 2px rgba(0, 0, 0, 0.3));\n",
              "      fill: #FFFFFF;\n",
              "    }\n",
              "  </style>\n",
              "\n",
              "    <script>\n",
              "      const buttonEl =\n",
              "        document.querySelector('#df-88f5205b-90e6-4f04-97b6-8f8bae8c7465 button.colab-df-convert');\n",
              "      buttonEl.style.display =\n",
              "        google.colab.kernel.accessAllowed ? 'block' : 'none';\n",
              "\n",
              "      async function convertToInteractive(key) {\n",
              "        const element = document.querySelector('#df-88f5205b-90e6-4f04-97b6-8f8bae8c7465');\n",
              "        const dataTable =\n",
              "          await google.colab.kernel.invokeFunction('convertToInteractive',\n",
              "                                                    [key], {});\n",
              "        if (!dataTable) return;\n",
              "\n",
              "        const docLinkHtml = 'Like what you see? Visit the ' +\n",
              "          '<a target=\"_blank\" href=https://colab.research.google.com/notebooks/data_table.ipynb>data table notebook</a>'\n",
              "          + ' to learn more about interactive tables.';\n",
              "        element.innerHTML = '';\n",
              "        dataTable['output_type'] = 'display_data';\n",
              "        await google.colab.output.renderOutput(dataTable, element);\n",
              "        const docLink = document.createElement('div');\n",
              "        docLink.innerHTML = docLinkHtml;\n",
              "        element.appendChild(docLink);\n",
              "      }\n",
              "    </script>\n",
              "  </div>\n",
              "\n",
              "\n",
              "<div id=\"df-073092c5-d17a-4c74-81ce-dbedd14a64db\">\n",
              "  <button class=\"colab-df-quickchart\" onclick=\"quickchart('df-073092c5-d17a-4c74-81ce-dbedd14a64db')\"\n",
              "            title=\"Suggest charts\"\n",
              "            style=\"display:none;\">\n",
              "\n",
              "<svg xmlns=\"http://www.w3.org/2000/svg\" height=\"24px\"viewBox=\"0 0 24 24\"\n",
              "     width=\"24px\">\n",
              "    <g>\n",
              "        <path d=\"M19 3H5c-1.1 0-2 .9-2 2v14c0 1.1.9 2 2 2h14c1.1 0 2-.9 2-2V5c0-1.1-.9-2-2-2zM9 17H7v-7h2v7zm4 0h-2V7h2v10zm4 0h-2v-4h2v4z\"/>\n",
              "    </g>\n",
              "</svg>\n",
              "  </button>\n",
              "\n",
              "<style>\n",
              "  .colab-df-quickchart {\n",
              "      --bg-color: #E8F0FE;\n",
              "      --fill-color: #1967D2;\n",
              "      --hover-bg-color: #E2EBFA;\n",
              "      --hover-fill-color: #174EA6;\n",
              "      --disabled-fill-color: #AAA;\n",
              "      --disabled-bg-color: #DDD;\n",
              "  }\n",
              "\n",
              "  [theme=dark] .colab-df-quickchart {\n",
              "      --bg-color: #3B4455;\n",
              "      --fill-color: #D2E3FC;\n",
              "      --hover-bg-color: #434B5C;\n",
              "      --hover-fill-color: #FFFFFF;\n",
              "      --disabled-bg-color: #3B4455;\n",
              "      --disabled-fill-color: #666;\n",
              "  }\n",
              "\n",
              "  .colab-df-quickchart {\n",
              "    background-color: var(--bg-color);\n",
              "    border: none;\n",
              "    border-radius: 50%;\n",
              "    cursor: pointer;\n",
              "    display: none;\n",
              "    fill: var(--fill-color);\n",
              "    height: 32px;\n",
              "    padding: 0;\n",
              "    width: 32px;\n",
              "  }\n",
              "\n",
              "  .colab-df-quickchart:hover {\n",
              "    background-color: var(--hover-bg-color);\n",
              "    box-shadow: 0 1px 2px rgba(60, 64, 67, 0.3), 0 1px 3px 1px rgba(60, 64, 67, 0.15);\n",
              "    fill: var(--button-hover-fill-color);\n",
              "  }\n",
              "\n",
              "  .colab-df-quickchart-complete:disabled,\n",
              "  .colab-df-quickchart-complete:disabled:hover {\n",
              "    background-color: var(--disabled-bg-color);\n",
              "    fill: var(--disabled-fill-color);\n",
              "    box-shadow: none;\n",
              "  }\n",
              "\n",
              "  .colab-df-spinner {\n",
              "    border: 2px solid var(--fill-color);\n",
              "    border-color: transparent;\n",
              "    border-bottom-color: var(--fill-color);\n",
              "    animation:\n",
              "      spin 1s steps(1) infinite;\n",
              "  }\n",
              "\n",
              "  @keyframes spin {\n",
              "    0% {\n",
              "      border-color: transparent;\n",
              "      border-bottom-color: var(--fill-color);\n",
              "      border-left-color: var(--fill-color);\n",
              "    }\n",
              "    20% {\n",
              "      border-color: transparent;\n",
              "      border-left-color: var(--fill-color);\n",
              "      border-top-color: var(--fill-color);\n",
              "    }\n",
              "    30% {\n",
              "      border-color: transparent;\n",
              "      border-left-color: var(--fill-color);\n",
              "      border-top-color: var(--fill-color);\n",
              "      border-right-color: var(--fill-color);\n",
              "    }\n",
              "    40% {\n",
              "      border-color: transparent;\n",
              "      border-right-color: var(--fill-color);\n",
              "      border-top-color: var(--fill-color);\n",
              "    }\n",
              "    60% {\n",
              "      border-color: transparent;\n",
              "      border-right-color: var(--fill-color);\n",
              "    }\n",
              "    80% {\n",
              "      border-color: transparent;\n",
              "      border-right-color: var(--fill-color);\n",
              "      border-bottom-color: var(--fill-color);\n",
              "    }\n",
              "    90% {\n",
              "      border-color: transparent;\n",
              "      border-bottom-color: var(--fill-color);\n",
              "    }\n",
              "  }\n",
              "</style>\n",
              "\n",
              "  <script>\n",
              "    async function quickchart(key) {\n",
              "      const quickchartButtonEl =\n",
              "        document.querySelector('#' + key + ' button');\n",
              "      quickchartButtonEl.disabled = true;  // To prevent multiple clicks.\n",
              "      quickchartButtonEl.classList.add('colab-df-spinner');\n",
              "      try {\n",
              "        const charts = await google.colab.kernel.invokeFunction(\n",
              "            'suggestCharts', [key], {});\n",
              "      } catch (error) {\n",
              "        console.error('Error during call to suggestCharts:', error);\n",
              "      }\n",
              "      quickchartButtonEl.classList.remove('colab-df-spinner');\n",
              "      quickchartButtonEl.classList.add('colab-df-quickchart-complete');\n",
              "    }\n",
              "    (() => {\n",
              "      let quickchartButtonEl =\n",
              "        document.querySelector('#df-073092c5-d17a-4c74-81ce-dbedd14a64db button');\n",
              "      quickchartButtonEl.style.display =\n",
              "        google.colab.kernel.accessAllowed ? 'block' : 'none';\n",
              "    })();\n",
              "  </script>\n",
              "</div>\n",
              "\n",
              "  <div id=\"id_c6281f32-b013-4f8e-800e-fe035b1e318e\">\n",
              "    <style>\n",
              "      .colab-df-generate {\n",
              "        background-color: #E8F0FE;\n",
              "        border: none;\n",
              "        border-radius: 50%;\n",
              "        cursor: pointer;\n",
              "        display: none;\n",
              "        fill: #1967D2;\n",
              "        height: 32px;\n",
              "        padding: 0 0 0 0;\n",
              "        width: 32px;\n",
              "      }\n",
              "\n",
              "      .colab-df-generate:hover {\n",
              "        background-color: #E2EBFA;\n",
              "        box-shadow: 0px 1px 2px rgba(60, 64, 67, 0.3), 0px 1px 3px 1px rgba(60, 64, 67, 0.15);\n",
              "        fill: #174EA6;\n",
              "      }\n",
              "\n",
              "      [theme=dark] .colab-df-generate {\n",
              "        background-color: #3B4455;\n",
              "        fill: #D2E3FC;\n",
              "      }\n",
              "\n",
              "      [theme=dark] .colab-df-generate:hover {\n",
              "        background-color: #434B5C;\n",
              "        box-shadow: 0px 1px 3px 1px rgba(0, 0, 0, 0.15);\n",
              "        filter: drop-shadow(0px 1px 2px rgba(0, 0, 0, 0.3));\n",
              "        fill: #FFFFFF;\n",
              "      }\n",
              "    </style>\n",
              "    <button class=\"colab-df-generate\" onclick=\"generateWithVariable('metrics_df')\"\n",
              "            title=\"Generate code using this dataframe.\"\n",
              "            style=\"display:none;\">\n",
              "\n",
              "  <svg xmlns=\"http://www.w3.org/2000/svg\" height=\"24px\"viewBox=\"0 0 24 24\"\n",
              "       width=\"24px\">\n",
              "    <path d=\"M7,19H8.4L18.45,9,17,7.55,7,17.6ZM5,21V16.75L18.45,3.32a2,2,0,0,1,2.83,0l1.4,1.43a1.91,1.91,0,0,1,.58,1.4,1.91,1.91,0,0,1-.58,1.4L9.25,21ZM18.45,9,17,7.55Zm-12,3A5.31,5.31,0,0,0,4.9,8.1,5.31,5.31,0,0,0,1,6.5,5.31,5.31,0,0,0,4.9,4.9,5.31,5.31,0,0,0,6.5,1,5.31,5.31,0,0,0,8.1,4.9,5.31,5.31,0,0,0,12,6.5,5.46,5.46,0,0,0,6.5,12Z\"/>\n",
              "  </svg>\n",
              "    </button>\n",
              "    <script>\n",
              "      (() => {\n",
              "      const buttonEl =\n",
              "        document.querySelector('#id_c6281f32-b013-4f8e-800e-fe035b1e318e button.colab-df-generate');\n",
              "      buttonEl.style.display =\n",
              "        google.colab.kernel.accessAllowed ? 'block' : 'none';\n",
              "\n",
              "      buttonEl.onclick = () => {\n",
              "        google.colab.notebook.generateWithVariable('metrics_df');\n",
              "      }\n",
              "      })();\n",
              "    </script>\n",
              "  </div>\n",
              "\n",
              "    </div>\n",
              "  </div>\n"
            ],
            "application/vnd.google.colaboratory.intrinsic+json": {
              "type": "dataframe",
              "variable_name": "metrics_df",
              "summary": "{\n  \"name\": \"metrics_df\",\n  \"rows\": 6,\n  \"fields\": [\n    {\n      \"column\": \"precision\",\n      \"properties\": {\n        \"dtype\": \"number\",\n        \"std\": 0.08835069518334264,\n        \"min\": 0.6603234003874429,\n        \"max\": 0.9324843210034558,\n        \"num_unique_values\": 5,\n        \"samples\": [\n          0.6603234003874429,\n          0.8050692724268376,\n          0.9324843210034558\n        ],\n        \"semantic_type\": \"\",\n        \"description\": \"\"\n      }\n    },\n    {\n      \"column\": \"recall\",\n      \"properties\": {\n        \"dtype\": \"number\",\n        \"std\": 0.16183574397261694,\n        \"min\": 0.47498314872692754,\n        \"max\": 0.9661960383481007,\n        \"num_unique_values\": 4,\n        \"samples\": [\n          0.9661960383481007,\n          0.7620403447789185,\n          0.8449418472617269\n        ],\n        \"semantic_type\": \"\",\n        \"description\": \"\"\n      }\n    },\n    {\n      \"column\": \"f1-score\",\n      \"properties\": {\n        \"dtype\": \"number\",\n        \"std\": 0.06760458508475124,\n        \"min\": 0.6293777276622355,\n        \"max\": 0.8335185941473304,\n        \"num_unique_values\": 5,\n        \"samples\": [\n          0.7844995126266388,\n          0.7491319448120682,\n          0.6293777276622355\n        ],\n        \"semantic_type\": \"\",\n        \"description\": \"\"\n      }\n    },\n    {\n      \"column\": \"support\",\n      \"properties\": {\n        \"dtype\": \"number\",\n        \"std\": 3381421.1989166033,\n        \"min\": 0.7620403447789185,\n        \"max\": 8282757.0,\n        \"num_unique_values\": 3,\n        \"samples\": [\n          2760919.0,\n          0.7620403447789185,\n          8282757.0\n        ],\n        \"semantic_type\": \"\",\n        \"description\": \"\"\n      }\n    }\n  ]\n}"
            }
          },
          "metadata": {}
        }
      ]
    },
    {
      "cell_type": "markdown",
      "source": [
        "**------------------------------------------------------------------------------------------------------------------------------------------------------------**"
      ],
      "metadata": {
        "id": "8-hUp7jG6kpK"
      }
    },
    {
      "cell_type": "markdown",
      "source": [
        "# **RASCUNHO**"
      ],
      "metadata": {
        "id": "lYLGfZqKCljb"
      }
    },
    {
      "cell_type": "code",
      "source": [
        "from pyspark.ml.classification import RandomForestClassifier\n",
        "from pyspark.sql.functions import col, when\n",
        "\n",
        "# 1. Calcular pesos customizados\n",
        "class_counts = {\n",
        "    0.0: 48458787,  # Baixo Risco\n",
        "    1.0: 16644406,  # Alto Risco\n",
        "    2.0: 2760919    # Médio Risco\n",
        "}\n",
        "\n",
        "total = sum(class_counts.values())\n",
        "weights = {\n",
        "    0.0: total / (class_counts[0.0] * 0.3),  # Reduz peso da maioria\n",
        "    1.0: total / (class_counts[1.0] * 3),    # Peso extra para Alto Risco\n",
        "    2.0: total / class_counts[2.0]           # Peso padrão para Médio Risco\n",
        "}\n",
        "\n",
        "# 2. Aplicar pesos\n",
        "train_with_weights = train_1.withColumn(\n",
        "    \"weight\",\n",
        "    when(col(\"label\") == 0.0, weights[0.0])\n",
        "    .when(col(\"label\") == 1.0, weights[1.0])\n",
        "    .otherwise(weights[2.0])\n",
        ")\n",
        "\n",
        "# 3. Configurar e treinar o modelo\n",
        "rf = RandomForestClassifier(\n",
        "    featuresCol=\"features\",\n",
        "    labelCol=\"label\",\n",
        "    weightCol=\"weight\",\n",
        "    numTrees=100,\n",
        "    maxDepth=10,\n",
        "    minInstancesPerNode=5,\n",
        "    maxBins=32,\n",
        "    impurity=\"gini\",\n",
        "    seed=42\n",
        ")\n",
        "\n",
        "# 4. Treinar o modelo\n",
        "modelo_rf = rf.fit(train_with_weights)\n",
        "\n",
        "# 5. Salvar o modelo\n",
        "model_path = \"/content/drive/My Drive/BCB_Dados_Corrigidos_2024/modelo_rf_otimizado\"\n",
        "modelo_rf.write().overwrite().save(model_path)\n",
        "print(f\"Modelo salvo em: {model_path}\")"
      ],
      "metadata": {
        "id": "tQBDSiHGCj4M"
      },
      "execution_count": null,
      "outputs": []
    },
    {
      "cell_type": "markdown",
      "source": [
        "#**PIPELINE COMPLETO PARA CRIAÇÃO DA APLICAÇÃO**"
      ],
      "metadata": {
        "id": "Vko6s4V0DVbT"
      }
    },
    {
      "cell_type": "code",
      "source": [
        "from pyspark.sql import SparkSession\n",
        "from pyspark.ml import Pipeline, PipelineModel\n",
        "from pyspark.ml.feature import (\n",
        "    StringIndexer, OneHotEncoder, VectorAssembler, StandardScaler\n",
        ")\n",
        "\n",
        "# ✅ CAMINHO onde o pipeline será salvo no Google Drive:\n",
        "pipeline_path = \"/content/drive/MyDrive/pipeline_model\"\n",
        "\n",
        "# 🔶 Definir as colunas usadas no seu modelo\n",
        "categorical_cols = ['uf', 'tcb', 'cnae_secao', 'cnae_subclasse', 'porte', 'modalidade', 'origem', 'indexador']\n",
        "numeric_cols = [\n",
        "    'dia_do_ano', 'mes', 'ano', 'trimestre', 'eh_fim_de_ano', 'mes_sin', 'mes_cos',\n",
        "    'numero_operacoes_int', 'a_vencer_ate_90_dias', 'a_vencer_de_91_ate_360_dias',\n",
        "    'a_vencer_acima_de_5400_dias', 'vencido_acima_de_15_dias', 'carteira_ativa', 'ativo_problematico'\n",
        "]\n",
        "\n",
        "# 🔶 Criação do pipeline\n",
        "indexers = [StringIndexer(inputCol=col, outputCol=f\"{col}_index\", handleInvalid=\"keep\") for col in categorical_cols]\n",
        "\n",
        "encoder = OneHotEncoder(\n",
        "    inputCols=[f\"{col}_index\" for col in categorical_cols],\n",
        "    outputCols=[f\"{col}_encoded\" for col in categorical_cols]\n",
        ")\n",
        "\n",
        "numeric_assembler = VectorAssembler(inputCols=numeric_cols, outputCol=\"numeric_features\")\n",
        "scaler = StandardScaler(inputCol=\"numeric_features\", outputCol=\"scaled_numeric_features\")\n",
        "\n",
        "final_assembler = VectorAssembler(\n",
        "    inputCols=[f\"{col}_encoded\" for col in categorical_cols] + [\"scaled_numeric_features\"],\n",
        "    outputCol=\"features\"\n",
        ")\n",
        "\n",
        "pipeline = Pipeline(stages=indexers + [encoder, numeric_assembler, scaler, final_assembler])\n",
        "\n",
        "# 🟡 Ajuste com seus dados (ex: train_1)\n",
        "pipeline_model = pipeline.fit(train_1)\n",
        "\n",
        "# 💾 Salvar no Google Drive\n",
        "pipeline_model.write().overwrite().save(pipeline_path)\n",
        "print(f\"✅ Pipeline salvo com sucesso em: {pipeline_path}\")"
      ],
      "metadata": {
        "id": "IHkTq8ejCkJT"
      },
      "execution_count": null,
      "outputs": []
    },
    {
      "cell_type": "markdown",
      "source": [
        "# Salvando os dados em pandas para rodar a aplicação Streamlit"
      ],
      "metadata": {
        "id": "EMBV0l_X0uMd"
      }
    },
    {
      "cell_type": "code",
      "source": [
        "from pyspark.sql.functions import col\n",
        "\n",
        "# Filtrar 1.666.666 registros de cada classe (após indexação com StringIndexer)\n",
        "train_baixo = train_1.filter(col(\"label\") == 0.0).limit(1666666)\n",
        "train_medio = train_1.filter(col(\"label\") == 2.0).limit(1666666)\n",
        "train_alto  = train_1.filter(col(\"label\") == 1.0).limit(1666666)\n",
        "\n",
        "# Combinar os três conjuntos\n",
        "train_streamlit = train_baixo.union(train_medio).union(train_alto)\n",
        "\n",
        "# Salvar como CSV no Drive\n",
        "output_path = \"/content/drive/My Drive/BCB_Dados_Corrigidos_2024/train_streamlit.csv\"\n",
        "\n",
        "# Salvar em CSV\n",
        "train_streamlit.toPandas().to_csv(output_path, index=False)\n",
        "print(f\"Arquivo salvo com sucesso em: {output_path}\")"
      ],
      "metadata": {
        "colab": {
          "base_uri": "https://localhost:8080/",
          "height": 1000
        },
        "id": "cF7M3vGu01Rj",
        "outputId": "a9ca8a92-52d8-47fc-e97f-5d3d800f2b0e"
      },
      "execution_count": null,
      "outputs": [
        {
          "output_type": "error",
          "ename": "Py4JJavaError",
          "evalue": "An error occurred while calling o111.collectToPython.\n: org.apache.spark.SparkException: Job aborted due to stage failure: Task 0 in stage 17.0 failed 1 times, most recent failure: Lost task 0.0 in stage 17.0 (TID 530) (2968ff0de2d6 executor driver): java.lang.OutOfMemoryError: Java heap space\n\tat java.util.Arrays.copyOf(Arrays.java:3236)\n\tat java.io.ByteArrayOutputStream.grow(ByteArrayOutputStream.java:118)\n\tat java.io.ByteArrayOutputStream.ensureCapacity(ByteArrayOutputStream.java:93)\n\tat java.io.ByteArrayOutputStream.write(ByteArrayOutputStream.java:153)\n\tat net.jpountz.lz4.LZ4BlockOutputStream.flushBufferedData(LZ4BlockOutputStream.java:223)\n\tat net.jpountz.lz4.LZ4BlockOutputStream.write(LZ4BlockOutputStream.java:176)\n\tat java.io.DataOutputStream.write(DataOutputStream.java:107)\n\tat org.apache.spark.sql.catalyst.expressions.UnsafeRow.writeToStream(UnsafeRow.java:541)\n\tat org.apache.spark.sql.execution.SparkPlan.$anonfun$getByteArrayRdd$1(SparkPlan.scala:352)\n\tat org.apache.spark.sql.execution.SparkPlan$$Lambda$2395/447626157.apply(Unknown Source)\n\tat org.apache.spark.rdd.RDD.$anonfun$mapPartitionsInternal$2(RDD.scala:898)\n\tat org.apache.spark.rdd.RDD.$anonfun$mapPartitionsInternal$2$adapted(RDD.scala:898)\n\tat org.apache.spark.rdd.RDD$$Lambda$2396/1121605804.apply(Unknown Source)\n\tat org.apache.spark.rdd.MapPartitionsRDD.compute(MapPartitionsRDD.scala:52)\n\tat org.apache.spark.rdd.RDD.computeOrReadCheckpoint(RDD.scala:373)\n\tat org.apache.spark.rdd.RDD.iterator(RDD.scala:337)\n\tat org.apache.spark.scheduler.ResultTask.runTask(ResultTask.scala:90)\n\tat org.apache.spark.scheduler.Task.run(Task.scala:131)\n\tat org.apache.spark.executor.Executor$TaskRunner.$anonfun$run$3(Executor.scala:506)\n\tat org.apache.spark.executor.Executor$TaskRunner$$Lambda$2355/1256239535.apply(Unknown Source)\n\tat org.apache.spark.util.Utils$.tryWithSafeFinally(Utils.scala:1462)\n\tat org.apache.spark.executor.Executor$TaskRunner.run(Executor.scala:509)\n\tat java.util.concurrent.ThreadPoolExecutor.runWorker(ThreadPoolExecutor.java:1149)\n\tat java.util.concurrent.ThreadPoolExecutor$Worker.run(ThreadPoolExecutor.java:624)\n\tat java.lang.Thread.run(Thread.java:750)\n\nDriver stacktrace:\n\tat org.apache.spark.scheduler.DAGScheduler.failJobAndIndependentStages(DAGScheduler.scala:2454)\n\tat org.apache.spark.scheduler.DAGScheduler.$anonfun$abortStage$2(DAGScheduler.scala:2403)\n\tat org.apache.spark.scheduler.DAGScheduler.$anonfun$abortStage$2$adapted(DAGScheduler.scala:2402)\n\tat scala.collection.mutable.ResizableArray.foreach(ResizableArray.scala:62)\n\tat scala.collection.mutable.ResizableArray.foreach$(ResizableArray.scala:55)\n\tat scala.collection.mutable.ArrayBuffer.foreach(ArrayBuffer.scala:49)\n\tat org.apache.spark.scheduler.DAGScheduler.abortStage(DAGScheduler.scala:2402)\n\tat org.apache.spark.scheduler.DAGScheduler.$anonfun$handleTaskSetFailed$1(DAGScheduler.scala:1160)\n\tat org.apache.spark.scheduler.DAGScheduler.$anonfun$handleTaskSetFailed$1$adapted(DAGScheduler.scala:1160)\n\tat scala.Option.foreach(Option.scala:407)\n\tat org.apache.spark.scheduler.DAGScheduler.handleTaskSetFailed(DAGScheduler.scala:1160)\n\tat org.apache.spark.scheduler.DAGSchedulerEventProcessLoop.doOnReceive(DAGScheduler.scala:2642)\n\tat org.apache.spark.scheduler.DAGSchedulerEventProcessLoop.onReceive(DAGScheduler.scala:2584)\n\tat org.apache.spark.scheduler.DAGSchedulerEventProcessLoop.onReceive(DAGScheduler.scala:2573)\n\tat org.apache.spark.util.EventLoop$$anon$1.run(EventLoop.scala:49)\n\tat org.apache.spark.scheduler.DAGScheduler.runJob(DAGScheduler.scala:938)\n\tat org.apache.spark.SparkContext.runJob(SparkContext.scala:2214)\n\tat org.apache.spark.SparkContext.runJob(SparkContext.scala:2235)\n\tat org.apache.spark.SparkContext.runJob(SparkContext.scala:2254)\n\tat org.apache.spark.SparkContext.runJob(SparkContext.scala:2279)\n\tat org.apache.spark.rdd.RDD.$anonfun$collect$1(RDD.scala:1030)\n\tat org.apache.spark.rdd.RDDOperationScope$.withScope(RDDOperationScope.scala:151)\n\tat org.apache.spark.rdd.RDDOperationScope$.withScope(RDDOperationScope.scala:112)\n\tat org.apache.spark.rdd.RDD.withScope(RDD.scala:414)\n\tat org.apache.spark.rdd.RDD.collect(RDD.scala:1029)\n\tat org.apache.spark.sql.execution.SparkPlan.executeCollect(SparkPlan.scala:394)\n\tat org.apache.spark.sql.execution.adaptive.AdaptiveSparkPlanExec.$anonfun$executeCollect$1(AdaptiveSparkPlanExec.scala:338)\n\tat org.apache.spark.sql.execution.adaptive.AdaptiveSparkPlanExec.withFinalPlanUpdate(AdaptiveSparkPlanExec.scala:366)\n\tat org.apache.spark.sql.execution.adaptive.AdaptiveSparkPlanExec.executeCollect(AdaptiveSparkPlanExec.scala:338)\n\tat org.apache.spark.sql.Dataset.$anonfun$collectToPython$1(Dataset.scala:3538)\n\tat org.apache.spark.sql.Dataset.$anonfun$withAction$1(Dataset.scala:3706)\n\tat org.apache.spark.sql.execution.SQLExecution$.$anonfun$withNewExecutionId$5(SQLExecution.scala:103)\n\tat org.apache.spark.sql.execution.SQLExecution$.withSQLConfPropagated(SQLExecution.scala:163)\n\tat org.apache.spark.sql.execution.SQLExecution$.$anonfun$withNewExecutionId$1(SQLExecution.scala:90)\n\tat org.apache.spark.sql.SparkSession.withActive(SparkSession.scala:775)\n\tat org.apache.spark.sql.execution.SQLExecution$.withNewExecutionId(SQLExecution.scala:64)\n\tat org.apache.spark.sql.Dataset.withAction(Dataset.scala:3704)\n\tat org.apache.spark.sql.Dataset.collectToPython(Dataset.scala:3535)\n\tat sun.reflect.NativeMethodAccessorImpl.invoke0(Native Method)\n\tat sun.reflect.NativeMethodAccessorImpl.invoke(NativeMethodAccessorImpl.java:62)\n\tat sun.reflect.DelegatingMethodAccessorImpl.invoke(DelegatingMethodAccessorImpl.java:43)\n\tat java.lang.reflect.Method.invoke(Method.java:498)\n\tat py4j.reflection.MethodInvoker.invoke(MethodInvoker.java:244)\n\tat py4j.reflection.ReflectionEngine.invoke(ReflectionEngine.java:357)\n\tat py4j.Gateway.invoke(Gateway.java:282)\n\tat py4j.commands.AbstractCommand.invokeMethod(AbstractCommand.java:132)\n\tat py4j.commands.CallCommand.execute(CallCommand.java:79)\n\tat py4j.ClientServerConnection.waitForCommands(ClientServerConnection.java:182)\n\tat py4j.ClientServerConnection.run(ClientServerConnection.java:106)\n\tat java.lang.Thread.run(Thread.java:750)\nCaused by: java.lang.OutOfMemoryError: Java heap space\n\tat java.util.Arrays.copyOf(Arrays.java:3236)\n\tat java.io.ByteArrayOutputStream.grow(ByteArrayOutputStream.java:118)\n\tat java.io.ByteArrayOutputStream.ensureCapacity(ByteArrayOutputStream.java:93)\n\tat java.io.ByteArrayOutputStream.write(ByteArrayOutputStream.java:153)\n\tat net.jpountz.lz4.LZ4BlockOutputStream.flushBufferedData(LZ4BlockOutputStream.java:223)\n\tat net.jpountz.lz4.LZ4BlockOutputStream.write(LZ4BlockOutputStream.java:176)\n\tat java.io.DataOutputStream.write(DataOutputStream.java:107)\n\tat org.apache.spark.sql.catalyst.expressions.UnsafeRow.writeToStream(UnsafeRow.java:541)\n\tat org.apache.spark.sql.execution.SparkPlan.$anonfun$getByteArrayRdd$1(SparkPlan.scala:352)\n\tat org.apache.spark.sql.execution.SparkPlan$$Lambda$2395/447626157.apply(Unknown Source)\n\tat org.apache.spark.rdd.RDD.$anonfun$mapPartitionsInternal$2(RDD.scala:898)\n\tat org.apache.spark.rdd.RDD.$anonfun$mapPartitionsInternal$2$adapted(RDD.scala:898)\n\tat org.apache.spark.rdd.RDD$$Lambda$2396/1121605804.apply(Unknown Source)\n\tat org.apache.spark.rdd.MapPartitionsRDD.compute(MapPartitionsRDD.scala:52)\n\tat org.apache.spark.rdd.RDD.computeOrReadCheckpoint(RDD.scala:373)\n\tat org.apache.spark.rdd.RDD.iterator(RDD.scala:337)\n\tat org.apache.spark.scheduler.ResultTask.runTask(ResultTask.scala:90)\n\tat org.apache.spark.scheduler.Task.run(Task.scala:131)\n\tat org.apache.spark.executor.Executor$TaskRunner.$anonfun$run$3(Executor.scala:506)\n\tat org.apache.spark.executor.Executor$TaskRunner$$Lambda$2355/1256239535.apply(Unknown Source)\n\tat org.apache.spark.util.Utils$.tryWithSafeFinally(Utils.scala:1462)\n\tat org.apache.spark.executor.Executor$TaskRunner.run(Executor.scala:509)\n\tat java.util.concurrent.ThreadPoolExecutor.runWorker(ThreadPoolExecutor.java:1149)\n\tat java.util.concurrent.ThreadPoolExecutor$Worker.run(ThreadPoolExecutor.java:624)\n\t... 1 more\n",
          "traceback": [
            "\u001b[0;31m---------------------------------------------------------------------------\u001b[0m",
            "\u001b[0;31mPy4JJavaError\u001b[0m                             Traceback (most recent call last)",
            "\u001b[0;32m<ipython-input-7-d10c0abae38d>\u001b[0m in \u001b[0;36m<cell line: 0>\u001b[0;34m()\u001b[0m\n\u001b[1;32m     13\u001b[0m \u001b[0;34m\u001b[0m\u001b[0m\n\u001b[1;32m     14\u001b[0m \u001b[0;31m# Salvar em CSV\u001b[0m\u001b[0;34m\u001b[0m\u001b[0;34m\u001b[0m\u001b[0m\n\u001b[0;32m---> 15\u001b[0;31m \u001b[0mtrain_streamlit\u001b[0m\u001b[0;34m.\u001b[0m\u001b[0mtoPandas\u001b[0m\u001b[0;34m(\u001b[0m\u001b[0;34m)\u001b[0m\u001b[0;34m.\u001b[0m\u001b[0mto_csv\u001b[0m\u001b[0;34m(\u001b[0m\u001b[0moutput_path\u001b[0m\u001b[0;34m,\u001b[0m \u001b[0mindex\u001b[0m\u001b[0;34m=\u001b[0m\u001b[0;32mFalse\u001b[0m\u001b[0;34m)\u001b[0m\u001b[0;34m\u001b[0m\u001b[0;34m\u001b[0m\u001b[0m\n\u001b[0m\u001b[1;32m     16\u001b[0m \u001b[0mprint\u001b[0m\u001b[0;34m(\u001b[0m\u001b[0;34mf\"Arquivo salvo com sucesso em: {output_path}\"\u001b[0m\u001b[0;34m)\u001b[0m\u001b[0;34m\u001b[0m\u001b[0;34m\u001b[0m\u001b[0m\n",
            "\u001b[0;32m/content/spark-3.2.1-bin-hadoop2.7/python/pyspark/sql/pandas/conversion.py\u001b[0m in \u001b[0;36mtoPandas\u001b[0;34m(self)\u001b[0m\n\u001b[1;32m    155\u001b[0m \u001b[0;34m\u001b[0m\u001b[0m\n\u001b[1;32m    156\u001b[0m         \u001b[0;31m# Below is toPandas without Arrow optimization.\u001b[0m\u001b[0;34m\u001b[0m\u001b[0;34m\u001b[0m\u001b[0m\n\u001b[0;32m--> 157\u001b[0;31m         \u001b[0mpdf\u001b[0m \u001b[0;34m=\u001b[0m \u001b[0mpd\u001b[0m\u001b[0;34m.\u001b[0m\u001b[0mDataFrame\u001b[0m\u001b[0;34m.\u001b[0m\u001b[0mfrom_records\u001b[0m\u001b[0;34m(\u001b[0m\u001b[0mself\u001b[0m\u001b[0;34m.\u001b[0m\u001b[0mcollect\u001b[0m\u001b[0;34m(\u001b[0m\u001b[0;34m)\u001b[0m\u001b[0;34m,\u001b[0m \u001b[0mcolumns\u001b[0m\u001b[0;34m=\u001b[0m\u001b[0mself\u001b[0m\u001b[0;34m.\u001b[0m\u001b[0mcolumns\u001b[0m\u001b[0;34m)\u001b[0m\u001b[0;34m\u001b[0m\u001b[0;34m\u001b[0m\u001b[0m\n\u001b[0m\u001b[1;32m    158\u001b[0m         \u001b[0mcolumn_counter\u001b[0m \u001b[0;34m=\u001b[0m \u001b[0mCounter\u001b[0m\u001b[0;34m(\u001b[0m\u001b[0mself\u001b[0m\u001b[0;34m.\u001b[0m\u001b[0mcolumns\u001b[0m\u001b[0;34m)\u001b[0m\u001b[0;34m\u001b[0m\u001b[0;34m\u001b[0m\u001b[0m\n\u001b[1;32m    159\u001b[0m \u001b[0;34m\u001b[0m\u001b[0m\n",
            "\u001b[0;32m/content/spark-3.2.1-bin-hadoop2.7/python/pyspark/sql/dataframe.py\u001b[0m in \u001b[0;36mcollect\u001b[0;34m(self)\u001b[0m\n\u001b[1;32m    691\u001b[0m         \"\"\"\n\u001b[1;32m    692\u001b[0m         \u001b[0;32mwith\u001b[0m \u001b[0mSCCallSiteSync\u001b[0m\u001b[0;34m(\u001b[0m\u001b[0mself\u001b[0m\u001b[0;34m.\u001b[0m\u001b[0m_sc\u001b[0m\u001b[0;34m)\u001b[0m \u001b[0;32mas\u001b[0m \u001b[0mcss\u001b[0m\u001b[0;34m:\u001b[0m\u001b[0;34m\u001b[0m\u001b[0;34m\u001b[0m\u001b[0m\n\u001b[0;32m--> 693\u001b[0;31m             \u001b[0msock_info\u001b[0m \u001b[0;34m=\u001b[0m \u001b[0mself\u001b[0m\u001b[0;34m.\u001b[0m\u001b[0m_jdf\u001b[0m\u001b[0;34m.\u001b[0m\u001b[0mcollectToPython\u001b[0m\u001b[0;34m(\u001b[0m\u001b[0;34m)\u001b[0m\u001b[0;34m\u001b[0m\u001b[0;34m\u001b[0m\u001b[0m\n\u001b[0m\u001b[1;32m    694\u001b[0m         \u001b[0;32mreturn\u001b[0m \u001b[0mlist\u001b[0m\u001b[0;34m(\u001b[0m\u001b[0m_load_from_socket\u001b[0m\u001b[0;34m(\u001b[0m\u001b[0msock_info\u001b[0m\u001b[0;34m,\u001b[0m \u001b[0mBatchedSerializer\u001b[0m\u001b[0;34m(\u001b[0m\u001b[0mPickleSerializer\u001b[0m\u001b[0;34m(\u001b[0m\u001b[0;34m)\u001b[0m\u001b[0;34m)\u001b[0m\u001b[0;34m)\u001b[0m\u001b[0;34m)\u001b[0m\u001b[0;34m\u001b[0m\u001b[0;34m\u001b[0m\u001b[0m\n\u001b[1;32m    695\u001b[0m \u001b[0;34m\u001b[0m\u001b[0m\n",
            "\u001b[0;32m/content/spark-3.2.1-bin-hadoop2.7/python/lib/py4j-0.10.9.3-src.zip/py4j/java_gateway.py\u001b[0m in \u001b[0;36m__call__\u001b[0;34m(self, *args)\u001b[0m\n\u001b[1;32m   1319\u001b[0m \u001b[0;34m\u001b[0m\u001b[0m\n\u001b[1;32m   1320\u001b[0m         \u001b[0manswer\u001b[0m \u001b[0;34m=\u001b[0m \u001b[0mself\u001b[0m\u001b[0;34m.\u001b[0m\u001b[0mgateway_client\u001b[0m\u001b[0;34m.\u001b[0m\u001b[0msend_command\u001b[0m\u001b[0;34m(\u001b[0m\u001b[0mcommand\u001b[0m\u001b[0;34m)\u001b[0m\u001b[0;34m\u001b[0m\u001b[0;34m\u001b[0m\u001b[0m\n\u001b[0;32m-> 1321\u001b[0;31m         return_value = get_return_value(\n\u001b[0m\u001b[1;32m   1322\u001b[0m             answer, self.gateway_client, self.target_id, self.name)\n\u001b[1;32m   1323\u001b[0m \u001b[0;34m\u001b[0m\u001b[0m\n",
            "\u001b[0;32m/content/spark-3.2.1-bin-hadoop2.7/python/pyspark/sql/utils.py\u001b[0m in \u001b[0;36mdeco\u001b[0;34m(*a, **kw)\u001b[0m\n\u001b[1;32m    109\u001b[0m     \u001b[0;32mdef\u001b[0m \u001b[0mdeco\u001b[0m\u001b[0;34m(\u001b[0m\u001b[0;34m*\u001b[0m\u001b[0ma\u001b[0m\u001b[0;34m,\u001b[0m \u001b[0;34m**\u001b[0m\u001b[0mkw\u001b[0m\u001b[0;34m)\u001b[0m\u001b[0;34m:\u001b[0m\u001b[0;34m\u001b[0m\u001b[0;34m\u001b[0m\u001b[0m\n\u001b[1;32m    110\u001b[0m         \u001b[0;32mtry\u001b[0m\u001b[0;34m:\u001b[0m\u001b[0;34m\u001b[0m\u001b[0;34m\u001b[0m\u001b[0m\n\u001b[0;32m--> 111\u001b[0;31m             \u001b[0;32mreturn\u001b[0m \u001b[0mf\u001b[0m\u001b[0;34m(\u001b[0m\u001b[0;34m*\u001b[0m\u001b[0ma\u001b[0m\u001b[0;34m,\u001b[0m \u001b[0;34m**\u001b[0m\u001b[0mkw\u001b[0m\u001b[0;34m)\u001b[0m\u001b[0;34m\u001b[0m\u001b[0;34m\u001b[0m\u001b[0m\n\u001b[0m\u001b[1;32m    112\u001b[0m         \u001b[0;32mexcept\u001b[0m \u001b[0mpy4j\u001b[0m\u001b[0;34m.\u001b[0m\u001b[0mprotocol\u001b[0m\u001b[0;34m.\u001b[0m\u001b[0mPy4JJavaError\u001b[0m \u001b[0;32mas\u001b[0m \u001b[0me\u001b[0m\u001b[0;34m:\u001b[0m\u001b[0;34m\u001b[0m\u001b[0;34m\u001b[0m\u001b[0m\n\u001b[1;32m    113\u001b[0m             \u001b[0mconverted\u001b[0m \u001b[0;34m=\u001b[0m \u001b[0mconvert_exception\u001b[0m\u001b[0;34m(\u001b[0m\u001b[0me\u001b[0m\u001b[0;34m.\u001b[0m\u001b[0mjava_exception\u001b[0m\u001b[0;34m)\u001b[0m\u001b[0;34m\u001b[0m\u001b[0;34m\u001b[0m\u001b[0m\n",
            "\u001b[0;32m/content/spark-3.2.1-bin-hadoop2.7/python/lib/py4j-0.10.9.3-src.zip/py4j/protocol.py\u001b[0m in \u001b[0;36mget_return_value\u001b[0;34m(answer, gateway_client, target_id, name)\u001b[0m\n\u001b[1;32m    324\u001b[0m             \u001b[0mvalue\u001b[0m \u001b[0;34m=\u001b[0m \u001b[0mOUTPUT_CONVERTER\u001b[0m\u001b[0;34m[\u001b[0m\u001b[0mtype\u001b[0m\u001b[0;34m]\u001b[0m\u001b[0;34m(\u001b[0m\u001b[0manswer\u001b[0m\u001b[0;34m[\u001b[0m\u001b[0;36m2\u001b[0m\u001b[0;34m:\u001b[0m\u001b[0;34m]\u001b[0m\u001b[0;34m,\u001b[0m \u001b[0mgateway_client\u001b[0m\u001b[0;34m)\u001b[0m\u001b[0;34m\u001b[0m\u001b[0;34m\u001b[0m\u001b[0m\n\u001b[1;32m    325\u001b[0m             \u001b[0;32mif\u001b[0m \u001b[0manswer\u001b[0m\u001b[0;34m[\u001b[0m\u001b[0;36m1\u001b[0m\u001b[0;34m]\u001b[0m \u001b[0;34m==\u001b[0m \u001b[0mREFERENCE_TYPE\u001b[0m\u001b[0;34m:\u001b[0m\u001b[0;34m\u001b[0m\u001b[0;34m\u001b[0m\u001b[0m\n\u001b[0;32m--> 326\u001b[0;31m                 raise Py4JJavaError(\n\u001b[0m\u001b[1;32m    327\u001b[0m                     \u001b[0;34m\"An error occurred while calling {0}{1}{2}.\\n\"\u001b[0m\u001b[0;34m.\u001b[0m\u001b[0;34m\u001b[0m\u001b[0;34m\u001b[0m\u001b[0m\n\u001b[1;32m    328\u001b[0m                     format(target_id, \".\", name), value)\n",
            "\u001b[0;31mPy4JJavaError\u001b[0m: An error occurred while calling o111.collectToPython.\n: org.apache.spark.SparkException: Job aborted due to stage failure: Task 0 in stage 17.0 failed 1 times, most recent failure: Lost task 0.0 in stage 17.0 (TID 530) (2968ff0de2d6 executor driver): java.lang.OutOfMemoryError: Java heap space\n\tat java.util.Arrays.copyOf(Arrays.java:3236)\n\tat java.io.ByteArrayOutputStream.grow(ByteArrayOutputStream.java:118)\n\tat java.io.ByteArrayOutputStream.ensureCapacity(ByteArrayOutputStream.java:93)\n\tat java.io.ByteArrayOutputStream.write(ByteArrayOutputStream.java:153)\n\tat net.jpountz.lz4.LZ4BlockOutputStream.flushBufferedData(LZ4BlockOutputStream.java:223)\n\tat net.jpountz.lz4.LZ4BlockOutputStream.write(LZ4BlockOutputStream.java:176)\n\tat java.io.DataOutputStream.write(DataOutputStream.java:107)\n\tat org.apache.spark.sql.catalyst.expressions.UnsafeRow.writeToStream(UnsafeRow.java:541)\n\tat org.apache.spark.sql.execution.SparkPlan.$anonfun$getByteArrayRdd$1(SparkPlan.scala:352)\n\tat org.apache.spark.sql.execution.SparkPlan$$Lambda$2395/447626157.apply(Unknown Source)\n\tat org.apache.spark.rdd.RDD.$anonfun$mapPartitionsInternal$2(RDD.scala:898)\n\tat org.apache.spark.rdd.RDD.$anonfun$mapPartitionsInternal$2$adapted(RDD.scala:898)\n\tat org.apache.spark.rdd.RDD$$Lambda$2396/1121605804.apply(Unknown Source)\n\tat org.apache.spark.rdd.MapPartitionsRDD.compute(MapPartitionsRDD.scala:52)\n\tat org.apache.spark.rdd.RDD.computeOrReadCheckpoint(RDD.scala:373)\n\tat org.apache.spark.rdd.RDD.iterator(RDD.scala:337)\n\tat org.apache.spark.scheduler.ResultTask.runTask(ResultTask.scala:90)\n\tat org.apache.spark.scheduler.Task.run(Task.scala:131)\n\tat org.apache.spark.executor.Executor$TaskRunner.$anonfun$run$3(Executor.scala:506)\n\tat org.apache.spark.executor.Executor$TaskRunner$$Lambda$2355/1256239535.apply(Unknown Source)\n\tat org.apache.spark.util.Utils$.tryWithSafeFinally(Utils.scala:1462)\n\tat org.apache.spark.executor.Executor$TaskRunner.run(Executor.scala:509)\n\tat java.util.concurrent.ThreadPoolExecutor.runWorker(ThreadPoolExecutor.java:1149)\n\tat java.util.concurrent.ThreadPoolExecutor$Worker.run(ThreadPoolExecutor.java:624)\n\tat java.lang.Thread.run(Thread.java:750)\n\nDriver stacktrace:\n\tat org.apache.spark.scheduler.DAGScheduler.failJobAndIndependentStages(DAGScheduler.scala:2454)\n\tat org.apache.spark.scheduler.DAGScheduler.$anonfun$abortStage$2(DAGScheduler.scala:2403)\n\tat org.apache.spark.scheduler.DAGScheduler.$anonfun$abortStage$2$adapted(DAGScheduler.scala:2402)\n\tat scala.collection.mutable.ResizableArray.foreach(ResizableArray.scala:62)\n\tat scala.collection.mutable.ResizableArray.foreach$(ResizableArray.scala:55)\n\tat scala.collection.mutable.ArrayBuffer.foreach(ArrayBuffer.scala:49)\n\tat org.apache.spark.scheduler.DAGScheduler.abortStage(DAGScheduler.scala:2402)\n\tat org.apache.spark.scheduler.DAGScheduler.$anonfun$handleTaskSetFailed$1(DAGScheduler.scala:1160)\n\tat org.apache.spark.scheduler.DAGScheduler.$anonfun$handleTaskSetFailed$1$adapted(DAGScheduler.scala:1160)\n\tat scala.Option.foreach(Option.scala:407)\n\tat org.apache.spark.scheduler.DAGScheduler.handleTaskSetFailed(DAGScheduler.scala:1160)\n\tat org.apache.spark.scheduler.DAGSchedulerEventProcessLoop.doOnReceive(DAGScheduler.scala:2642)\n\tat org.apache.spark.scheduler.DAGSchedulerEventProcessLoop.onReceive(DAGScheduler.scala:2584)\n\tat org.apache.spark.scheduler.DAGSchedulerEventProcessLoop.onReceive(DAGScheduler.scala:2573)\n\tat org.apache.spark.util.EventLoop$$anon$1.run(EventLoop.scala:49)\n\tat org.apache.spark.scheduler.DAGScheduler.runJob(DAGScheduler.scala:938)\n\tat org.apache.spark.SparkContext.runJob(SparkContext.scala:2214)\n\tat org.apache.spark.SparkContext.runJob(SparkContext.scala:2235)\n\tat org.apache.spark.SparkContext.runJob(SparkContext.scala:2254)\n\tat org.apache.spark.SparkContext.runJob(SparkContext.scala:2279)\n\tat org.apache.spark.rdd.RDD.$anonfun$collect$1(RDD.scala:1030)\n\tat org.apache.spark.rdd.RDDOperationScope$.withScope(RDDOperationScope.scala:151)\n\tat org.apache.spark.rdd.RDDOperationScope$.withScope(RDDOperationScope.scala:112)\n\tat org.apache.spark.rdd.RDD.withScope(RDD.scala:414)\n\tat org.apache.spark.rdd.RDD.collect(RDD.scala:1029)\n\tat org.apache.spark.sql.execution.SparkPlan.executeCollect(SparkPlan.scala:394)\n\tat org.apache.spark.sql.execution.adaptive.AdaptiveSparkPlanExec.$anonfun$executeCollect$1(AdaptiveSparkPlanExec.scala:338)\n\tat org.apache.spark.sql.execution.adaptive.AdaptiveSparkPlanExec.withFinalPlanUpdate(AdaptiveSparkPlanExec.scala:366)\n\tat org.apache.spark.sql.execution.adaptive.AdaptiveSparkPlanExec.executeCollect(AdaptiveSparkPlanExec.scala:338)\n\tat org.apache.spark.sql.Dataset.$anonfun$collectToPython$1(Dataset.scala:3538)\n\tat org.apache.spark.sql.Dataset.$anonfun$withAction$1(Dataset.scala:3706)\n\tat org.apache.spark.sql.execution.SQLExecution$.$anonfun$withNewExecutionId$5(SQLExecution.scala:103)\n\tat org.apache.spark.sql.execution.SQLExecution$.withSQLConfPropagated(SQLExecution.scala:163)\n\tat org.apache.spark.sql.execution.SQLExecution$.$anonfun$withNewExecutionId$1(SQLExecution.scala:90)\n\tat org.apache.spark.sql.SparkSession.withActive(SparkSession.scala:775)\n\tat org.apache.spark.sql.execution.SQLExecution$.withNewExecutionId(SQLExecution.scala:64)\n\tat org.apache.spark.sql.Dataset.withAction(Dataset.scala:3704)\n\tat org.apache.spark.sql.Dataset.collectToPython(Dataset.scala:3535)\n\tat sun.reflect.NativeMethodAccessorImpl.invoke0(Native Method)\n\tat sun.reflect.NativeMethodAccessorImpl.invoke(NativeMethodAccessorImpl.java:62)\n\tat sun.reflect.DelegatingMethodAccessorImpl.invoke(DelegatingMethodAccessorImpl.java:43)\n\tat java.lang.reflect.Method.invoke(Method.java:498)\n\tat py4j.reflection.MethodInvoker.invoke(MethodInvoker.java:244)\n\tat py4j.reflection.ReflectionEngine.invoke(ReflectionEngine.java:357)\n\tat py4j.Gateway.invoke(Gateway.java:282)\n\tat py4j.commands.AbstractCommand.invokeMethod(AbstractCommand.java:132)\n\tat py4j.commands.CallCommand.execute(CallCommand.java:79)\n\tat py4j.ClientServerConnection.waitForCommands(ClientServerConnection.java:182)\n\tat py4j.ClientServerConnection.run(ClientServerConnection.java:106)\n\tat java.lang.Thread.run(Thread.java:750)\nCaused by: java.lang.OutOfMemoryError: Java heap space\n\tat java.util.Arrays.copyOf(Arrays.java:3236)\n\tat java.io.ByteArrayOutputStream.grow(ByteArrayOutputStream.java:118)\n\tat java.io.ByteArrayOutputStream.ensureCapacity(ByteArrayOutputStream.java:93)\n\tat java.io.ByteArrayOutputStream.write(ByteArrayOutputStream.java:153)\n\tat net.jpountz.lz4.LZ4BlockOutputStream.flushBufferedData(LZ4BlockOutputStream.java:223)\n\tat net.jpountz.lz4.LZ4BlockOutputStream.write(LZ4BlockOutputStream.java:176)\n\tat java.io.DataOutputStream.write(DataOutputStream.java:107)\n\tat org.apache.spark.sql.catalyst.expressions.UnsafeRow.writeToStream(UnsafeRow.java:541)\n\tat org.apache.spark.sql.execution.SparkPlan.$anonfun$getByteArrayRdd$1(SparkPlan.scala:352)\n\tat org.apache.spark.sql.execution.SparkPlan$$Lambda$2395/447626157.apply(Unknown Source)\n\tat org.apache.spark.rdd.RDD.$anonfun$mapPartitionsInternal$2(RDD.scala:898)\n\tat org.apache.spark.rdd.RDD.$anonfun$mapPartitionsInternal$2$adapted(RDD.scala:898)\n\tat org.apache.spark.rdd.RDD$$Lambda$2396/1121605804.apply(Unknown Source)\n\tat org.apache.spark.rdd.MapPartitionsRDD.compute(MapPartitionsRDD.scala:52)\n\tat org.apache.spark.rdd.RDD.computeOrReadCheckpoint(RDD.scala:373)\n\tat org.apache.spark.rdd.RDD.iterator(RDD.scala:337)\n\tat org.apache.spark.scheduler.ResultTask.runTask(ResultTask.scala:90)\n\tat org.apache.spark.scheduler.Task.run(Task.scala:131)\n\tat org.apache.spark.executor.Executor$TaskRunner.$anonfun$run$3(Executor.scala:506)\n\tat org.apache.spark.executor.Executor$TaskRunner$$Lambda$2355/1256239535.apply(Unknown Source)\n\tat org.apache.spark.util.Utils$.tryWithSafeFinally(Utils.scala:1462)\n\tat org.apache.spark.executor.Executor$TaskRunner.run(Executor.scala:509)\n\tat java.util.concurrent.ThreadPoolExecutor.runWorker(ThreadPoolExecutor.java:1149)\n\tat java.util.concurrent.ThreadPoolExecutor$Worker.run(ThreadPoolExecutor.java:624)\n\t... 1 more\n"
          ]
        }
      ]
    }
  ],
  "metadata": {
    "colab": {
      "provenance": []
    },
    "kernelspec": {
      "display_name": "Python 3",
      "name": "python3"
    },
    "language_info": {
      "name": "python"
    }
  },
  "nbformat": 4,
  "nbformat_minor": 0
}